{
 "cells": [
  {
   "cell_type": "code",
   "execution_count": 5,
   "metadata": {
    "collapsed": true
   },
   "outputs": [],
   "source": [
    "import numpy as np\n",
    "import pandas as pd\n",
    "import matplotlib.pyplot as plt\n",
    "import tensorflow as tf\n",
    "import math\n",
    "%matplotlib inline"
   ]
  },
  {
   "cell_type": "markdown",
   "metadata": {},
   "source": [
    "### Data preparation"
   ]
  },
  {
   "cell_type": "code",
   "execution_count": 2,
   "metadata": {
    "collapsed": true
   },
   "outputs": [],
   "source": [
    "def parse_csv(FolderName,FileName,DataPointEachFile):\n",
    "    data=pd.read_csv(FolderName+FileName, header=None)\n",
    "    rand_ind = np.random.randint(0,data.shape[1],DataPointEachFile)\n",
    "    temperature_data = [data[4:][i].tolist() for i in rand_ind]\n",
    "    birth_data = [data[3:4][i].values[0] for i in rand_ind]\n",
    "    coordinate_data = [data[:3][i].tolist() for i in rand_ind]\n",
    "    FileNameInfo = FileName.replace('.csv','').split('-')\n",
    "    bulk_size=[list(map(int, FileNameInfo[:3])) for i in rand_ind]\n",
    "    Laser_intensity= [int(FileNameInfo[3]) for i in rand_ind]\n",
    "    return temperature_data,birth_data,coordinate_data,bulk_size,Laser_intensity"
   ]
  },
  {
   "cell_type": "code",
   "execution_count": 2,
   "metadata": {
    "collapsed": true
   },
   "outputs": [],
   "source": [
    "def parse_toolpath(FolderName,FileName,dt):\n",
    "    toolpath_raw=pd.read_table(FolderName+FileName,delimiter=r\"\\s+\",header=None, names=['time','x','y','z','state'])\n",
    "    toolpath=[]\n",
    "    state=[]\n",
    "    time=0.0\n",
    "    ind=0\n",
    "    endTime = float(toolpath_raw.tail(1)['time'])\n",
    "    while(time<=endTime):\n",
    "        while(time>=toolpath_raw['time'][ind+1]):\n",
    "            ind=ind+1\n",
    "        X=toolpath_raw['x'][ind]+(toolpath_raw['x'][ind+1]-toolpath_raw['x'][ind])*(\n",
    "            time-toolpath_raw['time'][ind])/(toolpath_raw['time'][ind+1]-toolpath_raw['time'][ind])\n",
    "        Y=toolpath_raw['y'][ind]+(toolpath_raw['y'][ind+1]-toolpath_raw['y'][ind])*(\n",
    "            time-toolpath_raw['time'][ind])/(toolpath_raw['time'][ind+1]-toolpath_raw['time'][ind])\n",
    "        Z=toolpath_raw['z'][ind]+(toolpath_raw['z'][ind+1]-toolpath_raw['z'][ind])*(\n",
    "            time-toolpath_raw['time'][ind])/(toolpath_raw['time'][ind+1]-toolpath_raw['time'][ind])\n",
    "        toolpath.append([X,Y,Z])\n",
    "        state.append(toolpath_raw['state'][ind+1])\n",
    "        time = time +dt\n",
    "    return toolpath, state, endTime"
   ]
  },
  {
   "cell_type": "code",
   "execution_count": 10,
   "metadata": {},
   "outputs": [
    {
     "ename": "NameError",
     "evalue": "name 'parse_csv' is not defined",
     "output_type": "error",
     "traceback": [
      "\u001b[1;31m---------------------------------------------------------------------------\u001b[0m",
      "\u001b[1;31mNameError\u001b[0m                                 Traceback (most recent call last)",
      "\u001b[1;32m<ipython-input-10-4bbf30491b60>\u001b[0m in \u001b[0;36m<module>\u001b[1;34m()\u001b[0m\n\u001b[1;32m----> 1\u001b[1;33m \u001b[0mparse_csv\u001b[0m\u001b[1;33m(\u001b[0m\u001b[1;34m'../Database/Data/20-20-10-800/'\u001b[0m\u001b[1;33m,\u001b[0m\u001b[1;34m'20-20-10-800.csv'\u001b[0m\u001b[1;33m,\u001b[0m\u001b[1;36m10\u001b[0m\u001b[1;33m)\u001b[0m\u001b[1;33m\u001b[0m\u001b[0m\n\u001b[0m",
      "\u001b[1;31mNameError\u001b[0m: name 'parse_csv' is not defined"
     ]
    }
   ],
   "source": [
    "parse_csv('../Database/Data/20-20-10-800/','20-20-10-800.csv',10)"
   ]
  },
  {
   "cell_type": "code",
   "execution_count": 4,
   "metadata": {
    "collapsed": true
   },
   "outputs": [],
   "source": [
    "def extract_data(dataFolders,dataFiles,toolpathFiles,DataPoints):\n",
    "    Global_dt = 0.1\n",
    "    Global_temperature_data = []\n",
    "    Global_birth_data = []\n",
    "    Global_laser_intensity = []\n",
    "    Global_laser_state = [] \n",
    "    Global_distance_feature = []\n",
    "    Global_closest_wall = []\n",
    "    Global_layer_height = []\n",
    "    Global_end_time = []\n",
    "    DataPointEachFile = int(DataPoints/len(dataFolders))\n",
    "    for i in range(len(dataFolders)):\n",
    "        # Getting information from csv file\n",
    "        temperature_data,birth_data,coordinate_data,bulk_size,laser_intensity = parse_csv(dataFolders[i],dataFiles[i],\n",
    "                                                                                          DataPointEachFile)\n",
    "        # Getting information from toolpath file\n",
    "        toolpath, state, endTime = parse_toolpath(dataFolders[i],toolpathFiles[i],Global_dt)\n",
    "        \n",
    "        # Arranging distance feature\n",
    "        distance_feature = []\n",
    "        for point in coordinate_data:\n",
    "            dis_feature=[]\n",
    "            for toolCoord in toolpath:\n",
    "                r2=(point[0]-toolCoord[0])*(point[0]-toolCoord[0])+(point[1]-toolCoord[1])*(point[1]-toolCoord[1])+(\n",
    "                    point[2]-toolCoord[2])*(point[2]-toolCoord[2])\n",
    "                if r2>0.1:\n",
    "                    dis = 1/r2\n",
    "                else:\n",
    "                    dis = 10\n",
    "                dis_feature.append(dis)\n",
    "            distance_feature.append(dis_feature)\n",
    "        \n",
    "        # Arranging closest wall feature\n",
    "        closest_wall = []\n",
    "        for point_index in range(len(coordinate_data)):\n",
    "            closestWall = min(coordinate_data[point_index][0],coordinate_data[point_index][1],\n",
    "                                bulk_size[point_index][0]-coordinate_data[point_index][0],\n",
    "                                bulk_size[point_index][1]-coordinate_data[point_index][1])\n",
    "            closest_wall.append(closestWall)\n",
    "        \n",
    "        # Arrange layer height feature\n",
    "        layer_height = [point[2] for point in coordinate_data]\n",
    "        \n",
    "        # Arrange laser state feature\n",
    "        laser_state = [state for point in coordinate_data]\n",
    "        \n",
    "        # Arrange end time\n",
    "        end_time = [int(round(endTime/Global_dt)) for point in coordinate_data]\n",
    "        \n",
    "        # Arrange birth time\n",
    "        birth_step = []\n",
    "        for point_index in range(len(coordinate_data)):\n",
    "            birth_step.append(math.floor(birth_data[point_index]/Global_dt))\n",
    "        \n",
    "        # Add information for each file to global variables\n",
    "        Global_temperature_data += temperature_data\n",
    "        Global_birth_data += birth_step\n",
    "        Global_laser_intensity += laser_intensity\n",
    "        Global_laser_state += laser_state \n",
    "        Global_distance_feature += distance_feature\n",
    "        Global_closest_wall += closest_wall\n",
    "        Global_layer_height += layer_height\n",
    "        Global_end_time += end_time\n",
    "        \n",
    "        print(\"Data loaded from: \"+ dataFolders[i])\n",
    "        \n",
    "    return (Global_temperature_data, Global_distance_feature, Global_laser_state, Global_birth_data, \n",
    "            Global_laser_intensity, Global_closest_wall, Global_layer_height, Global_end_time)"
   ]
  },
  {
   "cell_type": "code",
   "execution_count": 5,
   "metadata": {
    "collapsed": true
   },
   "outputs": [],
   "source": [
    "def history_plot(X):\n",
    "    x = range(len(X))\n",
    "    fig, ax = plt.subplots(1, 1, figsize=(10,5))\n",
    "    ax.plot(x, X)\n",
    "    ax.axis([0,len(X), min(X), 1.1*max(X)])\n",
    "    plt.show()"
   ]
  },
  {
   "cell_type": "code",
   "execution_count": 6,
   "metadata": {
    "collapsed": true
   },
   "outputs": [],
   "source": [
    "def next_batch(temperature,distance,laser,birth,intensity,closest,layer,endtime,steps,batch_size):\n",
    "    \n",
    "    # Grab a random starting point for each batch\n",
    "    rand_ind = np.random.randint(0,len(temperature),batch_size)\n",
    "    rand_start_time = [np.random.randint(0,endtime[i]-steps) for i in rand_ind]\n",
    "    temperature_batch = []\n",
    "    distance_batch = []\n",
    "    laser_batch = []\n",
    "    start_batch = []\n",
    "    birth_batch = []\n",
    "    intensity_batch = [intensity[i] for i in rand_ind]\n",
    "    closest_batch = [closest[i] for i in rand_ind]\n",
    "    layer_batch = [layer[i] for i in rand_ind]\n",
    "    \n",
    "    for ind in range(len(rand_ind)):\n",
    "        temperature_batch.append(temperature[rand_ind[ind]][rand_start_time[ind]:rand_start_time[ind]+steps])\n",
    "        distance_batch.append(distance[rand_ind[ind]][rand_start_time[ind]:rand_start_time[ind]+steps])\n",
    "        laser_batch.append(laser[rand_ind[ind]][rand_start_time[ind]:rand_start_time[ind]+steps])\n",
    "        start_batch.append(temperature[rand_ind[ind]][rand_start_time[ind]])\n",
    "        birth_batch.append(birth[rand_ind[ind]][rand_start_time[ind]:rand_start_time[ind]+steps])\n",
    "    y_batch = np.array(temperature_batch).reshape(batch_size,steps,1)\n",
    "    xt_batch = np.array([distance_batch,laser_batch,birth_batch]).transpose((1, 2, 0))\n",
    "    xf_batch = np.array([start_batch,intensity_batch,closest_batch,layer_batch]).transpose((1,0))\n",
    "    return y_batch, xt_batch, xf_batch"
   ]
  },
  {
   "cell_type": "code",
   "execution_count": 7,
   "metadata": {
    "collapsed": true
   },
   "outputs": [],
   "source": [
    "def next_batch_init(temperature,distance,laser,birth,intensity,closest,layer,endtime,steps,batch_size):\n",
    "    \n",
    "    # Grab a random starting point for each batch\n",
    "    rand_ind = []\n",
    "    for i in range(batch_size):\n",
    "        while True:\n",
    "            ran = np.random.randint(0,len(temperature))\n",
    "            if birth[ran]+steps<len(temperature[ran]):\n",
    "                rand_ind.append(ran)\n",
    "                break\n",
    "    temperature_batch = []\n",
    "    distance_batch = []\n",
    "    laser_batch = []\n",
    "    birth_batch = []\n",
    "    intensity_batch = [intensity[i] for i in rand_ind]\n",
    "    closest_batch = [closest[i] for i in rand_ind]\n",
    "    layer_batch = [layer[i] for i in rand_ind]\n",
    "    \n",
    "    for ind in range(len(rand_ind)):\n",
    "        temperature_batch.append(temperature[rand_ind[ind]][birth[rand_ind[ind]]:steps+birth[rand_ind[ind]]])\n",
    "        distance_batch.append(distance[rand_ind[ind]][birth[rand_ind[ind]]:steps+birth[rand_ind[ind]]])\n",
    "        laser_batch.append(laser[rand_ind[ind]][birth[rand_ind[ind]]:steps+birth[rand_ind[ind]]])\n",
    "    y_batch = np.array(temperature_batch).reshape(batch_size,steps,1)\n",
    "    x_batch = np.array([distance_batch,laser_batch]).transpose((1, 2, 0))\n",
    "    xf_batch = np.array([intensity_batch,closest_batch,layer_batch]).transpose((1,0))\n",
    "    return y_batch, x_batch, xf_batch"
   ]
  },
  {
   "cell_type": "code",
   "execution_count": 8,
   "metadata": {
    "collapsed": true
   },
   "outputs": [],
   "source": [
    "def normalize_sequence(train_data,test_data):\n",
    "    max_data=0.0\n",
    "    min_data=1000\n",
    "    for data in train_data:\n",
    "        max_tem = max(data)\n",
    "        min_tem = min(data)\n",
    "        if max_tem>max_data:\n",
    "            max_data=max_tem\n",
    "        if min_tem<min_data:\n",
    "            min_data=min_tem\n",
    "        \n",
    "        \n",
    "    train_data_s=[[(train_data[i][j]-min_data)/(max_data-min_data) for j in range(len(train_data[i])\n",
    "                                                                                 )] for i in range(len(train_data))]\n",
    "    test_data_s=[[(test_data[i][j]-min_data)/(max_data-min_data) for j in range(len(test_data[i])\n",
    "                                                                                 )] for i in range(len(test_data))]\n",
    "    return train_data_s, test_data_s\n",
    "\n",
    "def normalize_fixed(train_data,test_data):\n",
    "    max_data=max(train_data)\n",
    "    min_data=min(train_data)\n",
    "    \n",
    "    if max_data==min_data:\n",
    "        return [1 for i in range(len(train_data))], [1 for i in range(len(test_data))]\n",
    "\n",
    "    train_data_s=[(train_data[i]-min_data)/(max_data-min_data) for i in range(len(train_data))]\n",
    "    test_data_s=[(test_data[i]-min_data)/(max_data-min_data) for i in range(len(test_data))]\n",
    "    \n",
    "    return train_data_s, test_data_s"
   ]
  },
  {
   "cell_type": "markdown",
   "metadata": {},
   "source": [
    "### LSTM model setup"
   ]
  },
  {
   "cell_type": "code",
   "execution_count": 32,
   "metadata": {
    "collapsed": true
   },
   "outputs": [],
   "source": [
    "tf.reset_default_graph()\n",
    "#Samples=['20-20-10-800','9-5-27-865','23-17-7-902','32-6-41-907','44-13-8-735']\n",
    "Samples=['20-20-10-800','9-5-27-865']\n",
    "dataFolders=['../Database/Data/'+sample+'/' for sample in Samples]\n",
    "dataFiles=[sample+'.csv' for sample in Samples]\n",
    "toolpathFiles=['toolpath.crs' for sample in Samples]\n",
    "# Number of data points\n",
    "DataPoints=100\n",
    "# Version name\n",
    "version_name=\"gru_100_multilayer_3_postmix\"\n",
    "# Num of steps in each batch\n",
    "num_time_steps = 100\n",
    "# Just one feature, the time series\n",
    "num_inputs = 2\n",
    "num_inputs_f = 3\n",
    "# 100 neuron layer\n",
    "num_neurons = 300\n",
    "# Just one output, predicted time series\n",
    "num_outputs = 1\n",
    "# learning rate you can play with this\n",
    "learning_rate = 0.0001\n",
    "# how many iterations to go through (training steps), you can play with this\n",
    "num_train_iterations = 4000\n",
    "# Size of the batch of data\n",
    "batch_size = 20\n",
    "# number of layers\n",
    "num_layers = 3"
   ]
  },
  {
   "cell_type": "code",
   "execution_count": 10,
   "metadata": {},
   "outputs": [
    {
     "name": "stdout",
     "output_type": "stream",
     "text": [
      "Data loaded from: ../Database/Data/20-20-10-800/\n",
      "Data loaded from: ../Database/Data/9-5-27-865/\n"
     ]
    }
   ],
   "source": [
    "temperature, distance, laser, birth, intensity, closest, layer, endtime =extract_data(dataFolders,dataFiles,\n",
    "                                                                             toolpathFiles,DataPoints)"
   ]
  },
  {
   "cell_type": "code",
   "execution_count": 11,
   "metadata": {
    "collapsed": true
   },
   "outputs": [],
   "source": [
    "from sklearn.model_selection import train_test_split\n",
    "(temp_train,temp_test,dis_train,dis_test,laser_train,laser_test,birth_train,birth_test,inten_train,inten_test,close_train,\n",
    "                                     close_test,layer_train,layer_test,endtime_train,endtime_test) = train_test_split(\n",
    "                                     temperature, distance, laser, birth, intensity, closest, layer,endtime,test_size=0.3,\n",
    "                                     random_state=101)\n",
    "temp_train_s,temp_test_s = normalize_sequence(temp_train,temp_test)\n",
    "dis_train_s,dis_test_s = normalize_sequence(dis_train,dis_test)\n",
    "laser_train_s,laser_test_s = normalize_sequence(laser_train,laser_test)\n",
    "inten_train_s,inten_test_s = normalize_fixed(inten_train,inten_test)\n",
    "close_train_s,close_test_s = normalize_fixed(close_train,close_test)\n",
    "layer_train_s,layer_test_s = normalize_fixed(layer_train,layer_test)"
   ]
  },
  {
   "cell_type": "code",
   "execution_count": 33,
   "metadata": {
    "collapsed": true
   },
   "outputs": [],
   "source": [
    "X_f = tf.placeholder(tf.float32, [None, num_inputs_f],name=\"Feature_data_f\")\n",
    "X = tf.placeholder(tf.float32, [None, num_time_steps, num_inputs],name=\"Feature_data\")\n",
    "y = tf.placeholder(tf.float32, [None, num_time_steps, num_outputs],name=\"Temperature_output\")"
   ]
  },
  {
   "cell_type": "code",
   "execution_count": 34,
   "metadata": {
    "collapsed": true
   },
   "outputs": [],
   "source": [
    "def init_weights(shape):\n",
    "    init_random_dist = tf.truncated_normal(shape, stddev=0.1)\n",
    "    return tf.Variable(init_random_dist)\n",
    "\n",
    "def init_bias(shape):\n",
    "    init_bias_vals = tf.constant(0.1, shape=shape)\n",
    "    return tf.Variable(init_bias_vals)\n",
    "\n",
    "def normal_full_layer(input_layer, size):\n",
    "    input_size = int(input_layer.get_shape()[1])\n",
    "    W = init_weights([input_size, size])\n",
    "    b = init_bias([size])\n",
    "    return tf.matmul(input_layer, W) + b"
   ]
  },
  {
   "cell_type": "code",
   "execution_count": 35,
   "metadata": {
    "collapsed": true
   },
   "outputs": [],
   "source": [
    "cell = tf.contrib.rnn.MultiRNNCell([tf.contrib.rnn.GRUCell(num_units=num_neurons) for layer in range(num_layers)])\n",
    "outputs, states = tf.nn.dynamic_rnn(cell, X ,dtype=tf.float32)"
   ]
  },
  {
   "cell_type": "code",
   "execution_count": 36,
   "metadata": {
    "collapsed": true
   },
   "outputs": [],
   "source": [
    "W = tf.get_variable('W', [num_neurons,num_outputs])\n",
    "b = tf.get_variable('b', [num_outputs], initializer=tf.constant_initializer(0.0))\n",
    "outputs = tf.reshape(outputs, [-1, num_neurons])\n",
    "output = tf.matmul(outputs, W)+b\n",
    "output = tf.reshape(output,[-1,num_time_steps])\n",
    "output = tf.concat([output,X_f],1)"
   ]
  },
  {
   "cell_type": "code",
   "execution_count": 38,
   "metadata": {
    "collapsed": true
   },
   "outputs": [],
   "source": [
    "full_one = normal_full_layer(output, num_time_steps)\n",
    "full_two = normal_full_layer(full_one, num_time_steps)\n",
    "final_output = tf.reshape(full_two,[-1,num_time_steps,num_outputs])"
   ]
  },
  {
   "cell_type": "code",
   "execution_count": 42,
   "metadata": {
    "collapsed": true
   },
   "outputs": [],
   "source": [
    "with tf.name_scope(\"loss\"):\n",
    "    loss = tf.reduce_mean(tf.abs(final_output - y)) #MAE\n",
    "    tf.summary.scalar('loss',loss)\n",
    "with tf.name_scope(\"train\"):\n",
    "    optimizer = tf.train.AdamOptimizer(learning_rate=learning_rate)\n",
    "    train = optimizer.minimize(loss)"
   ]
  },
  {
   "cell_type": "code",
   "execution_count": 43,
   "metadata": {
    "collapsed": true
   },
   "outputs": [],
   "source": [
    "init = tf.global_variables_initializer()\n",
    "gpu_options = tf.GPUOptions(per_process_gpu_memory_fraction=0.75)\n",
    "saver = tf.train.Saver()\n",
    "y_test, X_test, X_f_test = next_batch_init(temp_test_s,dis_test_s,laser_test_s,birth_test,inten_test_s,\n",
    "                                                      close_test_s,layer_test_s,endtime_test,num_time_steps,len(temp_test_s))"
   ]
  },
  {
   "cell_type": "code",
   "execution_count": 44,
   "metadata": {},
   "outputs": [
    {
     "name": "stdout",
     "output_type": "stream",
     "text": [
      "0 \tMAE_Train: 0.252915 \tMAE_Test: 0.202034\n",
      "100 \tMAE_Train: 0.101521 \tMAE_Test: 0.0923986\n",
      "200 \tMAE_Train: 0.0611896 \tMAE_Test: 0.0624208\n",
      "300 \tMAE_Train: 0.043075 \tMAE_Test: 0.0439785\n",
      "400 \tMAE_Train: 0.0275893 \tMAE_Test: 0.0373106\n",
      "500 \tMAE_Train: 0.0291953 \tMAE_Test: 0.0351836\n",
      "600 \tMAE_Train: 0.0259094 \tMAE_Test: 0.0328161\n",
      "700 \tMAE_Train: 0.022328 \tMAE_Test: 0.033012\n",
      "800 \tMAE_Train: 0.023092 \tMAE_Test: 0.0314182\n",
      "900 \tMAE_Train: 0.0249079 \tMAE_Test: 0.0320666\n",
      "1000 \tMAE_Train: 0.0254734 \tMAE_Test: 0.0309445\n",
      "1100 \tMAE_Train: 0.022958 \tMAE_Test: 0.0316659\n",
      "1200 \tMAE_Train: 0.0221498 \tMAE_Test: 0.0302714\n",
      "1300 \tMAE_Train: 0.0230484 \tMAE_Test: 0.030383\n",
      "1400 \tMAE_Train: 0.0249786 \tMAE_Test: 0.0297406\n",
      "1500 \tMAE_Train: 0.0185474 \tMAE_Test: 0.0305512\n",
      "1600 \tMAE_Train: 0.0194356 \tMAE_Test: 0.0290772\n",
      "1700 \tMAE_Train: 0.0226784 \tMAE_Test: 0.0298521\n",
      "1800 \tMAE_Train: 0.0252948 \tMAE_Test: 0.029505\n",
      "1900 \tMAE_Train: 0.0240975 \tMAE_Test: 0.0291444\n",
      "2000 \tMAE_Train: 0.0181678 \tMAE_Test: 0.0292765\n",
      "2100 \tMAE_Train: 0.0223547 \tMAE_Test: 0.0286051\n",
      "2200 \tMAE_Train: 0.019916 \tMAE_Test: 0.0285482\n",
      "2300 \tMAE_Train: 0.0217848 \tMAE_Test: 0.0284345\n",
      "2400 \tMAE_Train: 0.0207819 \tMAE_Test: 0.0293668\n",
      "2500 \tMAE_Train: 0.0208302 \tMAE_Test: 0.0284322\n",
      "2600 \tMAE_Train: 0.0186592 \tMAE_Test: 0.0288265\n",
      "2700 \tMAE_Train: 0.0209805 \tMAE_Test: 0.028981\n",
      "2800 \tMAE_Train: 0.0214643 \tMAE_Test: 0.0298592\n",
      "2900 \tMAE_Train: 0.0233325 \tMAE_Test: 0.0297541\n",
      "3000 \tMAE_Train: 0.0249167 \tMAE_Test: 0.0300832\n",
      "3100 \tMAE_Train: 0.0215672 \tMAE_Test: 0.0295262\n",
      "3200 \tMAE_Train: 0.0180552 \tMAE_Test: 0.0298583\n",
      "3300 \tMAE_Train: 0.0217462 \tMAE_Test: 0.0298354\n",
      "3400 \tMAE_Train: 0.0216277 \tMAE_Test: 0.031295\n",
      "3500 \tMAE_Train: 0.0191463 \tMAE_Test: 0.0309155\n",
      "3600 \tMAE_Train: 0.0198296 \tMAE_Test: 0.0306289\n",
      "3700 \tMAE_Train: 0.0192668 \tMAE_Test: 0.0294762\n",
      "3800 \tMAE_Train: 0.0211469 \tMAE_Test: 0.0292008\n",
      "3900 \tMAE_Train: 0.0201852 \tMAE_Test: 0.0291508\n"
     ]
    },
    {
     "data": {
      "image/png": "[encoded data removed]",
      "text/plain": [
       "<matplotlib.figure.Figure at 0x24b15ea6898>"
      ]
     },
     "metadata": {},
     "output_type": "display_data"
    }
   ],
   "source": [
    "with tf.Session(config=tf.ConfigProto(gpu_options=gpu_options)) as sess:\n",
    "    sess.run(init)\n",
    "    mse_train=[]\n",
    "    mse_test=[]\n",
    "    #merged_summary=tf.summary.merge_all()\n",
    "    #writer = tf.summary.FileWriter(\"./tensorboard_\"+version_name)\n",
    "    #writer.add_graph(sess.graph)\n",
    "    #summaries = tf.summary.merge_all()\n",
    "    for iteration in range(num_train_iterations):\n",
    "        y_batch, X_batch, X_f_batch = next_batch_init(temp_train_s,dis_train_s,laser_train_s,birth_train,inten_train_s,\n",
    "                                                      close_train_s,layer_train_s,endtime_train,num_time_steps,batch_size)\n",
    "        sess.run(train, feed_dict={X_f:X_f_batch , X: X_batch, y: y_batch})\n",
    "        if iteration % 10 ==0:\n",
    "            #s=sess.run(merged_summary,feed_dict={X: X_batch, y: y_batch})\n",
    "            #writer.add_summary(s,iteration)\n",
    "            mse_tr=loss.eval(feed_dict={X_f:X_f_batch, X: X_batch, y: y_batch})\n",
    "            mse_te=loss.eval(feed_dict={X_f:np.array(X_f_test), X: np.array(X_test), y: np.array(y_test)})\n",
    "            mse_train.append(mse_tr)\n",
    "            mse_test.append(mse_te)\n",
    "        if iteration % 100 == 0:\n",
    "            print(iteration, \"\\tMAE_Train:\", mse_tr,\"\\tMAE_Test:\", mse_te)\n",
    "    # Plot training progress\n",
    "    train_trend = pd.concat([pd.DataFrame(data=mse_train,columns=['training set']),pd.DataFrame(data=mse_test,columns=['test set'])],axis=1)\n",
    "    train_trend.plot(figsize=(10,5))\n",
    "    train_trend.to_csv(version_name+'.csv', index=False, header=False)\n",
    "    # Save Model for Later\n",
    "    saver.save(sess, \"Models/\"+version_name)\n",
    "    #writer.close()"
   ]
  },
  {
   "cell_type": "markdown",
   "metadata": {},
   "source": [
    "### Utilization and testing"
   ]
  },
  {
   "cell_type": "code",
   "execution_count": 26,
   "metadata": {},
   "outputs": [
    {
     "data": {
      "text/plain": [
       "300"
      ]
     },
     "execution_count": 26,
     "metadata": {},
     "output_type": "execute_result"
    }
   ],
   "source": [
    "len(temp_test_s)"
   ]
  },
  {
   "cell_type": "code",
   "execution_count": 54,
   "metadata": {},
   "outputs": [
    {
     "name": "stdout",
     "output_type": "stream",
     "text": [
      "INFO:tensorflow:Restoring parameters from Models/gru_100_multilayer_3_postmix\n"
     ]
    },
    {
     "data": {
      "text/plain": [
       "<matplotlib.axes._subplots.AxesSubplot at 0x24b28126390>"
      ]
     },
     "execution_count": 54,
     "metadata": {},
     "output_type": "execute_result"
    },
    {
     "data": {
      "image/png": "[encoded data removed]",
      "text/plain": [
       "<matplotlib.figure.Figure at 0x24b243765c0>"
      ]
     },
     "metadata": {},
     "output_type": "display_data"
    }
   ],
   "source": [
    "with tf.Session() as sess:\n",
    "    saver = tf.train.Saver()\n",
    "    # Use your Saver instance to restore your saved rnn time series model\n",
    "    saver.restore(sess, \"Models/\"+version_name)\n",
    "    y_batch, X_batch, X_f_batch = next_batch_init(temp_train_s,dis_train_s,laser_train_s,birth_train,inten_train_s,\n",
    "                                                  close_train_s,layer_train_s,endtime_train,num_time_steps,1)\n",
    "    y_pred = sess.run(final_output, feed_dict={X: X_batch, X_f:X_f_batch})\n",
    "    data = pd.concat([pd.DataFrame(data=y_batch.flatten(),columns=['y_test']),\n",
    "                      pd.DataFrame(data=y_pred.flatten(),columns=['y_pred'])],axis=1)\n",
    "data.plot(figsize=(10,5),ylim=(-0.2,1.2))"
   ]
  },
  {
   "cell_type": "code",
   "execution_count": null,
   "metadata": {
    "collapsed": true
   },
   "outputs": [],
   "source": []
  }
 ],
 "metadata": {
  "kernelspec": {
   "display_name": "Python 2",
   "language": "python",
   "name": "python2"
  },
  "language_info": {
   "codemirror_mode": {
    "name": "ipython",
    "version": 2
   },
   "file_extension": ".py",
   "mimetype": "text/x-python",
   "name": "python",
   "nbconvert_exporter": "python",
   "pygments_lexer": "ipython2",
   "version": "2.7.13"
  }
 },
 "nbformat": 4,
 "nbformat_minor": 2
}
