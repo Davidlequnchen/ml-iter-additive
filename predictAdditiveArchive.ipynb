{
 "cells": [
  {
   "cell_type": "markdown",
   "metadata": {},
   "source": [
    "## Additional Experiments :\n",
    "* Look at the mae, mse but especially mape\n",
    "* See what happens when we reduce the layer \n",
    "* See what happens when we increase the information by including distance\n",
    "* Split temperature for higher layers with lower layers\n",
    "* Look at what degree of columns is enough - does decreasing reduce the r2 and increasing increase the r2 ?\n",
    "* Other algorithms - especially linear ones does it help"
   ]
  },
  {
   "cell_type": "code",
   "execution_count": 2,
   "metadata": {},
   "outputs": [],
   "source": [
    "from utility import *"
   ]
  },
  {
   "cell_type": "code",
   "execution_count": 3,
   "metadata": {},
   "outputs": [],
   "source": [
    "import pandas as pd\n",
    "import numpy as np\n",
    "from math import sqrt\n",
    "from numpy.random import choice\n",
    "import scikitplot as skplt"
   ]
  },
  {
   "cell_type": "code",
   "execution_count": 4,
   "metadata": {},
   "outputs": [],
   "source": [
    "from sklearn.linear_model import LinearRegression,Ridge\n",
    "from sklearn.model_selection import train_test_split\n",
    "from sklearn.utils import shuffle\n",
    "from sklearn.utils.validation import check_array \n",
    "from sklearn.metrics import r2_score, mean_squared_error, mean_absolute_error\n",
    "from sklearn.ensemble import RandomForestRegressor,ExtraTreesRegressor,GradientBoostingRegressor,AdaBoostRegressor,BaggingRegressor\n",
    "from xgboost import XGBRegressor"
   ]
  },
  {
   "cell_type": "code",
   "execution_count": 5,
   "metadata": {},
   "outputs": [],
   "source": [
    "def mean_absolute_percentage_error(y_true, y_pred):\n",
    "\t'''\n",
    "\tscikit(sklearn) does not have support for mean absolute percentage error MAPE.\n",
    "\tThis is because the denominator can theoretically be 0 and so the value would be undefined.\n",
    "\tSo this is our implementation\n",
    "\t'''\n",
    "# \ty_true = check_array(y_true)\n",
    "# \ty_pred = check_array(y_pred)\n",
    "\n",
    "\treturn np.mean(np.abs((y_true - y_pred) / y_true)) * 100\n",
    "\n",
    "def r2(y_true,y_pred):\n",
    "    return r2_score(y_true,y_pred)\n",
    "\n",
    "def mse(y_true,y_pred):\n",
    "    return mean_squared_error(y_true,y_pred)\n",
    "\n",
    "def mae(y_true,y_pred):\n",
    "    return mean_absolute_error(y_true,y_pred)\n",
    "\n",
    "def mape(y_true, y_pred):\n",
    "    return mean_absolute_percentage_error(y_true,y_pred)"
   ]
  },
  {
   "cell_type": "code",
   "execution_count": 20,
   "metadata": {},
   "outputs": [],
   "source": [
    "df = pd.read_csv('additive_complete.csv')"
   ]
  },
  {
   "cell_type": "code",
   "execution_count": 43,
   "metadata": {},
   "outputs": [],
   "source": [
    "df['euclidean_distance_laser'] = df.apply(lambda row: sqrt(row['x_distance']**2 + row['y_distance']**2 + row['z_distance']**2), axis=1)"
   ]
  },
  {
   "cell_type": "code",
   "execution_count": 21,
   "metadata": {},
   "outputs": [
    {
     "data": {
      "text/html": [
       "<div>\n",
       "<style scoped>\n",
       "    .dataframe tbody tr th:only-of-type {\n",
       "        vertical-align: middle;\n",
       "    }\n",
       "\n",
       "    .dataframe tbody tr th {\n",
       "        vertical-align: top;\n",
       "    }\n",
       "\n",
       "    .dataframe thead th {\n",
       "        text-align: right;\n",
       "    }\n",
       "</style>\n",
       "<table border=\"1\" class=\"dataframe\">\n",
       "  <thead>\n",
       "    <tr style=\"text-align: right;\">\n",
       "      <th></th>\n",
       "      <th>timestep</th>\n",
       "      <th>x_voxel</th>\n",
       "      <th>y_voxel</th>\n",
       "      <th>z_voxel</th>\n",
       "      <th>timeOfCreation</th>\n",
       "      <th>x_laser</th>\n",
       "      <th>y_laser</th>\n",
       "      <th>z_laser</th>\n",
       "      <th>x_distance</th>\n",
       "      <th>y_distance</th>\n",
       "      <th>...</th>\n",
       "      <th>T18_t_t-1</th>\n",
       "      <th>T19_t_t-1</th>\n",
       "      <th>T20_t_t-1</th>\n",
       "      <th>T21_t_t-1</th>\n",
       "      <th>T22_t_t-1</th>\n",
       "      <th>T23_t_t-1</th>\n",
       "      <th>T24_t_t-1</th>\n",
       "      <th>T25_t_t-1</th>\n",
       "      <th>T26_t_t-1</th>\n",
       "      <th>T_self</th>\n",
       "    </tr>\n",
       "  </thead>\n",
       "  <tbody>\n",
       "    <tr>\n",
       "      <th>0</th>\n",
       "      <td>1.0</td>\n",
       "      <td>14.5</td>\n",
       "      <td>1.0</td>\n",
       "      <td>0.5</td>\n",
       "      <td>0.5</td>\n",
       "      <td>0.0</td>\n",
       "      <td>0.75</td>\n",
       "      <td>0.5</td>\n",
       "      <td>14.5</td>\n",
       "      <td>0.25</td>\n",
       "      <td>...</td>\n",
       "      <td>300.0</td>\n",
       "      <td>300.0</td>\n",
       "      <td>300.0</td>\n",
       "      <td>300.0</td>\n",
       "      <td>300.0</td>\n",
       "      <td>300.0</td>\n",
       "      <td>300.0</td>\n",
       "      <td>300.0</td>\n",
       "      <td>300.0</td>\n",
       "      <td>300.0</td>\n",
       "    </tr>\n",
       "    <tr>\n",
       "      <th>1</th>\n",
       "      <td>1.0</td>\n",
       "      <td>1.5</td>\n",
       "      <td>4.0</td>\n",
       "      <td>1.5</td>\n",
       "      <td>1.5</td>\n",
       "      <td>0.0</td>\n",
       "      <td>0.75</td>\n",
       "      <td>0.5</td>\n",
       "      <td>1.5</td>\n",
       "      <td>3.25</td>\n",
       "      <td>...</td>\n",
       "      <td>300.0</td>\n",
       "      <td>300.0</td>\n",
       "      <td>300.0</td>\n",
       "      <td>300.0</td>\n",
       "      <td>300.0</td>\n",
       "      <td>300.0</td>\n",
       "      <td>300.0</td>\n",
       "      <td>300.0</td>\n",
       "      <td>300.0</td>\n",
       "      <td>300.0</td>\n",
       "    </tr>\n",
       "    <tr>\n",
       "      <th>2</th>\n",
       "      <td>1.0</td>\n",
       "      <td>2.0</td>\n",
       "      <td>2.5</td>\n",
       "      <td>1.5</td>\n",
       "      <td>1.5</td>\n",
       "      <td>0.0</td>\n",
       "      <td>0.75</td>\n",
       "      <td>0.5</td>\n",
       "      <td>2.0</td>\n",
       "      <td>1.75</td>\n",
       "      <td>...</td>\n",
       "      <td>300.0</td>\n",
       "      <td>300.0</td>\n",
       "      <td>300.0</td>\n",
       "      <td>300.0</td>\n",
       "      <td>300.0</td>\n",
       "      <td>300.0</td>\n",
       "      <td>300.0</td>\n",
       "      <td>300.0</td>\n",
       "      <td>300.0</td>\n",
       "      <td>300.0</td>\n",
       "    </tr>\n",
       "    <tr>\n",
       "      <th>3</th>\n",
       "      <td>1.0</td>\n",
       "      <td>6.5</td>\n",
       "      <td>4.0</td>\n",
       "      <td>1.5</td>\n",
       "      <td>1.5</td>\n",
       "      <td>0.0</td>\n",
       "      <td>0.75</td>\n",
       "      <td>0.5</td>\n",
       "      <td>6.5</td>\n",
       "      <td>3.25</td>\n",
       "      <td>...</td>\n",
       "      <td>300.0</td>\n",
       "      <td>300.0</td>\n",
       "      <td>300.0</td>\n",
       "      <td>300.0</td>\n",
       "      <td>300.0</td>\n",
       "      <td>300.0</td>\n",
       "      <td>300.0</td>\n",
       "      <td>300.0</td>\n",
       "      <td>300.0</td>\n",
       "      <td>300.0</td>\n",
       "    </tr>\n",
       "    <tr>\n",
       "      <th>4</th>\n",
       "      <td>1.0</td>\n",
       "      <td>13.0</td>\n",
       "      <td>13.5</td>\n",
       "      <td>1.0</td>\n",
       "      <td>1.0</td>\n",
       "      <td>0.0</td>\n",
       "      <td>0.75</td>\n",
       "      <td>0.5</td>\n",
       "      <td>13.0</td>\n",
       "      <td>12.75</td>\n",
       "      <td>...</td>\n",
       "      <td>300.0</td>\n",
       "      <td>300.0</td>\n",
       "      <td>300.0</td>\n",
       "      <td>300.0</td>\n",
       "      <td>300.0</td>\n",
       "      <td>300.0</td>\n",
       "      <td>300.0</td>\n",
       "      <td>300.0</td>\n",
       "      <td>300.0</td>\n",
       "      <td>300.0</td>\n",
       "    </tr>\n",
       "  </tbody>\n",
       "</table>\n",
       "<p>5 rows × 40 columns</p>\n",
       "</div>"
      ],
      "text/plain": [
       "   timestep  x_voxel  y_voxel  z_voxel  timeOfCreation  x_laser  y_laser  \\\n",
       "0       1.0     14.5      1.0      0.5             0.5      0.0     0.75   \n",
       "1       1.0      1.5      4.0      1.5             1.5      0.0     0.75   \n",
       "2       1.0      2.0      2.5      1.5             1.5      0.0     0.75   \n",
       "3       1.0      6.5      4.0      1.5             1.5      0.0     0.75   \n",
       "4       1.0     13.0     13.5      1.0             1.0      0.0     0.75   \n",
       "\n",
       "   z_laser  x_distance  y_distance   ...    T18_t_t-1  T19_t_t-1  T20_t_t-1  \\\n",
       "0      0.5        14.5        0.25   ...        300.0      300.0      300.0   \n",
       "1      0.5         1.5        3.25   ...        300.0      300.0      300.0   \n",
       "2      0.5         2.0        1.75   ...        300.0      300.0      300.0   \n",
       "3      0.5         6.5        3.25   ...        300.0      300.0      300.0   \n",
       "4      0.5        13.0       12.75   ...        300.0      300.0      300.0   \n",
       "\n",
       "   T21_t_t-1  T22_t_t-1  T23_t_t-1  T24_t_t-1  T25_t_t-1  T26_t_t-1  T_self  \n",
       "0      300.0      300.0      300.0      300.0      300.0      300.0   300.0  \n",
       "1      300.0      300.0      300.0      300.0      300.0      300.0   300.0  \n",
       "2      300.0      300.0      300.0      300.0      300.0      300.0   300.0  \n",
       "3      300.0      300.0      300.0      300.0      300.0      300.0   300.0  \n",
       "4      300.0      300.0      300.0      300.0      300.0      300.0   300.0  \n",
       "\n",
       "[5 rows x 40 columns]"
      ]
     },
     "execution_count": 21,
     "metadata": {},
     "output_type": "execute_result"
    }
   ],
   "source": [
    "df.head()"
   ]
  },
  {
   "cell_type": "code",
   "execution_count": 37,
   "metadata": {},
   "outputs": [],
   "source": [
    "neighborColumns = []\n",
    "for neighbor in range(26):\n",
    "    neighborColumns += ['T'+str(neighbor+1)+'_t_t-1']"
   ]
  },
  {
   "cell_type": "code",
   "execution_count": 12,
   "metadata": {},
   "outputs": [
    {
     "data": {
      "text/plain": [
       "(1604202, 534734)"
      ]
     },
     "execution_count": 12,
     "metadata": {},
     "output_type": "execute_result"
    }
   ],
   "source": [
    "len(df),1604202/3"
   ]
  },
  {
   "cell_type": "code",
   "execution_count": 13,
   "metadata": {},
   "outputs": [],
   "source": [
    "testSplit = 534734"
   ]
  },
  {
   "cell_type": "code",
   "execution_count": 24,
   "metadata": {},
   "outputs": [],
   "source": [
    "y = df['T_self']"
   ]
  },
  {
   "cell_type": "markdown",
   "metadata": {},
   "source": [
    "### Included the time of creation "
   ]
  },
  {
   "cell_type": "code",
   "execution_count": 22,
   "metadata": {},
   "outputs": [],
   "source": [
    "featureColumns = ['timestep','x_distance','y_distance','z_distance','timeOfCreation','T0_t-1']+neighborColumns\n",
    "df_mod = df[featureColumns]"
   ]
  },
  {
   "cell_type": "code",
   "execution_count": 23,
   "metadata": {},
   "outputs": [
    {
     "data": {
      "text/html": [
       "<div>\n",
       "<style scoped>\n",
       "    .dataframe tbody tr th:only-of-type {\n",
       "        vertical-align: middle;\n",
       "    }\n",
       "\n",
       "    .dataframe tbody tr th {\n",
       "        vertical-align: top;\n",
       "    }\n",
       "\n",
       "    .dataframe thead th {\n",
       "        text-align: right;\n",
       "    }\n",
       "</style>\n",
       "<table border=\"1\" class=\"dataframe\">\n",
       "  <thead>\n",
       "    <tr style=\"text-align: right;\">\n",
       "      <th></th>\n",
       "      <th>timestep</th>\n",
       "      <th>x_distance</th>\n",
       "      <th>y_distance</th>\n",
       "      <th>z_distance</th>\n",
       "      <th>timeOfCreation</th>\n",
       "      <th>T0_t-1</th>\n",
       "      <th>T1_t_t-1</th>\n",
       "      <th>T2_t_t-1</th>\n",
       "      <th>T3_t_t-1</th>\n",
       "      <th>T4_t_t-1</th>\n",
       "      <th>...</th>\n",
       "      <th>T17_t_t-1</th>\n",
       "      <th>T18_t_t-1</th>\n",
       "      <th>T19_t_t-1</th>\n",
       "      <th>T20_t_t-1</th>\n",
       "      <th>T21_t_t-1</th>\n",
       "      <th>T22_t_t-1</th>\n",
       "      <th>T23_t_t-1</th>\n",
       "      <th>T24_t_t-1</th>\n",
       "      <th>T25_t_t-1</th>\n",
       "      <th>T26_t_t-1</th>\n",
       "    </tr>\n",
       "  </thead>\n",
       "  <tbody>\n",
       "    <tr>\n",
       "      <th>0</th>\n",
       "      <td>1.0</td>\n",
       "      <td>14.5</td>\n",
       "      <td>0.25</td>\n",
       "      <td>0.0</td>\n",
       "      <td>0.5</td>\n",
       "      <td>300.0</td>\n",
       "      <td>300.0</td>\n",
       "      <td>300.0</td>\n",
       "      <td>300.0</td>\n",
       "      <td>300.0</td>\n",
       "      <td>...</td>\n",
       "      <td>300.0</td>\n",
       "      <td>300.0</td>\n",
       "      <td>300.0</td>\n",
       "      <td>300.0</td>\n",
       "      <td>300.0</td>\n",
       "      <td>300.0</td>\n",
       "      <td>300.0</td>\n",
       "      <td>300.0</td>\n",
       "      <td>300.0</td>\n",
       "      <td>300.0</td>\n",
       "    </tr>\n",
       "    <tr>\n",
       "      <th>1</th>\n",
       "      <td>1.0</td>\n",
       "      <td>1.5</td>\n",
       "      <td>3.25</td>\n",
       "      <td>1.0</td>\n",
       "      <td>1.5</td>\n",
       "      <td>300.0</td>\n",
       "      <td>300.0</td>\n",
       "      <td>300.0</td>\n",
       "      <td>300.0</td>\n",
       "      <td>300.0</td>\n",
       "      <td>...</td>\n",
       "      <td>300.0</td>\n",
       "      <td>300.0</td>\n",
       "      <td>300.0</td>\n",
       "      <td>300.0</td>\n",
       "      <td>300.0</td>\n",
       "      <td>300.0</td>\n",
       "      <td>300.0</td>\n",
       "      <td>300.0</td>\n",
       "      <td>300.0</td>\n",
       "      <td>300.0</td>\n",
       "    </tr>\n",
       "    <tr>\n",
       "      <th>2</th>\n",
       "      <td>1.0</td>\n",
       "      <td>2.0</td>\n",
       "      <td>1.75</td>\n",
       "      <td>1.0</td>\n",
       "      <td>1.5</td>\n",
       "      <td>300.0</td>\n",
       "      <td>300.0</td>\n",
       "      <td>300.0</td>\n",
       "      <td>300.0</td>\n",
       "      <td>300.0</td>\n",
       "      <td>...</td>\n",
       "      <td>300.0</td>\n",
       "      <td>300.0</td>\n",
       "      <td>300.0</td>\n",
       "      <td>300.0</td>\n",
       "      <td>300.0</td>\n",
       "      <td>300.0</td>\n",
       "      <td>300.0</td>\n",
       "      <td>300.0</td>\n",
       "      <td>300.0</td>\n",
       "      <td>300.0</td>\n",
       "    </tr>\n",
       "    <tr>\n",
       "      <th>3</th>\n",
       "      <td>1.0</td>\n",
       "      <td>6.5</td>\n",
       "      <td>3.25</td>\n",
       "      <td>1.0</td>\n",
       "      <td>1.5</td>\n",
       "      <td>300.0</td>\n",
       "      <td>300.0</td>\n",
       "      <td>300.0</td>\n",
       "      <td>300.0</td>\n",
       "      <td>300.0</td>\n",
       "      <td>...</td>\n",
       "      <td>300.0</td>\n",
       "      <td>300.0</td>\n",
       "      <td>300.0</td>\n",
       "      <td>300.0</td>\n",
       "      <td>300.0</td>\n",
       "      <td>300.0</td>\n",
       "      <td>300.0</td>\n",
       "      <td>300.0</td>\n",
       "      <td>300.0</td>\n",
       "      <td>300.0</td>\n",
       "    </tr>\n",
       "    <tr>\n",
       "      <th>4</th>\n",
       "      <td>1.0</td>\n",
       "      <td>13.0</td>\n",
       "      <td>12.75</td>\n",
       "      <td>0.5</td>\n",
       "      <td>1.0</td>\n",
       "      <td>300.0</td>\n",
       "      <td>300.0</td>\n",
       "      <td>300.0</td>\n",
       "      <td>300.0</td>\n",
       "      <td>300.0</td>\n",
       "      <td>...</td>\n",
       "      <td>300.0</td>\n",
       "      <td>300.0</td>\n",
       "      <td>300.0</td>\n",
       "      <td>300.0</td>\n",
       "      <td>300.0</td>\n",
       "      <td>300.0</td>\n",
       "      <td>300.0</td>\n",
       "      <td>300.0</td>\n",
       "      <td>300.0</td>\n",
       "      <td>300.0</td>\n",
       "    </tr>\n",
       "  </tbody>\n",
       "</table>\n",
       "<p>5 rows × 32 columns</p>\n",
       "</div>"
      ],
      "text/plain": [
       "   timestep  x_distance  y_distance  z_distance  timeOfCreation  T0_t-1  \\\n",
       "0       1.0        14.5        0.25         0.0             0.5   300.0   \n",
       "1       1.0         1.5        3.25         1.0             1.5   300.0   \n",
       "2       1.0         2.0        1.75         1.0             1.5   300.0   \n",
       "3       1.0         6.5        3.25         1.0             1.5   300.0   \n",
       "4       1.0        13.0       12.75         0.5             1.0   300.0   \n",
       "\n",
       "   T1_t_t-1  T2_t_t-1  T3_t_t-1  T4_t_t-1    ...      T17_t_t-1  T18_t_t-1  \\\n",
       "0     300.0     300.0     300.0     300.0    ...          300.0      300.0   \n",
       "1     300.0     300.0     300.0     300.0    ...          300.0      300.0   \n",
       "2     300.0     300.0     300.0     300.0    ...          300.0      300.0   \n",
       "3     300.0     300.0     300.0     300.0    ...          300.0      300.0   \n",
       "4     300.0     300.0     300.0     300.0    ...          300.0      300.0   \n",
       "\n",
       "   T19_t_t-1  T20_t_t-1  T21_t_t-1  T22_t_t-1  T23_t_t-1  T24_t_t-1  \\\n",
       "0      300.0      300.0      300.0      300.0      300.0      300.0   \n",
       "1      300.0      300.0      300.0      300.0      300.0      300.0   \n",
       "2      300.0      300.0      300.0      300.0      300.0      300.0   \n",
       "3      300.0      300.0      300.0      300.0      300.0      300.0   \n",
       "4      300.0      300.0      300.0      300.0      300.0      300.0   \n",
       "\n",
       "   T25_t_t-1  T26_t_t-1  \n",
       "0      300.0      300.0  \n",
       "1      300.0      300.0  \n",
       "2      300.0      300.0  \n",
       "3      300.0      300.0  \n",
       "4      300.0      300.0  \n",
       "\n",
       "[5 rows x 32 columns]"
      ]
     },
     "execution_count": 23,
     "metadata": {},
     "output_type": "execute_result"
    }
   ],
   "source": [
    "df_mod.head()"
   ]
  },
  {
   "cell_type": "code",
   "execution_count": 74,
   "metadata": {},
   "outputs": [
    {
     "data": {
      "text/plain": [
       "count    1.604202e+06\n",
       "mean     6.398227e+02\n",
       "std      4.868362e+02\n",
       "min      3.000000e+02\n",
       "25%      3.000000e+02\n",
       "50%      3.000000e+02\n",
       "75%      8.522900e+02\n",
       "max      6.155710e+03\n",
       "Name: T_self, dtype: float64"
      ]
     },
     "execution_count": 74,
     "metadata": {},
     "output_type": "execute_result"
    }
   ],
   "source": [
    "df['T_self'].describe()"
   ]
  },
  {
   "cell_type": "code",
   "execution_count": 25,
   "metadata": {},
   "outputs": [],
   "source": [
    "X = df_mod.loc[:,featureColumns ]\n",
    "X_train,y_train = shuffle(X[:-testSplit], y[:-testSplit])\n",
    "X_test,y_test = shuffle(X[-testSplit:], y[-testSplit:])"
   ]
  },
  {
   "cell_type": "code",
   "execution_count": 26,
   "metadata": {},
   "outputs": [
    {
     "data": {
      "text/plain": [
       "(0.9314224734818081, 3.301970529247385)"
      ]
     },
     "execution_count": 26,
     "metadata": {},
     "output_type": "execute_result"
    }
   ],
   "source": [
    "linear = LinearRegression()\n",
    "linear.fit(X_train,y_train)\n",
    "predicted = linear.predict(X_test)\n",
    "r2(y_test,predicted) ,mape(y_test,predicted)"
   ]
  },
  {
   "cell_type": "markdown",
   "metadata": {},
   "source": [
    "<i><font color=\"magenta\"> Adding the time of creation did not really help in any way<br>Ridge also does not perform any better </font></i>"
   ]
  },
  {
   "cell_type": "code",
   "execution_count": 28,
   "metadata": {},
   "outputs": [
    {
     "data": {
      "text/plain": [
       "(0.9314224746626374, 3.3019625870952805)"
      ]
     },
     "execution_count": 28,
     "metadata": {},
     "output_type": "execute_result"
    }
   ],
   "source": [
    "ridge = Ridge()\n",
    "ridge.fit(X_train,y_train)\n",
    "predicted = ridge.predict(X_test)\n",
    "r2(y_test,predicted) ,mape(y_test,predicted)"
   ]
  },
  {
   "cell_type": "markdown",
   "metadata": {},
   "source": [
    "### No timestep and time of creation"
   ]
  },
  {
   "cell_type": "code",
   "execution_count": 29,
   "metadata": {},
   "outputs": [],
   "source": [
    "featureColumns = ['x_distance','y_distance','z_distance','T0_t-1']+neighborColumns\n",
    "X = df.loc[:,featureColumns ]\n",
    "y = df['T_self']"
   ]
  },
  {
   "cell_type": "code",
   "execution_count": 30,
   "metadata": {},
   "outputs": [],
   "source": [
    "X_train,y_train = shuffle(X[:-testSplit], y[:-testSplit])\n",
    "X_test,y_test = shuffle(X[-testSplit:], y[-testSplit:])"
   ]
  },
  {
   "cell_type": "code",
   "execution_count": 31,
   "metadata": {},
   "outputs": [
    {
     "data": {
      "text/plain": [
       "(0.9311025056310765, 3.0578787073533804)"
      ]
     },
     "execution_count": 31,
     "metadata": {},
     "output_type": "execute_result"
    }
   ],
   "source": [
    "linear = LinearRegression()\n",
    "linear.fit(X_train,y_train)\n",
    "predicted = linear.predict(X_test)\n",
    "r2(y_test,predicted) ,mape(y_test,predicted)"
   ]
  },
  {
   "cell_type": "markdown",
   "metadata": {},
   "source": [
    "<i><font color=\"blue\"> Removing timestep did not impact as well </font></i>"
   ]
  },
  {
   "cell_type": "markdown",
   "metadata": {},
   "source": [
    "### Only absolute distance - instead of x,y,z "
   ]
  },
  {
   "cell_type": "code",
   "execution_count": 45,
   "metadata": {},
   "outputs": [],
   "source": [
    "featureColumns = ['euclidean_distance_laser','T0_t-1']+neighborColumns\n",
    "X = df.loc[:,featureColumns ]\n",
    "y = df['T_self']"
   ]
  },
  {
   "cell_type": "code",
   "execution_count": 48,
   "metadata": {},
   "outputs": [
    {
     "data": {
      "text/html": [
       "<div>\n",
       "<style scoped>\n",
       "    .dataframe tbody tr th:only-of-type {\n",
       "        vertical-align: middle;\n",
       "    }\n",
       "\n",
       "    .dataframe tbody tr th {\n",
       "        vertical-align: top;\n",
       "    }\n",
       "\n",
       "    .dataframe thead th {\n",
       "        text-align: right;\n",
       "    }\n",
       "</style>\n",
       "<table border=\"1\" class=\"dataframe\">\n",
       "  <thead>\n",
       "    <tr style=\"text-align: right;\">\n",
       "      <th></th>\n",
       "      <th>euclidean_distance_laser</th>\n",
       "      <th>T0_t-1</th>\n",
       "      <th>T1_t_t-1</th>\n",
       "      <th>T2_t_t-1</th>\n",
       "      <th>T3_t_t-1</th>\n",
       "      <th>T4_t_t-1</th>\n",
       "      <th>T5_t_t-1</th>\n",
       "      <th>T6_t_t-1</th>\n",
       "      <th>T7_t_t-1</th>\n",
       "      <th>T8_t_t-1</th>\n",
       "      <th>...</th>\n",
       "      <th>T17_t_t-1</th>\n",
       "      <th>T18_t_t-1</th>\n",
       "      <th>T19_t_t-1</th>\n",
       "      <th>T20_t_t-1</th>\n",
       "      <th>T21_t_t-1</th>\n",
       "      <th>T22_t_t-1</th>\n",
       "      <th>T23_t_t-1</th>\n",
       "      <th>T24_t_t-1</th>\n",
       "      <th>T25_t_t-1</th>\n",
       "      <th>T26_t_t-1</th>\n",
       "    </tr>\n",
       "  </thead>\n",
       "  <tbody>\n",
       "    <tr>\n",
       "      <th>0</th>\n",
       "      <td>14.502155</td>\n",
       "      <td>300.0</td>\n",
       "      <td>300.0</td>\n",
       "      <td>300.0</td>\n",
       "      <td>300.0</td>\n",
       "      <td>300.0</td>\n",
       "      <td>300.0</td>\n",
       "      <td>300.0</td>\n",
       "      <td>300.0</td>\n",
       "      <td>300.0</td>\n",
       "      <td>...</td>\n",
       "      <td>300.0</td>\n",
       "      <td>300.0</td>\n",
       "      <td>300.0</td>\n",
       "      <td>300.0</td>\n",
       "      <td>300.0</td>\n",
       "      <td>300.0</td>\n",
       "      <td>300.0</td>\n",
       "      <td>300.0</td>\n",
       "      <td>300.0</td>\n",
       "      <td>300.0</td>\n",
       "    </tr>\n",
       "    <tr>\n",
       "      <th>1</th>\n",
       "      <td>3.716517</td>\n",
       "      <td>300.0</td>\n",
       "      <td>300.0</td>\n",
       "      <td>300.0</td>\n",
       "      <td>300.0</td>\n",
       "      <td>300.0</td>\n",
       "      <td>300.0</td>\n",
       "      <td>300.0</td>\n",
       "      <td>300.0</td>\n",
       "      <td>300.0</td>\n",
       "      <td>...</td>\n",
       "      <td>300.0</td>\n",
       "      <td>300.0</td>\n",
       "      <td>300.0</td>\n",
       "      <td>300.0</td>\n",
       "      <td>300.0</td>\n",
       "      <td>300.0</td>\n",
       "      <td>300.0</td>\n",
       "      <td>300.0</td>\n",
       "      <td>300.0</td>\n",
       "      <td>300.0</td>\n",
       "    </tr>\n",
       "    <tr>\n",
       "      <th>2</th>\n",
       "      <td>2.839454</td>\n",
       "      <td>300.0</td>\n",
       "      <td>300.0</td>\n",
       "      <td>300.0</td>\n",
       "      <td>300.0</td>\n",
       "      <td>300.0</td>\n",
       "      <td>300.0</td>\n",
       "      <td>300.0</td>\n",
       "      <td>300.0</td>\n",
       "      <td>300.0</td>\n",
       "      <td>...</td>\n",
       "      <td>300.0</td>\n",
       "      <td>300.0</td>\n",
       "      <td>300.0</td>\n",
       "      <td>300.0</td>\n",
       "      <td>300.0</td>\n",
       "      <td>300.0</td>\n",
       "      <td>300.0</td>\n",
       "      <td>300.0</td>\n",
       "      <td>300.0</td>\n",
       "      <td>300.0</td>\n",
       "    </tr>\n",
       "    <tr>\n",
       "      <th>3</th>\n",
       "      <td>7.335700</td>\n",
       "      <td>300.0</td>\n",
       "      <td>300.0</td>\n",
       "      <td>300.0</td>\n",
       "      <td>300.0</td>\n",
       "      <td>300.0</td>\n",
       "      <td>300.0</td>\n",
       "      <td>300.0</td>\n",
       "      <td>300.0</td>\n",
       "      <td>300.0</td>\n",
       "      <td>...</td>\n",
       "      <td>300.0</td>\n",
       "      <td>300.0</td>\n",
       "      <td>300.0</td>\n",
       "      <td>300.0</td>\n",
       "      <td>300.0</td>\n",
       "      <td>300.0</td>\n",
       "      <td>300.0</td>\n",
       "      <td>300.0</td>\n",
       "      <td>300.0</td>\n",
       "      <td>300.0</td>\n",
       "    </tr>\n",
       "    <tr>\n",
       "      <th>4</th>\n",
       "      <td>18.215721</td>\n",
       "      <td>300.0</td>\n",
       "      <td>300.0</td>\n",
       "      <td>300.0</td>\n",
       "      <td>300.0</td>\n",
       "      <td>300.0</td>\n",
       "      <td>300.0</td>\n",
       "      <td>300.0</td>\n",
       "      <td>300.0</td>\n",
       "      <td>300.0</td>\n",
       "      <td>...</td>\n",
       "      <td>300.0</td>\n",
       "      <td>300.0</td>\n",
       "      <td>300.0</td>\n",
       "      <td>300.0</td>\n",
       "      <td>300.0</td>\n",
       "      <td>300.0</td>\n",
       "      <td>300.0</td>\n",
       "      <td>300.0</td>\n",
       "      <td>300.0</td>\n",
       "      <td>300.0</td>\n",
       "    </tr>\n",
       "  </tbody>\n",
       "</table>\n",
       "<p>5 rows × 28 columns</p>\n",
       "</div>"
      ],
      "text/plain": [
       "   euclidean_distance_laser  T0_t-1  T1_t_t-1  T2_t_t-1  T3_t_t-1  T4_t_t-1  \\\n",
       "0                 14.502155   300.0     300.0     300.0     300.0     300.0   \n",
       "1                  3.716517   300.0     300.0     300.0     300.0     300.0   \n",
       "2                  2.839454   300.0     300.0     300.0     300.0     300.0   \n",
       "3                  7.335700   300.0     300.0     300.0     300.0     300.0   \n",
       "4                 18.215721   300.0     300.0     300.0     300.0     300.0   \n",
       "\n",
       "   T5_t_t-1  T6_t_t-1  T7_t_t-1  T8_t_t-1    ...      T17_t_t-1  T18_t_t-1  \\\n",
       "0     300.0     300.0     300.0     300.0    ...          300.0      300.0   \n",
       "1     300.0     300.0     300.0     300.0    ...          300.0      300.0   \n",
       "2     300.0     300.0     300.0     300.0    ...          300.0      300.0   \n",
       "3     300.0     300.0     300.0     300.0    ...          300.0      300.0   \n",
       "4     300.0     300.0     300.0     300.0    ...          300.0      300.0   \n",
       "\n",
       "   T19_t_t-1  T20_t_t-1  T21_t_t-1  T22_t_t-1  T23_t_t-1  T24_t_t-1  \\\n",
       "0      300.0      300.0      300.0      300.0      300.0      300.0   \n",
       "1      300.0      300.0      300.0      300.0      300.0      300.0   \n",
       "2      300.0      300.0      300.0      300.0      300.0      300.0   \n",
       "3      300.0      300.0      300.0      300.0      300.0      300.0   \n",
       "4      300.0      300.0      300.0      300.0      300.0      300.0   \n",
       "\n",
       "   T25_t_t-1  T26_t_t-1  \n",
       "0      300.0      300.0  \n",
       "1      300.0      300.0  \n",
       "2      300.0      300.0  \n",
       "3      300.0      300.0  \n",
       "4      300.0      300.0  \n",
       "\n",
       "[5 rows x 28 columns]"
      ]
     },
     "execution_count": 48,
     "metadata": {},
     "output_type": "execute_result"
    }
   ],
   "source": [
    "X.head()"
   ]
  },
  {
   "cell_type": "code",
   "execution_count": 61,
   "metadata": {},
   "outputs": [
    {
     "data": {
      "text/plain": [
       "Index([u'timestep', u'x_voxel', u'y_voxel', u'z_voxel', u'timeOfCreation',\n",
       "       u'x_laser', u'y_laser', u'z_laser', u'x_distance', u'y_distance',\n",
       "       u'z_distance', u'euclidean_distance_laser', u'T0_t-1', u'T1_t_t-1',\n",
       "       u'T2_t_t-1', u'T3_t_t-1', u'T4_t_t-1', u'T5_t_t-1', u'T6_t_t-1',\n",
       "       u'T7_t_t-1', u'T8_t_t-1', u'T9_t_t-1', u'T10_t_t-1', u'T11_t_t-1',\n",
       "       u'T12_t_t-1', u'T13_t_t-1', u'T14_t_t-1', u'T15_t_t-1', u'T16_t_t-1',\n",
       "       u'T17_t_t-1', u'T18_t_t-1', u'T19_t_t-1', u'T20_t_t-1', u'T21_t_t-1',\n",
       "       u'T22_t_t-1', u'T23_t_t-1', u'T24_t_t-1', u'T25_t_t-1', u'T26_t_t-1',\n",
       "       u'T_self'],\n",
       "      dtype='object')"
      ]
     },
     "execution_count": 61,
     "metadata": {},
     "output_type": "execute_result"
    }
   ],
   "source": [
    "df.columns"
   ]
  },
  {
   "cell_type": "code",
   "execution_count": 46,
   "metadata": {},
   "outputs": [],
   "source": [
    "X_train,y_train = shuffle(X[:-testSplit], y[:-testSplit])\n",
    "X_test,y_test = shuffle(X[-testSplit:], y[-testSplit:])"
   ]
  },
  {
   "cell_type": "code",
   "execution_count": 47,
   "metadata": {},
   "outputs": [
    {
     "data": {
      "text/plain": [
       "(0.9311903841132515, 2.9809116313634774)"
      ]
     },
     "execution_count": 47,
     "metadata": {},
     "output_type": "execute_result"
    }
   ],
   "source": [
    "linear = LinearRegression()\n",
    "linear.fit(X_train,y_train)\n",
    "predicted = linear.predict(X_test)\n",
    "r2(y_test,predicted) ,mape(y_test,predicted)"
   ]
  },
  {
   "cell_type": "markdown",
   "metadata": {},
   "source": [
    "### No distance metric "
   ]
  },
  {
   "cell_type": "code",
   "execution_count": 49,
   "metadata": {},
   "outputs": [],
   "source": [
    "featureColumns = ['T0_t-1']+neighborColumns\n",
    "X = df.loc[:,featureColumns ]\n",
    "y = df['T_self']"
   ]
  },
  {
   "cell_type": "code",
   "execution_count": 50,
   "metadata": {},
   "outputs": [],
   "source": [
    "X_train,y_train = shuffle(X[:-testSplit], y[:-testSplit])\n",
    "X_test,y_test = shuffle(X[-testSplit:], y[-testSplit:])"
   ]
  },
  {
   "cell_type": "code",
   "execution_count": 51,
   "metadata": {},
   "outputs": [
    {
     "data": {
      "text/plain": [
       "(0.9311234086127035, 3.005216151736331)"
      ]
     },
     "execution_count": 51,
     "metadata": {},
     "output_type": "execute_result"
    }
   ],
   "source": [
    "linear = LinearRegression()\n",
    "linear.fit(X_train,y_train)\n",
    "predicted = linear.predict(X_test)\n",
    "r2(y_test,predicted) ,mape(y_test,predicted)"
   ]
  },
  {
   "cell_type": "markdown",
   "metadata": {},
   "source": [
    "<i><font color=\"purple\"> The only important information is neighboring column information </font></i>"
   ]
  },
  {
   "cell_type": "code",
   "execution_count": 59,
   "metadata": {},
   "outputs": [
    {
     "data": {
      "text/plain": [
       "count    1.604202e+06\n",
       "mean     9.750156e-01\n",
       "std      4.023413e-01\n",
       "min      5.000000e-01\n",
       "25%      5.000000e-01\n",
       "50%      1.000000e+00\n",
       "75%      1.500000e+00\n",
       "max      1.500000e+00\n",
       "Name: z_voxel, dtype: float64"
      ]
     },
     "execution_count": 59,
     "metadata": {},
     "output_type": "execute_result"
    }
   ],
   "source": [
    "df['z_voxel'].describe()"
   ]
  },
  {
   "cell_type": "code",
   "execution_count": 63,
   "metadata": {},
   "outputs": [
    {
     "data": {
      "text/plain": [
       "count    1.604202e+06\n",
       "mean     6.317112e+02\n",
       "std      4.838679e+02\n",
       "min      3.000000e+02\n",
       "25%      3.000000e+02\n",
       "50%      3.000000e+02\n",
       "75%      8.428267e+02\n",
       "max      6.155710e+03\n",
       "Name: T1_t_t-1, dtype: float64"
      ]
     },
     "execution_count": 63,
     "metadata": {},
     "output_type": "execute_result"
    }
   ],
   "source": [
    "df['T1_t_t-1'].describe()"
   ]
  },
  {
   "cell_type": "code",
   "execution_count": 70,
   "metadata": {},
   "outputs": [
    {
     "data": {
      "text/plain": [
       "count    1.604202e+06\n",
       "mean     6.228252e+02\n",
       "std      4.826931e+02\n",
       "min      3.000000e+02\n",
       "25%      3.000000e+02\n",
       "50%      3.000000e+02\n",
       "75%      8.307017e+02\n",
       "max      6.118030e+03\n",
       "Name: T10_t_t-1, dtype: float64"
      ]
     },
     "execution_count": 70,
     "metadata": {},
     "output_type": "execute_result"
    }
   ],
   "source": [
    "df['T10_t_t-1'].describe()"
   ]
  },
  {
   "cell_type": "code",
   "execution_count": 60,
   "metadata": {},
   "outputs": [
    {
     "data": {
      "text/plain": [
       "count    1.604202e+06\n",
       "mean     1.675000e+02\n",
       "std      9.641709e+01\n",
       "min      1.000000e+00\n",
       "25%      8.400000e+01\n",
       "50%      1.675000e+02\n",
       "75%      2.510000e+02\n",
       "max      3.340000e+02\n",
       "Name: timestep, dtype: float64"
      ]
     },
     "execution_count": 60,
     "metadata": {},
     "output_type": "execute_result"
    }
   ],
   "source": [
    "df['timestep'].describe()"
   ]
  },
  {
   "cell_type": "markdown",
   "metadata": {},
   "source": [
    "### Ignore Initial TimeSteps ( 20000 points removed)"
   ]
  },
  {
   "cell_type": "code",
   "execution_count": 79,
   "metadata": {},
   "outputs": [],
   "source": [
    "featureColumns = ['timestep','x_distance','y_distance','z_distance','timeOfCreation','T0_t-1']+neighborColumns\n",
    "ignoreSteps = 20000\n",
    "\n",
    "X = df.loc[ignoreSteps:,featureColumns ]\n",
    "y = df['T_self'][ignoreSteps:]"
   ]
  },
  {
   "cell_type": "code",
   "execution_count": 80,
   "metadata": {},
   "outputs": [
    {
     "data": {
      "text/plain": [
       "(1584202, 1584202)"
      ]
     },
     "execution_count": 80,
     "metadata": {},
     "output_type": "execute_result"
    }
   ],
   "source": [
    "len(X), len(y)"
   ]
  },
  {
   "cell_type": "code",
   "execution_count": 81,
   "metadata": {},
   "outputs": [],
   "source": [
    "X_train,y_train = shuffle(X[:-testSplit], y[:-testSplit])\n",
    "X_test,y_test = shuffle(X[-testSplit:], y[-testSplit:])"
   ]
  },
  {
   "cell_type": "code",
   "execution_count": 82,
   "metadata": {},
   "outputs": [
    {
     "data": {
      "text/plain": [
       "(0.9314289308661117, 3.3171839414304043)"
      ]
     },
     "execution_count": 82,
     "metadata": {},
     "output_type": "execute_result"
    }
   ],
   "source": [
    "linear = LinearRegression()\n",
    "linear.fit(X_train,y_train)\n",
    "predicted = linear.predict(X_test)\n",
    "r2(y_test,predicted) ,mape(y_test,predicted)"
   ]
  },
  {
   "cell_type": "markdown",
   "metadata": {},
   "source": [
    "### Ignore Initial TimeSteps (100000 steps)"
   ]
  },
  {
   "cell_type": "code",
   "execution_count": 83,
   "metadata": {},
   "outputs": [],
   "source": [
    "featureColumns = ['timestep','x_distance','y_distance','z_distance','timeOfCreation','T0_t-1']+neighborColumns\n",
    "ignoreSteps = 100000\n",
    "\n",
    "X = df.loc[ignoreSteps:,featureColumns ]\n",
    "y = df['T_self'][ignoreSteps:]"
   ]
  },
  {
   "cell_type": "code",
   "execution_count": 84,
   "metadata": {},
   "outputs": [],
   "source": [
    "X_train,y_train = shuffle(X[:-testSplit], y[:-testSplit])\n",
    "X_test,y_test = shuffle(X[-testSplit:], y[-testSplit:])"
   ]
  },
  {
   "cell_type": "code",
   "execution_count": 85,
   "metadata": {},
   "outputs": [
    {
     "data": {
      "text/plain": [
       "(0.9315245017763627, 3.3472030467739895)"
      ]
     },
     "execution_count": 85,
     "metadata": {},
     "output_type": "execute_result"
    }
   ],
   "source": [
    "linear = LinearRegression()\n",
    "linear.fit(X_train,y_train)\n",
    "predicted = linear.predict(X_test)\n",
    "r2(y_test,predicted) ,mape(y_test,predicted)"
   ]
  },
  {
   "cell_type": "code",
   "execution_count": 96,
   "metadata": {},
   "outputs": [
    {
     "data": {
      "text/plain": [
       "array([3, 4])"
      ]
     },
     "execution_count": 96,
     "metadata": {},
     "output_type": "execute_result"
    }
   ],
   "source": [
    "X_train,y_train = shuffle(X[:-testSplit], y[:-testSplit])\n",
    "\n",
    "df_test = df.loc[-testSplit:]\n",
    "X_test,y_test = shuffle(X[-testSplit:], y[-testSplit:])"
   ]
  },
  {
   "cell_type": "code",
   "execution_count": 104,
   "metadata": {},
   "outputs": [
    {
     "data": {
      "text/plain": [
       "(array([250896, 583840]), array([1307878, 1022174]))"
      ]
     },
     "execution_count": 104,
     "metadata": {},
     "output_type": "execute_result"
    }
   ],
   "source": [
    "testSplit = \n",
    "train_Choice = choice(range(0,(len(df)*2/3)),20000,replace=False)\n",
    "test_Choice = choice(range((len(df)*2/3),len(df)),10000,replace=False)\n",
    "X_train,y_train = shuffle(X[:-testSplit], y[:-testSplit])\n",
    "X_test,y_test = shuffle(X[-testSplit:], y[-testSplit:])"
   ]
  },
  {
   "cell_type": "code",
   "execution_count": 123,
   "metadata": {},
   "outputs": [],
   "source": [
    "testSplit = (len(df)*2/3)\n",
    "\n",
    "df_train = df.loc[:testSplit].sample(20000)\n",
    "X_train,y_train =  df_train.loc[:,featureColumns], df_train['T_self']\n",
    "\n",
    "df_test = df.loc[testSplit:].sample(10000)\n",
    "X_test,y_test = df_test.loc[:,featureColumns], df_test['T_self']"
   ]
  },
  {
   "cell_type": "code",
   "execution_count": 124,
   "metadata": {},
   "outputs": [
    {
     "data": {
      "text/plain": [
       "(0.9343186207935774, 3.6916863869034637)"
      ]
     },
     "execution_count": 124,
     "metadata": {},
     "output_type": "execute_result"
    }
   ],
   "source": [
    "linear = LinearRegression()\n",
    "linear.fit(X_train,y_train)\n",
    "predicted = linear.predict(X_test)\n",
    "r2(y_test,predicted) ,mape(y_test,predicted)"
   ]
  },
  {
   "cell_type": "code",
   "execution_count": 121,
   "metadata": {},
   "outputs": [
    {
     "data": {
      "text/plain": [
       "(1604202, 1069468)"
      ]
     },
     "execution_count": 121,
     "metadata": {},
     "output_type": "execute_result"
    }
   ],
   "source": [
    "len(df), (len(df)*2/3)"
   ]
  },
  {
   "cell_type": "markdown",
   "metadata": {},
   "source": [
    "### Ensemble Models "
   ]
  },
  {
   "cell_type": "code",
   "execution_count": 126,
   "metadata": {},
   "outputs": [
    {
     "data": {
      "text/plain": [
       "(0.9733303494516106, 1.2797688692565004)"
      ]
     },
     "execution_count": 126,
     "metadata": {},
     "output_type": "execute_result"
    }
   ],
   "source": [
    "rf = RandomForestRegressor()\n",
    "rf.fit(X_train,y_train)\n",
    "predicted = rf.predict(X_test)\n",
    "r2(y_test,predicted) ,mape(y_test,predicted)"
   ]
  },
  {
   "cell_type": "code",
   "execution_count": 127,
   "metadata": {},
   "outputs": [
    {
     "data": {
      "text/plain": [
       "(0.9843659740097104, 1.1332035808894028)"
      ]
     },
     "execution_count": 127,
     "metadata": {},
     "output_type": "execute_result"
    }
   ],
   "source": [
    "et = ExtraTreesRegressor()\n",
    "et.fit(X_train,y_train)\n",
    "predicted = et.predict(X_test)\n",
    "r2(y_test,predicted) ,mape(y_test,predicted)"
   ]
  },
  {
   "cell_type": "code",
   "execution_count": 129,
   "metadata": {},
   "outputs": [
    {
     "data": {
      "text/plain": [
       "<matplotlib.axes._subplots.AxesSubplot at 0x112812950>"
      ]
     },
     "execution_count": 129,
     "metadata": {},
     "output_type": "execute_result"
    },
    {
     "data": {
      "image/png": "[encoded data removed]",
      "text/plain": [
       "<matplotlib.figure.Figure at 0x112803f50>"
      ]
     },
     "metadata": {},
     "output_type": "display_data"
    }
   ],
   "source": [
    "skplt.estimators.plot_learning_curve(rf, X_train, y_train)"
   ]
  },
  {
   "cell_type": "code",
   "execution_count": 130,
   "metadata": {},
   "outputs": [
    {
     "data": {
      "text/plain": [
       "<matplotlib.axes._subplots.AxesSubplot at 0x10fc211d0>"
      ]
     },
     "execution_count": 130,
     "metadata": {},
     "output_type": "execute_result"
    },
    {
     "data": {
      "image/png": "[encoded data removed]",
      "text/plain": [
       "<matplotlib.figure.Figure at 0x1128a9e50>"
      ]
     },
     "metadata": {},
     "output_type": "display_data"
    }
   ],
   "source": [
    "skplt.estimators.plot_learning_curve(et, X_train, y_train)"
   ]
  },
  {
   "cell_type": "markdown",
   "metadata": {},
   "source": [
    "### Bigger Slice "
   ]
  },
  {
   "cell_type": "code",
   "execution_count": 31,
   "metadata": {},
   "outputs": [],
   "source": [
    "df_all = pd.read_csv('additive_6l_complete.csv')"
   ]
  },
  {
   "cell_type": "code",
   "execution_count": 21,
   "metadata": {},
   "outputs": [],
   "source": [
    "df_ne= df[df.T_self != 300]"
   ]
  },
  {
   "cell_type": "code",
   "execution_count": 22,
   "metadata": {},
   "outputs": [
    {
     "data": {
      "text/plain": [
       "713293"
      ]
     },
     "execution_count": 22,
     "metadata": {},
     "output_type": "execute_result"
    }
   ],
   "source": [
    "len(df_ne)"
   ]
  },
  {
   "cell_type": "code",
   "execution_count": 32,
   "metadata": {},
   "outputs": [],
   "source": [
    "df_all= df_all[df_all.T_self > 300]"
   ]
  },
  {
   "cell_type": "code",
   "execution_count": 17,
   "metadata": {},
   "outputs": [
    {
     "data": {
      "text/plain": [
       "713293"
      ]
     },
     "execution_count": 17,
     "metadata": {},
     "output_type": "execute_result"
    }
   ],
   "source": [
    "len(df)"
   ]
  },
  {
   "cell_type": "code",
   "execution_count": 18,
   "metadata": {},
   "outputs": [
    {
     "data": {
      "text/plain": [
       "count    713293.000000\n",
       "mean        986.026210\n",
       "std         487.562673\n",
       "min         301.000000\n",
       "25%         689.752000\n",
       "50%         845.512000\n",
       "75%        1137.130000\n",
       "max        6155.710000\n",
       "Name: T_self, dtype: float64"
      ]
     },
     "execution_count": 18,
     "metadata": {},
     "output_type": "execute_result"
    }
   ],
   "source": [
    "df['T_self'].describe()"
   ]
  },
  {
   "cell_type": "code",
   "execution_count": 12,
   "metadata": {},
   "outputs": [],
   "source": [
    "import seaborn as sns"
   ]
  },
  {
   "cell_type": "code",
   "execution_count": 19,
   "metadata": {},
   "outputs": [
    {
     "data": {
      "text/plain": [
       "<matplotlib.axes._subplots.AxesSubplot at 0x10afae750>"
      ]
     },
     "execution_count": 19,
     "metadata": {},
     "output_type": "execute_result"
    },
    {
     "data": {
      "image/png": "[encoded data removed]",
      "text/plain": [
       "<matplotlib.figure.Figure at 0x10971c890>"
      ]
     },
     "metadata": {},
     "output_type": "display_data"
    }
   ],
   "source": [
    "sns.distplot(df['T_self'])"
   ]
  },
  {
   "cell_type": "code",
   "execution_count": 28,
   "metadata": {},
   "outputs": [
    {
     "ename": "ValueError",
     "evalue": "Must pass DataFrame with boolean values only",
     "output_type": "error",
     "traceback": [
      "\u001b[0;31m---------------------------------------------------------------------------\u001b[0m",
      "\u001b[0;31mValueError\u001b[0m                                Traceback (most recent call last)",
      "\u001b[0;32m<ipython-input-28-bff522358e4c>\u001b[0m in \u001b[0;36m<module>\u001b[0;34m()\u001b[0m\n\u001b[0;32m----> 1\u001b[0;31m \u001b[0mdf\u001b[0m\u001b[0;34m[\u001b[0m\u001b[0mdf\u001b[0m\u001b[0;34m[\u001b[0m\u001b[0mdf\u001b[0m\u001b[0;34m.\u001b[0m\u001b[0mcolumns\u001b[0m\u001b[0;34m]\u001b[0m\u001b[0;34m]\u001b[0m\u001b[0;34m\u001b[0m\u001b[0m\n\u001b[0m",
      "\u001b[0;32m/Users/Arindam/anaconda2/lib/python2.7/site-packages/pandas/core/frame.pyc\u001b[0m in \u001b[0;36m__getitem__\u001b[0;34m(self, key)\u001b[0m\n\u001b[1;32m   2133\u001b[0m             \u001b[0;32mreturn\u001b[0m \u001b[0mself\u001b[0m\u001b[0;34m.\u001b[0m\u001b[0m_getitem_array\u001b[0m\u001b[0;34m(\u001b[0m\u001b[0mkey\u001b[0m\u001b[0;34m)\u001b[0m\u001b[0;34m\u001b[0m\u001b[0m\n\u001b[1;32m   2134\u001b[0m         \u001b[0;32melif\u001b[0m \u001b[0misinstance\u001b[0m\u001b[0;34m(\u001b[0m\u001b[0mkey\u001b[0m\u001b[0;34m,\u001b[0m \u001b[0mDataFrame\u001b[0m\u001b[0;34m)\u001b[0m\u001b[0;34m:\u001b[0m\u001b[0;34m\u001b[0m\u001b[0m\n\u001b[0;32m-> 2135\u001b[0;31m             \u001b[0;32mreturn\u001b[0m \u001b[0mself\u001b[0m\u001b[0;34m.\u001b[0m\u001b[0m_getitem_frame\u001b[0m\u001b[0;34m(\u001b[0m\u001b[0mkey\u001b[0m\u001b[0;34m)\u001b[0m\u001b[0;34m\u001b[0m\u001b[0m\n\u001b[0m\u001b[1;32m   2136\u001b[0m         \u001b[0;32melif\u001b[0m \u001b[0mis_mi_columns\u001b[0m\u001b[0;34m:\u001b[0m\u001b[0;34m\u001b[0m\u001b[0m\n\u001b[1;32m   2137\u001b[0m             \u001b[0;32mreturn\u001b[0m \u001b[0mself\u001b[0m\u001b[0;34m.\u001b[0m\u001b[0m_getitem_multilevel\u001b[0m\u001b[0;34m(\u001b[0m\u001b[0mkey\u001b[0m\u001b[0;34m)\u001b[0m\u001b[0;34m\u001b[0m\u001b[0m\n",
      "\u001b[0;32m/Users/Arindam/anaconda2/lib/python2.7/site-packages/pandas/core/frame.pyc\u001b[0m in \u001b[0;36m_getitem_frame\u001b[0;34m(self, key)\u001b[0m\n\u001b[1;32m   2216\u001b[0m     \u001b[0;32mdef\u001b[0m \u001b[0m_getitem_frame\u001b[0m\u001b[0;34m(\u001b[0m\u001b[0mself\u001b[0m\u001b[0;34m,\u001b[0m \u001b[0mkey\u001b[0m\u001b[0;34m)\u001b[0m\u001b[0;34m:\u001b[0m\u001b[0;34m\u001b[0m\u001b[0m\n\u001b[1;32m   2217\u001b[0m         \u001b[0;32mif\u001b[0m \u001b[0mkey\u001b[0m\u001b[0;34m.\u001b[0m\u001b[0mvalues\u001b[0m\u001b[0;34m.\u001b[0m\u001b[0msize\u001b[0m \u001b[0;32mand\u001b[0m \u001b[0;32mnot\u001b[0m \u001b[0mis_bool_dtype\u001b[0m\u001b[0;34m(\u001b[0m\u001b[0mkey\u001b[0m\u001b[0;34m.\u001b[0m\u001b[0mvalues\u001b[0m\u001b[0;34m)\u001b[0m\u001b[0;34m:\u001b[0m\u001b[0;34m\u001b[0m\u001b[0m\n\u001b[0;32m-> 2218\u001b[0;31m             \u001b[0;32mraise\u001b[0m \u001b[0mValueError\u001b[0m\u001b[0;34m(\u001b[0m\u001b[0;34m'Must pass DataFrame with boolean values only'\u001b[0m\u001b[0;34m)\u001b[0m\u001b[0;34m\u001b[0m\u001b[0m\n\u001b[0m\u001b[1;32m   2219\u001b[0m         \u001b[0;32mreturn\u001b[0m \u001b[0mself\u001b[0m\u001b[0;34m.\u001b[0m\u001b[0mwhere\u001b[0m\u001b[0;34m(\u001b[0m\u001b[0mkey\u001b[0m\u001b[0;34m)\u001b[0m\u001b[0;34m\u001b[0m\u001b[0m\n\u001b[1;32m   2220\u001b[0m \u001b[0;34m\u001b[0m\u001b[0m\n",
      "\u001b[0;31mValueError\u001b[0m: Must pass DataFrame with boolean values only"
     ]
    }
   ],
   "source": [
    "df[df[df.columns]]"
   ]
  },
  {
   "cell_type": "code",
   "execution_count": 29,
   "metadata": {},
   "outputs": [
    {
     "data": {
      "text/html": [
       "<div>\n",
       "<style scoped>\n",
       "    .dataframe tbody tr th:only-of-type {\n",
       "        vertical-align: middle;\n",
       "    }\n",
       "\n",
       "    .dataframe tbody tr th {\n",
       "        vertical-align: top;\n",
       "    }\n",
       "\n",
       "    .dataframe thead th {\n",
       "        text-align: right;\n",
       "    }\n",
       "</style>\n",
       "<table border=\"1\" class=\"dataframe\">\n",
       "  <thead>\n",
       "    <tr style=\"text-align: right;\">\n",
       "      <th></th>\n",
       "      <th>timestep</th>\n",
       "      <th>x_voxel</th>\n",
       "      <th>y_voxel</th>\n",
       "      <th>z_voxel</th>\n",
       "      <th>timeOfCreation</th>\n",
       "      <th>x_laser</th>\n",
       "      <th>y_laser</th>\n",
       "      <th>z_laser</th>\n",
       "      <th>x_distance</th>\n",
       "      <th>y_distance</th>\n",
       "      <th>...</th>\n",
       "      <th>T18_t_t-1</th>\n",
       "      <th>T19_t_t-1</th>\n",
       "      <th>T20_t_t-1</th>\n",
       "      <th>T21_t_t-1</th>\n",
       "      <th>T22_t_t-1</th>\n",
       "      <th>T23_t_t-1</th>\n",
       "      <th>T24_t_t-1</th>\n",
       "      <th>T25_t_t-1</th>\n",
       "      <th>T26_t_t-1</th>\n",
       "      <th>T_self</th>\n",
       "    </tr>\n",
       "  </thead>\n",
       "  <tbody>\n",
       "    <tr>\n",
       "      <th>9732</th>\n",
       "      <td>2.0</td>\n",
       "      <td>2.5</td>\n",
       "      <td>1.5</td>\n",
       "      <td>0.5</td>\n",
       "      <td>0.5</td>\n",
       "      <td>2.6</td>\n",
       "      <td>0.75</td>\n",
       "      <td>0.5</td>\n",
       "      <td>0.1</td>\n",
       "      <td>0.75</td>\n",
       "      <td>...</td>\n",
       "      <td>-99.0</td>\n",
       "      <td>-99.0</td>\n",
       "      <td>-99.0</td>\n",
       "      <td>-99.0</td>\n",
       "      <td>-99.0</td>\n",
       "      <td>-99.0</td>\n",
       "      <td>-99.0</td>\n",
       "      <td>-99.0</td>\n",
       "      <td>-99.0</td>\n",
       "      <td>3549.99</td>\n",
       "    </tr>\n",
       "    <tr>\n",
       "      <th>9969</th>\n",
       "      <td>2.0</td>\n",
       "      <td>1.0</td>\n",
       "      <td>1.0</td>\n",
       "      <td>0.5</td>\n",
       "      <td>0.5</td>\n",
       "      <td>2.6</td>\n",
       "      <td>0.75</td>\n",
       "      <td>0.5</td>\n",
       "      <td>1.6</td>\n",
       "      <td>0.25</td>\n",
       "      <td>...</td>\n",
       "      <td>-99.0</td>\n",
       "      <td>-99.0</td>\n",
       "      <td>-99.0</td>\n",
       "      <td>-99.0</td>\n",
       "      <td>-99.0</td>\n",
       "      <td>-99.0</td>\n",
       "      <td>-99.0</td>\n",
       "      <td>-99.0</td>\n",
       "      <td>-99.0</td>\n",
       "      <td>2706.98</td>\n",
       "    </tr>\n",
       "    <tr>\n",
       "      <th>9995</th>\n",
       "      <td>2.0</td>\n",
       "      <td>2.0</td>\n",
       "      <td>0.5</td>\n",
       "      <td>0.5</td>\n",
       "      <td>0.5</td>\n",
       "      <td>2.6</td>\n",
       "      <td>0.75</td>\n",
       "      <td>0.5</td>\n",
       "      <td>0.6</td>\n",
       "      <td>0.25</td>\n",
       "      <td>...</td>\n",
       "      <td>-99.0</td>\n",
       "      <td>-99.0</td>\n",
       "      <td>-99.0</td>\n",
       "      <td>-99.0</td>\n",
       "      <td>-99.0</td>\n",
       "      <td>-99.0</td>\n",
       "      <td>-99.0</td>\n",
       "      <td>-99.0</td>\n",
       "      <td>-99.0</td>\n",
       "      <td>3026.39</td>\n",
       "    </tr>\n",
       "    <tr>\n",
       "      <th>10072</th>\n",
       "      <td>2.0</td>\n",
       "      <td>0.5</td>\n",
       "      <td>1.0</td>\n",
       "      <td>0.5</td>\n",
       "      <td>0.5</td>\n",
       "      <td>2.6</td>\n",
       "      <td>0.75</td>\n",
       "      <td>0.5</td>\n",
       "      <td>2.1</td>\n",
       "      <td>0.25</td>\n",
       "      <td>...</td>\n",
       "      <td>-99.0</td>\n",
       "      <td>-99.0</td>\n",
       "      <td>-99.0</td>\n",
       "      <td>-99.0</td>\n",
       "      <td>-99.0</td>\n",
       "      <td>-99.0</td>\n",
       "      <td>-99.0</td>\n",
       "      <td>-99.0</td>\n",
       "      <td>-99.0</td>\n",
       "      <td>1876.72</td>\n",
       "    </tr>\n",
       "    <tr>\n",
       "      <th>10854</th>\n",
       "      <td>2.0</td>\n",
       "      <td>3.0</td>\n",
       "      <td>0.0</td>\n",
       "      <td>0.5</td>\n",
       "      <td>0.5</td>\n",
       "      <td>2.6</td>\n",
       "      <td>0.75</td>\n",
       "      <td>0.5</td>\n",
       "      <td>0.4</td>\n",
       "      <td>0.75</td>\n",
       "      <td>...</td>\n",
       "      <td>-99.0</td>\n",
       "      <td>-99.0</td>\n",
       "      <td>-99.0</td>\n",
       "      <td>-99.0</td>\n",
       "      <td>-99.0</td>\n",
       "      <td>-99.0</td>\n",
       "      <td>-99.0</td>\n",
       "      <td>-99.0</td>\n",
       "      <td>-99.0</td>\n",
       "      <td>2975.86</td>\n",
       "    </tr>\n",
       "  </tbody>\n",
       "</table>\n",
       "<p>5 rows × 40 columns</p>\n",
       "</div>"
      ],
      "text/plain": [
       "       timestep  x_voxel  y_voxel  z_voxel  timeOfCreation  x_laser  y_laser  \\\n",
       "9732        2.0      2.5      1.5      0.5             0.5      2.6     0.75   \n",
       "9969        2.0      1.0      1.0      0.5             0.5      2.6     0.75   \n",
       "9995        2.0      2.0      0.5      0.5             0.5      2.6     0.75   \n",
       "10072       2.0      0.5      1.0      0.5             0.5      2.6     0.75   \n",
       "10854       2.0      3.0      0.0      0.5             0.5      2.6     0.75   \n",
       "\n",
       "       z_laser  x_distance  y_distance   ...     T18_t_t-1  T19_t_t-1  \\\n",
       "9732       0.5         0.1        0.75   ...         -99.0      -99.0   \n",
       "9969       0.5         1.6        0.25   ...         -99.0      -99.0   \n",
       "9995       0.5         0.6        0.25   ...         -99.0      -99.0   \n",
       "10072      0.5         2.1        0.25   ...         -99.0      -99.0   \n",
       "10854      0.5         0.4        0.75   ...         -99.0      -99.0   \n",
       "\n",
       "       T20_t_t-1  T21_t_t-1  T22_t_t-1  T23_t_t-1  T24_t_t-1  T25_t_t-1  \\\n",
       "9732       -99.0      -99.0      -99.0      -99.0      -99.0      -99.0   \n",
       "9969       -99.0      -99.0      -99.0      -99.0      -99.0      -99.0   \n",
       "9995       -99.0      -99.0      -99.0      -99.0      -99.0      -99.0   \n",
       "10072      -99.0      -99.0      -99.0      -99.0      -99.0      -99.0   \n",
       "10854      -99.0      -99.0      -99.0      -99.0      -99.0      -99.0   \n",
       "\n",
       "       T26_t_t-1   T_self  \n",
       "9732       -99.0  3549.99  \n",
       "9969       -99.0  2706.98  \n",
       "9995       -99.0  3026.39  \n",
       "10072      -99.0  1876.72  \n",
       "10854      -99.0  2975.86  \n",
       "\n",
       "[5 rows x 40 columns]"
      ]
     },
     "execution_count": 29,
     "metadata": {},
     "output_type": "execute_result"
    }
   ],
   "source": [
    "df.head()"
   ]
  },
  {
   "cell_type": "code",
   "execution_count": 34,
   "metadata": {},
   "outputs": [
    {
     "data": {
      "text/plain": [
       "713293"
      ]
     },
     "execution_count": 34,
     "metadata": {},
     "output_type": "execute_result"
    }
   ],
   "source": [
    "len(df)"
   ]
  },
  {
   "cell_type": "code",
   "execution_count": 33,
   "metadata": {},
   "outputs": [
    {
     "data": {
      "text/html": [
       "<div>\n",
       "<style scoped>\n",
       "    .dataframe tbody tr th:only-of-type {\n",
       "        vertical-align: middle;\n",
       "    }\n",
       "\n",
       "    .dataframe tbody tr th {\n",
       "        vertical-align: top;\n",
       "    }\n",
       "\n",
       "    .dataframe thead th {\n",
       "        text-align: right;\n",
       "    }\n",
       "</style>\n",
       "<table border=\"1\" class=\"dataframe\">\n",
       "  <thead>\n",
       "    <tr style=\"text-align: right;\">\n",
       "      <th></th>\n",
       "      <th>timestep</th>\n",
       "      <th>x_voxel</th>\n",
       "      <th>y_voxel</th>\n",
       "      <th>z_voxel</th>\n",
       "      <th>timeOfCreation</th>\n",
       "      <th>x_laser</th>\n",
       "      <th>y_laser</th>\n",
       "      <th>z_laser</th>\n",
       "      <th>x_distance</th>\n",
       "      <th>y_distance</th>\n",
       "      <th>...</th>\n",
       "      <th>T18_t_t-1</th>\n",
       "      <th>T19_t_t-1</th>\n",
       "      <th>T20_t_t-1</th>\n",
       "      <th>T21_t_t-1</th>\n",
       "      <th>T22_t_t-1</th>\n",
       "      <th>T23_t_t-1</th>\n",
       "      <th>T24_t_t-1</th>\n",
       "      <th>T25_t_t-1</th>\n",
       "      <th>T26_t_t-1</th>\n",
       "      <th>T_self</th>\n",
       "    </tr>\n",
       "  </thead>\n",
       "  <tbody>\n",
       "    <tr>\n",
       "      <th>9732</th>\n",
       "      <td>2.0</td>\n",
       "      <td>2.5</td>\n",
       "      <td>1.5</td>\n",
       "      <td>0.5</td>\n",
       "      <td>0.5</td>\n",
       "      <td>2.6</td>\n",
       "      <td>0.75</td>\n",
       "      <td>0.5</td>\n",
       "      <td>0.1</td>\n",
       "      <td>0.75</td>\n",
       "      <td>...</td>\n",
       "      <td>300.0</td>\n",
       "      <td>300.0</td>\n",
       "      <td>300.0</td>\n",
       "      <td>300.0</td>\n",
       "      <td>300.0</td>\n",
       "      <td>300.0</td>\n",
       "      <td>300.0</td>\n",
       "      <td>300.0</td>\n",
       "      <td>300.0</td>\n",
       "      <td>3549.99</td>\n",
       "    </tr>\n",
       "    <tr>\n",
       "      <th>9969</th>\n",
       "      <td>2.0</td>\n",
       "      <td>1.0</td>\n",
       "      <td>1.0</td>\n",
       "      <td>0.5</td>\n",
       "      <td>0.5</td>\n",
       "      <td>2.6</td>\n",
       "      <td>0.75</td>\n",
       "      <td>0.5</td>\n",
       "      <td>1.6</td>\n",
       "      <td>0.25</td>\n",
       "      <td>...</td>\n",
       "      <td>300.0</td>\n",
       "      <td>300.0</td>\n",
       "      <td>300.0</td>\n",
       "      <td>300.0</td>\n",
       "      <td>300.0</td>\n",
       "      <td>300.0</td>\n",
       "      <td>300.0</td>\n",
       "      <td>300.0</td>\n",
       "      <td>300.0</td>\n",
       "      <td>2706.98</td>\n",
       "    </tr>\n",
       "    <tr>\n",
       "      <th>9995</th>\n",
       "      <td>2.0</td>\n",
       "      <td>2.0</td>\n",
       "      <td>0.5</td>\n",
       "      <td>0.5</td>\n",
       "      <td>0.5</td>\n",
       "      <td>2.6</td>\n",
       "      <td>0.75</td>\n",
       "      <td>0.5</td>\n",
       "      <td>0.6</td>\n",
       "      <td>0.25</td>\n",
       "      <td>...</td>\n",
       "      <td>300.0</td>\n",
       "      <td>300.0</td>\n",
       "      <td>300.0</td>\n",
       "      <td>300.0</td>\n",
       "      <td>300.0</td>\n",
       "      <td>300.0</td>\n",
       "      <td>300.0</td>\n",
       "      <td>300.0</td>\n",
       "      <td>300.0</td>\n",
       "      <td>3026.39</td>\n",
       "    </tr>\n",
       "    <tr>\n",
       "      <th>10072</th>\n",
       "      <td>2.0</td>\n",
       "      <td>0.5</td>\n",
       "      <td>1.0</td>\n",
       "      <td>0.5</td>\n",
       "      <td>0.5</td>\n",
       "      <td>2.6</td>\n",
       "      <td>0.75</td>\n",
       "      <td>0.5</td>\n",
       "      <td>2.1</td>\n",
       "      <td>0.25</td>\n",
       "      <td>...</td>\n",
       "      <td>300.0</td>\n",
       "      <td>300.0</td>\n",
       "      <td>300.0</td>\n",
       "      <td>300.0</td>\n",
       "      <td>300.0</td>\n",
       "      <td>300.0</td>\n",
       "      <td>300.0</td>\n",
       "      <td>300.0</td>\n",
       "      <td>300.0</td>\n",
       "      <td>1876.72</td>\n",
       "    </tr>\n",
       "    <tr>\n",
       "      <th>10854</th>\n",
       "      <td>2.0</td>\n",
       "      <td>3.0</td>\n",
       "      <td>0.0</td>\n",
       "      <td>0.5</td>\n",
       "      <td>0.5</td>\n",
       "      <td>2.6</td>\n",
       "      <td>0.75</td>\n",
       "      <td>0.5</td>\n",
       "      <td>0.4</td>\n",
       "      <td>0.75</td>\n",
       "      <td>...</td>\n",
       "      <td>300.0</td>\n",
       "      <td>300.0</td>\n",
       "      <td>300.0</td>\n",
       "      <td>300.0</td>\n",
       "      <td>300.0</td>\n",
       "      <td>300.0</td>\n",
       "      <td>300.0</td>\n",
       "      <td>300.0</td>\n",
       "      <td>300.0</td>\n",
       "      <td>2975.86</td>\n",
       "    </tr>\n",
       "  </tbody>\n",
       "</table>\n",
       "<p>5 rows × 40 columns</p>\n",
       "</div>"
      ],
      "text/plain": [
       "       timestep  x_voxel  y_voxel  z_voxel  timeOfCreation  x_laser  y_laser  \\\n",
       "9732        2.0      2.5      1.5      0.5             0.5      2.6     0.75   \n",
       "9969        2.0      1.0      1.0      0.5             0.5      2.6     0.75   \n",
       "9995        2.0      2.0      0.5      0.5             0.5      2.6     0.75   \n",
       "10072       2.0      0.5      1.0      0.5             0.5      2.6     0.75   \n",
       "10854       2.0      3.0      0.0      0.5             0.5      2.6     0.75   \n",
       "\n",
       "       z_laser  x_distance  y_distance   ...     T18_t_t-1  T19_t_t-1  \\\n",
       "9732       0.5         0.1        0.75   ...         300.0      300.0   \n",
       "9969       0.5         1.6        0.25   ...         300.0      300.0   \n",
       "9995       0.5         0.6        0.25   ...         300.0      300.0   \n",
       "10072      0.5         2.1        0.25   ...         300.0      300.0   \n",
       "10854      0.5         0.4        0.75   ...         300.0      300.0   \n",
       "\n",
       "       T20_t_t-1  T21_t_t-1  T22_t_t-1  T23_t_t-1  T24_t_t-1  T25_t_t-1  \\\n",
       "9732       300.0      300.0      300.0      300.0      300.0      300.0   \n",
       "9969       300.0      300.0      300.0      300.0      300.0      300.0   \n",
       "9995       300.0      300.0      300.0      300.0      300.0      300.0   \n",
       "10072      300.0      300.0      300.0      300.0      300.0      300.0   \n",
       "10854      300.0      300.0      300.0      300.0      300.0      300.0   \n",
       "\n",
       "       T26_t_t-1   T_self  \n",
       "9732       300.0  3549.99  \n",
       "9969       300.0  2706.98  \n",
       "9995       300.0  3026.39  \n",
       "10072      300.0  1876.72  \n",
       "10854      300.0  2975.86  \n",
       "\n",
       "[5 rows x 40 columns]"
      ]
     },
     "execution_count": 33,
     "metadata": {},
     "output_type": "execute_result"
    }
   ],
   "source": [
    "df_all.head()"
   ]
  },
  {
   "cell_type": "code",
   "execution_count": 35,
   "metadata": {},
   "outputs": [
    {
     "data": {
      "text/plain": [
       "713293"
      ]
     },
     "execution_count": 35,
     "metadata": {},
     "output_type": "execute_result"
    }
   ],
   "source": [
    "len(df_all)"
   ]
  },
  {
   "cell_type": "code",
   "execution_count": null,
   "metadata": {},
   "outputs": [],
   "source": [
    "featureColumns = ['timestep','x_distance','y_distance','z_distance','timeOfCreation','T0_t-1']+neighborColumns\n",
    "\n",
    "X = df.loc[:,featureColumns ]\n",
    "y = df['T_self']"
   ]
  },
  {
   "cell_type": "code",
   "execution_count": 157,
   "metadata": {},
   "outputs": [],
   "source": [
    "testSplit = (len(df)*2/3)\n",
    "\n",
    "X_train,y_train = shuffle(X[:testSplit], y[:testSplit])\n",
    "X_test,y_test = shuffle(X[testSplit:], y[testSplit:])"
   ]
  },
  {
   "cell_type": "markdown",
   "metadata": {},
   "source": [
    "### 120 timesteps "
   ]
  },
  {
   "cell_type": "code",
   "execution_count": 137,
   "metadata": {},
   "outputs": [
    {
     "data": {
      "text/plain": [
       "(0.9015671763422058, 2.4759152732603735)"
      ]
     },
     "execution_count": 137,
     "metadata": {},
     "output_type": "execute_result"
    }
   ],
   "source": [
    "linear = LinearRegression()\n",
    "linear.fit(X_train,y_train)\n",
    "predicted = linear.predict(X_test)\n",
    "r2(y_test,predicted) ,mape(y_test,predicted)"
   ]
  },
  {
   "cell_type": "code",
   "execution_count": 138,
   "metadata": {},
   "outputs": [
    {
     "data": {
      "text/plain": [
       "(0.9836482594366538, 0.22113689935917374)"
      ]
     },
     "execution_count": 138,
     "metadata": {},
     "output_type": "execute_result"
    }
   ],
   "source": [
    "rf = RandomForestRegressor(n_jobs=-1)\n",
    "rf.fit(X_train,y_train)\n",
    "predicted = rf.predict(X_test)\n",
    "r2(y_test,predicted) ,mape(y_test,predicted)"
   ]
  },
  {
   "cell_type": "code",
   "execution_count": 139,
   "metadata": {},
   "outputs": [
    {
     "data": {
      "text/plain": [
       "(0.9865315879637631, 0.3256310539435695)"
      ]
     },
     "execution_count": 139,
     "metadata": {},
     "output_type": "execute_result"
    }
   ],
   "source": [
    "et = ExtraTreesRegressor(n_jobs=-1)\n",
    "et.fit(X_train,y_train)\n",
    "predicted = et.predict(X_test)\n",
    "r2(y_test,predicted) ,mape(y_test,predicted)"
   ]
  },
  {
   "cell_type": "code",
   "execution_count": 153,
   "metadata": {},
   "outputs": [
    {
     "data": {
      "text/plain": [
       "<matplotlib.axes._subplots.AxesSubplot at 0x1104f85d0>"
      ]
     },
     "execution_count": 153,
     "metadata": {},
     "output_type": "execute_result"
    },
    {
     "data": {
      "image/png": "[encoded data removed]",
      "text/plain": [
       "<matplotlib.figure.Figure at 0x10d809cd0>"
      ]
     },
     "metadata": {},
     "output_type": "display_data"
    }
   ],
   "source": [
    "skplt.estimators.plot_feature_importances(et)"
   ]
  },
  {
   "cell_type": "markdown",
   "metadata": {},
   "source": [
    "## 240 timesteps \n",
    "#### with some missing (160-240)"
   ]
  },
  {
   "cell_type": "code",
   "execution_count": 144,
   "metadata": {},
   "outputs": [
    {
     "data": {
      "text/plain": [
       "(0.9241556797669932, 3.2862762973532353)"
      ]
     },
     "execution_count": 144,
     "metadata": {},
     "output_type": "execute_result"
    }
   ],
   "source": [
    "linear = LinearRegression()\n",
    "linear.fit(X_train,y_train)\n",
    "predicted = linear.predict(X_test)\n",
    "r2(y_test,predicted) ,mape(y_test,predicted)"
   ]
  },
  {
   "cell_type": "code",
   "execution_count": 145,
   "metadata": {},
   "outputs": [
    {
     "data": {
      "text/plain": [
       "(0.9797549684781324, 1.4378569760044153)"
      ]
     },
     "execution_count": 145,
     "metadata": {},
     "output_type": "execute_result"
    }
   ],
   "source": [
    "rf = RandomForestRegressor(n_jobs=-1)\n",
    "rf.fit(X_train,y_train)\n",
    "predicted = rf.predict(X_test)\n",
    "r2(y_test,predicted) ,mape(y_test,predicted)"
   ]
  },
  {
   "cell_type": "markdown",
   "metadata": {},
   "source": [
    "### ignore first few timesteps"
   ]
  },
  {
   "cell_type": "code",
   "execution_count": 146,
   "metadata": {},
   "outputs": [],
   "source": [
    "featureColumns = ['timestep','x_distance','y_distance','z_distance','timeOfCreation','T0_t-1']+neighborColumns\n",
    "ignoreSteps = 500000\n",
    "\n",
    "X = df.loc[ignoreSteps:,featureColumns ]\n",
    "y = df['T_self'][ignoreSteps:]"
   ]
  },
  {
   "cell_type": "code",
   "execution_count": 147,
   "metadata": {},
   "outputs": [],
   "source": [
    "testSplit = (len(X)*2/3)\n",
    "X_train,y_train = shuffle(X[:testSplit], y[:testSplit])\n",
    "X_test,y_test = shuffle(X[testSplit:], y[testSplit:])"
   ]
  },
  {
   "cell_type": "code",
   "execution_count": 148,
   "metadata": {},
   "outputs": [
    {
     "data": {
      "text/plain": [
       "(0.9210932587314076, 3.834080042242656)"
      ]
     },
     "execution_count": 148,
     "metadata": {},
     "output_type": "execute_result"
    }
   ],
   "source": [
    "linear = LinearRegression()\n",
    "linear.fit(X_train,y_train)\n",
    "predicted = linear.predict(X_test)\n",
    "r2(y_test,predicted) ,mape(y_test,predicted)"
   ]
  },
  {
   "cell_type": "code",
   "execution_count": 149,
   "metadata": {},
   "outputs": [
    {
     "data": {
      "text/plain": [
       "(0.9808526030905445, 1.0557080130225942)"
      ]
     },
     "execution_count": 149,
     "metadata": {},
     "output_type": "execute_result"
    }
   ],
   "source": [
    "rf = RandomForestRegressor(n_jobs=-1)\n",
    "rf.fit(X_train,y_train)\n",
    "predicted = rf.predict(X_test)\n",
    "r2(y_test,predicted) ,mape(y_test,predicted)"
   ]
  },
  {
   "cell_type": "code",
   "execution_count": 150,
   "metadata": {},
   "outputs": [
    {
     "data": {
      "text/plain": [
       "<matplotlib.axes._subplots.AxesSubplot at 0x10c36fc90>"
      ]
     },
     "execution_count": 150,
     "metadata": {},
     "output_type": "execute_result"
    },
    {
     "data": {
      "image/png": "[encoded data removed]",
      "text/plain": [
       "<matplotlib.figure.Figure at 0x10c97b750>"
      ]
     },
     "metadata": {},
     "output_type": "display_data"
    }
   ],
   "source": [
    "skplt.estimators.plot_feature_importances(rf)"
   ]
  },
  {
   "cell_type": "code",
   "execution_count": 151,
   "metadata": {},
   "outputs": [
    {
     "data": {
      "text/plain": [
       "array([1.26743774e-03, 2.05446893e-02, 5.87125180e-03, 8.71970087e-04,\n",
       "       1.04258883e-04, 4.94239151e-02, 7.14058634e-01, 1.77960505e-01,\n",
       "       6.55018063e-03, 1.85688630e-03, 2.22607095e-03, 9.28132040e-05,\n",
       "       2.62221489e-03, 2.16644897e-03, 1.98431740e-03, 1.81310700e-03,\n",
       "       3.37729691e-04, 3.47905958e-04, 6.29385633e-05, 5.07411828e-05,\n",
       "       3.24508079e-03, 4.26876710e-03, 1.29627202e-04, 1.52101183e-04,\n",
       "       4.84971965e-04, 1.82150637e-04, 3.01014812e-04, 7.71722991e-04,\n",
       "       6.43016863e-05, 5.83659142e-05, 8.03806187e-05, 4.74984378e-05])"
      ]
     },
     "execution_count": 151,
     "metadata": {},
     "output_type": "execute_result"
    }
   ],
   "source": [
    "rf.feature_importances_"
   ]
  },
  {
   "cell_type": "code",
   "execution_count": 152,
   "metadata": {},
   "outputs": [
    {
     "data": {
      "text/html": [
       "<div>\n",
       "<style scoped>\n",
       "    .dataframe tbody tr th:only-of-type {\n",
       "        vertical-align: middle;\n",
       "    }\n",
       "\n",
       "    .dataframe tbody tr th {\n",
       "        vertical-align: top;\n",
       "    }\n",
       "\n",
       "    .dataframe thead th {\n",
       "        text-align: right;\n",
       "    }\n",
       "</style>\n",
       "<table border=\"1\" class=\"dataframe\">\n",
       "  <thead>\n",
       "    <tr style=\"text-align: right;\">\n",
       "      <th></th>\n",
       "      <th>timestep</th>\n",
       "      <th>x_distance</th>\n",
       "      <th>y_distance</th>\n",
       "      <th>z_distance</th>\n",
       "      <th>timeOfCreation</th>\n",
       "      <th>T0_t-1</th>\n",
       "      <th>T1_t_t-1</th>\n",
       "      <th>T2_t_t-1</th>\n",
       "      <th>T3_t_t-1</th>\n",
       "      <th>T4_t_t-1</th>\n",
       "      <th>...</th>\n",
       "      <th>T17_t_t-1</th>\n",
       "      <th>T18_t_t-1</th>\n",
       "      <th>T19_t_t-1</th>\n",
       "      <th>T20_t_t-1</th>\n",
       "      <th>T21_t_t-1</th>\n",
       "      <th>T22_t_t-1</th>\n",
       "      <th>T23_t_t-1</th>\n",
       "      <th>T24_t_t-1</th>\n",
       "      <th>T25_t_t-1</th>\n",
       "      <th>T26_t_t-1</th>\n",
       "    </tr>\n",
       "  </thead>\n",
       "  <tbody>\n",
       "    <tr>\n",
       "      <th>2305435</th>\n",
       "      <td>319.0</td>\n",
       "      <td>15.731458</td>\n",
       "      <td>3.75</td>\n",
       "      <td>1.5</td>\n",
       "      <td>3.0</td>\n",
       "      <td>300.0</td>\n",
       "      <td>300.0</td>\n",
       "      <td>300.0</td>\n",
       "      <td>300.0</td>\n",
       "      <td>300.0</td>\n",
       "      <td>...</td>\n",
       "      <td>300.0</td>\n",
       "      <td>300.0</td>\n",
       "      <td>300.00</td>\n",
       "      <td>300.00</td>\n",
       "      <td>300.00</td>\n",
       "      <td>300.00</td>\n",
       "      <td>300.0</td>\n",
       "      <td>300.0</td>\n",
       "      <td>300.0</td>\n",
       "      <td>300.0</td>\n",
       "    </tr>\n",
       "    <tr>\n",
       "      <th>2305436</th>\n",
       "      <td>319.0</td>\n",
       "      <td>17.231458</td>\n",
       "      <td>2.75</td>\n",
       "      <td>0.5</td>\n",
       "      <td>2.0</td>\n",
       "      <td>300.0</td>\n",
       "      <td>300.0</td>\n",
       "      <td>300.0</td>\n",
       "      <td>300.0</td>\n",
       "      <td>300.0</td>\n",
       "      <td>...</td>\n",
       "      <td>300.0</td>\n",
       "      <td>300.0</td>\n",
       "      <td>1374.17</td>\n",
       "      <td>1297.72</td>\n",
       "      <td>1204.46</td>\n",
       "      <td>1353.23</td>\n",
       "      <td>300.0</td>\n",
       "      <td>300.0</td>\n",
       "      <td>300.0</td>\n",
       "      <td>300.0</td>\n",
       "    </tr>\n",
       "    <tr>\n",
       "      <th>2305437</th>\n",
       "      <td>319.0</td>\n",
       "      <td>0.268542</td>\n",
       "      <td>4.25</td>\n",
       "      <td>1.0</td>\n",
       "      <td>2.5</td>\n",
       "      <td>300.0</td>\n",
       "      <td>300.0</td>\n",
       "      <td>300.0</td>\n",
       "      <td>300.0</td>\n",
       "      <td>300.0</td>\n",
       "      <td>...</td>\n",
       "      <td>300.0</td>\n",
       "      <td>300.0</td>\n",
       "      <td>300.00</td>\n",
       "      <td>300.00</td>\n",
       "      <td>300.00</td>\n",
       "      <td>300.00</td>\n",
       "      <td>300.0</td>\n",
       "      <td>300.0</td>\n",
       "      <td>300.0</td>\n",
       "      <td>300.0</td>\n",
       "    </tr>\n",
       "    <tr>\n",
       "      <th>2305438</th>\n",
       "      <td>319.0</td>\n",
       "      <td>1.231458</td>\n",
       "      <td>1.25</td>\n",
       "      <td>1.0</td>\n",
       "      <td>2.5</td>\n",
       "      <td>300.0</td>\n",
       "      <td>300.0</td>\n",
       "      <td>300.0</td>\n",
       "      <td>300.0</td>\n",
       "      <td>300.0</td>\n",
       "      <td>...</td>\n",
       "      <td>300.0</td>\n",
       "      <td>300.0</td>\n",
       "      <td>300.00</td>\n",
       "      <td>300.00</td>\n",
       "      <td>300.00</td>\n",
       "      <td>300.00</td>\n",
       "      <td>300.0</td>\n",
       "      <td>300.0</td>\n",
       "      <td>300.0</td>\n",
       "      <td>300.0</td>\n",
       "    </tr>\n",
       "    <tr>\n",
       "      <th>2305439</th>\n",
       "      <td>319.0</td>\n",
       "      <td>15.731458</td>\n",
       "      <td>1.25</td>\n",
       "      <td>1.0</td>\n",
       "      <td>2.5</td>\n",
       "      <td>300.0</td>\n",
       "      <td>300.0</td>\n",
       "      <td>300.0</td>\n",
       "      <td>300.0</td>\n",
       "      <td>300.0</td>\n",
       "      <td>...</td>\n",
       "      <td>300.0</td>\n",
       "      <td>300.0</td>\n",
       "      <td>300.00</td>\n",
       "      <td>300.00</td>\n",
       "      <td>300.00</td>\n",
       "      <td>300.00</td>\n",
       "      <td>300.0</td>\n",
       "      <td>300.0</td>\n",
       "      <td>300.0</td>\n",
       "      <td>300.0</td>\n",
       "    </tr>\n",
       "  </tbody>\n",
       "</table>\n",
       "<p>5 rows × 32 columns</p>\n",
       "</div>"
      ],
      "text/plain": [
       "         timestep  x_distance  y_distance  z_distance  timeOfCreation  T0_t-1  \\\n",
       "2305435     319.0   15.731458        3.75         1.5             3.0   300.0   \n",
       "2305436     319.0   17.231458        2.75         0.5             2.0   300.0   \n",
       "2305437     319.0    0.268542        4.25         1.0             2.5   300.0   \n",
       "2305438     319.0    1.231458        1.25         1.0             2.5   300.0   \n",
       "2305439     319.0   15.731458        1.25         1.0             2.5   300.0   \n",
       "\n",
       "         T1_t_t-1  T2_t_t-1  T3_t_t-1  T4_t_t-1    ...      T17_t_t-1  \\\n",
       "2305435     300.0     300.0     300.0     300.0    ...          300.0   \n",
       "2305436     300.0     300.0     300.0     300.0    ...          300.0   \n",
       "2305437     300.0     300.0     300.0     300.0    ...          300.0   \n",
       "2305438     300.0     300.0     300.0     300.0    ...          300.0   \n",
       "2305439     300.0     300.0     300.0     300.0    ...          300.0   \n",
       "\n",
       "         T18_t_t-1  T19_t_t-1  T20_t_t-1  T21_t_t-1  T22_t_t-1  T23_t_t-1  \\\n",
       "2305435      300.0     300.00     300.00     300.00     300.00      300.0   \n",
       "2305436      300.0    1374.17    1297.72    1204.46    1353.23      300.0   \n",
       "2305437      300.0     300.00     300.00     300.00     300.00      300.0   \n",
       "2305438      300.0     300.00     300.00     300.00     300.00      300.0   \n",
       "2305439      300.0     300.00     300.00     300.00     300.00      300.0   \n",
       "\n",
       "         T24_t_t-1  T25_t_t-1  T26_t_t-1  \n",
       "2305435      300.0      300.0      300.0  \n",
       "2305436      300.0      300.0      300.0  \n",
       "2305437      300.0      300.0      300.0  \n",
       "2305438      300.0      300.0      300.0  \n",
       "2305439      300.0      300.0      300.0  \n",
       "\n",
       "[5 rows x 32 columns]"
      ]
     },
     "execution_count": 152,
     "metadata": {},
     "output_type": "execute_result"
    }
   ],
   "source": [
    "X.tail()"
   ]
  },
  {
   "cell_type": "markdown",
   "metadata": {},
   "source": [
    "### <font color=\"red\">6 layers ~ 320 timesteps </font>"
   ]
  },
  {
   "cell_type": "code",
   "execution_count": 158,
   "metadata": {},
   "outputs": [
    {
     "data": {
      "text/plain": [
       "(0.9275297699688945, 3.552670427251837)"
      ]
     },
     "execution_count": 158,
     "metadata": {},
     "output_type": "execute_result"
    }
   ],
   "source": [
    "linear = LinearRegression()\n",
    "linear.fit(X_train,y_train)\n",
    "predicted = linear.predict(X_test)\n",
    "r2(y_test,predicted) ,mape(y_test,predicted)"
   ]
  },
  {
   "cell_type": "code",
   "execution_count": 160,
   "metadata": {},
   "outputs": [
    {
     "data": {
      "text/plain": [
       "(0.9858267201845053, 0.6955788277945743)"
      ]
     },
     "execution_count": 160,
     "metadata": {},
     "output_type": "execute_result"
    }
   ],
   "source": [
    "rf = RandomForestRegressor(n_jobs=-1)\n",
    "rf.fit(X_train,y_train)\n",
    "predicted = rf.predict(X_test)\n",
    "r2(y_test,predicted) ,mape(y_test,predicted)"
   ]
  },
  {
   "cell_type": "code",
   "execution_count": null,
   "metadata": {},
   "outputs": [],
   "source": [
    "skplt.estimators.plot_learning_curve(rf, X_train, y_train)"
   ]
  },
  {
   "cell_type": "code",
   "execution_count": null,
   "metadata": {},
   "outputs": [],
   "source": [
    "skplt.estimators.plot_feature_importances(rf)"
   ]
  },
  {
   "cell_type": "code",
   "execution_count": 159,
   "metadata": {},
   "outputs": [
    {
     "data": {
      "text/plain": [
       "(0.9875623522065079, 0.8184446365674432)"
      ]
     },
     "execution_count": 159,
     "metadata": {},
     "output_type": "execute_result"
    }
   ],
   "source": [
    "et = ExtraTreesRegressor(n_jobs=-1)\n",
    "et.fit(X_train,y_train)\n",
    "predicted = et.predict(X_test)\n",
    "r2(y_test,predicted) ,mape(y_test,predicted)"
   ]
  },
  {
   "cell_type": "code",
   "execution_count": null,
   "metadata": {},
   "outputs": [],
   "source": [
    "skplt.estimators.plot_feature_importances(et)"
   ]
  },
  {
   "cell_type": "markdown",
   "metadata": {},
   "source": [
    "### <font color=\"blue\"> Removing rows which have output as 300 K </font>"
   ]
  },
  {
   "cell_type": "code",
   "execution_count": 188,
   "metadata": {},
   "outputs": [],
   "source": [
    "df= df[df.T_self != 300]"
   ]
  },
  {
   "cell_type": "code",
   "execution_count": 189,
   "metadata": {},
   "outputs": [
    {
     "data": {
      "text/plain": [
       "713589"
      ]
     },
     "execution_count": 189,
     "metadata": {},
     "output_type": "execute_result"
    }
   ],
   "source": [
    "len(df)"
   ]
  },
  {
   "cell_type": "code",
   "execution_count": 167,
   "metadata": {},
   "outputs": [],
   "source": [
    "X = df.loc[:,featureColumns ]\n",
    "y = df['T_self']"
   ]
  },
  {
   "cell_type": "code",
   "execution_count": 168,
   "metadata": {},
   "outputs": [],
   "source": [
    "testSplit = (len(X)*2/3)\n",
    "X_train,y_train = shuffle(X[:testSplit], y[:testSplit])\n",
    "X_test,y_test = shuffle(X[testSplit:], y[testSplit:])"
   ]
  },
  {
   "cell_type": "code",
   "execution_count": 169,
   "metadata": {},
   "outputs": [
    {
     "data": {
      "text/plain": [
       "(0.8543693893227516, 8.314697260452425)"
      ]
     },
     "execution_count": 169,
     "metadata": {},
     "output_type": "execute_result"
    }
   ],
   "source": [
    "linear = LinearRegression()\n",
    "linear.fit(X_train,y_train)\n",
    "predicted = linear.predict(X_test)\n",
    "r2(y_test,predicted) ,mape(y_test,predicted)"
   ]
  },
  {
   "cell_type": "code",
   "execution_count": 170,
   "metadata": {},
   "outputs": [
    {
     "data": {
      "text/plain": [
       "(0.9699112244511034, 1.9820146573291797)"
      ]
     },
     "execution_count": 170,
     "metadata": {},
     "output_type": "execute_result"
    }
   ],
   "source": [
    "rf = RandomForestRegressor(n_jobs=-1)\n",
    "rf.fit(X_train,y_train)\n",
    "predicted = rf.predict(X_test)\n",
    "r2(y_test,predicted) ,mape(y_test,predicted)"
   ]
  },
  {
   "cell_type": "code",
   "execution_count": 176,
   "metadata": {},
   "outputs": [
    {
     "data": {
      "text/plain": [
       "(0.976194287793818, 1.9181296950666709)"
      ]
     },
     "execution_count": 176,
     "metadata": {},
     "output_type": "execute_result"
    }
   ],
   "source": [
    "et = ExtraTreesRegressor(n_jobs=-1)\n",
    "et.fit(X_train,y_train)\n",
    "predicted = et.predict(X_test)\n",
    "r2(y_test,predicted) ,mape(y_test,predicted)"
   ]
  },
  {
   "cell_type": "code",
   "execution_count": 172,
   "metadata": {},
   "outputs": [
    {
     "data": {
      "text/plain": [
       "<matplotlib.axes._subplots.AxesSubplot at 0x10c236a50>"
      ]
     },
     "execution_count": 172,
     "metadata": {},
     "output_type": "execute_result"
    },
    {
     "data": {
      "image/png": "[encoded data removed]",
      "text/plain": [
       "<matplotlib.figure.Figure at 0x10de04650>"
      ]
     },
     "metadata": {},
     "output_type": "display_data"
    }
   ],
   "source": [
    "skplt.estimators.plot_feature_importances(rf)"
   ]
  },
  {
   "cell_type": "code",
   "execution_count": 183,
   "metadata": {},
   "outputs": [
    {
     "name": "stdout",
     "output_type": "stream",
     "text": [
      "0 timestep\n",
      "1 x_distance\n",
      "2 y_distance\n",
      "3 z_distance\n",
      "4 timeOfCreation\n",
      "5 T0_t-1\n",
      "6 T1_t_t-1\n",
      "7 T2_t_t-1\n"
     ]
    }
   ],
   "source": [
    "for i in range(8):\n",
    "    print i,featureColumns[i]"
   ]
  },
  {
   "cell_type": "code",
   "execution_count": 177,
   "metadata": {},
   "outputs": [
    {
     "data": {
      "text/plain": [
       "count    3.064314e+06\n",
       "mean     4.558235e+02\n",
       "std      3.695736e+02\n",
       "min      4.000000e+00\n",
       "25%      3.000000e+02\n",
       "50%      3.000000e+02\n",
       "75%      3.000000e+02\n",
       "max      6.155710e+03\n",
       "Name: T1_t_t-1, dtype: float64"
      ]
     },
     "execution_count": 177,
     "metadata": {},
     "output_type": "execute_result"
    }
   ],
   "source": [
    "df['T1_t_t-1'].describe()"
   ]
  },
  {
   "cell_type": "code",
   "execution_count": 178,
   "metadata": {},
   "outputs": [
    {
     "data": {
      "text/plain": [
       "count    3.064314e+06\n",
       "mean     4.584994e+02\n",
       "std      3.721506e+02\n",
       "min      4.000000e+00\n",
       "25%      3.000000e+02\n",
       "50%      3.000000e+02\n",
       "75%      3.000000e+02\n",
       "max      6.155710e+03\n",
       "Name: T0_t-1, dtype: float64"
      ]
     },
     "execution_count": 178,
     "metadata": {},
     "output_type": "execute_result"
    }
   ],
   "source": [
    "df['T0_t-1'].describe()"
   ]
  },
  {
   "cell_type": "code",
   "execution_count": 190,
   "metadata": {},
   "outputs": [],
   "source": [
    "featureColumns = ['timestep','x_distance','y_distance','z_distance','timeOfCreation','T0_t-1','T1_t_t-1',\n",
    " 'T2_t_t-1']\n",
    "X = df.loc[:,featureColumns ]\n",
    "y = df['T_self']"
   ]
  },
  {
   "cell_type": "code",
   "execution_count": 191,
   "metadata": {},
   "outputs": [],
   "source": [
    "testSplit = (len(X)*2/3)\n",
    "X_train,y_train = shuffle(X[:testSplit], y[:testSplit])\n",
    "X_test,y_test = shuffle(X[testSplit:], y[testSplit:])"
   ]
  },
  {
   "cell_type": "code",
   "execution_count": 192,
   "metadata": {},
   "outputs": [
    {
     "data": {
      "text/plain": [
       "(0.9455797829880931, 2.9023819770562658)"
      ]
     },
     "execution_count": 192,
     "metadata": {},
     "output_type": "execute_result"
    }
   ],
   "source": [
    "et = ExtraTreesRegressor(n_jobs=-1)\n",
    "et.fit(X_train,y_train)\n",
    "predicted = et.predict(X_test)\n",
    "r2(y_test,predicted) ,mape(y_test,predicted)"
   ]
  },
  {
   "cell_type": "code",
   "execution_count": 193,
   "metadata": {},
   "outputs": [],
   "source": [
    "featureColumns = ['x_distance','y_distance','z_distance','T0_t-1','T1_t_t-1','T2_t_t-1']\n",
    "X = df.loc[:,featureColumns ]\n",
    "y = df['T_self']"
   ]
  },
  {
   "cell_type": "code",
   "execution_count": 194,
   "metadata": {},
   "outputs": [],
   "source": [
    "X_train, X_test, y_train, y_test = train_test_split(X, y, test_size=0.33)"
   ]
  },
  {
   "cell_type": "code",
   "execution_count": 195,
   "metadata": {},
   "outputs": [
    {
     "data": {
      "text/plain": [
       "(0.9662181059012295, 1.9364793706286008)"
      ]
     },
     "execution_count": 195,
     "metadata": {},
     "output_type": "execute_result"
    }
   ],
   "source": [
    "et = ExtraTreesRegressor(n_jobs=-1)\n",
    "et.fit(X_train,y_train)\n",
    "predicted = et.predict(X_test)\n",
    "r2(y_test,predicted) ,mape(y_test,predicted)"
   ]
  },
  {
   "cell_type": "code",
   "execution_count": 197,
   "metadata": {},
   "outputs": [
    {
     "data": {
      "text/plain": [
       "ExtraTreesRegressor(bootstrap=False, criterion='mse', max_depth=None,\n",
       "          max_features='auto', max_leaf_nodes=None,\n",
       "          min_impurity_decrease=0.0, min_impurity_split=None,\n",
       "          min_samples_leaf=1, min_samples_split=2,\n",
       "          min_weight_fraction_leaf=0.0, n_estimators=10, n_jobs=-1,\n",
       "          oob_score=False, random_state=None, verbose=0, warm_start=False)"
      ]
     },
     "execution_count": 197,
     "metadata": {},
     "output_type": "execute_result"
    }
   ],
   "source": [
    "et"
   ]
  },
  {
   "cell_type": "code",
   "execution_count": 198,
   "metadata": {},
   "outputs": [
    {
     "data": {
      "text/plain": [
       "(0.9675554719326577, 1.9114823378029124)"
      ]
     },
     "execution_count": 198,
     "metadata": {},
     "output_type": "execute_result"
    }
   ],
   "source": [
    "et = ExtraTreesRegressor(n_estimators=20, n_jobs=-1)\n",
    "et.fit(X_train,y_train)\n",
    "predicted = et.predict(X_test)\n",
    "r2(y_test,predicted) ,mape(y_test,predicted)"
   ]
  },
  {
   "cell_type": "code",
   "execution_count": 199,
   "metadata": {},
   "outputs": [
    {
     "data": {
      "text/plain": [
       "(0.9671675359217299, 2.0406555435771483)"
      ]
     },
     "execution_count": 199,
     "metadata": {},
     "output_type": "execute_result"
    }
   ],
   "source": [
    "et = ExtraTreesRegressor(n_estimators=20, bootstrap=True, n_jobs=-1)\n",
    "et.fit(X_train,y_train)\n",
    "predicted = et.predict(X_test)\n",
    "r2(y_test,predicted) ,mape(y_test,predicted)"
   ]
  },
  {
   "cell_type": "code",
   "execution_count": 201,
   "metadata": {},
   "outputs": [
    {
     "data": {
      "text/plain": [
       "(0.9675283108676439, 1.8770810919529528)"
      ]
     },
     "execution_count": 201,
     "metadata": {},
     "output_type": "execute_result"
    }
   ],
   "source": [
    "et = ExtraTreesRegressor(n_estimators=20, warm_start=True, n_jobs=-1)\n",
    "et.fit(X_train,y_train)\n",
    "predicted = et.predict(X_test)\n",
    "r2(y_test,predicted) ,mape(y_test,predicted)"
   ]
  },
  {
   "cell_type": "code",
   "execution_count": 204,
   "metadata": {},
   "outputs": [
    {
     "data": {
      "text/plain": [
       "(0.9690579810966059, 1.8738446317332833)"
      ]
     },
     "execution_count": 204,
     "metadata": {},
     "output_type": "execute_result"
    }
   ],
   "source": [
    "et = ExtraTreesRegressor(n_estimators=50, n_jobs=-1)\n",
    "et.fit(X_train,y_train)\n",
    "predicted = et.predict(X_test)\n",
    "r2(y_test,predicted) ,mape(y_test,predicted)"
   ]
  },
  {
   "cell_type": "markdown",
   "metadata": {},
   "source": [
    "<i> <font color=\"magenta\">Warm start or bootstrap does not change the results </i></font>"
   ]
  },
  {
   "cell_type": "code",
   "execution_count": 200,
   "metadata": {},
   "outputs": [
    {
     "data": {
      "text/plain": [
       "(0.7818965087893572, 8.960338327969183)"
      ]
     },
     "execution_count": 200,
     "metadata": {},
     "output_type": "execute_result"
    }
   ],
   "source": [
    "ridge = Ridge()\n",
    "ridge.fit(X_train,y_train)\n",
    "predicted = ridge.predict(X_test)\n",
    "r2(y_test,predicted) ,mape(y_test,predicted)"
   ]
  },
  {
   "cell_type": "markdown",
   "metadata": {},
   "source": [
    "<i> <font color=\"magenta\"> Linear or regularized models perform worse  </font></i>"
   ]
  },
  {
   "cell_type": "code",
   "execution_count": 38,
   "metadata": {},
   "outputs": [],
   "source": [
    "featureColumns = ['timestep','x_distance','y_distance','z_distance','timeOfCreation','T0_t-1']+neighborColumns\n",
    "\n",
    "X = df.loc[:,featureColumns ]\n",
    "y = df['T_self']"
   ]
  },
  {
   "cell_type": "code",
   "execution_count": 49,
   "metadata": {},
   "outputs": [],
   "source": [
    "X_train, X_test, y_train, y_test = train_test_split(X, y, test_size=0.33,random_state=300)"
   ]
  },
  {
   "cell_type": "code",
   "execution_count": 52,
   "metadata": {},
   "outputs": [
    {
     "data": {
      "text/plain": [
       "(0.9849704149292251, 0.8538389586848829)"
      ]
     },
     "execution_count": 52,
     "metadata": {},
     "output_type": "execute_result"
    }
   ],
   "source": [
    "et = ExtraTreesRegressor(n_jobs=-1)\n",
    "et.fit(X_train,y_train)\n",
    "predicted = et.predict(X_test)\n",
    "r2(y_test,predicted) ,mape(y_test,predicted)"
   ]
  },
  {
   "cell_type": "code",
   "execution_count": 209,
   "metadata": {},
   "outputs": [
    {
     "data": {
      "text/plain": [
       "(0.9860568035257122, 0.9549417546346831)"
      ]
     },
     "execution_count": 209,
     "metadata": {},
     "output_type": "execute_result"
    }
   ],
   "source": [
    "et = ExtraTreesRegressor(n_estimators=20, n_jobs=-1)\n",
    "et.fit(X_train,y_train)\n",
    "predicted = et.predict(X_test)\n",
    "r2(y_test,predicted) ,mape(y_test,predicted)"
   ]
  },
  {
   "cell_type": "code",
   "execution_count": 210,
   "metadata": {},
   "outputs": [
    {
     "data": {
      "text/plain": [
       "<matplotlib.axes._subplots.AxesSubplot at 0x10ff54d50>"
      ]
     },
     "execution_count": 210,
     "metadata": {},
     "output_type": "execute_result"
    },
    {
     "data": {
      "image/png": "[encoded data removed]",
      "text/plain": [
       "<matplotlib.figure.Figure at 0x10ff449d0>"
      ]
     },
     "metadata": {},
     "output_type": "display_data"
    }
   ],
   "source": [
    "skplt.estimators.plot_feature_importances(et)"
   ]
  },
  {
   "cell_type": "code",
   "execution_count": 19,
   "metadata": {},
   "outputs": [
    {
     "data": {
      "text/plain": [
       "(0.9563292708236754, 2.7040321362356137)"
      ]
     },
     "execution_count": 19,
     "metadata": {},
     "output_type": "execute_result"
    }
   ],
   "source": [
    "gb = GradientBoostingRegressor()\n",
    "gb.fit(X_train,y_train)\n",
    "predicted = gb.predict(X_test)\n",
    "r2(y_test,predicted) ,mape(y_test,predicted)"
   ]
  },
  {
   "cell_type": "code",
   "execution_count": 28,
   "metadata": {},
   "outputs": [
    {
     "data": {
      "text/plain": [
       "(0.9563292708236754, 2.7040321362356137)"
      ]
     },
     "execution_count": 28,
     "metadata": {},
     "output_type": "execute_result"
    }
   ],
   "source": [
    "xgb = XGBRegressor(n_jobs=-1)\n",
    "xgb.fit(X_train,y_train)\n",
    "predicted = gb.predict(X_test)\n",
    "r2(y_test,predicted) ,mape(y_test,predicted)"
   ]
  },
  {
   "cell_type": "code",
   "execution_count": 29,
   "metadata": {},
   "outputs": [
    {
     "data": {
      "text/plain": [
       "<matplotlib.axes._subplots.AxesSubplot at 0x10f54b450>"
      ]
     },
     "execution_count": 29,
     "metadata": {},
     "output_type": "execute_result"
    },
    {
     "data": {
      "image/png": "[encoded data removed]",
      "text/plain": [
       "<matplotlib.figure.Figure at 0x10f59bd90>"
      ]
     },
     "metadata": {},
     "output_type": "display_data"
    }
   ],
   "source": [
    "skplt.estimators.plot_feature_importances(xgb)"
   ]
  },
  {
   "cell_type": "code",
   "execution_count": 22,
   "metadata": {},
   "outputs": [
    {
     "data": {
      "text/plain": [
       "(0.9813519268618175, 0.9022798893209252)"
      ]
     },
     "execution_count": 22,
     "metadata": {},
     "output_type": "execute_result"
    }
   ],
   "source": [
    "bag = BaggingRegressor()\n",
    "bag.fit(X_train,y_train)\n",
    "predicted = bag.predict(X_test)\n",
    "r2(y_test,predicted) ,mape(y_test,predicted)"
   ]
  },
  {
   "cell_type": "code",
   "execution_count": null,
   "metadata": {},
   "outputs": [],
   "source": [
    "bag = BaggingRegressor(n_estimators=20, n_jobs=-1)\n",
    "bag.fit(X_train,y_train)\n",
    "predicted = bag.predict(X_test)\n",
    "r2(y_test,predicted) ,mape(y_test,predicted)"
   ]
  },
  {
   "cell_type": "code",
   "execution_count": 23,
   "metadata": {},
   "outputs": [
    {
     "data": {
      "text/plain": [
       "(0.7678631869201157, 23.04998816859087)"
      ]
     },
     "execution_count": 23,
     "metadata": {},
     "output_type": "execute_result"
    }
   ],
   "source": [
    "ada = AdaBoostRegressor()\n",
    "ada.fit(X_train,y_train)\n",
    "predicted = ada.predict(X_test)\n",
    "r2(y_test,predicted) ,mape(y_test,predicted)"
   ]
  },
  {
   "cell_type": "markdown",
   "metadata": {},
   "source": [
    "### After setting temperature values for unproduced values to -99"
   ]
  },
  {
   "cell_type": "code",
   "execution_count": 50,
   "metadata": {},
   "outputs": [
    {
     "data": {
      "text/plain": [
       "(0.9845307970923405, 0.8850030643988662)"
      ]
     },
     "execution_count": 50,
     "metadata": {},
     "output_type": "execute_result"
    }
   ],
   "source": [
    "et = ExtraTreesRegressor(n_jobs=-1)\n",
    "et.fit(X_train,y_train)\n",
    "predicted = et.predict(X_test)\n",
    "r2(y_test,predicted) ,mape(y_test,predicted)"
   ]
  },
  {
   "cell_type": "code",
   "execution_count": 53,
   "metadata": {},
   "outputs": [
    {
     "data": {
      "text/plain": [
       "<matplotlib.axes._subplots.AxesSubplot at 0x109ec9bd0>"
      ]
     },
     "execution_count": 53,
     "metadata": {},
     "output_type": "execute_result"
    },
    {
     "data": {
      "image/png": "[encoded data removed]",
      "text/plain": [
       "<matplotlib.figure.Figure at 0x10a5051d0>"
      ]
     },
     "metadata": {},
     "output_type": "display_data"
    }
   ],
   "source": [
    "skplt.estimators.plot_feature_importances(et)"
   ]
  },
  {
   "cell_type": "code",
   "execution_count": 6,
   "metadata": {},
   "outputs": [],
   "source": [
    "historicalColumns,neighborColumns = [],[]\n",
    "\n",
    "for historical in range(5):\n",
    "    historicalColumns += ['Tminus'+str(historical+1)]\n",
    "\n",
    "for neighbor in range(26):\n",
    "    neighborColumns += ['T'+str(neighbor+1)+'_t-1']\n",
    "\n",
    "columns = ['timestep','x_voxel','y_voxel','z_voxel','layerNum','time_creation','x_laser','y_laser','z_laser','x_distance','y_distance','z_distance','euclidean_distance_laser'] + historicalColumns+ neighborColumns+['T_self']\n",
    "\n"
   ]
  },
  {
   "cell_type": "code",
   "execution_count": 7,
   "metadata": {},
   "outputs": [],
   "source": [
    "def combineDataFrames(prefix,columns=columns):\n",
    "    List = []\n",
    "    nums_start,nums_stop = [],[]\n",
    "    for item in os.listdir(prefix):\n",
    "        if \"data_\" in item and \".npy\" in item:\n",
    "            timeStep_start = int(item.split(prefix+'_')[1].split('_')[0])\n",
    "            nums_start += [timeStep_start]\n",
    "            \n",
    "            timeStep_stop = int(item.split('_')[3].split('.npy')[0])\n",
    "            nums_stop += [timeStep_stop]\n",
    "            \n",
    "    nums_start = sorted(nums_start)\n",
    "    nums_stop = sorted(nums_stop)\n",
    "    \n",
    "    array = loadNumpy(prefix+'/'+prefix+'_'+str(nums_start[0])+'_'+str(nums_stop[0])+'.npy')\n",
    "    for i in range(1,len(nums_start)):\n",
    "        newFile = prefix+'/'+prefix+'_'+str(nums_start[i])+'_'+str(nums_stop[i])+'.npy'\n",
    "        array = np.append(array,loadNumpy(newFile),axis=0)\n",
    "    return pd.DataFrame(array,columns=columns)"
   ]
  },
  {
   "cell_type": "code",
   "execution_count": 8,
   "metadata": {},
   "outputs": [],
   "source": [
    "df = combineDataFrames('data_big')"
   ]
  },
  {
   "cell_type": "code",
   "execution_count": 16,
   "metadata": {},
   "outputs": [
    {
     "data": {
      "text/plain": [
       "timestep    576.0\n",
       "x_voxel      17.0\n",
       "y_voxel       4.0\n",
       "z_voxel       2.5\n",
       "layerNum      5.0\n",
       "Name: 2267913, dtype: float64"
      ]
     },
     "execution_count": 16,
     "metadata": {},
     "output_type": "execute_result"
    }
   ],
   "source": [
    "df_mini = df[df[]]"
   ]
  },
  {
   "cell_type": "markdown",
   "metadata": {},
   "source": [
    "### Experiments\n",
    "* More voxels \n",
    "* More layers "
   ]
  },
  {
   "cell_type": "code",
   "execution_count": 4,
   "metadata": {},
   "outputs": [
    {
     "name": "stdout",
     "output_type": "stream",
     "text": [
      "yes\n"
     ]
    }
   ],
   "source": [
    "if (i>2 or i<4) and i%3 ==0:\n",
    "    print 'yes'"
   ]
  }
 ],
 "metadata": {
  "kernelspec": {
   "display_name": "Python 2",
   "language": "python",
   "name": "python2"
  },
  "language_info": {
   "codemirror_mode": {
    "name": "ipython",
    "version": 2
   },
   "file_extension": ".py",
   "mimetype": "text/x-python",
   "name": "python",
   "nbconvert_exporter": "python",
   "pygments_lexer": "ipython2",
   "version": "2.7.14"
  }
 },
 "nbformat": 4,
 "nbformat_minor": 2
}
