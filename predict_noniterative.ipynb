{
 "cells": [
  {
   "cell_type": "markdown",
   "metadata": {},
   "source": [
    "### We corrected the temperature information to have only from t-1"
   ]
  },
  {
   "cell_type": "code",
   "execution_count": 1,
   "metadata": {},
   "outputs": [],
   "source": [
    "import pandas as pd\n",
    "import numpy as np\n",
    "import math,os\n",
    "from numpy.random import choice\n",
    "import scikitplot as skplt"
   ]
  },
  {
   "cell_type": "code",
   "execution_count": 2,
   "metadata": {},
   "outputs": [],
   "source": [
    "import warnings\n",
    "warnings.filterwarnings('ignore')"
   ]
  },
  {
   "cell_type": "code",
   "execution_count": 3,
   "metadata": {},
   "outputs": [],
   "source": [
    "pd.options.display.max_rows = 999\n",
    "pd.set_option('display.max_columns', None)"
   ]
  },
  {
   "cell_type": "code",
   "execution_count": 4,
   "metadata": {},
   "outputs": [],
   "source": [
    "from sklearn.linear_model import LinearRegression,Ridge,SGDRegressor,ElasticNet\n",
    "from sklearn.model_selection import train_test_split\n",
    "from sklearn.utils import shuffle\n",
    "from sklearn.utils.validation import check_array \n",
    "from sklearn.metrics import r2_score, mean_squared_error, mean_absolute_error\n",
    "from sklearn.svm import LinearSVR\n",
    "from sklearn.tree import DecisionTreeRegressor\n",
    "from sklearn.ensemble import RandomForestRegressor,ExtraTreesRegressor,GradientBoostingRegressor,AdaBoostRegressor,BaggingRegressor"
   ]
  },
  {
   "cell_type": "code",
   "execution_count": 5,
   "metadata": {},
   "outputs": [],
   "source": [
    "historicalColumns,neighborColumns = [],[]\n",
    "\n",
    "for historical in range(5):\n",
    "    historicalColumns += ['Tminus'+str(historical+1)]\n",
    "\n",
    "for neighbor in range(26):\n",
    "    neighborColumns += ['T'+str(neighbor+1)+'_t-1']\n",
    "\n",
    "columns = ['timestep','x_voxel','y_voxel','z_voxel','layerNum','time_creation','x_laser','y_laser','z_laser','x_distance','y_distance','z_distance','euclidean_distance_laser'] + historicalColumns+ neighborColumns+['T_self']\n"
   ]
  },
  {
   "cell_type": "markdown",
   "metadata": {},
   "source": [
    "### Utility Functions"
   ]
  },
  {
   "cell_type": "code",
   "execution_count": 6,
   "metadata": {},
   "outputs": [],
   "source": [
    "def roundup(a, digits=4):\n",
    "    n = 10**-digits\n",
    "    return round(math.ceil(a / n) * n, digits)\n",
    "\n",
    "def isEven(num):\n",
    "    if num%2 ==0:\n",
    "        return True\n",
    "    return False\n",
    "\n",
    "def modLog(num):\n",
    "    try:\n",
    "        return log(num)\n",
    "    except:\n",
    "        return 0\n",
    "\n",
    "def loadNumpy(name,path='.'):\n",
    "    if \".npy\" in name:\n",
    "        fullPath = path+'/'+name\n",
    "    else:\n",
    "        fullPath = path+'/'+name+'.npy'\n",
    "    return np.load(fullPath)"
   ]
  },
  {
   "cell_type": "code",
   "execution_count": 7,
   "metadata": {},
   "outputs": [],
   "source": [
    "def mean_absolute_percentage_error(y_true, y_pred):\n",
    "\t'''\n",
    "\tscikit(sklearn) does not have support for mean absolute percentage error MAPE.\n",
    "\tThis is because the denominator can theoretically be 0 and so the value would be undefined.\n",
    "\tSo this is our implementation\n",
    "\t'''\n",
    "# \ty_true = check_array(y_true)\n",
    "# \ty_pred = check_array(y_pred)\n",
    "\n",
    "\treturn np.mean(np.abs((y_true - y_pred) / y_true)) * 100\n",
    "\n",
    "def r2(y_true,y_pred):\n",
    "    return roundup(r2_score(y_true,y_pred))\n",
    "\n",
    "def mse(y_true,y_pred):\n",
    "    return roundup(mean_squared_error(y_true,y_pred))\n",
    "\n",
    "def mae(y_true,y_pred):\n",
    "    return roundup(mean_absolute_error(y_true,y_pred))\n",
    "\n",
    "def mape(y_true, y_pred):\n",
    "    return roundup(mean_absolute_percentage_error(y_true,y_pred))"
   ]
  },
  {
   "cell_type": "code",
   "execution_count": 8,
   "metadata": {},
   "outputs": [],
   "source": [
    "def combineDataFrames(prefix,columns=columns):\n",
    "    List = []\n",
    "    nums_start,nums_stop = [],[]\n",
    "    for item in os.listdir('data_big'):\n",
    "        if \"data_big\" in item and \".npy\" in item:\n",
    "            timeStep_start = int(item.split('data_big_')[1].split('_')[0])\n",
    "            nums_start += [timeStep_start]\n",
    "            \n",
    "            timeStep_stop = int(item.split('_')[3].split('.npy')[0])\n",
    "            nums_stop += [timeStep_stop]\n",
    "            \n",
    "    nums_start = sorted(nums_start)\n",
    "    nums_stop = sorted(nums_stop)\n",
    "    \n",
    "    array = loadNumpy('data_big/'+prefix+'_'+str(nums_start[0])+'_'+str(nums_stop[0])+'.npy')\n",
    "    for i in range(1,len(nums_start)):\n",
    "        newFile = 'data_big/'+prefix+'_'+str(nums_start[i])+'_'+str(nums_stop[i])+'.npy'\n",
    "        array = np.append(array,loadNumpy(newFile),axis=0)\n",
    "    return pd.DataFrame(array,columns=columns)"
   ]
  },
  {
   "cell_type": "code",
   "execution_count": 9,
   "metadata": {},
   "outputs": [],
   "source": [
    "df_big = combineDataFrames('data_big')"
   ]
  },
  {
   "cell_type": "code",
   "execution_count": 43,
   "metadata": {},
   "outputs": [],
   "source": [
    "df = pd.read_csv('data/data_500_timesteps.csv')"
   ]
  },
  {
   "cell_type": "code",
   "execution_count": 45,
   "metadata": {},
   "outputs": [],
   "source": [
    "df_train = df[df['timestep'] < 400.0]\n",
    "df_test = df[df['timestep'] >= 400.0]"
   ]
  },
  {
   "cell_type": "code",
   "execution_count": 46,
   "metadata": {},
   "outputs": [],
   "source": [
    "featureColumns = ['timestep','x_distance','y_distance','z_distance','time_creation','Tminus1']+neighborColumns\n",
    "\n",
    "X_train = df_train.loc[:,featureColumns ]\n",
    "y_train = df_train['T_self']"
   ]
  },
  {
   "cell_type": "code",
   "execution_count": 47,
   "metadata": {},
   "outputs": [],
   "source": [
    "X_test = df_test.loc[:,featureColumns ]\n",
    "y_test = df_test['T_self']"
   ]
  },
  {
   "cell_type": "code",
   "execution_count": 48,
   "metadata": {},
   "outputs": [],
   "source": [
    "X_train,y_train = shuffle(X_train,y_train,random_state=300)\n",
    "X_test,y_test = shuffle(X_test,y_test,random_state=300)"
   ]
  },
  {
   "cell_type": "code",
   "execution_count": 15,
   "metadata": {},
   "outputs": [],
   "source": [
    "def display_top10Features(ensemble,featureColumns=featureColumns):\n",
    "    List = ensemble.feature_importances_.argsort()[::-1][:10]\n",
    "    String = \"\"\n",
    "    for item in List: \n",
    "        String += str(featureColumns[item])\n",
    "        String += '>'\n",
    "    String += '...'\n",
    "    return String"
   ]
  },
  {
   "cell_type": "markdown",
   "metadata": {},
   "source": [
    "### Predicting timesteps next 100 (400-500) based on first 400 timesteps"
   ]
  },
  {
   "cell_type": "code",
   "execution_count": 16,
   "metadata": {},
   "outputs": [
    {
     "data": {
      "text/plain": [
       "(0.9467118626196661, 3.6026120572233125)"
      ]
     },
     "execution_count": 16,
     "metadata": {},
     "output_type": "execute_result"
    }
   ],
   "source": [
    "linear = LinearRegression()\n",
    "linear.fit(X_train,y_train)\n",
    "predicted = linear.predict(X_test)\n",
    "r2(y_test,predicted) ,mape(y_test,predicted)"
   ]
  },
  {
   "cell_type": "code",
   "execution_count": 29,
   "metadata": {},
   "outputs": [
    {
     "data": {
      "text/plain": [
       "(0.946711925542481, 3.602592236221512)"
      ]
     },
     "execution_count": 29,
     "metadata": {},
     "output_type": "execute_result"
    }
   ],
   "source": [
    "ridge = Ridge()\n",
    "ridge.fit(X_train,y_train)\n",
    "predicted = ridge.predict(X_test)\n",
    "r2(y_test,predicted) ,mape(y_test,predicted)"
   ]
  },
  {
   "cell_type": "code",
   "execution_count": 18,
   "metadata": {},
   "outputs": [
    {
     "data": {
      "text/plain": [
       "(0.9899764965264769, 0.9564138986911235)"
      ]
     },
     "execution_count": 18,
     "metadata": {},
     "output_type": "execute_result"
    }
   ],
   "source": [
    "et = ExtraTreesRegressor(n_jobs=-1)\n",
    "et.fit(X_train,y_train)\n",
    "predicted = et.predict(X_test)\n",
    "r2(y_test,predicted) ,mape(y_test,predicted)"
   ]
  },
  {
   "cell_type": "code",
   "execution_count": 16,
   "metadata": {},
   "outputs": [
    {
     "data": {
      "text/plain": [
       "(0.9912, 0.9237)"
      ]
     },
     "execution_count": 16,
     "metadata": {},
     "output_type": "execute_result"
    }
   ],
   "source": [
    "et = ExtraTreesRegressor(n_estimators=20, n_jobs=-1)\n",
    "et.fit(X_train,y_train)\n",
    "predicted = et.predict(X_test)\n",
    "r2(y_test,predicted) ,mape(y_test,predicted)"
   ]
  },
  {
   "cell_type": "code",
   "execution_count": 27,
   "metadata": {},
   "outputs": [
    {
     "data": {
      "text/plain": [
       "<matplotlib.axes._subplots.AxesSubplot at 0x7f53d4201c50>"
      ]
     },
     "execution_count": 27,
     "metadata": {},
     "output_type": "execute_result"
    },
    {
     "data": {
      "image/png": "[encoded data removed]",
      "text/plain": [
       "<Figure size 432x288 with 1 Axes>"
      ]
     },
     "metadata": {},
     "output_type": "display_data"
    }
   ],
   "source": [
    "skplt.estimators.plot_feature_importances(et)"
   ]
  },
  {
   "cell_type": "code",
   "execution_count": 28,
   "metadata": {},
   "outputs": [
    {
     "data": {
      "text/plain": [
       "(0.9896074175516564, 0.891118002743491)"
      ]
     },
     "execution_count": 28,
     "metadata": {},
     "output_type": "execute_result"
    }
   ],
   "source": [
    "bag = BaggingRegressor(n_jobs=-1)\n",
    "bag.fit(X_train,y_train)\n",
    "predicted = bag.predict(X_test)\n",
    "r2(y_test,predicted) ,mape(y_test,predicted)"
   ]
  },
  {
   "cell_type": "code",
   "execution_count": 37,
   "metadata": {},
   "outputs": [],
   "source": [
    "featureColumns = ['timestep','x_distance','y_distance','z_distance','layerNum','Tminus1','Tminus2']+neighborColumns\n",
    "\n",
    "X_train = df_train.loc[:,featureColumns ]\n",
    "y_train = df_train['T_self']\n",
    "\n",
    "X_test = df_test.loc[:,featureColumns ]\n",
    "y_test = df_test['T_self']\n",
    "\n",
    "X_train,y_train = shuffle(X_train,y_train,random_state=300)\n",
    "X_test,y_test = shuffle(X_test,y_test,random_state=300)"
   ]
  },
  {
   "cell_type": "code",
   "execution_count": 38,
   "metadata": {},
   "outputs": [
    {
     "data": {
      "text/plain": [
       "(0.991, 0.687)"
      ]
     },
     "execution_count": 38,
     "metadata": {},
     "output_type": "execute_result"
    }
   ],
   "source": [
    "et = ExtraTreesRegressor(n_jobs=-1)\n",
    "et.fit(X_train,y_train)\n",
    "predicted = et.predict(X_test)\n",
    "r2(y_test,predicted) ,mape(y_test,predicted)"
   ]
  },
  {
   "cell_type": "code",
   "execution_count": 50,
   "metadata": {},
   "outputs": [
    {
     "data": {
      "text/plain": [
       "(0.9916, 0.6449)"
      ]
     },
     "execution_count": 50,
     "metadata": {},
     "output_type": "execute_result"
    }
   ],
   "source": [
    "et = ExtraTreesRegressor(n_estimators=20,n_jobs=-1)\n",
    "et.fit(X_train,y_train)\n",
    "predicted = et.predict(X_test)\n",
    "r2(y_test,predicted) ,mape(y_test,predicted)"
   ]
  },
  {
   "cell_type": "code",
   "execution_count": 39,
   "metadata": {},
   "outputs": [
    {
     "data": {
      "text/plain": [
       "<matplotlib.axes._subplots.AxesSubplot at 0x7f53c1940e90>"
      ]
     },
     "execution_count": 39,
     "metadata": {},
     "output_type": "execute_result"
    },
    {
     "data": {
      "image/png": "[encoded data removed]",
      "text/plain": [
       "<Figure size 432x288 with 1 Axes>"
      ]
     },
     "metadata": {},
     "output_type": "display_data"
    }
   ],
   "source": [
    "skplt.estimators.plot_feature_importances(et)"
   ]
  },
  {
   "cell_type": "code",
   "execution_count": 49,
   "metadata": {},
   "outputs": [
    {
     "data": {
      "text/plain": [
       "'T2_t-1>T1_t-1>Tminus1>T7_t-1>T5_t-1>T10_t-1>T8_t-1>Tminus2>T3_t-1>T21_t-1>...'"
      ]
     },
     "execution_count": 49,
     "metadata": {},
     "output_type": "execute_result"
    }
   ],
   "source": [
    "display_top10Features(et)"
   ]
  },
  {
   "cell_type": "markdown",
   "metadata": {},
   "source": [
    "### <font color=\"red\"> 10 layers -training on 950 and testing on rest timesteps </font>"
   ]
  },
  {
   "cell_type": "code",
   "execution_count": 10,
   "metadata": {},
   "outputs": [],
   "source": [
    "df_train = df_big[df_big['timestep'] < 950.0]\n",
    "df_test = df_big[df_big['timestep'] >= 950.0]\n",
    "\n",
    "featureColumns = ['timestep','x_distance','y_distance','z_distance','layerNum','Tminus1','Tminus2']+neighborColumns\n",
    "\n",
    "X_train = df_train.loc[:,featureColumns ]\n",
    "y_train = df_train['T_self']\n",
    "\n",
    "X_test = df_test.loc[:,featureColumns ]\n",
    "y_test = df_test['T_self']\n",
    "\n",
    "X_train,y_train = shuffle(X_train,y_train,random_state=300)\n",
    "X_test,y_test = shuffle(X_test,y_test,random_state=300)"
   ]
  },
  {
   "cell_type": "code",
   "execution_count": 62,
   "metadata": {},
   "outputs": [
    {
     "data": {
      "text/plain": [
       "(0.9535, 1.8382)"
      ]
     },
     "execution_count": 62,
     "metadata": {},
     "output_type": "execute_result"
    }
   ],
   "source": [
    "linear = LinearRegression()\n",
    "linear.fit(X_train,y_train)\n",
    "predicted = linear.predict(X_test)\n",
    "r2(y_test,predicted) ,mape(y_test,predicted)"
   ]
  },
  {
   "cell_type": "code",
   "execution_count": 11,
   "metadata": {},
   "outputs": [
    {
     "data": {
      "text/plain": [
       "(0.9945, 0.2429)"
      ]
     },
     "execution_count": 11,
     "metadata": {},
     "output_type": "execute_result"
    }
   ],
   "source": [
    "et = ExtraTreesRegressor(n_jobs=-1)\n",
    "et.fit(X_train,y_train)\n",
    "predicted = et.predict(X_test)\n",
    "r2(y_test,predicted) ,mape(y_test,predicted)"
   ]
  },
  {
   "cell_type": "code",
   "execution_count": 64,
   "metadata": {},
   "outputs": [
    {
     "data": {
      "text/plain": [
       "<matplotlib.axes._subplots.AxesSubplot at 0x7f53c1819dd0>"
      ]
     },
     "execution_count": 64,
     "metadata": {},
     "output_type": "execute_result"
    },
    {
     "data": {
      "image/png": "[encoded data removed]",
      "text/plain": [
       "<Figure size 432x288 with 1 Axes>"
      ]
     },
     "metadata": {},
     "output_type": "display_data"
    }
   ],
   "source": [
    "skplt.estimators.plot_feature_importances(et)"
   ]
  },
  {
   "cell_type": "code",
   "execution_count": 65,
   "metadata": {},
   "outputs": [
    {
     "data": {
      "text/plain": [
       "'T2_t-1>T1_t-1>T5_t-1>T9_t-1>T15_t-1>T10_t-1>T7_t-1>T20_t-1>T16_t-1>Tminus2>...'"
      ]
     },
     "execution_count": 65,
     "metadata": {},
     "output_type": "execute_result"
    }
   ],
   "source": [
    "display_top10Features(et)"
   ]
  },
  {
   "cell_type": "code",
   "execution_count": 73,
   "metadata": {},
   "outputs": [
    {
     "name": "stderr",
     "output_type": "stream",
     "text": [
      "/usr/local/lib/python2.7/dist-packages/ipykernel_launcher.py:1: SettingWithCopyWarning: \n",
      "A value is trying to be set on a copy of a slice from a DataFrame.\n",
      "Try using .loc[row_indexer,col_indexer] = value instead\n",
      "\n",
      "See the caveats in the documentation: http://pandas.pydata.org/pandas-docs/stable/indexing.html#indexing-view-versus-copy\n",
      "  \"\"\"Entry point for launching an IPython kernel.\n",
      "/usr/local/lib/python2.7/dist-packages/ipykernel_launcher.py:2: SettingWithCopyWarning: \n",
      "A value is trying to be set on a copy of a slice from a DataFrame.\n",
      "Try using .loc[row_indexer,col_indexer] = value instead\n",
      "\n",
      "See the caveats in the documentation: http://pandas.pydata.org/pandas-docs/stable/indexing.html#indexing-view-versus-copy\n",
      "  \n"
     ]
    }
   ],
   "source": [
    "df_train['euclidean_distance_laser'] = df_train.apply(lambda row: sqrt(row['x_distance']**2 + row['y_distance']**2 + row['z_distance']**2), axis=1)\n",
    "df_test['euclidean_distance_laser'] = df_test.apply(lambda row: sqrt(row['x_distance']**2 + row['y_distance']**2 + row['z_distance']**2), axis=1)"
   ]
  },
  {
   "cell_type": "code",
   "execution_count": 74,
   "metadata": {},
   "outputs": [],
   "source": [
    "featureColumns = ['timestep','euclidean_distance_laser','x_distance','y_distance','z_distance','x_voxel','y_voxel','z_voxel',\n",
    "                  'x_laser','y_laser','z_laser', 'layerNum','time_creation']\n",
    "\n",
    "X_train = df_train.loc[:,featureColumns ]\n",
    "y_train = df_train['T_self']\n",
    "\n",
    "X_test = df_test.loc[:,featureColumns ]\n",
    "y_test = df_test['T_self']\n",
    "\n",
    "X_train,y_train = shuffle(X_train,y_train,random_state=300)\n",
    "X_test,y_test = shuffle(X_test,y_test,random_state=300)"
   ]
  },
  {
   "cell_type": "code",
   "execution_count": 75,
   "metadata": {},
   "outputs": [
    {
     "data": {
      "text/plain": [
       "(0.6667, 7.7084)"
      ]
     },
     "execution_count": 75,
     "metadata": {},
     "output_type": "execute_result"
    }
   ],
   "source": [
    "et = ExtraTreesRegressor(n_jobs=-1)\n",
    "et.fit(X_train,y_train)\n",
    "predicted = et.predict(X_test)\n",
    "r2(y_test,predicted) ,mape(y_test,predicted)"
   ]
  },
  {
   "cell_type": "code",
   "execution_count": 78,
   "metadata": {},
   "outputs": [
    {
     "data": {
      "text/plain": [
       "(0.6601, 7.547)"
      ]
     },
     "execution_count": 78,
     "metadata": {},
     "output_type": "execute_result"
    }
   ],
   "source": [
    "et = ExtraTreesRegressor(n_estimators=20,n_jobs=-1)\n",
    "et.fit(X_train,y_train)\n",
    "predicted = et.predict(X_test)\n",
    "r2(y_test,predicted) ,mape(y_test,predicted)"
   ]
  },
  {
   "cell_type": "code",
   "execution_count": 77,
   "metadata": {},
   "outputs": [
    {
     "data": {
      "text/plain": [
       "'y_distance>euclidean_distance_laser>z_distance>y_voxel>y_laser>timestep>z_laser>x_voxel>x_distance>layerNum>...'"
      ]
     },
     "execution_count": 77,
     "metadata": {},
     "output_type": "execute_result"
    }
   ],
   "source": [
    "display_top10Features(et,featureColumns=featureColumns)"
   ]
  },
  {
   "cell_type": "markdown",
   "metadata": {},
   "source": [
    "### Model using only timestep and distance metrics "
   ]
  },
  {
   "cell_type": "code",
   "execution_count": 67,
   "metadata": {},
   "outputs": [
    {
     "data": {
      "text/plain": [
       "(0.4566, 11.9926)"
      ]
     },
     "execution_count": 67,
     "metadata": {},
     "output_type": "execute_result"
    }
   ],
   "source": [
    "et = ExtraTreesRegressor(n_jobs=-1)\n",
    "et.fit(X_train,y_train)\n",
    "predicted = et.predict(X_test)\n",
    "r2(y_test,predicted) ,mape(y_test,predicted)"
   ]
  },
  {
   "cell_type": "markdown",
   "metadata": {},
   "source": [
    "### <font color=\"orange\"> Train and test split almost equal - Training on 800 timesteps and testing on next 400 timesteps</font>"
   ]
  },
  {
   "cell_type": "code",
   "execution_count": 81,
   "metadata": {},
   "outputs": [],
   "source": [
    "df_train = df_big[df_big['timestep'] < 800.0]\n",
    "df_test = df_big[df_big['timestep'] >= 800.0]\n",
    "\n",
    "featureColumns = ['timestep','x_distance','y_distance','z_distance','layerNum','Tminus1','Tminus2']+neighborColumns\n",
    "\n",
    "X_train = df_train.loc[:,featureColumns ]\n",
    "y_train = df_train['T_self']\n",
    "\n",
    "X_test = df_test.loc[:,featureColumns ]\n",
    "y_test = df_test['T_self']\n",
    "\n",
    "X_train,y_train = shuffle(X_train,y_train,random_state=300)\n",
    "X_test,y_test = shuffle(X_test,y_test,random_state=300)"
   ]
  },
  {
   "cell_type": "code",
   "execution_count": 82,
   "metadata": {},
   "outputs": [
    {
     "data": {
      "text/plain": [
       "(0.9937, 0.3208)"
      ]
     },
     "execution_count": 82,
     "metadata": {},
     "output_type": "execute_result"
    }
   ],
   "source": [
    "et = ExtraTreesRegressor(n_jobs=-1)\n",
    "et.fit(X_train,y_train)\n",
    "predicted = et.predict(X_test)\n",
    "r2(y_test,predicted) ,mape(y_test,predicted)"
   ]
  },
  {
   "cell_type": "markdown",
   "metadata": {},
   "source": [
    "#### <i>We realized that the % of the test set does not impact the model </i>"
   ]
  },
  {
   "cell_type": "markdown",
   "metadata": {},
   "source": [
    "### <font color=\"magenta\">Only select alternate time steps </font>"
   ]
  },
  {
   "cell_type": "code",
   "execution_count": 92,
   "metadata": {},
   "outputs": [],
   "source": [
    "df_train = df_big[(df_big['timestep'] < 950.0) & (df_big['timestep']%2)]\n",
    "df_test = df_big[(df_big['timestep'] >= 950.0) & (df_big['timestep']%2)]"
   ]
  },
  {
   "cell_type": "code",
   "execution_count": 97,
   "metadata": {},
   "outputs": [],
   "source": [
    "featureColumns = ['timestep','x_distance','y_distance','z_distance','layerNum','Tminus1','Tminus2']+neighborColumns\n",
    "\n",
    "X_train = df_train.loc[:,featureColumns ]\n",
    "y_train = df_train['T_self']\n",
    "\n",
    "X_test = df_test.loc[:,featureColumns ]\n",
    "y_test = df_test['T_self']\n",
    "\n",
    "X_train,y_train = shuffle(X_train,y_train,random_state=300)\n",
    "X_test,y_test = shuffle(X_test,y_test,random_state=300)"
   ]
  },
  {
   "cell_type": "code",
   "execution_count": 98,
   "metadata": {},
   "outputs": [
    {
     "data": {
      "text/plain": [
       "(0.9938, 0.2444)"
      ]
     },
     "execution_count": 98,
     "metadata": {},
     "output_type": "execute_result"
    }
   ],
   "source": [
    "et = ExtraTreesRegressor(n_jobs=-1)\n",
    "et.fit(X_train,y_train)\n",
    "predicted = et.predict(X_test)\n",
    "r2(y_test,predicted) ,mape(y_test,predicted)"
   ]
  },
  {
   "cell_type": "markdown",
   "metadata": {},
   "source": [
    "### <font color=\"blue\"> Select every 3rd timestep </font>"
   ]
  },
  {
   "cell_type": "code",
   "execution_count": 99,
   "metadata": {},
   "outputs": [],
   "source": [
    "df_train = df_big[(df_big['timestep'] < 950.0) & (df_big['timestep']%3)]\n",
    "df_test = df_big[(df_big['timestep'] >= 950.0) & (df_big['timestep']%3)]\n",
    "\n",
    "featureColumns = ['timestep','x_distance','y_distance','z_distance','layerNum','Tminus1','Tminus2']+neighborColumns\n",
    "\n",
    "X_train = df_train.loc[:,featureColumns ]\n",
    "y_train = df_train['T_self']\n",
    "\n",
    "X_test = df_test.loc[:,featureColumns ]\n",
    "y_test = df_test['T_self']\n",
    "\n",
    "X_train,y_train = shuffle(X_train,y_train,random_state=300)\n",
    "X_test,y_test = shuffle(X_test,y_test,random_state=300)"
   ]
  },
  {
   "cell_type": "code",
   "execution_count": 100,
   "metadata": {},
   "outputs": [
    {
     "data": {
      "text/plain": [
       "(0.9942, 0.2338)"
      ]
     },
     "execution_count": 100,
     "metadata": {},
     "output_type": "execute_result"
    }
   ],
   "source": [
    "et = ExtraTreesRegressor(n_jobs=-1)\n",
    "et.fit(X_train,y_train)\n",
    "predicted = et.predict(X_test)\n",
    "r2(y_test,predicted) ,mape(y_test,predicted)"
   ]
  },
  {
   "cell_type": "markdown",
   "metadata": {},
   "source": [
    "### <font color=\"inkblue\">  Considering distance from edge in the non-temperature based model </font>"
   ]
  },
  {
   "cell_type": "code",
   "execution_count": 103,
   "metadata": {},
   "outputs": [
    {
     "data": {
      "text/html": [
       "<div>\n",
       "<style scoped>\n",
       "    .dataframe tbody tr th:only-of-type {\n",
       "        vertical-align: middle;\n",
       "    }\n",
       "\n",
       "    .dataframe tbody tr th {\n",
       "        vertical-align: top;\n",
       "    }\n",
       "\n",
       "    .dataframe thead th {\n",
       "        text-align: right;\n",
       "    }\n",
       "</style>\n",
       "<table border=\"1\" class=\"dataframe\">\n",
       "  <thead>\n",
       "    <tr style=\"text-align: right;\">\n",
       "      <th></th>\n",
       "      <th>timestep</th>\n",
       "      <th>x_voxel</th>\n",
       "      <th>y_voxel</th>\n",
       "      <th>z_voxel</th>\n",
       "      <th>layerNum</th>\n",
       "      <th>time_creation</th>\n",
       "      <th>x_laser</th>\n",
       "      <th>y_laser</th>\n",
       "      <th>z_laser</th>\n",
       "      <th>x_distance</th>\n",
       "      <th>...</th>\n",
       "      <th>T18_t-1</th>\n",
       "      <th>T19_t-1</th>\n",
       "      <th>T20_t-1</th>\n",
       "      <th>T21_t-1</th>\n",
       "      <th>T22_t-1</th>\n",
       "      <th>T23_t-1</th>\n",
       "      <th>T24_t-1</th>\n",
       "      <th>T25_t-1</th>\n",
       "      <th>T26_t-1</th>\n",
       "      <th>T_self</th>\n",
       "    </tr>\n",
       "  </thead>\n",
       "  <tbody>\n",
       "    <tr>\n",
       "      <th>0</th>\n",
       "      <td>1.0</td>\n",
       "      <td>0.5</td>\n",
       "      <td>1.5</td>\n",
       "      <td>0.5</td>\n",
       "      <td>1.0</td>\n",
       "      <td>2.0</td>\n",
       "      <td>0.0</td>\n",
       "      <td>0.75</td>\n",
       "      <td>0.5</td>\n",
       "      <td>0.5</td>\n",
       "      <td>...</td>\n",
       "      <td>-99.0</td>\n",
       "      <td>-99.0</td>\n",
       "      <td>-99.0</td>\n",
       "      <td>-99.0</td>\n",
       "      <td>-99.0</td>\n",
       "      <td>-99.0</td>\n",
       "      <td>-99.0</td>\n",
       "      <td>-99.0</td>\n",
       "      <td>-99.0</td>\n",
       "      <td>4.00</td>\n",
       "    </tr>\n",
       "    <tr>\n",
       "      <th>1</th>\n",
       "      <td>2.0</td>\n",
       "      <td>2.5</td>\n",
       "      <td>1.5</td>\n",
       "      <td>0.5</td>\n",
       "      <td>1.0</td>\n",
       "      <td>0.5</td>\n",
       "      <td>2.6</td>\n",
       "      <td>0.75</td>\n",
       "      <td>0.5</td>\n",
       "      <td>0.1</td>\n",
       "      <td>...</td>\n",
       "      <td>-99.0</td>\n",
       "      <td>-99.0</td>\n",
       "      <td>-99.0</td>\n",
       "      <td>-99.0</td>\n",
       "      <td>-99.0</td>\n",
       "      <td>-99.0</td>\n",
       "      <td>-99.0</td>\n",
       "      <td>-99.0</td>\n",
       "      <td>-99.0</td>\n",
       "      <td>3549.99</td>\n",
       "    </tr>\n",
       "    <tr>\n",
       "      <th>2</th>\n",
       "      <td>2.0</td>\n",
       "      <td>3.0</td>\n",
       "      <td>1.0</td>\n",
       "      <td>0.5</td>\n",
       "      <td>1.0</td>\n",
       "      <td>0.5</td>\n",
       "      <td>2.6</td>\n",
       "      <td>0.75</td>\n",
       "      <td>0.5</td>\n",
       "      <td>0.4</td>\n",
       "      <td>...</td>\n",
       "      <td>-99.0</td>\n",
       "      <td>-99.0</td>\n",
       "      <td>-99.0</td>\n",
       "      <td>-99.0</td>\n",
       "      <td>-99.0</td>\n",
       "      <td>-99.0</td>\n",
       "      <td>-99.0</td>\n",
       "      <td>-99.0</td>\n",
       "      <td>-99.0</td>\n",
       "      <td>3519.06</td>\n",
       "    </tr>\n",
       "    <tr>\n",
       "      <th>3</th>\n",
       "      <td>2.0</td>\n",
       "      <td>2.0</td>\n",
       "      <td>0.5</td>\n",
       "      <td>0.5</td>\n",
       "      <td>1.0</td>\n",
       "      <td>0.5</td>\n",
       "      <td>2.6</td>\n",
       "      <td>0.75</td>\n",
       "      <td>0.5</td>\n",
       "      <td>0.6</td>\n",
       "      <td>...</td>\n",
       "      <td>-99.0</td>\n",
       "      <td>-99.0</td>\n",
       "      <td>-99.0</td>\n",
       "      <td>-99.0</td>\n",
       "      <td>-99.0</td>\n",
       "      <td>-99.0</td>\n",
       "      <td>-99.0</td>\n",
       "      <td>-99.0</td>\n",
       "      <td>-99.0</td>\n",
       "      <td>3026.39</td>\n",
       "    </tr>\n",
       "    <tr>\n",
       "      <th>4</th>\n",
       "      <td>2.0</td>\n",
       "      <td>0.5</td>\n",
       "      <td>1.0</td>\n",
       "      <td>0.5</td>\n",
       "      <td>1.0</td>\n",
       "      <td>0.5</td>\n",
       "      <td>2.6</td>\n",
       "      <td>0.75</td>\n",
       "      <td>0.5</td>\n",
       "      <td>2.1</td>\n",
       "      <td>...</td>\n",
       "      <td>-99.0</td>\n",
       "      <td>-99.0</td>\n",
       "      <td>-99.0</td>\n",
       "      <td>-99.0</td>\n",
       "      <td>-99.0</td>\n",
       "      <td>-99.0</td>\n",
       "      <td>-99.0</td>\n",
       "      <td>-99.0</td>\n",
       "      <td>-99.0</td>\n",
       "      <td>1876.72</td>\n",
       "    </tr>\n",
       "  </tbody>\n",
       "</table>\n",
       "<p>5 rows × 45 columns</p>\n",
       "</div>"
      ],
      "text/plain": [
       "   timestep  x_voxel  y_voxel  z_voxel  layerNum  time_creation  x_laser  \\\n",
       "0       1.0      0.5      1.5      0.5       1.0            2.0      0.0   \n",
       "1       2.0      2.5      1.5      0.5       1.0            0.5      2.6   \n",
       "2       2.0      3.0      1.0      0.5       1.0            0.5      2.6   \n",
       "3       2.0      2.0      0.5      0.5       1.0            0.5      2.6   \n",
       "4       2.0      0.5      1.0      0.5       1.0            0.5      2.6   \n",
       "\n",
       "   y_laser  z_laser  x_distance   ...     T18_t-1  T19_t-1  T20_t-1  T21_t-1  \\\n",
       "0     0.75      0.5         0.5   ...       -99.0    -99.0    -99.0    -99.0   \n",
       "1     0.75      0.5         0.1   ...       -99.0    -99.0    -99.0    -99.0   \n",
       "2     0.75      0.5         0.4   ...       -99.0    -99.0    -99.0    -99.0   \n",
       "3     0.75      0.5         0.6   ...       -99.0    -99.0    -99.0    -99.0   \n",
       "4     0.75      0.5         2.1   ...       -99.0    -99.0    -99.0    -99.0   \n",
       "\n",
       "   T22_t-1  T23_t-1  T24_t-1  T25_t-1  T26_t-1   T_self  \n",
       "0    -99.0    -99.0    -99.0    -99.0    -99.0     4.00  \n",
       "1    -99.0    -99.0    -99.0    -99.0    -99.0  3549.99  \n",
       "2    -99.0    -99.0    -99.0    -99.0    -99.0  3519.06  \n",
       "3    -99.0    -99.0    -99.0    -99.0    -99.0  3026.39  \n",
       "4    -99.0    -99.0    -99.0    -99.0    -99.0  1876.72  \n",
       "\n",
       "[5 rows x 45 columns]"
      ]
     },
     "execution_count": 103,
     "metadata": {},
     "output_type": "execute_result"
    }
   ],
   "source": [
    "df_big.head()"
   ]
  },
  {
   "cell_type": "code",
   "execution_count": 104,
   "metadata": {},
   "outputs": [],
   "source": [
    "df_big['x_edge'] = df_big.apply(lambda row: (20-row['x_voxel']), axis=1)\n",
    "df_big['y_edge'] = df_big.apply(lambda row: (20-row['y_voxel']), axis=1)\n"
   ]
  },
  {
   "cell_type": "code",
   "execution_count": 111,
   "metadata": {},
   "outputs": [],
   "source": [
    "df_big['euclidean_distance_laser'] = df_big.apply(lambda row: sqrt(row['x_distance']**2 + row['y_distance']**2 + row['z_distance']**2), axis=1)"
   ]
  },
  {
   "cell_type": "code",
   "execution_count": 112,
   "metadata": {},
   "outputs": [],
   "source": [
    "df_train = df_big[(df_big['timestep'] < 950.0) ]\n",
    "df_test = df_big[(df_big['timestep'] >= 950.0) ]\n",
    "\n",
    "featureColumns = ['timestep','euclidean_distance_laser','x_distance','y_distance','z_distance',\n",
    "                  'x_voxel','y_voxel','z_voxel','x_laser','y_laser','z_laser', 'x_edge' ,'y_edge',\n",
    "                  'layerNum','time_creation']\n",
    "\n",
    "X_train = df_train.loc[:,featureColumns ]\n",
    "y_train = df_train['T_self']\n",
    "\n",
    "X_test = df_test.loc[:,featureColumns ]\n",
    "y_test = df_test['T_self']\n",
    "\n",
    "X_train,y_train = shuffle(X_train,y_train,random_state=300)\n",
    "X_test,y_test = shuffle(X_test,y_test,random_state=300)"
   ]
  },
  {
   "cell_type": "code",
   "execution_count": 113,
   "metadata": {},
   "outputs": [
    {
     "data": {
      "text/plain": [
       "(0.6926, 7.4871)"
      ]
     },
     "execution_count": 113,
     "metadata": {},
     "output_type": "execute_result"
    }
   ],
   "source": [
    "et = ExtraTreesRegressor(n_jobs=-1)\n",
    "et.fit(X_train,y_train)\n",
    "predicted = et.predict(X_test)\n",
    "r2(y_test,predicted) ,mape(y_test,predicted)"
   ]
  },
  {
   "cell_type": "code",
   "execution_count": 114,
   "metadata": {},
   "outputs": [
    {
     "data": {
      "text/plain": [
       "'y_distance>euclidean_distance_laser>y_laser>z_distance>timestep>y_voxel>y_edge>z_laser>z_voxel>x_distance>...'"
      ]
     },
     "execution_count": 114,
     "metadata": {},
     "output_type": "execute_result"
    }
   ],
   "source": [
    "display_top10Features(et,featureColumns=featureColumns)"
   ]
  },
  {
   "cell_type": "markdown",
   "metadata": {},
   "source": [
    "### <font color=\"lightgreen\"> Adding edge to the temperature information </font>"
   ]
  },
  {
   "cell_type": "code",
   "execution_count": 121,
   "metadata": {},
   "outputs": [
    {
     "data": {
      "text/html": [
       "<div>\n",
       "<style scoped>\n",
       "    .dataframe tbody tr th:only-of-type {\n",
       "        vertical-align: middle;\n",
       "    }\n",
       "\n",
       "    .dataframe tbody tr th {\n",
       "        vertical-align: top;\n",
       "    }\n",
       "\n",
       "    .dataframe thead th {\n",
       "        text-align: right;\n",
       "    }\n",
       "</style>\n",
       "<table border=\"1\" class=\"dataframe\">\n",
       "  <thead>\n",
       "    <tr style=\"text-align: right;\">\n",
       "      <th></th>\n",
       "      <th>timestep</th>\n",
       "      <th>x_voxel</th>\n",
       "      <th>y_voxel</th>\n",
       "      <th>z_voxel</th>\n",
       "      <th>layerNum</th>\n",
       "      <th>time_creation</th>\n",
       "      <th>x_laser</th>\n",
       "      <th>y_laser</th>\n",
       "      <th>z_laser</th>\n",
       "      <th>x_distance</th>\n",
       "      <th>y_distance</th>\n",
       "      <th>z_distance</th>\n",
       "      <th>euclidean_distance_laser</th>\n",
       "      <th>Tminus1</th>\n",
       "      <th>Tminus2</th>\n",
       "      <th>Tminus3</th>\n",
       "      <th>Tminus4</th>\n",
       "      <th>Tminus5</th>\n",
       "      <th>T1_t-1</th>\n",
       "      <th>T2_t-1</th>\n",
       "      <th>T3_t-1</th>\n",
       "      <th>T4_t-1</th>\n",
       "      <th>T5_t-1</th>\n",
       "      <th>T6_t-1</th>\n",
       "      <th>T7_t-1</th>\n",
       "      <th>T8_t-1</th>\n",
       "      <th>T9_t-1</th>\n",
       "      <th>T10_t-1</th>\n",
       "      <th>T11_t-1</th>\n",
       "      <th>T12_t-1</th>\n",
       "      <th>T13_t-1</th>\n",
       "      <th>T14_t-1</th>\n",
       "      <th>T15_t-1</th>\n",
       "      <th>T16_t-1</th>\n",
       "      <th>T17_t-1</th>\n",
       "      <th>T18_t-1</th>\n",
       "      <th>T19_t-1</th>\n",
       "      <th>T20_t-1</th>\n",
       "      <th>T21_t-1</th>\n",
       "      <th>T22_t-1</th>\n",
       "      <th>T23_t-1</th>\n",
       "      <th>T24_t-1</th>\n",
       "      <th>T25_t-1</th>\n",
       "      <th>T26_t-1</th>\n",
       "      <th>T_self</th>\n",
       "      <th>x_edge</th>\n",
       "      <th>y_edge</th>\n",
       "    </tr>\n",
       "  </thead>\n",
       "  <tbody>\n",
       "    <tr>\n",
       "      <th>0</th>\n",
       "      <td>1.0</td>\n",
       "      <td>0.5</td>\n",
       "      <td>1.5</td>\n",
       "      <td>0.5</td>\n",
       "      <td>1.0</td>\n",
       "      <td>2.0</td>\n",
       "      <td>0.0</td>\n",
       "      <td>0.75</td>\n",
       "      <td>0.5</td>\n",
       "      <td>0.5</td>\n",
       "      <td>0.75</td>\n",
       "      <td>0.0</td>\n",
       "      <td>0.901388</td>\n",
       "      <td>-99.0</td>\n",
       "      <td>-99.0</td>\n",
       "      <td>-99.0</td>\n",
       "      <td>-99.0</td>\n",
       "      <td>-99.0</td>\n",
       "      <td>-99.00</td>\n",
       "      <td>-99.00</td>\n",
       "      <td>-99.00</td>\n",
       "      <td>-99.00</td>\n",
       "      <td>-99.0</td>\n",
       "      <td>-99.0</td>\n",
       "      <td>-99.00</td>\n",
       "      <td>-99.00</td>\n",
       "      <td>-99.00</td>\n",
       "      <td>-99.00</td>\n",
       "      <td>-99.0</td>\n",
       "      <td>-99.0</td>\n",
       "      <td>-99.0</td>\n",
       "      <td>-99.0</td>\n",
       "      <td>-99.0</td>\n",
       "      <td>-99.0</td>\n",
       "      <td>-99.0</td>\n",
       "      <td>-99.0</td>\n",
       "      <td>-99.0</td>\n",
       "      <td>-99.0</td>\n",
       "      <td>-99.0</td>\n",
       "      <td>-99.0</td>\n",
       "      <td>-99.0</td>\n",
       "      <td>-99.0</td>\n",
       "      <td>-99.0</td>\n",
       "      <td>-99.0</td>\n",
       "      <td>4.00</td>\n",
       "      <td>19.5</td>\n",
       "      <td>18.5</td>\n",
       "    </tr>\n",
       "    <tr>\n",
       "      <th>1</th>\n",
       "      <td>2.0</td>\n",
       "      <td>2.5</td>\n",
       "      <td>1.5</td>\n",
       "      <td>0.5</td>\n",
       "      <td>1.0</td>\n",
       "      <td>0.5</td>\n",
       "      <td>2.6</td>\n",
       "      <td>0.75</td>\n",
       "      <td>0.5</td>\n",
       "      <td>0.1</td>\n",
       "      <td>0.75</td>\n",
       "      <td>0.0</td>\n",
       "      <td>0.756637</td>\n",
       "      <td>300.0</td>\n",
       "      <td>-99.0</td>\n",
       "      <td>-99.0</td>\n",
       "      <td>-99.0</td>\n",
       "      <td>-99.0</td>\n",
       "      <td>3473.76</td>\n",
       "      <td>3520.21</td>\n",
       "      <td>3993.89</td>\n",
       "      <td>-99.00</td>\n",
       "      <td>-99.0</td>\n",
       "      <td>-99.0</td>\n",
       "      <td>3872.89</td>\n",
       "      <td>-99.00</td>\n",
       "      <td>3519.06</td>\n",
       "      <td>-99.00</td>\n",
       "      <td>-99.0</td>\n",
       "      <td>-99.0</td>\n",
       "      <td>-99.0</td>\n",
       "      <td>-99.0</td>\n",
       "      <td>-99.0</td>\n",
       "      <td>-99.0</td>\n",
       "      <td>-99.0</td>\n",
       "      <td>-99.0</td>\n",
       "      <td>-99.0</td>\n",
       "      <td>-99.0</td>\n",
       "      <td>-99.0</td>\n",
       "      <td>-99.0</td>\n",
       "      <td>-99.0</td>\n",
       "      <td>-99.0</td>\n",
       "      <td>-99.0</td>\n",
       "      <td>-99.0</td>\n",
       "      <td>3549.99</td>\n",
       "      <td>17.5</td>\n",
       "      <td>18.5</td>\n",
       "    </tr>\n",
       "    <tr>\n",
       "      <th>2</th>\n",
       "      <td>2.0</td>\n",
       "      <td>3.0</td>\n",
       "      <td>1.0</td>\n",
       "      <td>0.5</td>\n",
       "      <td>1.0</td>\n",
       "      <td>0.5</td>\n",
       "      <td>2.6</td>\n",
       "      <td>0.75</td>\n",
       "      <td>0.5</td>\n",
       "      <td>0.4</td>\n",
       "      <td>0.25</td>\n",
       "      <td>0.0</td>\n",
       "      <td>0.471699</td>\n",
       "      <td>300.0</td>\n",
       "      <td>-99.0</td>\n",
       "      <td>-99.0</td>\n",
       "      <td>-99.0</td>\n",
       "      <td>-99.0</td>\n",
       "      <td>3993.89</td>\n",
       "      <td>2973.47</td>\n",
       "      <td>3553.11</td>\n",
       "      <td>3520.21</td>\n",
       "      <td>-99.0</td>\n",
       "      <td>-99.0</td>\n",
       "      <td>3478.99</td>\n",
       "      <td>3549.99</td>\n",
       "      <td>1614.58</td>\n",
       "      <td>1614.62</td>\n",
       "      <td>-99.0</td>\n",
       "      <td>-99.0</td>\n",
       "      <td>-99.0</td>\n",
       "      <td>-99.0</td>\n",
       "      <td>-99.0</td>\n",
       "      <td>-99.0</td>\n",
       "      <td>-99.0</td>\n",
       "      <td>-99.0</td>\n",
       "      <td>-99.0</td>\n",
       "      <td>-99.0</td>\n",
       "      <td>-99.0</td>\n",
       "      <td>-99.0</td>\n",
       "      <td>-99.0</td>\n",
       "      <td>-99.0</td>\n",
       "      <td>-99.0</td>\n",
       "      <td>-99.0</td>\n",
       "      <td>3519.06</td>\n",
       "      <td>17.0</td>\n",
       "      <td>19.0</td>\n",
       "    </tr>\n",
       "    <tr>\n",
       "      <th>3</th>\n",
       "      <td>2.0</td>\n",
       "      <td>2.0</td>\n",
       "      <td>0.5</td>\n",
       "      <td>0.5</td>\n",
       "      <td>1.0</td>\n",
       "      <td>0.5</td>\n",
       "      <td>2.6</td>\n",
       "      <td>0.75</td>\n",
       "      <td>0.5</td>\n",
       "      <td>0.6</td>\n",
       "      <td>0.25</td>\n",
       "      <td>0.0</td>\n",
       "      <td>0.650000</td>\n",
       "      <td>300.0</td>\n",
       "      <td>-99.0</td>\n",
       "      <td>-99.0</td>\n",
       "      <td>-99.0</td>\n",
       "      <td>-99.0</td>\n",
       "      <td>3324.64</td>\n",
       "      <td>3478.99</td>\n",
       "      <td>3876.13</td>\n",
       "      <td>3872.89</td>\n",
       "      <td>-99.0</td>\n",
       "      <td>-99.0</td>\n",
       "      <td>3303.29</td>\n",
       "      <td>2329.08</td>\n",
       "      <td>3996.03</td>\n",
       "      <td>3993.89</td>\n",
       "      <td>-99.0</td>\n",
       "      <td>-99.0</td>\n",
       "      <td>-99.0</td>\n",
       "      <td>-99.0</td>\n",
       "      <td>-99.0</td>\n",
       "      <td>-99.0</td>\n",
       "      <td>-99.0</td>\n",
       "      <td>-99.0</td>\n",
       "      <td>-99.0</td>\n",
       "      <td>-99.0</td>\n",
       "      <td>-99.0</td>\n",
       "      <td>-99.0</td>\n",
       "      <td>-99.0</td>\n",
       "      <td>-99.0</td>\n",
       "      <td>-99.0</td>\n",
       "      <td>-99.0</td>\n",
       "      <td>3026.39</td>\n",
       "      <td>18.0</td>\n",
       "      <td>19.5</td>\n",
       "    </tr>\n",
       "    <tr>\n",
       "      <th>4</th>\n",
       "      <td>2.0</td>\n",
       "      <td>0.5</td>\n",
       "      <td>1.0</td>\n",
       "      <td>0.5</td>\n",
       "      <td>1.0</td>\n",
       "      <td>0.5</td>\n",
       "      <td>2.6</td>\n",
       "      <td>0.75</td>\n",
       "      <td>0.5</td>\n",
       "      <td>2.1</td>\n",
       "      <td>0.25</td>\n",
       "      <td>0.0</td>\n",
       "      <td>2.114829</td>\n",
       "      <td>300.0</td>\n",
       "      <td>-99.0</td>\n",
       "      <td>-99.0</td>\n",
       "      <td>-99.0</td>\n",
       "      <td>-99.0</td>\n",
       "      <td>1554.23</td>\n",
       "      <td>2706.98</td>\n",
       "      <td>1643.90</td>\n",
       "      <td>5.00</td>\n",
       "      <td>-99.0</td>\n",
       "      <td>-99.0</td>\n",
       "      <td>1959.09</td>\n",
       "      <td>1763.85</td>\n",
       "      <td>1754.33</td>\n",
       "      <td>2869.67</td>\n",
       "      <td>-99.0</td>\n",
       "      <td>-99.0</td>\n",
       "      <td>-99.0</td>\n",
       "      <td>-99.0</td>\n",
       "      <td>-99.0</td>\n",
       "      <td>-99.0</td>\n",
       "      <td>-99.0</td>\n",
       "      <td>-99.0</td>\n",
       "      <td>-99.0</td>\n",
       "      <td>-99.0</td>\n",
       "      <td>-99.0</td>\n",
       "      <td>-99.0</td>\n",
       "      <td>-99.0</td>\n",
       "      <td>-99.0</td>\n",
       "      <td>-99.0</td>\n",
       "      <td>-99.0</td>\n",
       "      <td>1876.72</td>\n",
       "      <td>19.5</td>\n",
       "      <td>19.0</td>\n",
       "    </tr>\n",
       "  </tbody>\n",
       "</table>\n",
       "</div>"
      ],
      "text/plain": [
       "   timestep  x_voxel  y_voxel  z_voxel  layerNum  time_creation  x_laser  \\\n",
       "0       1.0      0.5      1.5      0.5       1.0            2.0      0.0   \n",
       "1       2.0      2.5      1.5      0.5       1.0            0.5      2.6   \n",
       "2       2.0      3.0      1.0      0.5       1.0            0.5      2.6   \n",
       "3       2.0      2.0      0.5      0.5       1.0            0.5      2.6   \n",
       "4       2.0      0.5      1.0      0.5       1.0            0.5      2.6   \n",
       "\n",
       "   y_laser  z_laser  x_distance  y_distance  z_distance  \\\n",
       "0     0.75      0.5         0.5        0.75         0.0   \n",
       "1     0.75      0.5         0.1        0.75         0.0   \n",
       "2     0.75      0.5         0.4        0.25         0.0   \n",
       "3     0.75      0.5         0.6        0.25         0.0   \n",
       "4     0.75      0.5         2.1        0.25         0.0   \n",
       "\n",
       "   euclidean_distance_laser  Tminus1  Tminus2  Tminus3  Tminus4  Tminus5  \\\n",
       "0                  0.901388    -99.0    -99.0    -99.0    -99.0    -99.0   \n",
       "1                  0.756637    300.0    -99.0    -99.0    -99.0    -99.0   \n",
       "2                  0.471699    300.0    -99.0    -99.0    -99.0    -99.0   \n",
       "3                  0.650000    300.0    -99.0    -99.0    -99.0    -99.0   \n",
       "4                  2.114829    300.0    -99.0    -99.0    -99.0    -99.0   \n",
       "\n",
       "    T1_t-1   T2_t-1   T3_t-1   T4_t-1  T5_t-1  T6_t-1   T7_t-1   T8_t-1  \\\n",
       "0   -99.00   -99.00   -99.00   -99.00   -99.0   -99.0   -99.00   -99.00   \n",
       "1  3473.76  3520.21  3993.89   -99.00   -99.0   -99.0  3872.89   -99.00   \n",
       "2  3993.89  2973.47  3553.11  3520.21   -99.0   -99.0  3478.99  3549.99   \n",
       "3  3324.64  3478.99  3876.13  3872.89   -99.0   -99.0  3303.29  2329.08   \n",
       "4  1554.23  2706.98  1643.90     5.00   -99.0   -99.0  1959.09  1763.85   \n",
       "\n",
       "    T9_t-1  T10_t-1  T11_t-1  T12_t-1  T13_t-1  T14_t-1  T15_t-1  T16_t-1  \\\n",
       "0   -99.00   -99.00    -99.0    -99.0    -99.0    -99.0    -99.0    -99.0   \n",
       "1  3519.06   -99.00    -99.0    -99.0    -99.0    -99.0    -99.0    -99.0   \n",
       "2  1614.58  1614.62    -99.0    -99.0    -99.0    -99.0    -99.0    -99.0   \n",
       "3  3996.03  3993.89    -99.0    -99.0    -99.0    -99.0    -99.0    -99.0   \n",
       "4  1754.33  2869.67    -99.0    -99.0    -99.0    -99.0    -99.0    -99.0   \n",
       "\n",
       "   T17_t-1  T18_t-1  T19_t-1  T20_t-1  T21_t-1  T22_t-1  T23_t-1  T24_t-1  \\\n",
       "0    -99.0    -99.0    -99.0    -99.0    -99.0    -99.0    -99.0    -99.0   \n",
       "1    -99.0    -99.0    -99.0    -99.0    -99.0    -99.0    -99.0    -99.0   \n",
       "2    -99.0    -99.0    -99.0    -99.0    -99.0    -99.0    -99.0    -99.0   \n",
       "3    -99.0    -99.0    -99.0    -99.0    -99.0    -99.0    -99.0    -99.0   \n",
       "4    -99.0    -99.0    -99.0    -99.0    -99.0    -99.0    -99.0    -99.0   \n",
       "\n",
       "   T25_t-1  T26_t-1   T_self  x_edge  y_edge  \n",
       "0    -99.0    -99.0     4.00    19.5    18.5  \n",
       "1    -99.0    -99.0  3549.99    17.5    18.5  \n",
       "2    -99.0    -99.0  3519.06    17.0    19.0  \n",
       "3    -99.0    -99.0  3026.39    18.0    19.5  \n",
       "4    -99.0    -99.0  1876.72    19.5    19.0  "
      ]
     },
     "execution_count": 121,
     "metadata": {},
     "output_type": "execute_result"
    }
   ],
   "source": [
    "df_big.head()"
   ]
  },
  {
   "cell_type": "code",
   "execution_count": 140,
   "metadata": {},
   "outputs": [],
   "source": [
    "featureColumns = ['timestep','x_distance','y_distance','z_distance','x_edge','y_edge','layerNum','Tminus1','Tminus2','Tminus3']+neighborColumns\n",
    "\n",
    "X_train = df_train.loc[:,featureColumns ]\n",
    "y_train = df_train['T_self']\n",
    "\n",
    "X_test = df_test.loc[:,featureColumns ]\n",
    "y_test = df_test['T_self']\n",
    "\n",
    "X_train,y_train = shuffle(X_train,y_train,random_state=300)\n",
    "X_test,y_test = shuffle(X_test,y_test,random_state=300)"
   ]
  },
  {
   "cell_type": "code",
   "execution_count": 123,
   "metadata": {},
   "outputs": [
    {
     "data": {
      "text/plain": [
       "(0.995, 0.2079)"
      ]
     },
     "execution_count": 123,
     "metadata": {},
     "output_type": "execute_result"
    }
   ],
   "source": [
    "et = ExtraTreesRegressor(n_jobs=-1)\n",
    "et.fit(X_train,y_train)\n",
    "predicted = et.predict(X_test)\n",
    "r2(y_test,predicted) ,mape(y_test,predicted)"
   ]
  },
  {
   "cell_type": "code",
   "execution_count": 124,
   "metadata": {},
   "outputs": [
    {
     "data": {
      "text/plain": [
       "'T5_t-1>T1_t-1>T2_t-1>T12_t-1>T10_t-1>T3_t-1>T15_t-1>Tminus3>Tminus1>T22_t-1>...'"
      ]
     },
     "execution_count": 124,
     "metadata": {},
     "output_type": "execute_result"
    }
   ],
   "source": [
    "display_top10Features(et,featureColumns=featureColumns)"
   ]
  },
  {
   "cell_type": "markdown",
   "metadata": {},
   "source": [
    "#### <i> We find that the edge distance information does not appear in the top 10 features </i>"
   ]
  },
  {
   "cell_type": "markdown",
   "metadata": {},
   "source": [
    "### <font color=\"purple\"> Getting log for the temperature attributes </font>\n",
    "#### log is undefined for non-positive values. modLog adjusts it and prevents from throwing an error"
   ]
  },
  {
   "cell_type": "code",
   "execution_count": 131,
   "metadata": {},
   "outputs": [],
   "source": [
    "for i in range(5):\n",
    "    suffix = 'Tminus'+str(i+1)\n",
    "    df_big['log'+suffix] = df_big.apply(lambda row: modLog(row[suffix]), axis=1)\n",
    "\n",
    "for i in range(26):\n",
    "    suffix = 'T'+str(i+1)+'_t-1'\n",
    "    df_big['log'+suffix] = df_big.apply(lambda row: modLog(row[suffix]), axis=1)\n",
    "\n",
    "df_big['logT'] = df_big.apply(lambda row: modLog(row['T_self']), axis=1)"
   ]
  },
  {
   "cell_type": "code",
   "execution_count": 132,
   "metadata": {},
   "outputs": [
    {
     "data": {
      "text/html": [
       "<div>\n",
       "<style scoped>\n",
       "    .dataframe tbody tr th:only-of-type {\n",
       "        vertical-align: middle;\n",
       "    }\n",
       "\n",
       "    .dataframe tbody tr th {\n",
       "        vertical-align: top;\n",
       "    }\n",
       "\n",
       "    .dataframe thead th {\n",
       "        text-align: right;\n",
       "    }\n",
       "</style>\n",
       "<table border=\"1\" class=\"dataframe\">\n",
       "  <thead>\n",
       "    <tr style=\"text-align: right;\">\n",
       "      <th></th>\n",
       "      <th>timestep</th>\n",
       "      <th>x_voxel</th>\n",
       "      <th>y_voxel</th>\n",
       "      <th>z_voxel</th>\n",
       "      <th>layerNum</th>\n",
       "      <th>time_creation</th>\n",
       "      <th>x_laser</th>\n",
       "      <th>y_laser</th>\n",
       "      <th>z_laser</th>\n",
       "      <th>x_distance</th>\n",
       "      <th>y_distance</th>\n",
       "      <th>z_distance</th>\n",
       "      <th>euclidean_distance_laser</th>\n",
       "      <th>Tminus1</th>\n",
       "      <th>Tminus2</th>\n",
       "      <th>Tminus3</th>\n",
       "      <th>Tminus4</th>\n",
       "      <th>Tminus5</th>\n",
       "      <th>T1_t-1</th>\n",
       "      <th>T2_t-1</th>\n",
       "      <th>T3_t-1</th>\n",
       "      <th>T4_t-1</th>\n",
       "      <th>T5_t-1</th>\n",
       "      <th>T6_t-1</th>\n",
       "      <th>T7_t-1</th>\n",
       "      <th>T8_t-1</th>\n",
       "      <th>T9_t-1</th>\n",
       "      <th>T10_t-1</th>\n",
       "      <th>T11_t-1</th>\n",
       "      <th>T12_t-1</th>\n",
       "      <th>T13_t-1</th>\n",
       "      <th>T14_t-1</th>\n",
       "      <th>T15_t-1</th>\n",
       "      <th>T16_t-1</th>\n",
       "      <th>T17_t-1</th>\n",
       "      <th>T18_t-1</th>\n",
       "      <th>T19_t-1</th>\n",
       "      <th>T20_t-1</th>\n",
       "      <th>T21_t-1</th>\n",
       "      <th>T22_t-1</th>\n",
       "      <th>T23_t-1</th>\n",
       "      <th>T24_t-1</th>\n",
       "      <th>T25_t-1</th>\n",
       "      <th>T26_t-1</th>\n",
       "      <th>T_self</th>\n",
       "      <th>x_edge</th>\n",
       "      <th>y_edge</th>\n",
       "      <th>logTminus1</th>\n",
       "      <th>logTminus2</th>\n",
       "      <th>logTminus3</th>\n",
       "      <th>logTminus4</th>\n",
       "      <th>logTminus5</th>\n",
       "      <th>logT1_t-1</th>\n",
       "      <th>logT2_t-1</th>\n",
       "      <th>logT3_t-1</th>\n",
       "      <th>logT4_t-1</th>\n",
       "      <th>logT5_t-1</th>\n",
       "      <th>logT6_t-1</th>\n",
       "      <th>logT7_t-1</th>\n",
       "      <th>logT8_t-1</th>\n",
       "      <th>logT9_t-1</th>\n",
       "      <th>logT10_t-1</th>\n",
       "      <th>logT11_t-1</th>\n",
       "      <th>logT12_t-1</th>\n",
       "      <th>logT13_t-1</th>\n",
       "      <th>logT14_t-1</th>\n",
       "      <th>logT15_t-1</th>\n",
       "      <th>logT16_t-1</th>\n",
       "      <th>logT17_t-1</th>\n",
       "      <th>logT18_t-1</th>\n",
       "      <th>logT19_t-1</th>\n",
       "      <th>logT20_t-1</th>\n",
       "      <th>logT21_t-1</th>\n",
       "      <th>logT22_t-1</th>\n",
       "      <th>logT23_t-1</th>\n",
       "      <th>logT24_t-1</th>\n",
       "      <th>logT25_t-1</th>\n",
       "      <th>logT26_t-1</th>\n",
       "      <th>logT</th>\n",
       "    </tr>\n",
       "  </thead>\n",
       "  <tbody>\n",
       "    <tr>\n",
       "      <th>0</th>\n",
       "      <td>1.0</td>\n",
       "      <td>0.5</td>\n",
       "      <td>1.5</td>\n",
       "      <td>0.5</td>\n",
       "      <td>1.0</td>\n",
       "      <td>2.0</td>\n",
       "      <td>0.0</td>\n",
       "      <td>0.75</td>\n",
       "      <td>0.5</td>\n",
       "      <td>0.5</td>\n",
       "      <td>0.75</td>\n",
       "      <td>0.0</td>\n",
       "      <td>0.901388</td>\n",
       "      <td>-99.0</td>\n",
       "      <td>-99.0</td>\n",
       "      <td>-99.0</td>\n",
       "      <td>-99.0</td>\n",
       "      <td>-99.0</td>\n",
       "      <td>-99.00</td>\n",
       "      <td>-99.00</td>\n",
       "      <td>-99.00</td>\n",
       "      <td>-99.00</td>\n",
       "      <td>-99.0</td>\n",
       "      <td>-99.0</td>\n",
       "      <td>-99.00</td>\n",
       "      <td>-99.00</td>\n",
       "      <td>-99.00</td>\n",
       "      <td>-99.00</td>\n",
       "      <td>-99.0</td>\n",
       "      <td>-99.0</td>\n",
       "      <td>-99.0</td>\n",
       "      <td>-99.0</td>\n",
       "      <td>-99.0</td>\n",
       "      <td>-99.0</td>\n",
       "      <td>-99.0</td>\n",
       "      <td>-99.0</td>\n",
       "      <td>-99.0</td>\n",
       "      <td>-99.0</td>\n",
       "      <td>-99.0</td>\n",
       "      <td>-99.0</td>\n",
       "      <td>-99.0</td>\n",
       "      <td>-99.0</td>\n",
       "      <td>-99.0</td>\n",
       "      <td>-99.0</td>\n",
       "      <td>4.00</td>\n",
       "      <td>19.5</td>\n",
       "      <td>18.5</td>\n",
       "      <td>0.000000</td>\n",
       "      <td>0.0</td>\n",
       "      <td>0.0</td>\n",
       "      <td>0.0</td>\n",
       "      <td>0.0</td>\n",
       "      <td>0.000000</td>\n",
       "      <td>0.000000</td>\n",
       "      <td>0.000000</td>\n",
       "      <td>0.000000</td>\n",
       "      <td>0.0</td>\n",
       "      <td>0.0</td>\n",
       "      <td>0.000000</td>\n",
       "      <td>0.000000</td>\n",
       "      <td>0.000000</td>\n",
       "      <td>0.000000</td>\n",
       "      <td>0.0</td>\n",
       "      <td>0.0</td>\n",
       "      <td>0.0</td>\n",
       "      <td>0.0</td>\n",
       "      <td>0.0</td>\n",
       "      <td>0.0</td>\n",
       "      <td>0.0</td>\n",
       "      <td>0.0</td>\n",
       "      <td>0.0</td>\n",
       "      <td>0.0</td>\n",
       "      <td>0.0</td>\n",
       "      <td>0.0</td>\n",
       "      <td>0.0</td>\n",
       "      <td>0.0</td>\n",
       "      <td>0.0</td>\n",
       "      <td>0.0</td>\n",
       "      <td>1.386294</td>\n",
       "    </tr>\n",
       "    <tr>\n",
       "      <th>1</th>\n",
       "      <td>2.0</td>\n",
       "      <td>2.5</td>\n",
       "      <td>1.5</td>\n",
       "      <td>0.5</td>\n",
       "      <td>1.0</td>\n",
       "      <td>0.5</td>\n",
       "      <td>2.6</td>\n",
       "      <td>0.75</td>\n",
       "      <td>0.5</td>\n",
       "      <td>0.1</td>\n",
       "      <td>0.75</td>\n",
       "      <td>0.0</td>\n",
       "      <td>0.756637</td>\n",
       "      <td>300.0</td>\n",
       "      <td>-99.0</td>\n",
       "      <td>-99.0</td>\n",
       "      <td>-99.0</td>\n",
       "      <td>-99.0</td>\n",
       "      <td>3473.76</td>\n",
       "      <td>3520.21</td>\n",
       "      <td>3993.89</td>\n",
       "      <td>-99.00</td>\n",
       "      <td>-99.0</td>\n",
       "      <td>-99.0</td>\n",
       "      <td>3872.89</td>\n",
       "      <td>-99.00</td>\n",
       "      <td>3519.06</td>\n",
       "      <td>-99.00</td>\n",
       "      <td>-99.0</td>\n",
       "      <td>-99.0</td>\n",
       "      <td>-99.0</td>\n",
       "      <td>-99.0</td>\n",
       "      <td>-99.0</td>\n",
       "      <td>-99.0</td>\n",
       "      <td>-99.0</td>\n",
       "      <td>-99.0</td>\n",
       "      <td>-99.0</td>\n",
       "      <td>-99.0</td>\n",
       "      <td>-99.0</td>\n",
       "      <td>-99.0</td>\n",
       "      <td>-99.0</td>\n",
       "      <td>-99.0</td>\n",
       "      <td>-99.0</td>\n",
       "      <td>-99.0</td>\n",
       "      <td>3549.99</td>\n",
       "      <td>17.5</td>\n",
       "      <td>18.5</td>\n",
       "      <td>5.703782</td>\n",
       "      <td>0.0</td>\n",
       "      <td>0.0</td>\n",
       "      <td>0.0</td>\n",
       "      <td>0.0</td>\n",
       "      <td>8.152993</td>\n",
       "      <td>8.166276</td>\n",
       "      <td>8.292521</td>\n",
       "      <td>0.000000</td>\n",
       "      <td>0.0</td>\n",
       "      <td>0.0</td>\n",
       "      <td>8.261756</td>\n",
       "      <td>0.000000</td>\n",
       "      <td>8.165949</td>\n",
       "      <td>0.000000</td>\n",
       "      <td>0.0</td>\n",
       "      <td>0.0</td>\n",
       "      <td>0.0</td>\n",
       "      <td>0.0</td>\n",
       "      <td>0.0</td>\n",
       "      <td>0.0</td>\n",
       "      <td>0.0</td>\n",
       "      <td>0.0</td>\n",
       "      <td>0.0</td>\n",
       "      <td>0.0</td>\n",
       "      <td>0.0</td>\n",
       "      <td>0.0</td>\n",
       "      <td>0.0</td>\n",
       "      <td>0.0</td>\n",
       "      <td>0.0</td>\n",
       "      <td>0.0</td>\n",
       "      <td>8.174700</td>\n",
       "    </tr>\n",
       "    <tr>\n",
       "      <th>2</th>\n",
       "      <td>2.0</td>\n",
       "      <td>3.0</td>\n",
       "      <td>1.0</td>\n",
       "      <td>0.5</td>\n",
       "      <td>1.0</td>\n",
       "      <td>0.5</td>\n",
       "      <td>2.6</td>\n",
       "      <td>0.75</td>\n",
       "      <td>0.5</td>\n",
       "      <td>0.4</td>\n",
       "      <td>0.25</td>\n",
       "      <td>0.0</td>\n",
       "      <td>0.471699</td>\n",
       "      <td>300.0</td>\n",
       "      <td>-99.0</td>\n",
       "      <td>-99.0</td>\n",
       "      <td>-99.0</td>\n",
       "      <td>-99.0</td>\n",
       "      <td>3993.89</td>\n",
       "      <td>2973.47</td>\n",
       "      <td>3553.11</td>\n",
       "      <td>3520.21</td>\n",
       "      <td>-99.0</td>\n",
       "      <td>-99.0</td>\n",
       "      <td>3478.99</td>\n",
       "      <td>3549.99</td>\n",
       "      <td>1614.58</td>\n",
       "      <td>1614.62</td>\n",
       "      <td>-99.0</td>\n",
       "      <td>-99.0</td>\n",
       "      <td>-99.0</td>\n",
       "      <td>-99.0</td>\n",
       "      <td>-99.0</td>\n",
       "      <td>-99.0</td>\n",
       "      <td>-99.0</td>\n",
       "      <td>-99.0</td>\n",
       "      <td>-99.0</td>\n",
       "      <td>-99.0</td>\n",
       "      <td>-99.0</td>\n",
       "      <td>-99.0</td>\n",
       "      <td>-99.0</td>\n",
       "      <td>-99.0</td>\n",
       "      <td>-99.0</td>\n",
       "      <td>-99.0</td>\n",
       "      <td>3519.06</td>\n",
       "      <td>17.0</td>\n",
       "      <td>19.0</td>\n",
       "      <td>5.703782</td>\n",
       "      <td>0.0</td>\n",
       "      <td>0.0</td>\n",
       "      <td>0.0</td>\n",
       "      <td>0.0</td>\n",
       "      <td>8.292521</td>\n",
       "      <td>7.997485</td>\n",
       "      <td>8.175579</td>\n",
       "      <td>8.166276</td>\n",
       "      <td>0.0</td>\n",
       "      <td>0.0</td>\n",
       "      <td>8.154497</td>\n",
       "      <td>8.174700</td>\n",
       "      <td>7.386830</td>\n",
       "      <td>7.386855</td>\n",
       "      <td>0.0</td>\n",
       "      <td>0.0</td>\n",
       "      <td>0.0</td>\n",
       "      <td>0.0</td>\n",
       "      <td>0.0</td>\n",
       "      <td>0.0</td>\n",
       "      <td>0.0</td>\n",
       "      <td>0.0</td>\n",
       "      <td>0.0</td>\n",
       "      <td>0.0</td>\n",
       "      <td>0.0</td>\n",
       "      <td>0.0</td>\n",
       "      <td>0.0</td>\n",
       "      <td>0.0</td>\n",
       "      <td>0.0</td>\n",
       "      <td>0.0</td>\n",
       "      <td>8.165949</td>\n",
       "    </tr>\n",
       "    <tr>\n",
       "      <th>3</th>\n",
       "      <td>2.0</td>\n",
       "      <td>2.0</td>\n",
       "      <td>0.5</td>\n",
       "      <td>0.5</td>\n",
       "      <td>1.0</td>\n",
       "      <td>0.5</td>\n",
       "      <td>2.6</td>\n",
       "      <td>0.75</td>\n",
       "      <td>0.5</td>\n",
       "      <td>0.6</td>\n",
       "      <td>0.25</td>\n",
       "      <td>0.0</td>\n",
       "      <td>0.650000</td>\n",
       "      <td>300.0</td>\n",
       "      <td>-99.0</td>\n",
       "      <td>-99.0</td>\n",
       "      <td>-99.0</td>\n",
       "      <td>-99.0</td>\n",
       "      <td>3324.64</td>\n",
       "      <td>3478.99</td>\n",
       "      <td>3876.13</td>\n",
       "      <td>3872.89</td>\n",
       "      <td>-99.0</td>\n",
       "      <td>-99.0</td>\n",
       "      <td>3303.29</td>\n",
       "      <td>2329.08</td>\n",
       "      <td>3996.03</td>\n",
       "      <td>3993.89</td>\n",
       "      <td>-99.0</td>\n",
       "      <td>-99.0</td>\n",
       "      <td>-99.0</td>\n",
       "      <td>-99.0</td>\n",
       "      <td>-99.0</td>\n",
       "      <td>-99.0</td>\n",
       "      <td>-99.0</td>\n",
       "      <td>-99.0</td>\n",
       "      <td>-99.0</td>\n",
       "      <td>-99.0</td>\n",
       "      <td>-99.0</td>\n",
       "      <td>-99.0</td>\n",
       "      <td>-99.0</td>\n",
       "      <td>-99.0</td>\n",
       "      <td>-99.0</td>\n",
       "      <td>-99.0</td>\n",
       "      <td>3026.39</td>\n",
       "      <td>18.0</td>\n",
       "      <td>19.5</td>\n",
       "      <td>5.703782</td>\n",
       "      <td>0.0</td>\n",
       "      <td>0.0</td>\n",
       "      <td>0.0</td>\n",
       "      <td>0.0</td>\n",
       "      <td>8.109117</td>\n",
       "      <td>8.154497</td>\n",
       "      <td>8.262593</td>\n",
       "      <td>8.261756</td>\n",
       "      <td>0.0</td>\n",
       "      <td>0.0</td>\n",
       "      <td>8.102674</td>\n",
       "      <td>7.753229</td>\n",
       "      <td>8.293057</td>\n",
       "      <td>8.292521</td>\n",
       "      <td>0.0</td>\n",
       "      <td>0.0</td>\n",
       "      <td>0.0</td>\n",
       "      <td>0.0</td>\n",
       "      <td>0.0</td>\n",
       "      <td>0.0</td>\n",
       "      <td>0.0</td>\n",
       "      <td>0.0</td>\n",
       "      <td>0.0</td>\n",
       "      <td>0.0</td>\n",
       "      <td>0.0</td>\n",
       "      <td>0.0</td>\n",
       "      <td>0.0</td>\n",
       "      <td>0.0</td>\n",
       "      <td>0.0</td>\n",
       "      <td>0.0</td>\n",
       "      <td>8.015126</td>\n",
       "    </tr>\n",
       "    <tr>\n",
       "      <th>4</th>\n",
       "      <td>2.0</td>\n",
       "      <td>0.5</td>\n",
       "      <td>1.0</td>\n",
       "      <td>0.5</td>\n",
       "      <td>1.0</td>\n",
       "      <td>0.5</td>\n",
       "      <td>2.6</td>\n",
       "      <td>0.75</td>\n",
       "      <td>0.5</td>\n",
       "      <td>2.1</td>\n",
       "      <td>0.25</td>\n",
       "      <td>0.0</td>\n",
       "      <td>2.114829</td>\n",
       "      <td>300.0</td>\n",
       "      <td>-99.0</td>\n",
       "      <td>-99.0</td>\n",
       "      <td>-99.0</td>\n",
       "      <td>-99.0</td>\n",
       "      <td>1554.23</td>\n",
       "      <td>2706.98</td>\n",
       "      <td>1643.90</td>\n",
       "      <td>5.00</td>\n",
       "      <td>-99.0</td>\n",
       "      <td>-99.0</td>\n",
       "      <td>1959.09</td>\n",
       "      <td>1763.85</td>\n",
       "      <td>1754.33</td>\n",
       "      <td>2869.67</td>\n",
       "      <td>-99.0</td>\n",
       "      <td>-99.0</td>\n",
       "      <td>-99.0</td>\n",
       "      <td>-99.0</td>\n",
       "      <td>-99.0</td>\n",
       "      <td>-99.0</td>\n",
       "      <td>-99.0</td>\n",
       "      <td>-99.0</td>\n",
       "      <td>-99.0</td>\n",
       "      <td>-99.0</td>\n",
       "      <td>-99.0</td>\n",
       "      <td>-99.0</td>\n",
       "      <td>-99.0</td>\n",
       "      <td>-99.0</td>\n",
       "      <td>-99.0</td>\n",
       "      <td>-99.0</td>\n",
       "      <td>1876.72</td>\n",
       "      <td>19.5</td>\n",
       "      <td>19.0</td>\n",
       "      <td>5.703782</td>\n",
       "      <td>0.0</td>\n",
       "      <td>0.0</td>\n",
       "      <td>0.0</td>\n",
       "      <td>0.0</td>\n",
       "      <td>7.348736</td>\n",
       "      <td>7.903589</td>\n",
       "      <td>7.404827</td>\n",
       "      <td>1.609438</td>\n",
       "      <td>0.0</td>\n",
       "      <td>0.0</td>\n",
       "      <td>7.580235</td>\n",
       "      <td>7.475254</td>\n",
       "      <td>7.469842</td>\n",
       "      <td>7.961952</td>\n",
       "      <td>0.0</td>\n",
       "      <td>0.0</td>\n",
       "      <td>0.0</td>\n",
       "      <td>0.0</td>\n",
       "      <td>0.0</td>\n",
       "      <td>0.0</td>\n",
       "      <td>0.0</td>\n",
       "      <td>0.0</td>\n",
       "      <td>0.0</td>\n",
       "      <td>0.0</td>\n",
       "      <td>0.0</td>\n",
       "      <td>0.0</td>\n",
       "      <td>0.0</td>\n",
       "      <td>0.0</td>\n",
       "      <td>0.0</td>\n",
       "      <td>0.0</td>\n",
       "      <td>7.537281</td>\n",
       "    </tr>\n",
       "  </tbody>\n",
       "</table>\n",
       "</div>"
      ],
      "text/plain": [
       "   timestep  x_voxel  y_voxel  z_voxel  layerNum  time_creation  x_laser  \\\n",
       "0       1.0      0.5      1.5      0.5       1.0            2.0      0.0   \n",
       "1       2.0      2.5      1.5      0.5       1.0            0.5      2.6   \n",
       "2       2.0      3.0      1.0      0.5       1.0            0.5      2.6   \n",
       "3       2.0      2.0      0.5      0.5       1.0            0.5      2.6   \n",
       "4       2.0      0.5      1.0      0.5       1.0            0.5      2.6   \n",
       "\n",
       "   y_laser  z_laser  x_distance  y_distance  z_distance  \\\n",
       "0     0.75      0.5         0.5        0.75         0.0   \n",
       "1     0.75      0.5         0.1        0.75         0.0   \n",
       "2     0.75      0.5         0.4        0.25         0.0   \n",
       "3     0.75      0.5         0.6        0.25         0.0   \n",
       "4     0.75      0.5         2.1        0.25         0.0   \n",
       "\n",
       "   euclidean_distance_laser  Tminus1  Tminus2  Tminus3  Tminus4  Tminus5  \\\n",
       "0                  0.901388    -99.0    -99.0    -99.0    -99.0    -99.0   \n",
       "1                  0.756637    300.0    -99.0    -99.0    -99.0    -99.0   \n",
       "2                  0.471699    300.0    -99.0    -99.0    -99.0    -99.0   \n",
       "3                  0.650000    300.0    -99.0    -99.0    -99.0    -99.0   \n",
       "4                  2.114829    300.0    -99.0    -99.0    -99.0    -99.0   \n",
       "\n",
       "    T1_t-1   T2_t-1   T3_t-1   T4_t-1  T5_t-1  T6_t-1   T7_t-1   T8_t-1  \\\n",
       "0   -99.00   -99.00   -99.00   -99.00   -99.0   -99.0   -99.00   -99.00   \n",
       "1  3473.76  3520.21  3993.89   -99.00   -99.0   -99.0  3872.89   -99.00   \n",
       "2  3993.89  2973.47  3553.11  3520.21   -99.0   -99.0  3478.99  3549.99   \n",
       "3  3324.64  3478.99  3876.13  3872.89   -99.0   -99.0  3303.29  2329.08   \n",
       "4  1554.23  2706.98  1643.90     5.00   -99.0   -99.0  1959.09  1763.85   \n",
       "\n",
       "    T9_t-1  T10_t-1  T11_t-1  T12_t-1  T13_t-1  T14_t-1  T15_t-1  T16_t-1  \\\n",
       "0   -99.00   -99.00    -99.0    -99.0    -99.0    -99.0    -99.0    -99.0   \n",
       "1  3519.06   -99.00    -99.0    -99.0    -99.0    -99.0    -99.0    -99.0   \n",
       "2  1614.58  1614.62    -99.0    -99.0    -99.0    -99.0    -99.0    -99.0   \n",
       "3  3996.03  3993.89    -99.0    -99.0    -99.0    -99.0    -99.0    -99.0   \n",
       "4  1754.33  2869.67    -99.0    -99.0    -99.0    -99.0    -99.0    -99.0   \n",
       "\n",
       "   T17_t-1  T18_t-1  T19_t-1  T20_t-1  T21_t-1  T22_t-1  T23_t-1  T24_t-1  \\\n",
       "0    -99.0    -99.0    -99.0    -99.0    -99.0    -99.0    -99.0    -99.0   \n",
       "1    -99.0    -99.0    -99.0    -99.0    -99.0    -99.0    -99.0    -99.0   \n",
       "2    -99.0    -99.0    -99.0    -99.0    -99.0    -99.0    -99.0    -99.0   \n",
       "3    -99.0    -99.0    -99.0    -99.0    -99.0    -99.0    -99.0    -99.0   \n",
       "4    -99.0    -99.0    -99.0    -99.0    -99.0    -99.0    -99.0    -99.0   \n",
       "\n",
       "   T25_t-1  T26_t-1   T_self  x_edge  y_edge  logTminus1  logTminus2  \\\n",
       "0    -99.0    -99.0     4.00    19.5    18.5    0.000000         0.0   \n",
       "1    -99.0    -99.0  3549.99    17.5    18.5    5.703782         0.0   \n",
       "2    -99.0    -99.0  3519.06    17.0    19.0    5.703782         0.0   \n",
       "3    -99.0    -99.0  3026.39    18.0    19.5    5.703782         0.0   \n",
       "4    -99.0    -99.0  1876.72    19.5    19.0    5.703782         0.0   \n",
       "\n",
       "   logTminus3  logTminus4  logTminus5  logT1_t-1  logT2_t-1  logT3_t-1  \\\n",
       "0         0.0         0.0         0.0   0.000000   0.000000   0.000000   \n",
       "1         0.0         0.0         0.0   8.152993   8.166276   8.292521   \n",
       "2         0.0         0.0         0.0   8.292521   7.997485   8.175579   \n",
       "3         0.0         0.0         0.0   8.109117   8.154497   8.262593   \n",
       "4         0.0         0.0         0.0   7.348736   7.903589   7.404827   \n",
       "\n",
       "   logT4_t-1  logT5_t-1  logT6_t-1  logT7_t-1  logT8_t-1  logT9_t-1  \\\n",
       "0   0.000000        0.0        0.0   0.000000   0.000000   0.000000   \n",
       "1   0.000000        0.0        0.0   8.261756   0.000000   8.165949   \n",
       "2   8.166276        0.0        0.0   8.154497   8.174700   7.386830   \n",
       "3   8.261756        0.0        0.0   8.102674   7.753229   8.293057   \n",
       "4   1.609438        0.0        0.0   7.580235   7.475254   7.469842   \n",
       "\n",
       "   logT10_t-1  logT11_t-1  logT12_t-1  logT13_t-1  logT14_t-1  logT15_t-1  \\\n",
       "0    0.000000         0.0         0.0         0.0         0.0         0.0   \n",
       "1    0.000000         0.0         0.0         0.0         0.0         0.0   \n",
       "2    7.386855         0.0         0.0         0.0         0.0         0.0   \n",
       "3    8.292521         0.0         0.0         0.0         0.0         0.0   \n",
       "4    7.961952         0.0         0.0         0.0         0.0         0.0   \n",
       "\n",
       "   logT16_t-1  logT17_t-1  logT18_t-1  logT19_t-1  logT20_t-1  logT21_t-1  \\\n",
       "0         0.0         0.0         0.0         0.0         0.0         0.0   \n",
       "1         0.0         0.0         0.0         0.0         0.0         0.0   \n",
       "2         0.0         0.0         0.0         0.0         0.0         0.0   \n",
       "3         0.0         0.0         0.0         0.0         0.0         0.0   \n",
       "4         0.0         0.0         0.0         0.0         0.0         0.0   \n",
       "\n",
       "   logT22_t-1  logT23_t-1  logT24_t-1  logT25_t-1  logT26_t-1      logT  \n",
       "0         0.0         0.0         0.0         0.0         0.0  1.386294  \n",
       "1         0.0         0.0         0.0         0.0         0.0  8.174700  \n",
       "2         0.0         0.0         0.0         0.0         0.0  8.165949  \n",
       "3         0.0         0.0         0.0         0.0         0.0  8.015126  \n",
       "4         0.0         0.0         0.0         0.0         0.0  7.537281  "
      ]
     },
     "execution_count": 132,
     "metadata": {},
     "output_type": "execute_result"
    }
   ],
   "source": [
    "df_big.head()"
   ]
  },
  {
   "cell_type": "code",
   "execution_count": 133,
   "metadata": {},
   "outputs": [],
   "source": [
    "logNeighborColumns = []\n",
    "for neighbor in range(26):\n",
    "    logNeighborColumns += ['logT'+str(neighbor+1)+'_t-1']\n",
    "\n",
    "\n",
    "featureColumns = ['timestep','x_distance','y_distance','z_distance','x_edge','y_edge','layerNum']+['logTminus1','logTminus2','logTminus3']+logNeighborColumns\n"
   ]
  },
  {
   "cell_type": "markdown",
   "metadata": {},
   "source": [
    "#### Saving the df with log "
   ]
  },
  {
   "cell_type": "code",
   "execution_count": 136,
   "metadata": {},
   "outputs": [],
   "source": [
    "df_log = df_big"
   ]
  },
  {
   "cell_type": "markdown",
   "metadata": {},
   "source": [
    "### <font color=\"green\"> Predicting based on log features </font>"
   ]
  },
  {
   "cell_type": "code",
   "execution_count": 134,
   "metadata": {},
   "outputs": [],
   "source": [
    "df_train = df_big[(df_big['timestep'] < 950.0) ]\n",
    "df_test = df_big[(df_big['timestep'] >= 950.0) ]\n",
    "\n",
    "X_train = df_train.loc[:,featureColumns ]\n",
    "y_train = df_train['T_self']\n",
    "\n",
    "X_test = df_test.loc[:,featureColumns ]\n",
    "y_test = df_test['T_self']\n",
    "\n",
    "X_train,y_train = shuffle(X_train,y_train,random_state=300)\n",
    "X_test,y_test = shuffle(X_test,y_test,random_state=300)"
   ]
  },
  {
   "cell_type": "code",
   "execution_count": 135,
   "metadata": {},
   "outputs": [
    {
     "data": {
      "text/plain": [
       "(0.9944, 0.2177)"
      ]
     },
     "execution_count": 135,
     "metadata": {},
     "output_type": "execute_result"
    }
   ],
   "source": [
    "et = ExtraTreesRegressor(n_jobs=-1)\n",
    "et.fit(X_train,y_train)\n",
    "predicted = et.predict(X_test)\n",
    "r2(y_test,predicted) ,mape(y_test,predicted)"
   ]
  },
  {
   "cell_type": "markdown",
   "metadata": {},
   "source": [
    "### SGD regression - regular temperature (not log)\n",
    "It performs much worse than regular linear regression "
   ]
  },
  {
   "cell_type": "code",
   "execution_count": 141,
   "metadata": {},
   "outputs": [
    {
     "data": {
      "text/plain": [
       "(-1.8800095347191276e+25, 65244174206837.11)"
      ]
     },
     "execution_count": 141,
     "metadata": {},
     "output_type": "execute_result"
    }
   ],
   "source": [
    "sgd = SGDRegressor()\n",
    "sgd.fit(X_train,y_train)\n",
    "predicted = sgd.predict(X_test)\n",
    "r2(y_test,predicted) ,mape(y_test,predicted)"
   ]
  },
  {
   "cell_type": "code",
   "execution_count": 142,
   "metadata": {},
   "outputs": [
    {
     "data": {
      "text/plain": [
       "(0.9535, 1.8475)"
      ]
     },
     "execution_count": 142,
     "metadata": {},
     "output_type": "execute_result"
    }
   ],
   "source": [
    "linear = LinearRegression()\n",
    "linear.fit(X_train,y_train)\n",
    "predicted = linear.predict(X_test)\n",
    "r2(y_test,predicted) ,mape(y_test,predicted)"
   ]
  },
  {
   "cell_type": "code",
   "execution_count": 145,
   "metadata": {},
   "outputs": [
    {
     "data": {
      "text/plain": [
       "(0.9536, 1.8262)"
      ]
     },
     "execution_count": 145,
     "metadata": {},
     "output_type": "execute_result"
    }
   ],
   "source": [
    "elastic = ElasticNet()\n",
    "elastic.fit(X_train,y_train)\n",
    "predicted = elastic.predict(X_test)\n",
    "r2(y_test,predicted) ,mape(y_test,predicted)"
   ]
  },
  {
   "cell_type": "code",
   "execution_count": 151,
   "metadata": {},
   "outputs": [
    {
     "data": {
      "text/plain": [
       "(0.9536, 1.8275)"
      ]
     },
     "execution_count": 151,
     "metadata": {},
     "output_type": "execute_result"
    }
   ],
   "source": [
    "elastic = ElasticNet(l1_ratio =0.2)\n",
    "elastic.fit(X_train,y_train)\n",
    "predicted = elastic.predict(X_test)\n",
    "r2(y_test,predicted) ,mape(y_test,predicted)"
   ]
  },
  {
   "cell_type": "code",
   "execution_count": 148,
   "metadata": {},
   "outputs": [
    {
     "data": {
      "text/plain": [
       "(0.9941, 0.2079)"
      ]
     },
     "execution_count": 148,
     "metadata": {},
     "output_type": "execute_result"
    }
   ],
   "source": [
    "rf = RandomForestRegressor(n_jobs=-1)\n",
    "rf.fit(X_train,y_train)\n",
    "predicted = rf.predict(X_test)\n",
    "r2(y_test,predicted) ,mape(y_test,predicted)"
   ]
  },
  {
   "cell_type": "code",
   "execution_count": 153,
   "metadata": {},
   "outputs": [
    {
     "data": {
      "text/plain": [
       "(0.9918, 0.2494)"
      ]
     },
     "execution_count": 153,
     "metadata": {},
     "output_type": "execute_result"
    }
   ],
   "source": [
    "rf = RandomForestRegressor(n_jobs=-1,n_estimators=3)\n",
    "rf.fit(X_train,y_train)\n",
    "predicted = rf.predict(X_test)\n",
    "r2(y_test,predicted) ,mape(y_test,predicted)"
   ]
  },
  {
   "cell_type": "code",
   "execution_count": 150,
   "metadata": {},
   "outputs": [
    {
     "data": {
      "text/plain": [
       "(0.9867, 0.2971)"
      ]
     },
     "execution_count": 150,
     "metadata": {},
     "output_type": "execute_result"
    }
   ],
   "source": [
    "dt = DecisionTreeRegressor(random_state=300)\n",
    "dt.fit(X_train,y_train)\n",
    "predicted = dt.predict(X_test)\n",
    "r2(y_test,predicted) ,mape(y_test,predicted)"
   ]
  },
  {
   "cell_type": "markdown",
   "metadata": {},
   "source": [
    "### To do Friday \n",
    "* Run experiments on the smaller sample \n",
    "* See if the log of attributes impact the results \n",
    "* See the R2 across missing values "
   ]
  },
  {
   "cell_type": "markdown",
   "metadata": {},
   "source": [
    "### <font color=\"red\"> Exploratory Analysis for Different Types of Voxels </font>"
   ]
  },
  {
   "cell_type": "code",
   "execution_count": 49,
   "metadata": {},
   "outputs": [
    {
     "data": {
      "text/plain": [
       "(0.9914, 0.8673)"
      ]
     },
     "execution_count": 49,
     "metadata": {},
     "output_type": "execute_result"
    }
   ],
   "source": [
    "et = ExtraTreesRegressor(n_estimators=20, n_jobs=-1)\n",
    "et.fit(X_train,y_train)\n",
    "predicted = et.predict(X_test)\n",
    "r2(y_test,predicted) ,mape(y_test,predicted)"
   ]
  },
  {
   "cell_type": "markdown",
   "metadata": {},
   "source": [
    "#### R2 is 0.9912 for extra Trees"
   ]
  },
  {
   "cell_type": "code",
   "execution_count": 17,
   "metadata": {},
   "outputs": [
    {
     "data": {
      "text/html": [
       "<div>\n",
       "<style scoped>\n",
       "    .dataframe tbody tr th:only-of-type {\n",
       "        vertical-align: middle;\n",
       "    }\n",
       "\n",
       "    .dataframe tbody tr th {\n",
       "        vertical-align: top;\n",
       "    }\n",
       "\n",
       "    .dataframe thead th {\n",
       "        text-align: right;\n",
       "    }\n",
       "</style>\n",
       "<table border=\"1\" class=\"dataframe\">\n",
       "  <thead>\n",
       "    <tr style=\"text-align: right;\">\n",
       "      <th></th>\n",
       "      <th>timestep</th>\n",
       "      <th>x_distance</th>\n",
       "      <th>y_distance</th>\n",
       "      <th>z_distance</th>\n",
       "      <th>time_creation</th>\n",
       "      <th>Tminus1</th>\n",
       "      <th>T1_t-1</th>\n",
       "      <th>T2_t-1</th>\n",
       "      <th>T3_t-1</th>\n",
       "      <th>T4_t-1</th>\n",
       "      <th>T5_t-1</th>\n",
       "      <th>T6_t-1</th>\n",
       "      <th>T7_t-1</th>\n",
       "      <th>T8_t-1</th>\n",
       "      <th>T9_t-1</th>\n",
       "      <th>T10_t-1</th>\n",
       "      <th>T11_t-1</th>\n",
       "      <th>T12_t-1</th>\n",
       "      <th>T13_t-1</th>\n",
       "      <th>T14_t-1</th>\n",
       "      <th>T15_t-1</th>\n",
       "      <th>T16_t-1</th>\n",
       "      <th>T17_t-1</th>\n",
       "      <th>T18_t-1</th>\n",
       "      <th>T19_t-1</th>\n",
       "      <th>T20_t-1</th>\n",
       "      <th>T21_t-1</th>\n",
       "      <th>T22_t-1</th>\n",
       "      <th>T23_t-1</th>\n",
       "      <th>T24_t-1</th>\n",
       "      <th>T25_t-1</th>\n",
       "      <th>T26_t-1</th>\n",
       "    </tr>\n",
       "  </thead>\n",
       "  <tbody>\n",
       "    <tr>\n",
       "      <th>690604</th>\n",
       "      <td>314.0</td>\n",
       "      <td>10.768543</td>\n",
       "      <td>1.75</td>\n",
       "      <td>0.5</td>\n",
       "      <td>1.0</td>\n",
       "      <td>1543.870</td>\n",
       "      <td>1341.520</td>\n",
       "      <td>1484.760</td>\n",
       "      <td>1498.600</td>\n",
       "      <td>1368.740</td>\n",
       "      <td>1409.590</td>\n",
       "      <td>1426.00</td>\n",
       "      <td>1467.440</td>\n",
       "      <td>1461.420</td>\n",
       "      <td>1485.200</td>\n",
       "      <td>1393.550</td>\n",
       "      <td>1432.330</td>\n",
       "      <td>1321.170</td>\n",
       "      <td>1511.080</td>\n",
       "      <td>1510.690</td>\n",
       "      <td>1297.640</td>\n",
       "      <td>1431.360</td>\n",
       "      <td>1440.280</td>\n",
       "      <td>1502.59</td>\n",
       "      <td>1410.910</td>\n",
       "      <td>1424.800</td>\n",
       "      <td>1483.27</td>\n",
       "      <td>1342.030</td>\n",
       "      <td>1477.530</td>\n",
       "      <td>1394.610</td>\n",
       "      <td>1496.410</td>\n",
       "      <td>1455.290</td>\n",
       "    </tr>\n",
       "    <tr>\n",
       "      <th>514301</th>\n",
       "      <td>270.0</td>\n",
       "      <td>14.331458</td>\n",
       "      <td>7.25</td>\n",
       "      <td>0.5</td>\n",
       "      <td>1.0</td>\n",
       "      <td>754.711</td>\n",
       "      <td>759.614</td>\n",
       "      <td>758.988</td>\n",
       "      <td>748.478</td>\n",
       "      <td>765.633</td>\n",
       "      <td>765.761</td>\n",
       "      <td>-99.00</td>\n",
       "      <td>750.655</td>\n",
       "      <td>771.674</td>\n",
       "      <td>738.596</td>\n",
       "      <td>741.559</td>\n",
       "      <td>744.741</td>\n",
       "      <td>748.402</td>\n",
       "      <td>-99.000</td>\n",
       "      <td>-99.000</td>\n",
       "      <td>759.720</td>\n",
       "      <td>759.107</td>\n",
       "      <td>-99.000</td>\n",
       "      <td>-99.00</td>\n",
       "      <td>753.564</td>\n",
       "      <td>771.811</td>\n",
       "      <td>738.41</td>\n",
       "      <td>741.592</td>\n",
       "      <td>-99.000</td>\n",
       "      <td>-99.000</td>\n",
       "      <td>-99.000</td>\n",
       "      <td>-99.000</td>\n",
       "    </tr>\n",
       "    <tr>\n",
       "      <th>11216</th>\n",
       "      <td>37.0</td>\n",
       "      <td>5.900000</td>\n",
       "      <td>0.75</td>\n",
       "      <td>0.0</td>\n",
       "      <td>0.5</td>\n",
       "      <td>1046.450</td>\n",
       "      <td>1009.290</td>\n",
       "      <td>975.481</td>\n",
       "      <td>1001.650</td>\n",
       "      <td>-99.000</td>\n",
       "      <td>-99.000</td>\n",
       "      <td>-99.00</td>\n",
       "      <td>976.853</td>\n",
       "      <td>-99.000</td>\n",
       "      <td>993.239</td>\n",
       "      <td>-99.000</td>\n",
       "      <td>-99.000</td>\n",
       "      <td>-99.000</td>\n",
       "      <td>-99.000</td>\n",
       "      <td>-99.000</td>\n",
       "      <td>-99.000</td>\n",
       "      <td>-99.000</td>\n",
       "      <td>-99.000</td>\n",
       "      <td>-99.00</td>\n",
       "      <td>-99.000</td>\n",
       "      <td>-99.000</td>\n",
       "      <td>-99.00</td>\n",
       "      <td>-99.000</td>\n",
       "      <td>-99.000</td>\n",
       "      <td>-99.000</td>\n",
       "      <td>-99.000</td>\n",
       "      <td>-99.000</td>\n",
       "    </tr>\n",
       "    <tr>\n",
       "      <th>754700</th>\n",
       "      <td>329.0</td>\n",
       "      <td>0.231457</td>\n",
       "      <td>4.75</td>\n",
       "      <td>0.5</td>\n",
       "      <td>1.0</td>\n",
       "      <td>600.804</td>\n",
       "      <td>625.242</td>\n",
       "      <td>617.432</td>\n",
       "      <td>606.607</td>\n",
       "      <td>619.809</td>\n",
       "      <td>617.407</td>\n",
       "      <td>-99.00</td>\n",
       "      <td>608.922</td>\n",
       "      <td>611.694</td>\n",
       "      <td>597.678</td>\n",
       "      <td>604.373</td>\n",
       "      <td>599.761</td>\n",
       "      <td>603.989</td>\n",
       "      <td>-99.000</td>\n",
       "      <td>-99.000</td>\n",
       "      <td>624.134</td>\n",
       "      <td>593.696</td>\n",
       "      <td>-99.000</td>\n",
       "      <td>-99.00</td>\n",
       "      <td>606.449</td>\n",
       "      <td>610.298</td>\n",
       "      <td>601.51</td>\n",
       "      <td>614.770</td>\n",
       "      <td>-99.000</td>\n",
       "      <td>-99.000</td>\n",
       "      <td>-99.000</td>\n",
       "      <td>-99.000</td>\n",
       "    </tr>\n",
       "    <tr>\n",
       "      <th>662509</th>\n",
       "      <td>308.0</td>\n",
       "      <td>0.131457</td>\n",
       "      <td>9.25</td>\n",
       "      <td>0.5</td>\n",
       "      <td>1.0</td>\n",
       "      <td>1015.170</td>\n",
       "      <td>984.093</td>\n",
       "      <td>1008.580</td>\n",
       "      <td>984.060</td>\n",
       "      <td>967.038</td>\n",
       "      <td>940.569</td>\n",
       "      <td>1010.99</td>\n",
       "      <td>967.176</td>\n",
       "      <td>959.588</td>\n",
       "      <td>983.097</td>\n",
       "      <td>965.986</td>\n",
       "      <td>999.322</td>\n",
       "      <td>948.935</td>\n",
       "      <td>987.751</td>\n",
       "      <td>971.924</td>\n",
       "      <td>972.060</td>\n",
       "      <td>940.357</td>\n",
       "      <td>987.775</td>\n",
       "      <td>1011.13</td>\n",
       "      <td>999.212</td>\n",
       "      <td>939.890</td>\n",
       "      <td>971.03</td>\n",
       "      <td>947.869</td>\n",
       "      <td>972.052</td>\n",
       "      <td>965.118</td>\n",
       "      <td>986.792</td>\n",
       "      <td>970.876</td>\n",
       "    </tr>\n",
       "  </tbody>\n",
       "</table>\n",
       "</div>"
      ],
      "text/plain": [
       "        timestep  x_distance  y_distance  z_distance  time_creation   Tminus1  \\\n",
       "690604     314.0   10.768543        1.75         0.5            1.0  1543.870   \n",
       "514301     270.0   14.331458        7.25         0.5            1.0   754.711   \n",
       "11216       37.0    5.900000        0.75         0.0            0.5  1046.450   \n",
       "754700     329.0    0.231457        4.75         0.5            1.0   600.804   \n",
       "662509     308.0    0.131457        9.25         0.5            1.0  1015.170   \n",
       "\n",
       "          T1_t-1    T2_t-1    T3_t-1    T4_t-1    T5_t-1   T6_t-1    T7_t-1  \\\n",
       "690604  1341.520  1484.760  1498.600  1368.740  1409.590  1426.00  1467.440   \n",
       "514301   759.614   758.988   748.478   765.633   765.761   -99.00   750.655   \n",
       "11216   1009.290   975.481  1001.650   -99.000   -99.000   -99.00   976.853   \n",
       "754700   625.242   617.432   606.607   619.809   617.407   -99.00   608.922   \n",
       "662509   984.093  1008.580   984.060   967.038   940.569  1010.99   967.176   \n",
       "\n",
       "          T8_t-1    T9_t-1   T10_t-1   T11_t-1   T12_t-1   T13_t-1   T14_t-1  \\\n",
       "690604  1461.420  1485.200  1393.550  1432.330  1321.170  1511.080  1510.690   \n",
       "514301   771.674   738.596   741.559   744.741   748.402   -99.000   -99.000   \n",
       "11216    -99.000   993.239   -99.000   -99.000   -99.000   -99.000   -99.000   \n",
       "754700   611.694   597.678   604.373   599.761   603.989   -99.000   -99.000   \n",
       "662509   959.588   983.097   965.986   999.322   948.935   987.751   971.924   \n",
       "\n",
       "         T15_t-1   T16_t-1   T17_t-1  T18_t-1   T19_t-1   T20_t-1  T21_t-1  \\\n",
       "690604  1297.640  1431.360  1440.280  1502.59  1410.910  1424.800  1483.27   \n",
       "514301   759.720   759.107   -99.000   -99.00   753.564   771.811   738.41   \n",
       "11216    -99.000   -99.000   -99.000   -99.00   -99.000   -99.000   -99.00   \n",
       "754700   624.134   593.696   -99.000   -99.00   606.449   610.298   601.51   \n",
       "662509   972.060   940.357   987.775  1011.13   999.212   939.890   971.03   \n",
       "\n",
       "         T22_t-1   T23_t-1   T24_t-1   T25_t-1   T26_t-1  \n",
       "690604  1342.030  1477.530  1394.610  1496.410  1455.290  \n",
       "514301   741.592   -99.000   -99.000   -99.000   -99.000  \n",
       "11216    -99.000   -99.000   -99.000   -99.000   -99.000  \n",
       "754700   614.770   -99.000   -99.000   -99.000   -99.000  \n",
       "662509   947.869   972.052   965.118   986.792   970.876  "
      ]
     },
     "execution_count": 17,
     "metadata": {},
     "output_type": "execute_result"
    }
   ],
   "source": [
    "X_train.head()"
   ]
  },
  {
   "cell_type": "code",
   "execution_count": 19,
   "metadata": {},
   "outputs": [
    {
     "data": {
      "text/plain": [
       "610671"
      ]
     },
     "execution_count": 19,
     "metadata": {},
     "output_type": "execute_result"
    }
   ],
   "source": [
    "len(X_test)"
   ]
  },
  {
   "cell_type": "markdown",
   "metadata": {},
   "source": [
    "Steps: \n",
    "* Create a small subset of data \n",
    "* Check how much time it takes to create the check for a small dataset \n",
    "* Implement on big dataset \n",
    "* Make a function for that \n",
    "* Check for training set - use it as a training parameter \n",
    "* Check for other types "
   ]
  },
  {
   "cell_type": "code",
   "execution_count": 37,
   "metadata": {},
   "outputs": [
    {
     "data": {
      "text/plain": [
       "present    580628\n",
       "absent      30043\n",
       "Name: voxelLat, dtype: int64"
      ]
     },
     "execution_count": 37,
     "metadata": {},
     "output_type": "execute_result"
    }
   ],
   "source": [
    "X_test['voxelLat'] = 'present'\n",
    "X_test['voxelLat'][X_test['T1_t-1']==-99] = 'absent'\n",
    "X_test['voxelLat'][X_test['T2_t-1']==-99] = 'absent'\n",
    "X_test['voxelLat'].value_counts()"
   ]
  },
  {
   "cell_type": "code",
   "execution_count": 38,
   "metadata": {},
   "outputs": [
    {
     "data": {
      "text/plain": [
       "present    577848\n",
       "absent      32823\n",
       "Name: voxelLong, dtype: int64"
      ]
     },
     "execution_count": 38,
     "metadata": {},
     "output_type": "execute_result"
    }
   ],
   "source": [
    "X_test['voxelLong'] = 'present'\n",
    "X_test['voxelLong'][X_test['T3_t-1']==-99] = 'absent'\n",
    "X_test['voxelLong'][X_test['T4_t-1']==-99] = 'absent'\n",
    "X_test['voxelLong'].value_counts()"
   ]
  },
  {
   "cell_type": "code",
   "execution_count": 39,
   "metadata": {},
   "outputs": [
    {
     "data": {
      "text/plain": [
       "absent     336200\n",
       "present    274471\n",
       "Name: voxelVert, dtype: int64"
      ]
     },
     "execution_count": 39,
     "metadata": {},
     "output_type": "execute_result"
    }
   ],
   "source": [
    "X_test['voxelVert'] = 'present'\n",
    "X_test['voxelVert'][X_test['T5_t-1']==-99] = 'absent'\n",
    "X_test['voxelVert'][X_test['T6_t-1']==-99] = 'absent'\n",
    "X_test['voxelVert'].value_counts()"
   ]
  },
  {
   "cell_type": "markdown",
   "metadata": {},
   "source": [
    "#### Assigning voxel Types\n"
   ]
  },
  {
   "cell_type": "code",
   "execution_count": 114,
   "metadata": {},
   "outputs": [],
   "source": [
    "X_test['voxelType'] = 'someMissing'\n",
    "X_test['voxelType'][X_test['voxelVert']=='absent'] = 'vertMissing'\n",
    "X_test['voxelType'][X_test['voxelLong']=='absent'] = 'longMissing'\n",
    "X_test['voxelType'][X_test['voxelLat']=='absent'] = 'latMissing'"
   ]
  },
  {
   "cell_type": "code",
   "execution_count": 115,
   "metadata": {},
   "outputs": [],
   "source": [
    "X_test.loc[(X_test['T1_t-1']!= -99) & (X_test['T2_t-1'] != -99) & (X_test['T3_t-1']!= -99) & (X_test['T4_t-1'] != -99)\n",
    "              &(X_test['T5_t-1']!= -99) & (X_test['T6_t-1'] != -99) & (X_test['T7_t-1']!= -99) & (X_test['T8_t-1'] != -99)\n",
    "              &(X_test['T9_t-1']!= -99) & (X_test['T10_t-1'] != -99) & (X_test['T11_t-1']!= -99) & (X_test['T12_t-1'] != -99)\n",
    "              &(X_test['T13_t-1']!= -99) & (X_test['T14_t-1'] != -99) & (X_test['T15_t-1']!= -99) & (X_test['T16_t-1'] != -99)\n",
    "              &(X_test['T17_t-1']!= -99) & (X_test['T18_t-1'] != -99) & (X_test['T19_t-1']!= -99) & (X_test['T20_t-1'] != -99)\n",
    "              &(X_test['T21_t-1']!= -99) & (X_test['T22_t-1'] != -99) & (X_test['T23_t-1']!= -99) & (X_test['T24_t-1'] != -99)\n",
    "              & (X_test['T25_t-1']!= -99) & (X_test['T26_t-1'] != -99),['voxelType']] = 'interior'"
   ]
  },
  {
   "cell_type": "code",
   "execution_count": 116,
   "metadata": {},
   "outputs": [
    {
     "data": {
      "text/plain": [
       "vertMissing    300469\n",
       "interior       245209\n",
       "longMissing     31080\n",
       "latMissing      30043\n",
       "someMissing      3870\n",
       "Name: voxelType, dtype: int64"
      ]
     },
     "execution_count": 116,
     "metadata": {},
     "output_type": "execute_result"
    }
   ],
   "source": [
    "X_test['voxelType'].value_counts()"
   ]
  },
  {
   "cell_type": "code",
   "execution_count": 127,
   "metadata": {},
   "outputs": [],
   "source": [
    "def percent_counts(series):\n",
    "    length = float(len(series))\n",
    "    count_dict = dict(series.value_counts())\n",
    "    percent_dict = {}\n",
    "    for key in count_dict:\n",
    "        percent_dict[key] = count_dict[key]/length\n",
    "    return percent_dict\n"
   ]
  },
  {
   "cell_type": "code",
   "execution_count": 128,
   "metadata": {},
   "outputs": [
    {
     "data": {
      "text/plain": [
       "{'interior': 0.40154027291291056,\n",
       " 'latMissing': 0.04919670329850279,\n",
       " 'longMissing': 0.05089483535324258,\n",
       " 'someMissing': 0.00633729127467982,\n",
       " 'vertMissing': 0.4920308971606642}"
      ]
     },
     "execution_count": 128,
     "metadata": {},
     "output_type": "execute_result"
    }
   ],
   "source": [
    "percent_counts(X_test['voxelType'])"
   ]
  },
  {
   "cell_type": "markdown",
   "metadata": {},
   "source": [
    "#### Extract elements based on type"
   ]
  },
  {
   "cell_type": "code",
   "execution_count": 117,
   "metadata": {},
   "outputs": [],
   "source": [
    "test = np.array(y_test)\n",
    "test_someMissing = np.array([test[index] for index in list(np.where(X_test['voxelType']=='someMissing')[0])])\n",
    "\n",
    "predicted_someMissing = np.array([predicted[index] for index in list(np.where(X_test['voxelType']=='someMissing')[0])])"
   ]
  },
  {
   "cell_type": "code",
   "execution_count": 105,
   "metadata": {},
   "outputs": [],
   "source": [
    "test_latMissing = np.array([test[index] for index in list(np.where(X_test['voxelType']=='latMissing')[0])])\n",
    "\n",
    "predicted_latMissing = np.array([predicted[index] for index in list(np.where(X_test['voxelType']=='latMissing')[0])])"
   ]
  },
  {
   "cell_type": "code",
   "execution_count": 106,
   "metadata": {},
   "outputs": [],
   "source": [
    "test_longMissing = np.array([test[index] for index in list(np.where(X_test['voxelType']=='longMissing')[0])])\n",
    "\n",
    "predicted_longMissing = np.array([predicted[index] for index in list(np.where(X_test['voxelType']=='longMissing')[0])])"
   ]
  },
  {
   "cell_type": "code",
   "execution_count": 107,
   "metadata": {},
   "outputs": [],
   "source": [
    "test_vertMissing = np.array([test[index] for index in list(np.where(X_test['voxelType']=='vertMissing')[0])])\n",
    "\n",
    "predicted_vertMissing = np.array([predicted[index] for index in list(np.where(X_test['voxelType']=='vertMissing')[0])])"
   ]
  },
  {
   "cell_type": "code",
   "execution_count": 108,
   "metadata": {},
   "outputs": [],
   "source": [
    "test_interior = np.array([test[index] for index in list(np.where(X_test['voxelType']=='interior')[0])])\n",
    "\n",
    "predicted_interior = np.array([predicted[index] for index in list(np.where(X_test['voxelType']=='interior')[0])])"
   ]
  },
  {
   "cell_type": "code",
   "execution_count": 109,
   "metadata": {},
   "outputs": [
    {
     "data": {
      "text/plain": [
       "(0.9938, 0.742)"
      ]
     },
     "execution_count": 109,
     "metadata": {},
     "output_type": "execute_result"
    }
   ],
   "source": [
    "r2(test_interior,predicted_interior) ,mape(test_interior,predicted_interior)"
   ]
  },
  {
   "cell_type": "code",
   "execution_count": 110,
   "metadata": {},
   "outputs": [
    {
     "data": {
      "text/plain": [
       "(0.9709, 1.6599)"
      ]
     },
     "execution_count": 110,
     "metadata": {},
     "output_type": "execute_result"
    }
   ],
   "source": [
    "r2(test_latMissing,predicted_latMissing) ,mape(test_latMissing,predicted_latMissing)"
   ]
  },
  {
   "cell_type": "code",
   "execution_count": 111,
   "metadata": {},
   "outputs": [
    {
     "data": {
      "text/plain": [
       "(0.9977, 0.8443)"
      ]
     },
     "execution_count": 111,
     "metadata": {},
     "output_type": "execute_result"
    }
   ],
   "source": [
    "r2(test_longMissing,predicted_longMissing) ,mape(test_longMissing,predicted_longMissing)"
   ]
  },
  {
   "cell_type": "code",
   "execution_count": 112,
   "metadata": {},
   "outputs": [
    {
     "data": {
      "text/plain": [
       "(0.9905, 1.0018)"
      ]
     },
     "execution_count": 112,
     "metadata": {},
     "output_type": "execute_result"
    }
   ],
   "source": [
    "r2(test_vertMissing,predicted_vertMissing) ,mape(test_vertMissing,predicted_vertMissing)"
   ]
  },
  {
   "cell_type": "code",
   "execution_count": 118,
   "metadata": {},
   "outputs": [
    {
     "data": {
      "text/plain": [
       "(0.9876, 1.2921)"
      ]
     },
     "execution_count": 118,
     "metadata": {},
     "output_type": "execute_result"
    }
   ],
   "source": [
    "r2(test_someMissing,predicted_someMissing) ,mape(test_someMissing,predicted_someMissing)"
   ]
  },
  {
   "cell_type": "markdown",
   "metadata": {},
   "source": [
    "#### Create efficient Functions for voxelType"
   ]
  },
  {
   "cell_type": "code",
   "execution_count": 129,
   "metadata": {},
   "outputs": [],
   "source": [
    "def assignVoxelTypes(df):\n",
    "    df['voxelLat'] = 'present'\n",
    "    df['voxelLat'][df['T1_t-1']==-99] = 'absent'\n",
    "    df['voxelLat'][df['T2_t-1']==-99] = 'absent'\n",
    "    \n",
    "    df['voxelLong'] = 'present'\n",
    "    df['voxelLong'][df['T3_t-1']==-99] = 'absent'\n",
    "    df['voxelLong'][df['T4_t-1']==-99] = 'absent'\n",
    "    \n",
    "    df['voxelVert'] = 'present'\n",
    "    df['voxelVert'][df['T5_t-1']==-99] = 'absent'\n",
    "    df['voxelVert'][df['T6_t-1']==-99] = 'absent'\n",
    "    \n",
    "    df['voxelType'] = 'someMissing'\n",
    "    df['voxelType'][df['voxelVert']=='absent'] = 'vertMissing'\n",
    "    df['voxelType'][df['voxelLong']=='absent'] = 'longMissing'\n",
    "    df['voxelType'][df['voxelLat']=='absent'] = 'latMissing'\n",
    "    \n",
    "    df.loc[(df['T1_t-1']!= -99) & (df['T2_t-1'] != -99) & (df['T3_t-1']!= -99) & (df['T4_t-1'] != -99)\n",
    "              &(df['T5_t-1']!= -99) & (df['T6_t-1'] != -99) & (df['T7_t-1']!= -99) & (df['T8_t-1'] != -99)\n",
    "              &(df['T9_t-1']!= -99) & (df['T10_t-1'] != -99) & (df['T11_t-1']!= -99) & (df['T12_t-1'] != -99)\n",
    "              &(df['T13_t-1']!= -99) & (df['T14_t-1'] != -99) & (df['T15_t-1']!= -99) & (df['T16_t-1'] != -99)\n",
    "              &(df['T17_t-1']!= -99) & (df['T18_t-1'] != -99) & (df['T19_t-1']!= -99) & (df['T20_t-1'] != -99)\n",
    "              &(df['T21_t-1']!= -99) & (df['T22_t-1'] != -99) & (df['T23_t-1']!= -99) & (df['T24_t-1'] != -99)\n",
    "              & (df['T25_t-1']!= -99) & (df['T26_t-1'] != -99),['voxelType']] = 'interior'\n",
    "    "
   ]
  },
  {
   "cell_type": "code",
   "execution_count": 132,
   "metadata": {},
   "outputs": [],
   "source": [
    "def assignRows_voxelType(List,df,voxelType):\n",
    "    labels_voxelType = np.array([List[index] for index in list(np.where(df['voxelType']==voxelType)[0])])\n",
    "    return labels_voxelType"
   ]
  },
  {
   "cell_type": "code",
   "execution_count": 167,
   "metadata": {},
   "outputs": [],
   "source": [
    "def predictVoxelType(df,TIMESTEP,featureColumns=featureColumns):\n",
    "\n",
    "    \n",
    "    ###Train and Test Split \n",
    "    df_train = df[(df['timestep'] < TIMESTEP) ]\n",
    "    df_test = df[(df['timestep'] >= TIMESTEP) ]\n",
    "\n",
    "\n",
    "    X_train = df_train.loc[:,featureColumns ]\n",
    "    y_train = df_train['T_self']\n",
    "\n",
    "    X_test = df_test.loc[:,featureColumns ]\n",
    "    y_test = df_test['T_self']\n",
    "    \n",
    "\n",
    "    X_train,y_train = shuffle(X_train,y_train,random_state=300)\n",
    "    X_test,y_test = shuffle(X_test,y_test,random_state=300)\n",
    "    \n",
    "    ###Algorithm\n",
    "    et = ExtraTreesRegressor(n_jobs=-1)\n",
    "    et.fit(X_train,y_train)\n",
    "    predicted = et.predict(X_test)\n",
    "    \n",
    "    ###assign types of voxels\n",
    "    test = np.array(y_test)\n",
    "    \n",
    "    ###Assign the voxel Types \n",
    "    assignVoxelTypes(df_test)\n",
    "    \n",
    "    test_someMissing = assignRows_voxelType(test,df_test,'someMissing')\n",
    "    predicted_someMissing = assignRows_voxelType(predicted,df_test,'someMissing')\n",
    "    \n",
    "    test_latMissing = assignRows_voxelType(test,df_test,'latMissing')\n",
    "    predicted_latMissing = assignRows_voxelType(predicted,df_test,'latMissing')\n",
    "    \n",
    "    test_longMissing = assignRows_voxelType(test,df_test,'longMissing')\n",
    "    predicted_longMissing = assignRows_voxelType(predicted,df_test,'longMissing')\n",
    "    \n",
    "    test_vertMissing = assignRows_voxelType(test,df_test,'vertMissing')\n",
    "    predicted_vertMissing = assignRows_voxelType(predicted,df_test,'vertMissing')\n",
    "    \n",
    "    test_interior = assignRows_voxelType(test,df_test,'interior')\n",
    "    predicted_interior = assignRows_voxelType(predicted,df_test,'interior')\n",
    "    \n",
    "    ###Displaying the results\n",
    "    print 'Interior Voxels'\n",
    "    print r2(test_interior,predicted_interior) ,mape(test_interior,predicted_interior)\n",
    "    \n",
    "    print 'Voxels with missing lateral neighbors'\n",
    "    print r2(test_latMissing,predicted_latMissing) ,mape(test_latMissing,predicted_latMissing)\n",
    "    \n",
    "    print 'Voxels with missing longitudinal neighbors'\n",
    "    print r2(test_longMissing,predicted_longMissing) ,mape(test_longMissing,predicted_longMissing)\n",
    "    \n",
    "    print 'Voxels with missing vertical neighbors'\n",
    "    print r2(test_vertMissing,predicted_vertMissing) ,mape(test_vertMissing,predicted_vertMissing)\n",
    "    \n",
    "    print 'Voxels with missing some other neighbors'\n",
    "    print r2(test_someMissing,predicted_someMissing) ,mape(test_someMissing,predicted_someMissing)"
   ]
  },
  {
   "cell_type": "markdown",
   "metadata": {},
   "source": [
    "#### Predicting based on Voxel Type"
   ]
  },
  {
   "cell_type": "code",
   "execution_count": 168,
   "metadata": {},
   "outputs": [
    {
     "name": "stdout",
     "output_type": "stream",
     "text": [
      "Interior Voxels\n",
      "0.9902 0.9155\n",
      "Voxels with missing lateral neighbors\n",
      "0.992 0.8983\n",
      "Voxels with missing longitudinal neighbors\n",
      "0.9885 0.9234\n",
      "Voxels with missing vertical neighbors\n",
      "0.9899 0.9177\n",
      "Voxels with missing some other neighbors\n",
      "0.9883 0.926\n"
     ]
    }
   ],
   "source": [
    "df = pd.read_csv('data/data_500_timesteps.csv')\n",
    "featureColumns = ['timestep','x_distance','y_distance','z_distance','time_creation','Tminus1']+neighborColumns\n",
    "predictVoxelType(df,400,featureColumns)"
   ]
  },
  {
   "cell_type": "code",
   "execution_count": 169,
   "metadata": {},
   "outputs": [
    {
     "name": "stdout",
     "output_type": "stream",
     "text": [
      "Interior Voxels\n",
      "0.9947 0.3055\n",
      "Voxels with missing lateral neighbors\n",
      "0.9945 0.3054\n",
      "Voxels with missing longitudinal neighbors\n",
      "0.995 0.3083\n",
      "Voxels with missing vertical neighbors\n",
      "0.9945 0.3081\n",
      "Voxels with missing some other neighbors\n",
      "0.9923 0.2942\n"
     ]
    }
   ],
   "source": [
    "df_big = combineDataFrames('data_big')\n",
    "featureColumns = ['timestep','x_distance','y_distance','z_distance','time_creation','Tminus1']+neighborColumns\n",
    "predictVoxelType(df_big,950,featureColumns)"
   ]
  },
  {
   "cell_type": "markdown",
   "metadata": {},
   "source": [
    "#### Apply the function on X_train"
   ]
  },
  {
   "cell_type": "code",
   "execution_count": 130,
   "metadata": {},
   "outputs": [],
   "source": [
    "assignVoxelTypes(X_train)"
   ]
  },
  {
   "cell_type": "markdown",
   "metadata": {},
   "source": [
    "### <font color=\"orange\"> Exploratory Analysis for Spatially Distinct Points  </font>"
   ]
  },
  {
   "cell_type": "code",
   "execution_count": 209,
   "metadata": {},
   "outputs": [
    {
     "data": {
      "text/html": [
       "<div>\n",
       "<style scoped>\n",
       "    .dataframe tbody tr th:only-of-type {\n",
       "        vertical-align: middle;\n",
       "    }\n",
       "\n",
       "    .dataframe tbody tr th {\n",
       "        vertical-align: top;\n",
       "    }\n",
       "\n",
       "    .dataframe thead th {\n",
       "        text-align: right;\n",
       "    }\n",
       "</style>\n",
       "<table border=\"1\" class=\"dataframe\">\n",
       "  <thead>\n",
       "    <tr style=\"text-align: right;\">\n",
       "      <th></th>\n",
       "      <th>timestep</th>\n",
       "      <th>x_distance</th>\n",
       "      <th>y_distance</th>\n",
       "      <th>z_distance</th>\n",
       "      <th>time_creation</th>\n",
       "      <th>Tminus1</th>\n",
       "      <th>T1_t-1</th>\n",
       "      <th>T2_t-1</th>\n",
       "      <th>T3_t-1</th>\n",
       "      <th>T4_t-1</th>\n",
       "      <th>T5_t-1</th>\n",
       "      <th>T6_t-1</th>\n",
       "      <th>T7_t-1</th>\n",
       "      <th>T8_t-1</th>\n",
       "      <th>T9_t-1</th>\n",
       "      <th>T10_t-1</th>\n",
       "      <th>T11_t-1</th>\n",
       "      <th>T12_t-1</th>\n",
       "      <th>T13_t-1</th>\n",
       "      <th>T14_t-1</th>\n",
       "      <th>T15_t-1</th>\n",
       "      <th>T16_t-1</th>\n",
       "      <th>T17_t-1</th>\n",
       "      <th>T18_t-1</th>\n",
       "      <th>T19_t-1</th>\n",
       "      <th>T20_t-1</th>\n",
       "      <th>T21_t-1</th>\n",
       "      <th>T22_t-1</th>\n",
       "      <th>T23_t-1</th>\n",
       "      <th>T24_t-1</th>\n",
       "      <th>T25_t-1</th>\n",
       "      <th>T26_t-1</th>\n",
       "      <th>x_y_z</th>\n",
       "    </tr>\n",
       "  </thead>\n",
       "  <tbody>\n",
       "    <tr>\n",
       "      <th>1710114</th>\n",
       "      <td>499.0</td>\n",
       "      <td>10.0</td>\n",
       "      <td>0.625732</td>\n",
       "      <td>1.125019</td>\n",
       "      <td>1.0</td>\n",
       "      <td>1423.050</td>\n",
       "      <td>1333.890</td>\n",
       "      <td>1335.760</td>\n",
       "      <td>1370.260</td>\n",
       "      <td>1335.320</td>\n",
       "      <td>1378.310</td>\n",
       "      <td>1424.120</td>\n",
       "      <td>1403.500</td>\n",
       "      <td>1368.560</td>\n",
       "      <td>1408.320</td>\n",
       "      <td>1370.990</td>\n",
       "      <td>1347.740</td>\n",
       "      <td>1316.830</td>\n",
       "      <td>1383.970</td>\n",
       "      <td>1346.270</td>\n",
       "      <td>1315.480</td>\n",
       "      <td>1317.21</td>\n",
       "      <td>1421.150</td>\n",
       "      <td>1346.760</td>\n",
       "      <td>1375.480</td>\n",
       "      <td>1346.110</td>\n",
       "      <td>1380.140</td>\n",
       "      <td>1348.400</td>\n",
       "      <td>1382.230</td>\n",
       "      <td>1344.800</td>\n",
       "      <td>1426.080</td>\n",
       "      <td>1384.740</td>\n",
       "      <td>10.0_0.625732261421_1.12501877593</td>\n",
       "    </tr>\n",
       "    <tr>\n",
       "      <th>1711909</th>\n",
       "      <td>499.0</td>\n",
       "      <td>9.0</td>\n",
       "      <td>9.374268</td>\n",
       "      <td>0.625019</td>\n",
       "      <td>1.5</td>\n",
       "      <td>925.154</td>\n",
       "      <td>919.963</td>\n",
       "      <td>922.913</td>\n",
       "      <td>950.905</td>\n",
       "      <td>979.005</td>\n",
       "      <td>934.671</td>\n",
       "      <td>921.484</td>\n",
       "      <td>949.729</td>\n",
       "      <td>976.986</td>\n",
       "      <td>951.324</td>\n",
       "      <td>980.233</td>\n",
       "      <td>920.911</td>\n",
       "      <td>977.841</td>\n",
       "      <td>950.586</td>\n",
       "      <td>978.708</td>\n",
       "      <td>932.788</td>\n",
       "      <td>922.03</td>\n",
       "      <td>919.655</td>\n",
       "      <td>922.600</td>\n",
       "      <td>919.076</td>\n",
       "      <td>975.819</td>\n",
       "      <td>950.343</td>\n",
       "      <td>979.070</td>\n",
       "      <td>949.413</td>\n",
       "      <td>976.693</td>\n",
       "      <td>951.004</td>\n",
       "      <td>979.933</td>\n",
       "      <td>9.0_9.37426773858_0.625018775934</td>\n",
       "    </tr>\n",
       "    <tr>\n",
       "      <th>1709839</th>\n",
       "      <td>499.0</td>\n",
       "      <td>13.0</td>\n",
       "      <td>9.874268</td>\n",
       "      <td>1.125019</td>\n",
       "      <td>1.0</td>\n",
       "      <td>935.846</td>\n",
       "      <td>937.045</td>\n",
       "      <td>926.836</td>\n",
       "      <td>923.274</td>\n",
       "      <td>909.799</td>\n",
       "      <td>930.005</td>\n",
       "      <td>933.298</td>\n",
       "      <td>927.230</td>\n",
       "      <td>913.654</td>\n",
       "      <td>918.634</td>\n",
       "      <td>905.281</td>\n",
       "      <td>921.132</td>\n",
       "      <td>907.742</td>\n",
       "      <td>924.219</td>\n",
       "      <td>910.706</td>\n",
       "      <td>911.605</td>\n",
       "      <td>903.21</td>\n",
       "      <td>938.051</td>\n",
       "      <td>927.872</td>\n",
       "      <td>934.784</td>\n",
       "      <td>925.097</td>\n",
       "      <td>924.539</td>\n",
       "      <td>916.479</td>\n",
       "      <td>928.166</td>\n",
       "      <td>914.551</td>\n",
       "      <td>919.592</td>\n",
       "      <td>906.200</td>\n",
       "      <td>13.0_9.87426773858_1.12501877593</td>\n",
       "    </tr>\n",
       "    <tr>\n",
       "      <th>1712417</th>\n",
       "      <td>499.0</td>\n",
       "      <td>0.0</td>\n",
       "      <td>11.374268</td>\n",
       "      <td>1.625019</td>\n",
       "      <td>0.5</td>\n",
       "      <td>791.748</td>\n",
       "      <td>-99.000</td>\n",
       "      <td>776.454</td>\n",
       "      <td>779.615</td>\n",
       "      <td>800.087</td>\n",
       "      <td>-99.000</td>\n",
       "      <td>798.947</td>\n",
       "      <td>-99.000</td>\n",
       "      <td>-99.000</td>\n",
       "      <td>766.525</td>\n",
       "      <td>786.526</td>\n",
       "      <td>-99.000</td>\n",
       "      <td>-99.000</td>\n",
       "      <td>776.369</td>\n",
       "      <td>796.549</td>\n",
       "      <td>-99.000</td>\n",
       "      <td>-99.00</td>\n",
       "      <td>-99.000</td>\n",
       "      <td>788.663</td>\n",
       "      <td>-99.000</td>\n",
       "      <td>-99.000</td>\n",
       "      <td>-99.000</td>\n",
       "      <td>-99.000</td>\n",
       "      <td>-99.000</td>\n",
       "      <td>-99.000</td>\n",
       "      <td>786.323</td>\n",
       "      <td>806.992</td>\n",
       "      <td>0.0_11.3742677386_1.62501877593</td>\n",
       "    </tr>\n",
       "    <tr>\n",
       "      <th>1710575</th>\n",
       "      <td>499.0</td>\n",
       "      <td>20.0</td>\n",
       "      <td>7.374268</td>\n",
       "      <td>1.625019</td>\n",
       "      <td>0.5</td>\n",
       "      <td>879.195</td>\n",
       "      <td>861.027</td>\n",
       "      <td>-99.000</td>\n",
       "      <td>850.254</td>\n",
       "      <td>887.216</td>\n",
       "      <td>-99.000</td>\n",
       "      <td>888.403</td>\n",
       "      <td>854.153</td>\n",
       "      <td>871.894</td>\n",
       "      <td>-99.000</td>\n",
       "      <td>-99.000</td>\n",
       "      <td>-99.000</td>\n",
       "      <td>-99.000</td>\n",
       "      <td>851.325</td>\n",
       "      <td>885.333</td>\n",
       "      <td>-99.000</td>\n",
       "      <td>-99.00</td>\n",
       "      <td>873.853</td>\n",
       "      <td>-99.000</td>\n",
       "      <td>-99.000</td>\n",
       "      <td>-99.000</td>\n",
       "      <td>-99.000</td>\n",
       "      <td>-99.000</td>\n",
       "      <td>865.392</td>\n",
       "      <td>896.992</td>\n",
       "      <td>-99.000</td>\n",
       "      <td>-99.000</td>\n",
       "      <td>20.0_7.37426773858_1.62501877593</td>\n",
       "    </tr>\n",
       "  </tbody>\n",
       "</table>\n",
       "</div>"
      ],
      "text/plain": [
       "         timestep  x_distance  y_distance  z_distance  time_creation  \\\n",
       "1710114     499.0        10.0    0.625732    1.125019            1.0   \n",
       "1711909     499.0         9.0    9.374268    0.625019            1.5   \n",
       "1709839     499.0        13.0    9.874268    1.125019            1.0   \n",
       "1712417     499.0         0.0   11.374268    1.625019            0.5   \n",
       "1710575     499.0        20.0    7.374268    1.625019            0.5   \n",
       "\n",
       "          Tminus1    T1_t-1    T2_t-1    T3_t-1    T4_t-1    T5_t-1    T6_t-1  \\\n",
       "1710114  1423.050  1333.890  1335.760  1370.260  1335.320  1378.310  1424.120   \n",
       "1711909   925.154   919.963   922.913   950.905   979.005   934.671   921.484   \n",
       "1709839   935.846   937.045   926.836   923.274   909.799   930.005   933.298   \n",
       "1712417   791.748   -99.000   776.454   779.615   800.087   -99.000   798.947   \n",
       "1710575   879.195   861.027   -99.000   850.254   887.216   -99.000   888.403   \n",
       "\n",
       "           T7_t-1    T8_t-1    T9_t-1   T10_t-1   T11_t-1   T12_t-1   T13_t-1  \\\n",
       "1710114  1403.500  1368.560  1408.320  1370.990  1347.740  1316.830  1383.970   \n",
       "1711909   949.729   976.986   951.324   980.233   920.911   977.841   950.586   \n",
       "1709839   927.230   913.654   918.634   905.281   921.132   907.742   924.219   \n",
       "1712417   -99.000   -99.000   766.525   786.526   -99.000   -99.000   776.369   \n",
       "1710575   854.153   871.894   -99.000   -99.000   -99.000   -99.000   851.325   \n",
       "\n",
       "          T14_t-1   T15_t-1  T16_t-1   T17_t-1   T18_t-1   T19_t-1   T20_t-1  \\\n",
       "1710114  1346.270  1315.480  1317.21  1421.150  1346.760  1375.480  1346.110   \n",
       "1711909   978.708   932.788   922.03   919.655   922.600   919.076   975.819   \n",
       "1709839   910.706   911.605   903.21   938.051   927.872   934.784   925.097   \n",
       "1712417   796.549   -99.000   -99.00   -99.000   788.663   -99.000   -99.000   \n",
       "1710575   885.333   -99.000   -99.00   873.853   -99.000   -99.000   -99.000   \n",
       "\n",
       "          T21_t-1   T22_t-1   T23_t-1   T24_t-1   T25_t-1   T26_t-1  \\\n",
       "1710114  1380.140  1348.400  1382.230  1344.800  1426.080  1384.740   \n",
       "1711909   950.343   979.070   949.413   976.693   951.004   979.933   \n",
       "1709839   924.539   916.479   928.166   914.551   919.592   906.200   \n",
       "1712417   -99.000   -99.000   -99.000   -99.000   786.323   806.992   \n",
       "1710575   -99.000   -99.000   865.392   896.992   -99.000   -99.000   \n",
       "\n",
       "                                     x_y_z  \n",
       "1710114  10.0_0.625732261421_1.12501877593  \n",
       "1711909   9.0_9.37426773858_0.625018775934  \n",
       "1709839   13.0_9.87426773858_1.12501877593  \n",
       "1712417    0.0_11.3742677386_1.62501877593  \n",
       "1710575   20.0_7.37426773858_1.62501877593  "
      ]
     },
     "execution_count": 209,
     "metadata": {},
     "output_type": "execute_result"
    }
   ],
   "source": [
    "X_test.sort_values('timestep',axis=0).tail()"
   ]
  },
  {
   "cell_type": "code",
   "execution_count": 216,
   "metadata": {},
   "outputs": [],
   "source": [
    "X_train_small = X_train.sort_values('timestep',axis=0).head(1000)\n",
    "X_test_small = X_test.sort_values('timestep',axis=0).head(1000)"
   ]
  },
  {
   "cell_type": "code",
   "execution_count": 215,
   "metadata": {},
   "outputs": [
    {
     "data": {
      "text/html": [
       "<div>\n",
       "<style scoped>\n",
       "    .dataframe tbody tr th:only-of-type {\n",
       "        vertical-align: middle;\n",
       "    }\n",
       "\n",
       "    .dataframe tbody tr th {\n",
       "        vertical-align: top;\n",
       "    }\n",
       "\n",
       "    .dataframe thead th {\n",
       "        text-align: right;\n",
       "    }\n",
       "</style>\n",
       "<table border=\"1\" class=\"dataframe\">\n",
       "  <thead>\n",
       "    <tr style=\"text-align: right;\">\n",
       "      <th></th>\n",
       "      <th>timestep</th>\n",
       "      <th>x_distance</th>\n",
       "      <th>y_distance</th>\n",
       "      <th>z_distance</th>\n",
       "      <th>time_creation</th>\n",
       "      <th>Tminus1</th>\n",
       "      <th>T1_t-1</th>\n",
       "      <th>T2_t-1</th>\n",
       "      <th>T3_t-1</th>\n",
       "      <th>T4_t-1</th>\n",
       "      <th>T5_t-1</th>\n",
       "      <th>T6_t-1</th>\n",
       "      <th>T7_t-1</th>\n",
       "      <th>T8_t-1</th>\n",
       "      <th>T9_t-1</th>\n",
       "      <th>T10_t-1</th>\n",
       "      <th>T11_t-1</th>\n",
       "      <th>T12_t-1</th>\n",
       "      <th>T13_t-1</th>\n",
       "      <th>T14_t-1</th>\n",
       "      <th>T15_t-1</th>\n",
       "      <th>T16_t-1</th>\n",
       "      <th>T17_t-1</th>\n",
       "      <th>T18_t-1</th>\n",
       "      <th>T19_t-1</th>\n",
       "      <th>T20_t-1</th>\n",
       "      <th>T21_t-1</th>\n",
       "      <th>T22_t-1</th>\n",
       "      <th>T23_t-1</th>\n",
       "      <th>T24_t-1</th>\n",
       "      <th>T25_t-1</th>\n",
       "      <th>T26_t-1</th>\n",
       "      <th>x_y_z</th>\n",
       "    </tr>\n",
       "  </thead>\n",
       "  <tbody>\n",
       "    <tr>\n",
       "      <th>0</th>\n",
       "      <td>1.0</td>\n",
       "      <td>0.5</td>\n",
       "      <td>0.75</td>\n",
       "      <td>0.0</td>\n",
       "      <td>2.0</td>\n",
       "      <td>-99.0</td>\n",
       "      <td>-99.00</td>\n",
       "      <td>-99.00</td>\n",
       "      <td>-99.00</td>\n",
       "      <td>-99.00</td>\n",
       "      <td>-99.0</td>\n",
       "      <td>-99.0</td>\n",
       "      <td>-99.00</td>\n",
       "      <td>-99.00</td>\n",
       "      <td>-99.00</td>\n",
       "      <td>-99.00</td>\n",
       "      <td>-99.0</td>\n",
       "      <td>-99.0</td>\n",
       "      <td>-99.0</td>\n",
       "      <td>-99.0</td>\n",
       "      <td>-99.0</td>\n",
       "      <td>-99.0</td>\n",
       "      <td>-99.0</td>\n",
       "      <td>-99.0</td>\n",
       "      <td>-99.0</td>\n",
       "      <td>-99.0</td>\n",
       "      <td>-99.0</td>\n",
       "      <td>-99.0</td>\n",
       "      <td>-99.0</td>\n",
       "      <td>-99.0</td>\n",
       "      <td>-99.0</td>\n",
       "      <td>-99.0</td>\n",
       "      <td>0.5_0.75_0.0</td>\n",
       "    </tr>\n",
       "    <tr>\n",
       "      <th>21</th>\n",
       "      <td>2.0</td>\n",
       "      <td>0.9</td>\n",
       "      <td>0.25</td>\n",
       "      <td>0.0</td>\n",
       "      <td>0.5</td>\n",
       "      <td>300.0</td>\n",
       "      <td>3553.11</td>\n",
       "      <td>-99.00</td>\n",
       "      <td>-99.00</td>\n",
       "      <td>2973.47</td>\n",
       "      <td>-99.0</td>\n",
       "      <td>-99.0</td>\n",
       "      <td>2975.86</td>\n",
       "      <td>3519.06</td>\n",
       "      <td>-99.00</td>\n",
       "      <td>-99.00</td>\n",
       "      <td>-99.0</td>\n",
       "      <td>-99.0</td>\n",
       "      <td>-99.0</td>\n",
       "      <td>-99.0</td>\n",
       "      <td>-99.0</td>\n",
       "      <td>-99.0</td>\n",
       "      <td>-99.0</td>\n",
       "      <td>-99.0</td>\n",
       "      <td>-99.0</td>\n",
       "      <td>-99.0</td>\n",
       "      <td>-99.0</td>\n",
       "      <td>-99.0</td>\n",
       "      <td>-99.0</td>\n",
       "      <td>-99.0</td>\n",
       "      <td>-99.0</td>\n",
       "      <td>-99.0</td>\n",
       "      <td>0.9000000026_0.25_0.0</td>\n",
       "    </tr>\n",
       "    <tr>\n",
       "      <th>2</th>\n",
       "      <td>2.0</td>\n",
       "      <td>0.4</td>\n",
       "      <td>0.25</td>\n",
       "      <td>0.0</td>\n",
       "      <td>0.5</td>\n",
       "      <td>300.0</td>\n",
       "      <td>3993.89</td>\n",
       "      <td>2973.47</td>\n",
       "      <td>3553.11</td>\n",
       "      <td>3520.21</td>\n",
       "      <td>-99.0</td>\n",
       "      <td>-99.0</td>\n",
       "      <td>3478.99</td>\n",
       "      <td>3549.99</td>\n",
       "      <td>1614.58</td>\n",
       "      <td>1614.62</td>\n",
       "      <td>-99.0</td>\n",
       "      <td>-99.0</td>\n",
       "      <td>-99.0</td>\n",
       "      <td>-99.0</td>\n",
       "      <td>-99.0</td>\n",
       "      <td>-99.0</td>\n",
       "      <td>-99.0</td>\n",
       "      <td>-99.0</td>\n",
       "      <td>-99.0</td>\n",
       "      <td>-99.0</td>\n",
       "      <td>-99.0</td>\n",
       "      <td>-99.0</td>\n",
       "      <td>-99.0</td>\n",
       "      <td>-99.0</td>\n",
       "      <td>-99.0</td>\n",
       "      <td>-99.0</td>\n",
       "      <td>0.4000000026_0.25_0.0</td>\n",
       "    </tr>\n",
       "    <tr>\n",
       "      <th>26</th>\n",
       "      <td>2.0</td>\n",
       "      <td>1.1</td>\n",
       "      <td>0.75</td>\n",
       "      <td>0.0</td>\n",
       "      <td>0.5</td>\n",
       "      <td>300.0</td>\n",
       "      <td>2869.67</td>\n",
       "      <td>3473.76</td>\n",
       "      <td>2329.08</td>\n",
       "      <td>-99.00</td>\n",
       "      <td>-99.0</td>\n",
       "      <td>-99.0</td>\n",
       "      <td>2706.98</td>\n",
       "      <td>-99.00</td>\n",
       "      <td>3872.89</td>\n",
       "      <td>-99.00</td>\n",
       "      <td>-99.0</td>\n",
       "      <td>-99.0</td>\n",
       "      <td>-99.0</td>\n",
       "      <td>-99.0</td>\n",
       "      <td>-99.0</td>\n",
       "      <td>-99.0</td>\n",
       "      <td>-99.0</td>\n",
       "      <td>-99.0</td>\n",
       "      <td>-99.0</td>\n",
       "      <td>-99.0</td>\n",
       "      <td>-99.0</td>\n",
       "      <td>-99.0</td>\n",
       "      <td>-99.0</td>\n",
       "      <td>-99.0</td>\n",
       "      <td>-99.0</td>\n",
       "      <td>-99.0</td>\n",
       "      <td>1.0999999974_0.75_0.0</td>\n",
       "    </tr>\n",
       "    <tr>\n",
       "      <th>30</th>\n",
       "      <td>2.0</td>\n",
       "      <td>2.1</td>\n",
       "      <td>0.75</td>\n",
       "      <td>0.0</td>\n",
       "      <td>0.5</td>\n",
       "      <td>300.0</td>\n",
       "      <td>1845.84</td>\n",
       "      <td>2389.49</td>\n",
       "      <td>-99.00</td>\n",
       "      <td>1643.90</td>\n",
       "      <td>-99.0</td>\n",
       "      <td>-99.0</td>\n",
       "      <td>-99.00</td>\n",
       "      <td>1959.09</td>\n",
       "      <td>-99.00</td>\n",
       "      <td>1754.33</td>\n",
       "      <td>-99.0</td>\n",
       "      <td>-99.0</td>\n",
       "      <td>-99.0</td>\n",
       "      <td>-99.0</td>\n",
       "      <td>-99.0</td>\n",
       "      <td>-99.0</td>\n",
       "      <td>-99.0</td>\n",
       "      <td>-99.0</td>\n",
       "      <td>-99.0</td>\n",
       "      <td>-99.0</td>\n",
       "      <td>-99.0</td>\n",
       "      <td>-99.0</td>\n",
       "      <td>-99.0</td>\n",
       "      <td>-99.0</td>\n",
       "      <td>-99.0</td>\n",
       "      <td>-99.0</td>\n",
       "      <td>2.0999999974_0.75_0.0</td>\n",
       "    </tr>\n",
       "  </tbody>\n",
       "</table>\n",
       "</div>"
      ],
      "text/plain": [
       "    timestep  x_distance  y_distance  z_distance  time_creation  Tminus1  \\\n",
       "0        1.0         0.5        0.75         0.0            2.0    -99.0   \n",
       "21       2.0         0.9        0.25         0.0            0.5    300.0   \n",
       "2        2.0         0.4        0.25         0.0            0.5    300.0   \n",
       "26       2.0         1.1        0.75         0.0            0.5    300.0   \n",
       "30       2.0         2.1        0.75         0.0            0.5    300.0   \n",
       "\n",
       "     T1_t-1   T2_t-1   T3_t-1   T4_t-1  T5_t-1  T6_t-1   T7_t-1   T8_t-1  \\\n",
       "0    -99.00   -99.00   -99.00   -99.00   -99.0   -99.0   -99.00   -99.00   \n",
       "21  3553.11   -99.00   -99.00  2973.47   -99.0   -99.0  2975.86  3519.06   \n",
       "2   3993.89  2973.47  3553.11  3520.21   -99.0   -99.0  3478.99  3549.99   \n",
       "26  2869.67  3473.76  2329.08   -99.00   -99.0   -99.0  2706.98   -99.00   \n",
       "30  1845.84  2389.49   -99.00  1643.90   -99.0   -99.0   -99.00  1959.09   \n",
       "\n",
       "     T9_t-1  T10_t-1  T11_t-1  T12_t-1  T13_t-1  T14_t-1  T15_t-1  T16_t-1  \\\n",
       "0    -99.00   -99.00    -99.0    -99.0    -99.0    -99.0    -99.0    -99.0   \n",
       "21   -99.00   -99.00    -99.0    -99.0    -99.0    -99.0    -99.0    -99.0   \n",
       "2   1614.58  1614.62    -99.0    -99.0    -99.0    -99.0    -99.0    -99.0   \n",
       "26  3872.89   -99.00    -99.0    -99.0    -99.0    -99.0    -99.0    -99.0   \n",
       "30   -99.00  1754.33    -99.0    -99.0    -99.0    -99.0    -99.0    -99.0   \n",
       "\n",
       "    T17_t-1  T18_t-1  T19_t-1  T20_t-1  T21_t-1  T22_t-1  T23_t-1  T24_t-1  \\\n",
       "0     -99.0    -99.0    -99.0    -99.0    -99.0    -99.0    -99.0    -99.0   \n",
       "21    -99.0    -99.0    -99.0    -99.0    -99.0    -99.0    -99.0    -99.0   \n",
       "2     -99.0    -99.0    -99.0    -99.0    -99.0    -99.0    -99.0    -99.0   \n",
       "26    -99.0    -99.0    -99.0    -99.0    -99.0    -99.0    -99.0    -99.0   \n",
       "30    -99.0    -99.0    -99.0    -99.0    -99.0    -99.0    -99.0    -99.0   \n",
       "\n",
       "    T25_t-1  T26_t-1                  x_y_z  \n",
       "0     -99.0    -99.0           0.5_0.75_0.0  \n",
       "21    -99.0    -99.0  0.9000000026_0.25_0.0  \n",
       "2     -99.0    -99.0  0.4000000026_0.25_0.0  \n",
       "26    -99.0    -99.0  1.0999999974_0.75_0.0  \n",
       "30    -99.0    -99.0  2.0999999974_0.75_0.0  "
      ]
     },
     "execution_count": 215,
     "metadata": {},
     "output_type": "execute_result"
    }
   ],
   "source": [
    "X_train_small.head()"
   ]
  },
  {
   "cell_type": "code",
   "execution_count": 123,
   "metadata": {},
   "outputs": [],
   "source": [
    "X_train = X_train.round({'x_distance':2, 'y_distance':2, 'z_distance':2})"
   ]
  },
  {
   "cell_type": "code",
   "execution_count": 124,
   "metadata": {},
   "outputs": [],
   "source": [
    "X_train[\"x_y_z\"] = X_train[\"x_distance\"].map(str) + \"_\" + X_train[\"y_distance\"].map(str)+ \"_\" + X_train[\"z_distance\"].map(str)"
   ]
  },
  {
   "cell_type": "code",
   "execution_count": 125,
   "metadata": {},
   "outputs": [],
   "source": [
    "X_test = X_test.round({'x_distance':2, 'y_distance':2, 'z_distance':2})"
   ]
  },
  {
   "cell_type": "code",
   "execution_count": 126,
   "metadata": {},
   "outputs": [],
   "source": [
    "X_test[\"x_y_z\"] = X_test[\"x_distance\"].map(str) + \"_\" + X_test[\"y_distance\"].map(str)+ \"_\" + X_test[\"z_distance\"].map(str)"
   ]
  },
  {
   "cell_type": "code",
   "execution_count": 20,
   "metadata": {},
   "outputs": [
    {
     "data": {
      "text/html": [
       "<div>\n",
       "<style scoped>\n",
       "    .dataframe tbody tr th:only-of-type {\n",
       "        vertical-align: middle;\n",
       "    }\n",
       "\n",
       "    .dataframe tbody tr th {\n",
       "        vertical-align: top;\n",
       "    }\n",
       "\n",
       "    .dataframe thead th {\n",
       "        text-align: right;\n",
       "    }\n",
       "</style>\n",
       "<table border=\"1\" class=\"dataframe\">\n",
       "  <thead>\n",
       "    <tr style=\"text-align: right;\">\n",
       "      <th></th>\n",
       "      <th>timestep</th>\n",
       "      <th>x_distance</th>\n",
       "      <th>y_distance</th>\n",
       "      <th>z_distance</th>\n",
       "      <th>time_creation</th>\n",
       "      <th>Tminus1</th>\n",
       "      <th>T1_t-1</th>\n",
       "      <th>T2_t-1</th>\n",
       "      <th>T3_t-1</th>\n",
       "      <th>T4_t-1</th>\n",
       "      <th>T5_t-1</th>\n",
       "      <th>T6_t-1</th>\n",
       "      <th>T7_t-1</th>\n",
       "      <th>T8_t-1</th>\n",
       "      <th>T9_t-1</th>\n",
       "      <th>T10_t-1</th>\n",
       "      <th>T11_t-1</th>\n",
       "      <th>T12_t-1</th>\n",
       "      <th>T13_t-1</th>\n",
       "      <th>T14_t-1</th>\n",
       "      <th>T15_t-1</th>\n",
       "      <th>T16_t-1</th>\n",
       "      <th>T17_t-1</th>\n",
       "      <th>T18_t-1</th>\n",
       "      <th>T19_t-1</th>\n",
       "      <th>T20_t-1</th>\n",
       "      <th>T21_t-1</th>\n",
       "      <th>T22_t-1</th>\n",
       "      <th>T23_t-1</th>\n",
       "      <th>T24_t-1</th>\n",
       "      <th>T25_t-1</th>\n",
       "      <th>T26_t-1</th>\n",
       "      <th>x_y_z</th>\n",
       "    </tr>\n",
       "  </thead>\n",
       "  <tbody>\n",
       "    <tr>\n",
       "      <th>690604</th>\n",
       "      <td>314.0</td>\n",
       "      <td>10.77</td>\n",
       "      <td>1.75</td>\n",
       "      <td>0.5</td>\n",
       "      <td>1.0</td>\n",
       "      <td>1543.870</td>\n",
       "      <td>1341.520</td>\n",
       "      <td>1484.760</td>\n",
       "      <td>1498.600</td>\n",
       "      <td>1368.740</td>\n",
       "      <td>1409.590</td>\n",
       "      <td>1426.00</td>\n",
       "      <td>1467.440</td>\n",
       "      <td>1461.420</td>\n",
       "      <td>1485.200</td>\n",
       "      <td>1393.550</td>\n",
       "      <td>1432.330</td>\n",
       "      <td>1321.170</td>\n",
       "      <td>1511.080</td>\n",
       "      <td>1510.690</td>\n",
       "      <td>1297.640</td>\n",
       "      <td>1431.360</td>\n",
       "      <td>1440.280</td>\n",
       "      <td>1502.59</td>\n",
       "      <td>1410.910</td>\n",
       "      <td>1424.800</td>\n",
       "      <td>1483.27</td>\n",
       "      <td>1342.030</td>\n",
       "      <td>1477.530</td>\n",
       "      <td>1394.610</td>\n",
       "      <td>1496.410</td>\n",
       "      <td>1455.290</td>\n",
       "      <td>10.77_1.75_0.5</td>\n",
       "    </tr>\n",
       "    <tr>\n",
       "      <th>514301</th>\n",
       "      <td>270.0</td>\n",
       "      <td>14.33</td>\n",
       "      <td>7.25</td>\n",
       "      <td>0.5</td>\n",
       "      <td>1.0</td>\n",
       "      <td>754.711</td>\n",
       "      <td>759.614</td>\n",
       "      <td>758.988</td>\n",
       "      <td>748.478</td>\n",
       "      <td>765.633</td>\n",
       "      <td>765.761</td>\n",
       "      <td>-99.00</td>\n",
       "      <td>750.655</td>\n",
       "      <td>771.674</td>\n",
       "      <td>738.596</td>\n",
       "      <td>741.559</td>\n",
       "      <td>744.741</td>\n",
       "      <td>748.402</td>\n",
       "      <td>-99.000</td>\n",
       "      <td>-99.000</td>\n",
       "      <td>759.720</td>\n",
       "      <td>759.107</td>\n",
       "      <td>-99.000</td>\n",
       "      <td>-99.00</td>\n",
       "      <td>753.564</td>\n",
       "      <td>771.811</td>\n",
       "      <td>738.41</td>\n",
       "      <td>741.592</td>\n",
       "      <td>-99.000</td>\n",
       "      <td>-99.000</td>\n",
       "      <td>-99.000</td>\n",
       "      <td>-99.000</td>\n",
       "      <td>14.33_7.25_0.5</td>\n",
       "    </tr>\n",
       "    <tr>\n",
       "      <th>11216</th>\n",
       "      <td>37.0</td>\n",
       "      <td>5.90</td>\n",
       "      <td>0.75</td>\n",
       "      <td>0.0</td>\n",
       "      <td>0.5</td>\n",
       "      <td>1046.450</td>\n",
       "      <td>1009.290</td>\n",
       "      <td>975.481</td>\n",
       "      <td>1001.650</td>\n",
       "      <td>-99.000</td>\n",
       "      <td>-99.000</td>\n",
       "      <td>-99.00</td>\n",
       "      <td>976.853</td>\n",
       "      <td>-99.000</td>\n",
       "      <td>993.239</td>\n",
       "      <td>-99.000</td>\n",
       "      <td>-99.000</td>\n",
       "      <td>-99.000</td>\n",
       "      <td>-99.000</td>\n",
       "      <td>-99.000</td>\n",
       "      <td>-99.000</td>\n",
       "      <td>-99.000</td>\n",
       "      <td>-99.000</td>\n",
       "      <td>-99.00</td>\n",
       "      <td>-99.000</td>\n",
       "      <td>-99.000</td>\n",
       "      <td>-99.00</td>\n",
       "      <td>-99.000</td>\n",
       "      <td>-99.000</td>\n",
       "      <td>-99.000</td>\n",
       "      <td>-99.000</td>\n",
       "      <td>-99.000</td>\n",
       "      <td>5.9_0.75_0.0</td>\n",
       "    </tr>\n",
       "    <tr>\n",
       "      <th>754700</th>\n",
       "      <td>329.0</td>\n",
       "      <td>0.23</td>\n",
       "      <td>4.75</td>\n",
       "      <td>0.5</td>\n",
       "      <td>1.0</td>\n",
       "      <td>600.804</td>\n",
       "      <td>625.242</td>\n",
       "      <td>617.432</td>\n",
       "      <td>606.607</td>\n",
       "      <td>619.809</td>\n",
       "      <td>617.407</td>\n",
       "      <td>-99.00</td>\n",
       "      <td>608.922</td>\n",
       "      <td>611.694</td>\n",
       "      <td>597.678</td>\n",
       "      <td>604.373</td>\n",
       "      <td>599.761</td>\n",
       "      <td>603.989</td>\n",
       "      <td>-99.000</td>\n",
       "      <td>-99.000</td>\n",
       "      <td>624.134</td>\n",
       "      <td>593.696</td>\n",
       "      <td>-99.000</td>\n",
       "      <td>-99.00</td>\n",
       "      <td>606.449</td>\n",
       "      <td>610.298</td>\n",
       "      <td>601.51</td>\n",
       "      <td>614.770</td>\n",
       "      <td>-99.000</td>\n",
       "      <td>-99.000</td>\n",
       "      <td>-99.000</td>\n",
       "      <td>-99.000</td>\n",
       "      <td>0.23_4.75_0.5</td>\n",
       "    </tr>\n",
       "    <tr>\n",
       "      <th>662509</th>\n",
       "      <td>308.0</td>\n",
       "      <td>0.13</td>\n",
       "      <td>9.25</td>\n",
       "      <td>0.5</td>\n",
       "      <td>1.0</td>\n",
       "      <td>1015.170</td>\n",
       "      <td>984.093</td>\n",
       "      <td>1008.580</td>\n",
       "      <td>984.060</td>\n",
       "      <td>967.038</td>\n",
       "      <td>940.569</td>\n",
       "      <td>1010.99</td>\n",
       "      <td>967.176</td>\n",
       "      <td>959.588</td>\n",
       "      <td>983.097</td>\n",
       "      <td>965.986</td>\n",
       "      <td>999.322</td>\n",
       "      <td>948.935</td>\n",
       "      <td>987.751</td>\n",
       "      <td>971.924</td>\n",
       "      <td>972.060</td>\n",
       "      <td>940.357</td>\n",
       "      <td>987.775</td>\n",
       "      <td>1011.13</td>\n",
       "      <td>999.212</td>\n",
       "      <td>939.890</td>\n",
       "      <td>971.03</td>\n",
       "      <td>947.869</td>\n",
       "      <td>972.052</td>\n",
       "      <td>965.118</td>\n",
       "      <td>986.792</td>\n",
       "      <td>970.876</td>\n",
       "      <td>0.13_9.25_0.5</td>\n",
       "    </tr>\n",
       "  </tbody>\n",
       "</table>\n",
       "</div>"
      ],
      "text/plain": [
       "        timestep  x_distance  y_distance  z_distance  time_creation   Tminus1  \\\n",
       "690604     314.0       10.77        1.75         0.5            1.0  1543.870   \n",
       "514301     270.0       14.33        7.25         0.5            1.0   754.711   \n",
       "11216       37.0        5.90        0.75         0.0            0.5  1046.450   \n",
       "754700     329.0        0.23        4.75         0.5            1.0   600.804   \n",
       "662509     308.0        0.13        9.25         0.5            1.0  1015.170   \n",
       "\n",
       "          T1_t-1    T2_t-1    T3_t-1    T4_t-1    T5_t-1   T6_t-1    T7_t-1  \\\n",
       "690604  1341.520  1484.760  1498.600  1368.740  1409.590  1426.00  1467.440   \n",
       "514301   759.614   758.988   748.478   765.633   765.761   -99.00   750.655   \n",
       "11216   1009.290   975.481  1001.650   -99.000   -99.000   -99.00   976.853   \n",
       "754700   625.242   617.432   606.607   619.809   617.407   -99.00   608.922   \n",
       "662509   984.093  1008.580   984.060   967.038   940.569  1010.99   967.176   \n",
       "\n",
       "          T8_t-1    T9_t-1   T10_t-1   T11_t-1   T12_t-1   T13_t-1   T14_t-1  \\\n",
       "690604  1461.420  1485.200  1393.550  1432.330  1321.170  1511.080  1510.690   \n",
       "514301   771.674   738.596   741.559   744.741   748.402   -99.000   -99.000   \n",
       "11216    -99.000   993.239   -99.000   -99.000   -99.000   -99.000   -99.000   \n",
       "754700   611.694   597.678   604.373   599.761   603.989   -99.000   -99.000   \n",
       "662509   959.588   983.097   965.986   999.322   948.935   987.751   971.924   \n",
       "\n",
       "         T15_t-1   T16_t-1   T17_t-1  T18_t-1   T19_t-1   T20_t-1  T21_t-1  \\\n",
       "690604  1297.640  1431.360  1440.280  1502.59  1410.910  1424.800  1483.27   \n",
       "514301   759.720   759.107   -99.000   -99.00   753.564   771.811   738.41   \n",
       "11216    -99.000   -99.000   -99.000   -99.00   -99.000   -99.000   -99.00   \n",
       "754700   624.134   593.696   -99.000   -99.00   606.449   610.298   601.51   \n",
       "662509   972.060   940.357   987.775  1011.13   999.212   939.890   971.03   \n",
       "\n",
       "         T22_t-1   T23_t-1   T24_t-1   T25_t-1   T26_t-1           x_y_z  \n",
       "690604  1342.030  1477.530  1394.610  1496.410  1455.290  10.77_1.75_0.5  \n",
       "514301   741.592   -99.000   -99.000   -99.000   -99.000  14.33_7.25_0.5  \n",
       "11216    -99.000   -99.000   -99.000   -99.000   -99.000    5.9_0.75_0.0  \n",
       "754700   614.770   -99.000   -99.000   -99.000   -99.000   0.23_4.75_0.5  \n",
       "662509   947.869   972.052   965.118   986.792   970.876   0.13_9.25_0.5  "
      ]
     },
     "execution_count": 20,
     "metadata": {},
     "output_type": "execute_result"
    }
   ],
   "source": [
    "X_train.head()"
   ]
  },
  {
   "cell_type": "code",
   "execution_count": 21,
   "metadata": {},
   "outputs": [
    {
     "data": {
      "text/plain": [
       "(1105639, 610671)"
      ]
     },
     "execution_count": 21,
     "metadata": {},
     "output_type": "execute_result"
    }
   ],
   "source": [
    "len(X_train), len(X_test)"
   ]
  },
  {
   "cell_type": "code",
   "execution_count": 22,
   "metadata": {},
   "outputs": [],
   "source": [
    "X_spatiallyNonUniq = X_test[X_test['x_y_z'].isin(list(set(X_train['x_y_z'])))]"
   ]
  },
  {
   "cell_type": "code",
   "execution_count": 23,
   "metadata": {},
   "outputs": [],
   "source": [
    "X_spatiallyUniq = X_test[~X_test['x_y_z'].isin(list(set(X_train['x_y_z'])))]"
   ]
  },
  {
   "cell_type": "code",
   "execution_count": 24,
   "metadata": {},
   "outputs": [
    {
     "data": {
      "text/plain": [
       "(112496, 498175)"
      ]
     },
     "execution_count": 24,
     "metadata": {},
     "output_type": "execute_result"
    }
   ],
   "source": [
    "len(X_spatiallyUniq), len(X_spatiallyNonUniq)"
   ]
  },
  {
   "cell_type": "markdown",
   "metadata": {},
   "source": [
    "To Do : \n",
    "* We have the data points for points that are unique and those that are not unique. \n",
    "* We need to find the R2 values for those points \n",
    "* Further, we can differentiate these points based on the type of voxels "
   ]
  },
  {
   "cell_type": "code",
   "execution_count": 25,
   "metadata": {},
   "outputs": [],
   "source": [
    "test = np.array(y_test)"
   ]
  },
  {
   "cell_type": "code",
   "execution_count": 26,
   "metadata": {},
   "outputs": [
    {
     "data": {
      "text/html": [
       "<div>\n",
       "<style scoped>\n",
       "    .dataframe tbody tr th:only-of-type {\n",
       "        vertical-align: middle;\n",
       "    }\n",
       "\n",
       "    .dataframe tbody tr th {\n",
       "        vertical-align: top;\n",
       "    }\n",
       "\n",
       "    .dataframe thead th {\n",
       "        text-align: right;\n",
       "    }\n",
       "</style>\n",
       "<table border=\"1\" class=\"dataframe\">\n",
       "  <thead>\n",
       "    <tr style=\"text-align: right;\">\n",
       "      <th></th>\n",
       "      <th>timestep</th>\n",
       "      <th>x_distance</th>\n",
       "      <th>y_distance</th>\n",
       "      <th>z_distance</th>\n",
       "      <th>time_creation</th>\n",
       "      <th>Tminus1</th>\n",
       "      <th>T1_t-1</th>\n",
       "      <th>T2_t-1</th>\n",
       "      <th>T3_t-1</th>\n",
       "      <th>T4_t-1</th>\n",
       "      <th>T5_t-1</th>\n",
       "      <th>T6_t-1</th>\n",
       "      <th>T7_t-1</th>\n",
       "      <th>T8_t-1</th>\n",
       "      <th>T9_t-1</th>\n",
       "      <th>T10_t-1</th>\n",
       "      <th>T11_t-1</th>\n",
       "      <th>T12_t-1</th>\n",
       "      <th>T13_t-1</th>\n",
       "      <th>T14_t-1</th>\n",
       "      <th>T15_t-1</th>\n",
       "      <th>T16_t-1</th>\n",
       "      <th>T17_t-1</th>\n",
       "      <th>T18_t-1</th>\n",
       "      <th>T19_t-1</th>\n",
       "      <th>T20_t-1</th>\n",
       "      <th>T21_t-1</th>\n",
       "      <th>T22_t-1</th>\n",
       "      <th>T23_t-1</th>\n",
       "      <th>T24_t-1</th>\n",
       "      <th>T25_t-1</th>\n",
       "      <th>T26_t-1</th>\n",
       "      <th>x_y_z</th>\n",
       "    </tr>\n",
       "  </thead>\n",
       "  <tbody>\n",
       "    <tr>\n",
       "      <th>1213525</th>\n",
       "      <td>419.0</td>\n",
       "      <td>6.05</td>\n",
       "      <td>5.75</td>\n",
       "      <td>0.0</td>\n",
       "      <td>2.0</td>\n",
       "      <td>1149.280</td>\n",
       "      <td>1104.350</td>\n",
       "      <td>1112.20</td>\n",
       "      <td>1094.47</td>\n",
       "      <td>1076.63</td>\n",
       "      <td>1119.930</td>\n",
       "      <td>-99.0</td>\n",
       "      <td>1107.83</td>\n",
       "      <td>1089.51</td>\n",
       "      <td>1084.93</td>\n",
       "      <td>1072.620</td>\n",
       "      <td>1086.62</td>\n",
       "      <td>1073.30</td>\n",
       "      <td>-99.0</td>\n",
       "      <td>-99.0</td>\n",
       "      <td>1096.87</td>\n",
       "      <td>1067.71</td>\n",
       "      <td>-99.0</td>\n",
       "      <td>-99.0</td>\n",
       "      <td>1100.84</td>\n",
       "      <td>1081.410</td>\n",
       "      <td>1076.27</td>\n",
       "      <td>1057.740</td>\n",
       "      <td>-99.0</td>\n",
       "      <td>-99.0</td>\n",
       "      <td>-99.0</td>\n",
       "      <td>-99.0</td>\n",
       "      <td>6.05_5.75_0.0</td>\n",
       "    </tr>\n",
       "    <tr>\n",
       "      <th>1570706</th>\n",
       "      <td>478.0</td>\n",
       "      <td>9.35</td>\n",
       "      <td>2.75</td>\n",
       "      <td>0.0</td>\n",
       "      <td>2.0</td>\n",
       "      <td>1583.610</td>\n",
       "      <td>1711.350</td>\n",
       "      <td>1702.64</td>\n",
       "      <td>1707.04</td>\n",
       "      <td>1659.95</td>\n",
       "      <td>1698.280</td>\n",
       "      <td>-99.0</td>\n",
       "      <td>1657.71</td>\n",
       "      <td>1561.10</td>\n",
       "      <td>1659.81</td>\n",
       "      <td>1559.740</td>\n",
       "      <td>1641.10</td>\n",
       "      <td>1548.91</td>\n",
       "      <td>-99.0</td>\n",
       "      <td>-99.0</td>\n",
       "      <td>1549.25</td>\n",
       "      <td>1547.34</td>\n",
       "      <td>-99.0</td>\n",
       "      <td>-99.0</td>\n",
       "      <td>1702.98</td>\n",
       "      <td>1640.860</td>\n",
       "      <td>1694.43</td>\n",
       "      <td>1641.240</td>\n",
       "      <td>-99.0</td>\n",
       "      <td>-99.0</td>\n",
       "      <td>-99.0</td>\n",
       "      <td>-99.0</td>\n",
       "      <td>9.35_2.75_0.0</td>\n",
       "    </tr>\n",
       "    <tr>\n",
       "      <th>1509993</th>\n",
       "      <td>468.0</td>\n",
       "      <td>0.35</td>\n",
       "      <td>8.25</td>\n",
       "      <td>0.0</td>\n",
       "      <td>2.0</td>\n",
       "      <td>1137.400</td>\n",
       "      <td>1157.060</td>\n",
       "      <td>1153.68</td>\n",
       "      <td>1183.79</td>\n",
       "      <td>1241.22</td>\n",
       "      <td>1155.400</td>\n",
       "      <td>-99.0</td>\n",
       "      <td>1131.60</td>\n",
       "      <td>1241.89</td>\n",
       "      <td>1128.03</td>\n",
       "      <td>1269.370</td>\n",
       "      <td>1129.94</td>\n",
       "      <td>1270.55</td>\n",
       "      <td>-99.0</td>\n",
       "      <td>-99.0</td>\n",
       "      <td>1156.61</td>\n",
       "      <td>1127.67</td>\n",
       "      <td>-99.0</td>\n",
       "      <td>-99.0</td>\n",
       "      <td>1131.26</td>\n",
       "      <td>1240.920</td>\n",
       "      <td>1182.15</td>\n",
       "      <td>1268.080</td>\n",
       "      <td>-99.0</td>\n",
       "      <td>-99.0</td>\n",
       "      <td>-99.0</td>\n",
       "      <td>-99.0</td>\n",
       "      <td>0.35_8.25_0.0</td>\n",
       "    </tr>\n",
       "    <tr>\n",
       "      <th>1520165</th>\n",
       "      <td>470.0</td>\n",
       "      <td>6.55</td>\n",
       "      <td>11.75</td>\n",
       "      <td>0.0</td>\n",
       "      <td>2.0</td>\n",
       "      <td>995.834</td>\n",
       "      <td>990.403</td>\n",
       "      <td>1029.53</td>\n",
       "      <td>1029.08</td>\n",
       "      <td>1009.71</td>\n",
       "      <td>990.705</td>\n",
       "      <td>-99.0</td>\n",
       "      <td>1027.74</td>\n",
       "      <td>1009.28</td>\n",
       "      <td>1009.28</td>\n",
       "      <td>990.392</td>\n",
       "      <td>1028.99</td>\n",
       "      <td>1009.63</td>\n",
       "      <td>-99.0</td>\n",
       "      <td>-99.0</td>\n",
       "      <td>1027.66</td>\n",
       "      <td>1029.45</td>\n",
       "      <td>-99.0</td>\n",
       "      <td>-99.0</td>\n",
       "      <td>1009.20</td>\n",
       "      <td>990.288</td>\n",
       "      <td>1009.19</td>\n",
       "      <td>990.276</td>\n",
       "      <td>-99.0</td>\n",
       "      <td>-99.0</td>\n",
       "      <td>-99.0</td>\n",
       "      <td>-99.0</td>\n",
       "      <td>6.55_11.75_0.0</td>\n",
       "    </tr>\n",
       "    <tr>\n",
       "      <th>1228187</th>\n",
       "      <td>422.0</td>\n",
       "      <td>9.50</td>\n",
       "      <td>3.00</td>\n",
       "      <td>0.0</td>\n",
       "      <td>2.0</td>\n",
       "      <td>1436.910</td>\n",
       "      <td>1508.420</td>\n",
       "      <td>1503.21</td>\n",
       "      <td>1605.11</td>\n",
       "      <td>1759.43</td>\n",
       "      <td>1416.930</td>\n",
       "      <td>-99.0</td>\n",
       "      <td>1427.96</td>\n",
       "      <td>1710.42</td>\n",
       "      <td>1421.31</td>\n",
       "      <td>1729.040</td>\n",
       "      <td>1590.60</td>\n",
       "      <td>1709.68</td>\n",
       "      <td>-99.0</td>\n",
       "      <td>-99.0</td>\n",
       "      <td>1496.76</td>\n",
       "      <td>1413.17</td>\n",
       "      <td>-99.0</td>\n",
       "      <td>-99.0</td>\n",
       "      <td>1420.06</td>\n",
       "      <td>1702.110</td>\n",
       "      <td>1589.20</td>\n",
       "      <td>1763.730</td>\n",
       "      <td>-99.0</td>\n",
       "      <td>-99.0</td>\n",
       "      <td>-99.0</td>\n",
       "      <td>-99.0</td>\n",
       "      <td>9.5_3.0_0.0</td>\n",
       "    </tr>\n",
       "  </tbody>\n",
       "</table>\n",
       "</div>"
      ],
      "text/plain": [
       "         timestep  x_distance  y_distance  z_distance  time_creation  \\\n",
       "1213525     419.0        6.05        5.75         0.0            2.0   \n",
       "1570706     478.0        9.35        2.75         0.0            2.0   \n",
       "1509993     468.0        0.35        8.25         0.0            2.0   \n",
       "1520165     470.0        6.55       11.75         0.0            2.0   \n",
       "1228187     422.0        9.50        3.00         0.0            2.0   \n",
       "\n",
       "          Tminus1    T1_t-1   T2_t-1   T3_t-1   T4_t-1    T5_t-1  T6_t-1  \\\n",
       "1213525  1149.280  1104.350  1112.20  1094.47  1076.63  1119.930   -99.0   \n",
       "1570706  1583.610  1711.350  1702.64  1707.04  1659.95  1698.280   -99.0   \n",
       "1509993  1137.400  1157.060  1153.68  1183.79  1241.22  1155.400   -99.0   \n",
       "1520165   995.834   990.403  1029.53  1029.08  1009.71   990.705   -99.0   \n",
       "1228187  1436.910  1508.420  1503.21  1605.11  1759.43  1416.930   -99.0   \n",
       "\n",
       "          T7_t-1   T8_t-1   T9_t-1   T10_t-1  T11_t-1  T12_t-1  T13_t-1  \\\n",
       "1213525  1107.83  1089.51  1084.93  1072.620  1086.62  1073.30    -99.0   \n",
       "1570706  1657.71  1561.10  1659.81  1559.740  1641.10  1548.91    -99.0   \n",
       "1509993  1131.60  1241.89  1128.03  1269.370  1129.94  1270.55    -99.0   \n",
       "1520165  1027.74  1009.28  1009.28   990.392  1028.99  1009.63    -99.0   \n",
       "1228187  1427.96  1710.42  1421.31  1729.040  1590.60  1709.68    -99.0   \n",
       "\n",
       "         T14_t-1  T15_t-1  T16_t-1  T17_t-1  T18_t-1  T19_t-1   T20_t-1  \\\n",
       "1213525    -99.0  1096.87  1067.71    -99.0    -99.0  1100.84  1081.410   \n",
       "1570706    -99.0  1549.25  1547.34    -99.0    -99.0  1702.98  1640.860   \n",
       "1509993    -99.0  1156.61  1127.67    -99.0    -99.0  1131.26  1240.920   \n",
       "1520165    -99.0  1027.66  1029.45    -99.0    -99.0  1009.20   990.288   \n",
       "1228187    -99.0  1496.76  1413.17    -99.0    -99.0  1420.06  1702.110   \n",
       "\n",
       "         T21_t-1   T22_t-1  T23_t-1  T24_t-1  T25_t-1  T26_t-1           x_y_z  \n",
       "1213525  1076.27  1057.740    -99.0    -99.0    -99.0    -99.0   6.05_5.75_0.0  \n",
       "1570706  1694.43  1641.240    -99.0    -99.0    -99.0    -99.0   9.35_2.75_0.0  \n",
       "1509993  1182.15  1268.080    -99.0    -99.0    -99.0    -99.0   0.35_8.25_0.0  \n",
       "1520165  1009.19   990.276    -99.0    -99.0    -99.0    -99.0  6.55_11.75_0.0  \n",
       "1228187  1589.20  1763.730    -99.0    -99.0    -99.0    -99.0     9.5_3.0_0.0  "
      ]
     },
     "execution_count": 26,
     "metadata": {},
     "output_type": "execute_result"
    }
   ],
   "source": [
    "X_spatiallyUniq.head()"
   ]
  },
  {
   "cell_type": "code",
   "execution_count": 40,
   "metadata": {},
   "outputs": [],
   "source": [
    "uniqIndices = np.array(X_spatiallyUniq.index)\n"
   ]
  },
  {
   "cell_type": "code",
   "execution_count": 100,
   "metadata": {},
   "outputs": [
    {
     "data": {
      "text/plain": [
       "array([1213525, 1570706, 1509993, 1520165, 1228187])"
      ]
     },
     "execution_count": 100,
     "metadata": {},
     "output_type": "execute_result"
    }
   ],
   "source": [
    "uniqIndices[:5]"
   ]
  },
  {
   "cell_type": "code",
   "execution_count": 101,
   "metadata": {},
   "outputs": [
    {
     "name": "stdout",
     "output_type": "stream",
     "text": [
      "1461147\n",
      "1658710\n",
      "1492606\n",
      "1635688\n",
      "1213525\n"
     ]
    }
   ],
   "source": [
    "for key in y_test.keys()[:5]:\n",
    "    print key"
   ]
  },
  {
   "cell_type": "code",
   "execution_count": null,
   "metadata": {},
   "outputs": [],
   "source": [
    "testDict[1461147]"
   ]
  },
  {
   "cell_type": "code",
   "execution_count": 99,
   "metadata": {},
   "outputs": [
    {
     "data": {
      "text/plain": [
       "(610671, 610671)"
      ]
     },
     "execution_count": 99,
     "metadata": {},
     "output_type": "execute_result"
    }
   ],
   "source": [
    "len(y_test.keys()), len(keys)"
   ]
  },
  {
   "cell_type": "code",
   "execution_count": 107,
   "metadata": {},
   "outputs": [
    {
     "data": {
      "text/plain": [
       "(1178.09, 1178.09)"
      ]
     },
     "execution_count": 107,
     "metadata": {},
     "output_type": "execute_result"
    }
   ],
   "source": [
    "test[0], y_test.iloc[0]"
   ]
  },
  {
   "cell_type": "code",
   "execution_count": 109,
   "metadata": {},
   "outputs": [],
   "source": [
    "testDict, predictDict = {},{}\n",
    "keys = y_test.keys()\n",
    "for i in range(len(keys)):\n",
    "    testDict[keys[i]] = test[i]\n",
    "    predictDict[keys[i]] = predicted[i]"
   ]
  },
  {
   "cell_type": "code",
   "execution_count": 110,
   "metadata": {},
   "outputs": [],
   "source": [
    "test_uniq, predicted_uniq = [],[]\n",
    "test_nonuniq, predicted_nonuniq = [],[]\n",
    "for index in y_test.keys():\n",
    "    if index in uniqIndices:\n",
    "        test_uniq += [testDict[index]]\n",
    "        predicted_uniq +=  [predictDict[index]]\n",
    "    else:\n",
    "        test_nonuniq +=  [ testDict[index]]\n",
    "        predicted_nonuniq +=  [ predictDict[index]]\n"
   ]
  },
  {
   "cell_type": "code",
   "execution_count": 111,
   "metadata": {},
   "outputs": [
    {
     "data": {
      "text/plain": [
       "(498175, 112496, 112496)"
      ]
     },
     "execution_count": 111,
     "metadata": {},
     "output_type": "execute_result"
    }
   ],
   "source": [
    "len(predicted_nonuniq), len(test_uniq), len(predicted_uniq)"
   ]
  },
  {
   "cell_type": "code",
   "execution_count": 112,
   "metadata": {},
   "outputs": [
    {
     "data": {
      "text/plain": [
       "0.9918"
      ]
     },
     "execution_count": 112,
     "metadata": {},
     "output_type": "execute_result"
    }
   ],
   "source": [
    "r2(test_nonuniq, predicted_nonuniq)"
   ]
  },
  {
   "cell_type": "code",
   "execution_count": 113,
   "metadata": {},
   "outputs": [
    {
     "data": {
      "text/plain": [
       "0.986"
      ]
     },
     "execution_count": 113,
     "metadata": {},
     "output_type": "execute_result"
    }
   ],
   "source": [
    "r2(test_uniq, predicted_uniq)"
   ]
  },
  {
   "cell_type": "markdown",
   "metadata": {},
   "source": [
    "### Big Simulation "
   ]
  },
  {
   "cell_type": "code",
   "execution_count": 12,
   "metadata": {},
   "outputs": [
    {
     "ename": "KeyError",
     "evalue": "'x_y_z'",
     "output_type": "error",
     "traceback": [
      "\u001b[0;31m---------------------------------------------------------------------------\u001b[0m",
      "\u001b[0;31mKeyError\u001b[0m                                  Traceback (most recent call last)",
      "\u001b[0;32m<ipython-input-12-f663e1fd8b98>\u001b[0m in \u001b[0;36m<module>\u001b[0;34m()\u001b[0m\n\u001b[0;32m----> 1\u001b[0;31m \u001b[0mX_spatiallyNonUniq\u001b[0m \u001b[0;34m=\u001b[0m \u001b[0mX_test\u001b[0m\u001b[0;34m[\u001b[0m\u001b[0mX_test\u001b[0m\u001b[0;34m[\u001b[0m\u001b[0;34m'x_y_z'\u001b[0m\u001b[0;34m]\u001b[0m\u001b[0;34m.\u001b[0m\u001b[0misin\u001b[0m\u001b[0;34m(\u001b[0m\u001b[0mlist\u001b[0m\u001b[0;34m(\u001b[0m\u001b[0mset\u001b[0m\u001b[0;34m(\u001b[0m\u001b[0mX_train\u001b[0m\u001b[0;34m[\u001b[0m\u001b[0;34m'x_y_z'\u001b[0m\u001b[0;34m]\u001b[0m\u001b[0;34m)\u001b[0m\u001b[0;34m)\u001b[0m\u001b[0;34m)\u001b[0m\u001b[0;34m]\u001b[0m\u001b[0;34m\u001b[0m\u001b[0m\n\u001b[0m",
      "\u001b[0;32m/Users/Arindam/anaconda2/lib/python2.7/site-packages/pandas/core/frame.pyc\u001b[0m in \u001b[0;36m__getitem__\u001b[0;34m(self, key)\u001b[0m\n\u001b[1;32m   2137\u001b[0m             \u001b[0;32mreturn\u001b[0m \u001b[0mself\u001b[0m\u001b[0;34m.\u001b[0m\u001b[0m_getitem_multilevel\u001b[0m\u001b[0;34m(\u001b[0m\u001b[0mkey\u001b[0m\u001b[0;34m)\u001b[0m\u001b[0;34m\u001b[0m\u001b[0m\n\u001b[1;32m   2138\u001b[0m         \u001b[0;32melse\u001b[0m\u001b[0;34m:\u001b[0m\u001b[0;34m\u001b[0m\u001b[0m\n\u001b[0;32m-> 2139\u001b[0;31m             \u001b[0;32mreturn\u001b[0m \u001b[0mself\u001b[0m\u001b[0;34m.\u001b[0m\u001b[0m_getitem_column\u001b[0m\u001b[0;34m(\u001b[0m\u001b[0mkey\u001b[0m\u001b[0;34m)\u001b[0m\u001b[0;34m\u001b[0m\u001b[0m\n\u001b[0m\u001b[1;32m   2140\u001b[0m \u001b[0;34m\u001b[0m\u001b[0m\n\u001b[1;32m   2141\u001b[0m     \u001b[0;32mdef\u001b[0m \u001b[0m_getitem_column\u001b[0m\u001b[0;34m(\u001b[0m\u001b[0mself\u001b[0m\u001b[0;34m,\u001b[0m \u001b[0mkey\u001b[0m\u001b[0;34m)\u001b[0m\u001b[0;34m:\u001b[0m\u001b[0;34m\u001b[0m\u001b[0m\n",
      "\u001b[0;32m/Users/Arindam/anaconda2/lib/python2.7/site-packages/pandas/core/frame.pyc\u001b[0m in \u001b[0;36m_getitem_column\u001b[0;34m(self, key)\u001b[0m\n\u001b[1;32m   2144\u001b[0m         \u001b[0;31m# get column\u001b[0m\u001b[0;34m\u001b[0m\u001b[0;34m\u001b[0m\u001b[0m\n\u001b[1;32m   2145\u001b[0m         \u001b[0;32mif\u001b[0m \u001b[0mself\u001b[0m\u001b[0;34m.\u001b[0m\u001b[0mcolumns\u001b[0m\u001b[0;34m.\u001b[0m\u001b[0mis_unique\u001b[0m\u001b[0;34m:\u001b[0m\u001b[0;34m\u001b[0m\u001b[0m\n\u001b[0;32m-> 2146\u001b[0;31m             \u001b[0;32mreturn\u001b[0m \u001b[0mself\u001b[0m\u001b[0;34m.\u001b[0m\u001b[0m_get_item_cache\u001b[0m\u001b[0;34m(\u001b[0m\u001b[0mkey\u001b[0m\u001b[0;34m)\u001b[0m\u001b[0;34m\u001b[0m\u001b[0m\n\u001b[0m\u001b[1;32m   2147\u001b[0m \u001b[0;34m\u001b[0m\u001b[0m\n\u001b[1;32m   2148\u001b[0m         \u001b[0;31m# duplicate columns & possible reduce dimensionality\u001b[0m\u001b[0;34m\u001b[0m\u001b[0;34m\u001b[0m\u001b[0m\n",
      "\u001b[0;32m/Users/Arindam/anaconda2/lib/python2.7/site-packages/pandas/core/generic.pyc\u001b[0m in \u001b[0;36m_get_item_cache\u001b[0;34m(self, item)\u001b[0m\n\u001b[1;32m   1840\u001b[0m         \u001b[0mres\u001b[0m \u001b[0;34m=\u001b[0m \u001b[0mcache\u001b[0m\u001b[0;34m.\u001b[0m\u001b[0mget\u001b[0m\u001b[0;34m(\u001b[0m\u001b[0mitem\u001b[0m\u001b[0;34m)\u001b[0m\u001b[0;34m\u001b[0m\u001b[0m\n\u001b[1;32m   1841\u001b[0m         \u001b[0;32mif\u001b[0m \u001b[0mres\u001b[0m \u001b[0;32mis\u001b[0m \u001b[0mNone\u001b[0m\u001b[0;34m:\u001b[0m\u001b[0;34m\u001b[0m\u001b[0m\n\u001b[0;32m-> 1842\u001b[0;31m             \u001b[0mvalues\u001b[0m \u001b[0;34m=\u001b[0m \u001b[0mself\u001b[0m\u001b[0;34m.\u001b[0m\u001b[0m_data\u001b[0m\u001b[0;34m.\u001b[0m\u001b[0mget\u001b[0m\u001b[0;34m(\u001b[0m\u001b[0mitem\u001b[0m\u001b[0;34m)\u001b[0m\u001b[0;34m\u001b[0m\u001b[0m\n\u001b[0m\u001b[1;32m   1843\u001b[0m             \u001b[0mres\u001b[0m \u001b[0;34m=\u001b[0m \u001b[0mself\u001b[0m\u001b[0;34m.\u001b[0m\u001b[0m_box_item_values\u001b[0m\u001b[0;34m(\u001b[0m\u001b[0mitem\u001b[0m\u001b[0;34m,\u001b[0m \u001b[0mvalues\u001b[0m\u001b[0;34m)\u001b[0m\u001b[0;34m\u001b[0m\u001b[0m\n\u001b[1;32m   1844\u001b[0m             \u001b[0mcache\u001b[0m\u001b[0;34m[\u001b[0m\u001b[0mitem\u001b[0m\u001b[0;34m]\u001b[0m \u001b[0;34m=\u001b[0m \u001b[0mres\u001b[0m\u001b[0;34m\u001b[0m\u001b[0m\n",
      "\u001b[0;32m/Users/Arindam/anaconda2/lib/python2.7/site-packages/pandas/core/internals.pyc\u001b[0m in \u001b[0;36mget\u001b[0;34m(self, item, fastpath)\u001b[0m\n\u001b[1;32m   3841\u001b[0m \u001b[0;34m\u001b[0m\u001b[0m\n\u001b[1;32m   3842\u001b[0m             \u001b[0;32mif\u001b[0m \u001b[0;32mnot\u001b[0m \u001b[0misna\u001b[0m\u001b[0;34m(\u001b[0m\u001b[0mitem\u001b[0m\u001b[0;34m)\u001b[0m\u001b[0;34m:\u001b[0m\u001b[0;34m\u001b[0m\u001b[0m\n\u001b[0;32m-> 3843\u001b[0;31m                 \u001b[0mloc\u001b[0m \u001b[0;34m=\u001b[0m \u001b[0mself\u001b[0m\u001b[0;34m.\u001b[0m\u001b[0mitems\u001b[0m\u001b[0;34m.\u001b[0m\u001b[0mget_loc\u001b[0m\u001b[0;34m(\u001b[0m\u001b[0mitem\u001b[0m\u001b[0;34m)\u001b[0m\u001b[0;34m\u001b[0m\u001b[0m\n\u001b[0m\u001b[1;32m   3844\u001b[0m             \u001b[0;32melse\u001b[0m\u001b[0;34m:\u001b[0m\u001b[0;34m\u001b[0m\u001b[0m\n\u001b[1;32m   3845\u001b[0m                 \u001b[0mindexer\u001b[0m \u001b[0;34m=\u001b[0m \u001b[0mnp\u001b[0m\u001b[0;34m.\u001b[0m\u001b[0marange\u001b[0m\u001b[0;34m(\u001b[0m\u001b[0mlen\u001b[0m\u001b[0;34m(\u001b[0m\u001b[0mself\u001b[0m\u001b[0;34m.\u001b[0m\u001b[0mitems\u001b[0m\u001b[0;34m)\u001b[0m\u001b[0;34m)\u001b[0m\u001b[0;34m[\u001b[0m\u001b[0misna\u001b[0m\u001b[0;34m(\u001b[0m\u001b[0mself\u001b[0m\u001b[0;34m.\u001b[0m\u001b[0mitems\u001b[0m\u001b[0;34m)\u001b[0m\u001b[0;34m]\u001b[0m\u001b[0;34m\u001b[0m\u001b[0m\n",
      "\u001b[0;32m/Users/Arindam/anaconda2/lib/python2.7/site-packages/pandas/core/indexes/base.pyc\u001b[0m in \u001b[0;36mget_loc\u001b[0;34m(self, key, method, tolerance)\u001b[0m\n\u001b[1;32m   2525\u001b[0m                 \u001b[0;32mreturn\u001b[0m \u001b[0mself\u001b[0m\u001b[0;34m.\u001b[0m\u001b[0m_engine\u001b[0m\u001b[0;34m.\u001b[0m\u001b[0mget_loc\u001b[0m\u001b[0;34m(\u001b[0m\u001b[0mkey\u001b[0m\u001b[0;34m)\u001b[0m\u001b[0;34m\u001b[0m\u001b[0m\n\u001b[1;32m   2526\u001b[0m             \u001b[0;32mexcept\u001b[0m \u001b[0mKeyError\u001b[0m\u001b[0;34m:\u001b[0m\u001b[0;34m\u001b[0m\u001b[0m\n\u001b[0;32m-> 2527\u001b[0;31m                 \u001b[0;32mreturn\u001b[0m \u001b[0mself\u001b[0m\u001b[0;34m.\u001b[0m\u001b[0m_engine\u001b[0m\u001b[0;34m.\u001b[0m\u001b[0mget_loc\u001b[0m\u001b[0;34m(\u001b[0m\u001b[0mself\u001b[0m\u001b[0;34m.\u001b[0m\u001b[0m_maybe_cast_indexer\u001b[0m\u001b[0;34m(\u001b[0m\u001b[0mkey\u001b[0m\u001b[0;34m)\u001b[0m\u001b[0;34m)\u001b[0m\u001b[0;34m\u001b[0m\u001b[0m\n\u001b[0m\u001b[1;32m   2528\u001b[0m \u001b[0;34m\u001b[0m\u001b[0m\n\u001b[1;32m   2529\u001b[0m         \u001b[0mindexer\u001b[0m \u001b[0;34m=\u001b[0m \u001b[0mself\u001b[0m\u001b[0;34m.\u001b[0m\u001b[0mget_indexer\u001b[0m\u001b[0;34m(\u001b[0m\u001b[0;34m[\u001b[0m\u001b[0mkey\u001b[0m\u001b[0;34m]\u001b[0m\u001b[0;34m,\u001b[0m \u001b[0mmethod\u001b[0m\u001b[0;34m=\u001b[0m\u001b[0mmethod\u001b[0m\u001b[0;34m,\u001b[0m \u001b[0mtolerance\u001b[0m\u001b[0;34m=\u001b[0m\u001b[0mtolerance\u001b[0m\u001b[0;34m)\u001b[0m\u001b[0;34m\u001b[0m\u001b[0m\n",
      "\u001b[0;32mpandas/_libs/index.pyx\u001b[0m in \u001b[0;36mpandas._libs.index.IndexEngine.get_loc\u001b[0;34m()\u001b[0m\n",
      "\u001b[0;32mpandas/_libs/index.pyx\u001b[0m in \u001b[0;36mpandas._libs.index.IndexEngine.get_loc\u001b[0;34m()\u001b[0m\n",
      "\u001b[0;32mpandas/_libs/hashtable_class_helper.pxi\u001b[0m in \u001b[0;36mpandas._libs.hashtable.PyObjectHashTable.get_item\u001b[0;34m()\u001b[0m\n",
      "\u001b[0;32mpandas/_libs/hashtable_class_helper.pxi\u001b[0m in \u001b[0;36mpandas._libs.hashtable.PyObjectHashTable.get_item\u001b[0;34m()\u001b[0m\n",
      "\u001b[0;31mKeyError\u001b[0m: 'x_y_z'"
     ]
    }
   ],
   "source": [
    "X_spatiallyNonUniq = X_test[X_test['x_y_z'].isin(list(set(X_train['x_y_z'])))]"
   ]
  },
  {
   "cell_type": "code",
   "execution_count": null,
   "metadata": {},
   "outputs": [],
   "source": [
    "X_spatiallyUniq = X_test[~X_test['x_y_z'].isin(list(set(X_train['x_y_z'])))]"
   ]
  },
  {
   "cell_type": "code",
   "execution_count": null,
   "metadata": {},
   "outputs": [],
   "source": [
    "len(X_test), len(X_train)"
   ]
  },
  {
   "cell_type": "code",
   "execution_count": null,
   "metadata": {},
   "outputs": [],
   "source": [
    "len(X_spatiallyUniq), len(X_spatiallyNonUniq)"
   ]
  },
  {
   "cell_type": "code",
   "execution_count": null,
   "metadata": {},
   "outputs": [],
   "source": [
    "test = np.array(y_test)"
   ]
  },
  {
   "cell_type": "code",
   "execution_count": 142,
   "metadata": {},
   "outputs": [
    {
     "data": {
      "text/plain": [
       "(2956764, 2956764, 1683503, 1273261)"
      ]
     },
     "execution_count": 142,
     "metadata": {},
     "output_type": "execute_result"
    }
   ],
   "source": [
    "len(test), len(y_test), len(X_spatiallyUniq), len(X_spatiallyNonUniq)"
   ]
  },
  {
   "cell_type": "code",
   "execution_count": null,
   "metadata": {},
   "outputs": [],
   "source": [
    "predicted[1], test[1], predicted[-1], test[-1]"
   ]
  },
  {
   "cell_type": "code",
   "execution_count": 140,
   "metadata": {},
   "outputs": [
    {
     "ename": "IndexError",
     "evalue": "index 610671 is out of bounds for axis 0 with size 610671",
     "output_type": "error",
     "traceback": [
      "\u001b[0;31m---------------------------------------------------------------------------\u001b[0m",
      "\u001b[0;31mIndexError\u001b[0m                                Traceback (most recent call last)",
      "\u001b[0;32m<ipython-input-140-6634a1d99a9a>\u001b[0m in \u001b[0;36m<module>\u001b[0;34m()\u001b[0m\n\u001b[1;32m      4\u001b[0m \u001b[0;32mfor\u001b[0m \u001b[0mi\u001b[0m \u001b[0;32min\u001b[0m \u001b[0mrange\u001b[0m\u001b[0;34m(\u001b[0m\u001b[0mlen\u001b[0m\u001b[0;34m(\u001b[0m\u001b[0mkeys\u001b[0m\u001b[0;34m)\u001b[0m\u001b[0;34m)\u001b[0m\u001b[0;34m:\u001b[0m\u001b[0;34m\u001b[0m\u001b[0m\n\u001b[1;32m      5\u001b[0m     \u001b[0mtestDict\u001b[0m\u001b[0;34m[\u001b[0m\u001b[0mkeys\u001b[0m\u001b[0;34m[\u001b[0m\u001b[0mi\u001b[0m\u001b[0;34m]\u001b[0m\u001b[0;34m]\u001b[0m \u001b[0;34m=\u001b[0m \u001b[0mtest\u001b[0m\u001b[0;34m[\u001b[0m\u001b[0mi\u001b[0m\u001b[0;34m]\u001b[0m\u001b[0;34m\u001b[0m\u001b[0m\n\u001b[0;32m----> 6\u001b[0;31m     \u001b[0mpredictDict\u001b[0m\u001b[0;34m[\u001b[0m\u001b[0mkeys\u001b[0m\u001b[0;34m[\u001b[0m\u001b[0mi\u001b[0m\u001b[0;34m]\u001b[0m\u001b[0;34m]\u001b[0m \u001b[0;34m=\u001b[0m \u001b[0mpredicted\u001b[0m\u001b[0;34m[\u001b[0m\u001b[0mi\u001b[0m\u001b[0;34m]\u001b[0m\u001b[0;34m\u001b[0m\u001b[0m\n\u001b[0m\u001b[1;32m      7\u001b[0m \u001b[0;34m\u001b[0m\u001b[0m\n\u001b[1;32m      8\u001b[0m \u001b[0mtest_uniq\u001b[0m\u001b[0;34m,\u001b[0m \u001b[0mpredicted_uniq\u001b[0m \u001b[0;34m=\u001b[0m \u001b[0;34m[\u001b[0m\u001b[0;34m]\u001b[0m\u001b[0;34m,\u001b[0m\u001b[0;34m[\u001b[0m\u001b[0;34m]\u001b[0m\u001b[0;34m\u001b[0m\u001b[0m\n",
      "\u001b[0;31mIndexError\u001b[0m: index 610671 is out of bounds for axis 0 with size 610671"
     ]
    }
   ],
   "source": [
    "uniqIndices = np.array(X_spatiallyUniq.index)\n",
    "testDict, predictDict = {},{}\n",
    "keys = y_test.keys()\n",
    "for i in range(len(keys)):\n",
    "    testDict[keys[i]] = y_test.iloc[i]\n",
    "    predictDict[keys[i]] = predicted[i]\n",
    "    \n",
    "test_uniq, predicted_uniq = [],[]\n",
    "test_nonuniq, predicted_nonuniq = [],[]\n",
    "for index in keys:\n",
    "    if index in uniqIndices:\n",
    "        test_uniq += [testDict[index]]\n",
    "        predicted_uniq +=  [predictDict[index]]\n",
    "    else:\n",
    "        test_nonuniq +=  [ testDict[index]]\n",
    "        predicted_nonuniq +=  [ predictDict[index]]"
   ]
  },
  {
   "cell_type": "code",
   "execution_count": null,
   "metadata": {},
   "outputs": [],
   "source": [
    "r2(test_nonuniq, predicted_nonuniq)"
   ]
  },
  {
   "cell_type": "code",
   "execution_count": null,
   "metadata": {},
   "outputs": [],
   "source": [
    "r2(test_uniq, predicted_uniq)"
   ]
  },
  {
   "cell_type": "code",
   "execution_count": null,
   "metadata": {},
   "outputs": [],
   "source": []
  }
 ],
 "metadata": {
  "kernelspec": {
   "display_name": "Python 2",
   "language": "python",
   "name": "python2"
  },
  "language_info": {
   "codemirror_mode": {
    "name": "ipython",
    "version": 2
   },
   "file_extension": ".py",
   "mimetype": "text/x-python",
   "name": "python",
   "nbconvert_exporter": "python",
   "pygments_lexer": "ipython2",
   "version": "2.7.15"
  }
 },
 "nbformat": 4,
 "nbformat_minor": 2
}
