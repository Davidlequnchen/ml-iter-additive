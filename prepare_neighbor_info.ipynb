{
 "cells": [
  {
   "cell_type": "code",
   "execution_count": 5,
   "metadata": {},
   "outputs": [],
   "source": [
    "import pandas as pd\n",
    "import math, time\n",
    "from numpy import save,load"
   ]
  },
  {
   "cell_type": "markdown",
   "metadata": {},
   "source": [
    "#### Display a number with commas "
   ]
  },
  {
   "cell_type": "code",
   "execution_count": 14,
   "metadata": {},
   "outputs": [],
   "source": [
    "import re\n",
    "\n",
    "def comma_me(amount):\n",
    "    if type(amount) == int:\n",
    "        amount = str(amount)\n",
    "    orig = amount\n",
    "    new = re.sub(\"^(-?\\d+)(\\d{3})\", '\\g<1>,\\g<2>', amount)\n",
    "    if orig == new:\n",
    "        return new\n",
    "    else:\n",
    "        return comma_me(new)"
   ]
  },
  {
   "cell_type": "markdown",
   "metadata": {},
   "source": [
    "#### Slicing the first and last n columns in a dataframe"
   ]
  },
  {
   "cell_type": "code",
   "execution_count": 15,
   "metadata": {},
   "outputs": [],
   "source": [
    "def front(self, n):\n",
    "    return self.iloc[:, :n]\n",
    "\n",
    "def back(self, n):\n",
    "    return self.iloc[:, -n:]\n",
    "\n",
    "pd.DataFrame.front = front\n",
    "pd.DataFrame.back = back"
   ]
  },
  {
   "cell_type": "markdown",
   "metadata": {},
   "source": [
    "#### Method to load and save an object as numpy"
   ]
  },
  {
   "cell_type": "code",
   "execution_count": 6,
   "metadata": {},
   "outputs": [],
   "source": [
    "def loadNumpy(name,path='.'):\n",
    "    if \".npy\" in name:\n",
    "        fullPath = path+'/'+name\n",
    "    else:\n",
    "        fullPath = path+'/'+name+'.npy'\n",
    "    return load(fullPath)\n",
    "\n",
    "\n",
    "def saveNumpy(obj, name, path='.'):\n",
    "    if \".npy\" not in name:\n",
    "        fullPath = path+'/'+name\n",
    "        save(fullPath, obj)\n",
    "        print name,'saved successfully in',path\n",
    "    else:\n",
    "        fullPath = path+'/'+name.split(\".npy\")[0]\n",
    "        save(fullPath, obj)\n",
    "        print name,'saved successfully in',path\n",
    "        \n",
    "def loadDict(name,path='.'):\n",
    "    if \".npy\" in name:\n",
    "        fullPath = path+'/'+name\n",
    "    else:\n",
    "        fullPath = path+'/'+name+'.npy'\n",
    "    return load(fullPath).tolist()\n",
    "\n",
    "def saveDict(obj, name, path='.'):\n",
    "    if \".dict\" not in name:\n",
    "        fullPath = path+'/'+name+'.dict'\n",
    "        save(fullPath, obj)\n",
    "        print name,'saved successfully in',path\n",
    "    else:\n",
    "        fullPath = path+'/'+name\n",
    "        save(fullPath, obj)\n",
    "        print name,'saved successfully in',path"
   ]
  },
  {
   "cell_type": "code",
   "execution_count": 17,
   "metadata": {},
   "outputs": [],
   "source": [
    "DEFAULT_TEMP = 300"
   ]
  },
  {
   "cell_type": "markdown",
   "metadata": {},
   "source": [
    "#### Method to read the toolpath from file"
   ]
  },
  {
   "cell_type": "code",
   "execution_count": 18,
   "metadata": {},
   "outputs": [],
   "source": [
    "def parse_toolpath(FolderName,FileName,dt):\n",
    "    toolpath_raw=pd.read_table(FolderName+FileName,delimiter=r\"\\s+\",header=None, names=['time','x','y','z','state'])\n",
    "    toolpath=[]\n",
    "    state=[]\n",
    "    time=0.0\n",
    "    ind=0\n",
    "    endTime = float(toolpath_raw.tail(1)['time'])\n",
    "    while(time<=endTime):\n",
    "        while(time>=toolpath_raw['time'][ind+1]):\n",
    "            ind=ind+1\n",
    "        X=toolpath_raw['x'][ind]+(toolpath_raw['x'][ind+1]-toolpath_raw['x'][ind])*(\n",
    "            time-toolpath_raw['time'][ind])/(toolpath_raw['time'][ind+1]-toolpath_raw['time'][ind])\n",
    "        Y=toolpath_raw['y'][ind]+(toolpath_raw['y'][ind+1]-toolpath_raw['y'][ind])*(\n",
    "            time-toolpath_raw['time'][ind])/(toolpath_raw['time'][ind+1]-toolpath_raw['time'][ind])\n",
    "        Z=toolpath_raw['z'][ind]+(toolpath_raw['z'][ind+1]-toolpath_raw['z'][ind])*(\n",
    "            time-toolpath_raw['time'][ind])/(toolpath_raw['time'][ind+1]-toolpath_raw['time'][ind])\n",
    "        toolpath.append([X,Y,Z])\n",
    "        state.append(toolpath_raw['state'][ind+1])\n",
    "        time = time +dt\n",
    "    return toolpath, state, endTime"
   ]
  },
  {
   "cell_type": "code",
   "execution_count": 7,
   "metadata": {},
   "outputs": [],
   "source": [
    "toolpath, state, endTime = parse_toolpath('data/','toolpath.crs',0.1)"
   ]
  },
  {
   "cell_type": "code",
   "execution_count": 8,
   "metadata": {},
   "outputs": [
    {
     "data": {
      "text/plain": [
       "2522"
      ]
     },
     "execution_count": 8,
     "metadata": {},
     "output_type": "execute_result"
    }
   ],
   "source": [
    "len(toolpath)"
   ]
  },
  {
   "cell_type": "code",
   "execution_count": 9,
   "metadata": {},
   "outputs": [
    {
     "data": {
      "text/plain": [
       "[[0.0, 0.75, 0.5],\n",
       " [2.5999999974000003, 0.75, 0.5],\n",
       " [5.199999994800001, 0.75, 0.5],\n",
       " [7.799999992200002, 0.75, 0.5],\n",
       " [10.399999989600001, 0.75, 0.5],\n",
       " [12.999999987, 0.75, 0.5],\n",
       " [15.5999999844, 0.75, 0.5],\n",
       " [18.1999999818, 0.75, 0.5],\n",
       " [20.0, 1.5499999480000004, 0.5],\n",
       " [18.100000081900003, 2.25, 0.5]]"
      ]
     },
     "execution_count": 9,
     "metadata": {},
     "output_type": "execute_result"
    }
   ],
   "source": [
    "toolpath[:10]"
   ]
  },
  {
   "cell_type": "markdown",
   "metadata": {},
   "source": [
    "#### Creates a point on a coordinate plane with values x, y and z."
   ]
  },
  {
   "cell_type": "code",
   "execution_count": 10,
   "metadata": {},
   "outputs": [],
   "source": [
    "class Coordinate(object):\n",
    "\n",
    "    def __init__(self, x,y,z ):\n",
    "        self.X = x\n",
    "        self.Y = y\n",
    "        self.Z = z\n",
    "#         print type(tupleObject)\n",
    "#         self.X = tupleObject[0]\n",
    "#         self.Y = tupleObject[1]\n",
    "#         self.Z = tupleObject[2]\n",
    "\n",
    "    def __str__(self):\n",
    "        return \"Coordinate(%s,%s,%s)\"%(self.X, self.Y, self.Z) \n",
    "\n",
    "    def getX(self):\n",
    "        return self.X\n",
    "\n",
    "    def getY(self):\n",
    "        return self.Y\n",
    "    \n",
    "    def getZ(self):\n",
    "        return self.Z\n",
    "    \n",
    "    def getXYZ(self):\n",
    "        return self.X, self.Y, self.Z\n",
    "\n",
    "    def distance(self, other):\n",
    "        dx = self.X - other.X\n",
    "        dy = self.Y - other.Y\n",
    "        dz = self.Z - other.Z\n",
    "        return math.sqrt(dx**2 + dy**2 + dz**2)"
   ]
  },
  {
   "cell_type": "markdown",
   "metadata": {},
   "source": [
    "### Describe a point that is a coordinate with also t axis "
   ]
  },
  {
   "cell_type": "code",
   "execution_count": 11,
   "metadata": {},
   "outputs": [],
   "source": [
    "class Point(object):\n",
    "\n",
    "    COUNT = 0\n",
    "\n",
    "    def __init__(self, tupleObject ):\n",
    "        '''Defines x and y variables'''\n",
    "        self.X = tupleObject[0]\n",
    "        self.Y = tupleObject[1]\n",
    "        self.Z = tupleObject[2]\n",
    "        self.t = tupleObject[3]\n",
    "\n",
    "    def __str__(self):\n",
    "        return \"Point(%s,%s,%s,%s)\"%(self.X, self.Y, self.Z, self.t) \n",
    "\n",
    "    def getX(self):\n",
    "        return self.X\n",
    "\n",
    "    def getY(self):\n",
    "        return self.Y\n",
    "    \n",
    "    def getZ(self):\n",
    "        return self.Z\n",
    "    \n",
    "    def getTime(self):\n",
    "        return self.t\n",
    "\n",
    "    def distance(self, other):\n",
    "        dx = self.X - other.X\n",
    "        dy = self.Y - other.Y\n",
    "        dz = self.Z - other.Z\n",
    "        return math.sqrt(dx**2 + dy**2 + dz**2)"
   ]
  },
  {
   "cell_type": "code",
   "execution_count": 12,
   "metadata": {},
   "outputs": [
    {
     "name": "stdout",
     "output_type": "stream",
     "text": [
      "Point(12.5,5.0,0.5,2.1)\n"
     ]
    }
   ],
   "source": [
    "print Point((12.5, 5.0, 0.5, 2.1))"
   ]
  },
  {
   "cell_type": "markdown",
   "metadata": {},
   "source": [
    "#### Read the csv file"
   ]
  },
  {
   "cell_type": "code",
   "execution_count": 13,
   "metadata": {},
   "outputs": [],
   "source": [
    "df = pd.read_csv('data/20-20-10-800.csv',header=None)"
   ]
  },
  {
   "cell_type": "markdown",
   "metadata": {},
   "source": [
    "#### Transpose the dataframe so that rows indicate different voxels and columns indicate temperature at different time steps"
   ]
  },
  {
   "cell_type": "code",
   "execution_count": 15,
   "metadata": {},
   "outputs": [
    {
     "data": {
      "text/html": [
       "<div>\n",
       "<style scoped>\n",
       "    .dataframe tbody tr th:only-of-type {\n",
       "        vertical-align: middle;\n",
       "    }\n",
       "\n",
       "    .dataframe tbody tr th {\n",
       "        vertical-align: top;\n",
       "    }\n",
       "\n",
       "    .dataframe thead th {\n",
       "        text-align: right;\n",
       "    }\n",
       "</style>\n",
       "<table border=\"1\" class=\"dataframe\">\n",
       "  <thead>\n",
       "    <tr style=\"text-align: right;\">\n",
       "      <th></th>\n",
       "      <th>0</th>\n",
       "      <th>1</th>\n",
       "      <th>2</th>\n",
       "      <th>3</th>\n",
       "      <th>4</th>\n",
       "      <th>5</th>\n",
       "      <th>6</th>\n",
       "      <th>7</th>\n",
       "      <th>8</th>\n",
       "      <th>9</th>\n",
       "      <th>...</th>\n",
       "      <th>33611</th>\n",
       "      <th>33612</th>\n",
       "      <th>33613</th>\n",
       "      <th>33614</th>\n",
       "      <th>33615</th>\n",
       "      <th>33616</th>\n",
       "      <th>33617</th>\n",
       "      <th>33618</th>\n",
       "      <th>33619</th>\n",
       "      <th>33620</th>\n",
       "    </tr>\n",
       "  </thead>\n",
       "  <tbody>\n",
       "    <tr>\n",
       "      <th>0</th>\n",
       "      <td>0.500</td>\n",
       "      <td>0.500</td>\n",
       "      <td>0.000</td>\n",
       "      <td>0.500</td>\n",
       "      <td>0.000</td>\n",
       "      <td>0.000</td>\n",
       "      <td>0.000</td>\n",
       "      <td>0.500</td>\n",
       "      <td>1.0000</td>\n",
       "      <td>1.0000</td>\n",
       "      <td>...</td>\n",
       "      <td>4.000</td>\n",
       "      <td>3.500</td>\n",
       "      <td>3.000</td>\n",
       "      <td>2.500</td>\n",
       "      <td>2.00</td>\n",
       "      <td>1.500</td>\n",
       "      <td>1.000</td>\n",
       "      <td>0.500</td>\n",
       "      <td>0.000</td>\n",
       "      <td></td>\n",
       "    </tr>\n",
       "    <tr>\n",
       "      <th>1</th>\n",
       "      <td>1.500</td>\n",
       "      <td>1.000</td>\n",
       "      <td>0.500</td>\n",
       "      <td>0.500</td>\n",
       "      <td>0.000</td>\n",
       "      <td>1.000</td>\n",
       "      <td>1.500</td>\n",
       "      <td>0.000</td>\n",
       "      <td>0.5000</td>\n",
       "      <td>1.0000</td>\n",
       "      <td>...</td>\n",
       "      <td>20.000</td>\n",
       "      <td>20.000</td>\n",
       "      <td>20.000</td>\n",
       "      <td>20.000</td>\n",
       "      <td>20.00</td>\n",
       "      <td>20.000</td>\n",
       "      <td>20.000</td>\n",
       "      <td>20.000</td>\n",
       "      <td>20.000</td>\n",
       "      <td></td>\n",
       "    </tr>\n",
       "    <tr>\n",
       "      <th>2</th>\n",
       "      <td>0.500</td>\n",
       "      <td>0.500</td>\n",
       "      <td>0.500</td>\n",
       "      <td>0.500</td>\n",
       "      <td>0.500</td>\n",
       "      <td>0.500</td>\n",
       "      <td>0.500</td>\n",
       "      <td>0.500</td>\n",
       "      <td>0.5000</td>\n",
       "      <td>0.5000</td>\n",
       "      <td>...</td>\n",
       "      <td>10.000</td>\n",
       "      <td>10.000</td>\n",
       "      <td>10.000</td>\n",
       "      <td>10.000</td>\n",
       "      <td>10.00</td>\n",
       "      <td>10.000</td>\n",
       "      <td>10.000</td>\n",
       "      <td>10.000</td>\n",
       "      <td>10.000</td>\n",
       "      <td></td>\n",
       "    </tr>\n",
       "    <tr>\n",
       "      <th>3</th>\n",
       "      <td>0.000</td>\n",
       "      <td>0.000</td>\n",
       "      <td>0.000</td>\n",
       "      <td>0.000</td>\n",
       "      <td>0.000</td>\n",
       "      <td>0.000</td>\n",
       "      <td>0.000</td>\n",
       "      <td>0.000</td>\n",
       "      <td>0.0077</td>\n",
       "      <td>0.0077</td>\n",
       "      <td>...</td>\n",
       "      <td>251.973</td>\n",
       "      <td>251.988</td>\n",
       "      <td>252.012</td>\n",
       "      <td>252.027</td>\n",
       "      <td>252.05</td>\n",
       "      <td>252.065</td>\n",
       "      <td>252.089</td>\n",
       "      <td>252.104</td>\n",
       "      <td>252.127</td>\n",
       "      <td></td>\n",
       "    </tr>\n",
       "    <tr>\n",
       "      <th>4</th>\n",
       "      <td>300.000</td>\n",
       "      <td>300.000</td>\n",
       "      <td>300.000</td>\n",
       "      <td>300.000</td>\n",
       "      <td>300.000</td>\n",
       "      <td>300.000</td>\n",
       "      <td>300.000</td>\n",
       "      <td>300.000</td>\n",
       "      <td>300.0000</td>\n",
       "      <td>300.0000</td>\n",
       "      <td>...</td>\n",
       "      <td>300.000</td>\n",
       "      <td>300.000</td>\n",
       "      <td>300.000</td>\n",
       "      <td>300.000</td>\n",
       "      <td>300.00</td>\n",
       "      <td>300.000</td>\n",
       "      <td>300.000</td>\n",
       "      <td>300.000</td>\n",
       "      <td>300.000</td>\n",
       "      <td></td>\n",
       "    </tr>\n",
       "    <tr>\n",
       "      <th>5</th>\n",
       "      <td>1876.720</td>\n",
       "      <td>1959.090</td>\n",
       "      <td>1643.900</td>\n",
       "      <td>1845.840</td>\n",
       "      <td>1554.230</td>\n",
       "      <td>1763.850</td>\n",
       "      <td>1746.630</td>\n",
       "      <td>1754.330</td>\n",
       "      <td>2706.9800</td>\n",
       "      <td>2869.6700</td>\n",
       "      <td>...</td>\n",
       "      <td>300.000</td>\n",
       "      <td>300.000</td>\n",
       "      <td>300.000</td>\n",
       "      <td>300.000</td>\n",
       "      <td>300.00</td>\n",
       "      <td>300.000</td>\n",
       "      <td>300.000</td>\n",
       "      <td>300.000</td>\n",
       "      <td>300.000</td>\n",
       "      <td></td>\n",
       "    </tr>\n",
       "    <tr>\n",
       "      <th>6</th>\n",
       "      <td>1069.290</td>\n",
       "      <td>1068.080</td>\n",
       "      <td>1019.100</td>\n",
       "      <td>1067.810</td>\n",
       "      <td>1015.720</td>\n",
       "      <td>1020.860</td>\n",
       "      <td>1017.880</td>\n",
       "      <td>1065.690</td>\n",
       "      <td>1209.5300</td>\n",
       "      <td>1210.2400</td>\n",
       "      <td>...</td>\n",
       "      <td>300.000</td>\n",
       "      <td>300.000</td>\n",
       "      <td>300.000</td>\n",
       "      <td>300.000</td>\n",
       "      <td>300.00</td>\n",
       "      <td>300.000</td>\n",
       "      <td>300.000</td>\n",
       "      <td>300.000</td>\n",
       "      <td>300.000</td>\n",
       "      <td></td>\n",
       "    </tr>\n",
       "    <tr>\n",
       "      <th>7</th>\n",
       "      <td>895.958</td>\n",
       "      <td>896.858</td>\n",
       "      <td>864.489</td>\n",
       "      <td>897.931</td>\n",
       "      <td>863.362</td>\n",
       "      <td>863.354</td>\n",
       "      <td>861.520</td>\n",
       "      <td>897.344</td>\n",
       "      <td>991.5430</td>\n",
       "      <td>991.0750</td>\n",
       "      <td>...</td>\n",
       "      <td>300.000</td>\n",
       "      <td>300.000</td>\n",
       "      <td>300.000</td>\n",
       "      <td>300.000</td>\n",
       "      <td>300.00</td>\n",
       "      <td>300.000</td>\n",
       "      <td>300.000</td>\n",
       "      <td>300.000</td>\n",
       "      <td>300.000</td>\n",
       "      <td></td>\n",
       "    </tr>\n",
       "    <tr>\n",
       "      <th>8</th>\n",
       "      <td>786.233</td>\n",
       "      <td>787.094</td>\n",
       "      <td>762.822</td>\n",
       "      <td>788.166</td>\n",
       "      <td>762.239</td>\n",
       "      <td>761.559</td>\n",
       "      <td>760.245</td>\n",
       "      <td>787.972</td>\n",
       "      <td>859.2210</td>\n",
       "      <td>858.6720</td>\n",
       "      <td>...</td>\n",
       "      <td>300.000</td>\n",
       "      <td>300.000</td>\n",
       "      <td>300.000</td>\n",
       "      <td>300.000</td>\n",
       "      <td>300.00</td>\n",
       "      <td>300.000</td>\n",
       "      <td>300.000</td>\n",
       "      <td>300.000</td>\n",
       "      <td>300.000</td>\n",
       "      <td></td>\n",
       "    </tr>\n",
       "    <tr>\n",
       "      <th>9</th>\n",
       "      <td>706.877</td>\n",
       "      <td>707.581</td>\n",
       "      <td>688.495</td>\n",
       "      <td>708.430</td>\n",
       "      <td>688.116</td>\n",
       "      <td>687.467</td>\n",
       "      <td>686.517</td>\n",
       "      <td>708.326</td>\n",
       "      <td>764.3710</td>\n",
       "      <td>763.9100</td>\n",
       "      <td>...</td>\n",
       "      <td>300.000</td>\n",
       "      <td>300.000</td>\n",
       "      <td>300.000</td>\n",
       "      <td>300.000</td>\n",
       "      <td>300.00</td>\n",
       "      <td>300.000</td>\n",
       "      <td>300.000</td>\n",
       "      <td>300.000</td>\n",
       "      <td>300.000</td>\n",
       "      <td></td>\n",
       "    </tr>\n",
       "  </tbody>\n",
       "</table>\n",
       "<p>10 rows × 33621 columns</p>\n",
       "</div>"
      ],
      "text/plain": [
       "      0         1         2         3         4         5         6      \\\n",
       "0     0.500     0.500     0.000     0.500     0.000     0.000     0.000   \n",
       "1     1.500     1.000     0.500     0.500     0.000     1.000     1.500   \n",
       "2     0.500     0.500     0.500     0.500     0.500     0.500     0.500   \n",
       "3     0.000     0.000     0.000     0.000     0.000     0.000     0.000   \n",
       "4   300.000   300.000   300.000   300.000   300.000   300.000   300.000   \n",
       "5  1876.720  1959.090  1643.900  1845.840  1554.230  1763.850  1746.630   \n",
       "6  1069.290  1068.080  1019.100  1067.810  1015.720  1020.860  1017.880   \n",
       "7   895.958   896.858   864.489   897.931   863.362   863.354   861.520   \n",
       "8   786.233   787.094   762.822   788.166   762.239   761.559   760.245   \n",
       "9   706.877   707.581   688.495   708.430   688.116   687.467   686.517   \n",
       "\n",
       "      7          8          9      ...      33611    33612    33613    33614  \\\n",
       "0     0.500     1.0000     1.0000  ...      4.000    3.500    3.000    2.500   \n",
       "1     0.000     0.5000     1.0000  ...     20.000   20.000   20.000   20.000   \n",
       "2     0.500     0.5000     0.5000  ...     10.000   10.000   10.000   10.000   \n",
       "3     0.000     0.0077     0.0077  ...    251.973  251.988  252.012  252.027   \n",
       "4   300.000   300.0000   300.0000  ...    300.000  300.000  300.000  300.000   \n",
       "5  1754.330  2706.9800  2869.6700  ...    300.000  300.000  300.000  300.000   \n",
       "6  1065.690  1209.5300  1210.2400  ...    300.000  300.000  300.000  300.000   \n",
       "7   897.344   991.5430   991.0750  ...    300.000  300.000  300.000  300.000   \n",
       "8   787.972   859.2210   858.6720  ...    300.000  300.000  300.000  300.000   \n",
       "9   708.326   764.3710   763.9100  ...    300.000  300.000  300.000  300.000   \n",
       "\n",
       "    33615    33616    33617    33618    33619  33620  \n",
       "0    2.00    1.500    1.000    0.500    0.000         \n",
       "1   20.00   20.000   20.000   20.000   20.000         \n",
       "2   10.00   10.000   10.000   10.000   10.000         \n",
       "3  252.05  252.065  252.089  252.104  252.127         \n",
       "4  300.00  300.000  300.000  300.000  300.000         \n",
       "5  300.00  300.000  300.000  300.000  300.000         \n",
       "6  300.00  300.000  300.000  300.000  300.000         \n",
       "7  300.00  300.000  300.000  300.000  300.000         \n",
       "8  300.00  300.000  300.000  300.000  300.000         \n",
       "9  300.00  300.000  300.000  300.000  300.000         \n",
       "\n",
       "[10 rows x 33621 columns]"
      ]
     },
     "execution_count": 15,
     "metadata": {},
     "output_type": "execute_result"
    }
   ],
   "source": [
    "df.head(10)"
   ]
  },
  {
   "cell_type": "code",
   "execution_count": 16,
   "metadata": {},
   "outputs": [
    {
     "data": {
      "text/plain": [
       "2526"
      ]
     },
     "execution_count": 16,
     "metadata": {},
     "output_type": "execute_result"
    }
   ],
   "source": [
    "len(df)"
   ]
  },
  {
   "cell_type": "code",
   "execution_count": 17,
   "metadata": {},
   "outputs": [],
   "source": [
    "dataframe = df.transpose()"
   ]
  },
  {
   "cell_type": "code",
   "execution_count": 13,
   "metadata": {},
   "outputs": [
    {
     "name": "stdout",
     "output_type": "stream",
     "text": [
      "whole_Data saved successfully in .\n"
     ]
    }
   ],
   "source": [
    "saveNumpy(dataframe,'whole_Data')"
   ]
  },
  {
   "cell_type": "code",
   "execution_count": 37,
   "metadata": {},
   "outputs": [
    {
     "data": {
      "text/html": [
       "<div>\n",
       "<style scoped>\n",
       "    .dataframe tbody tr th:only-of-type {\n",
       "        vertical-align: middle;\n",
       "    }\n",
       "\n",
       "    .dataframe tbody tr th {\n",
       "        vertical-align: top;\n",
       "    }\n",
       "\n",
       "    .dataframe thead th {\n",
       "        text-align: right;\n",
       "    }\n",
       "</style>\n",
       "<table border=\"1\" class=\"dataframe\">\n",
       "  <thead>\n",
       "    <tr style=\"text-align: right;\">\n",
       "      <th></th>\n",
       "      <th>0</th>\n",
       "      <th>1</th>\n",
       "      <th>2</th>\n",
       "      <th>3</th>\n",
       "      <th>4</th>\n",
       "      <th>5</th>\n",
       "      <th>6</th>\n",
       "      <th>7</th>\n",
       "      <th>8</th>\n",
       "      <th>9</th>\n",
       "      <th>...</th>\n",
       "      <th>2516</th>\n",
       "      <th>2517</th>\n",
       "      <th>2518</th>\n",
       "      <th>2519</th>\n",
       "      <th>2520</th>\n",
       "      <th>2521</th>\n",
       "      <th>2522</th>\n",
       "      <th>2523</th>\n",
       "      <th>2524</th>\n",
       "      <th>2525</th>\n",
       "    </tr>\n",
       "  </thead>\n",
       "  <tbody>\n",
       "    <tr>\n",
       "      <th>0</th>\n",
       "      <td>0.5</td>\n",
       "      <td>1.5</td>\n",
       "      <td>0.5</td>\n",
       "      <td>0</td>\n",
       "      <td>300</td>\n",
       "      <td>1876.72</td>\n",
       "      <td>1069.29</td>\n",
       "      <td>895.958</td>\n",
       "      <td>786.233</td>\n",
       "      <td>706.877</td>\n",
       "      <td>...</td>\n",
       "      <td>1131.88</td>\n",
       "      <td>1131.61</td>\n",
       "      <td>1131.32</td>\n",
       "      <td>1131.03</td>\n",
       "      <td>1130.73</td>\n",
       "      <td>1130.43</td>\n",
       "      <td>1130.11</td>\n",
       "      <td>1129.78</td>\n",
       "      <td>1129.45</td>\n",
       "      <td>1129.11</td>\n",
       "    </tr>\n",
       "    <tr>\n",
       "      <th>1</th>\n",
       "      <td>0.5</td>\n",
       "      <td>1</td>\n",
       "      <td>0.5</td>\n",
       "      <td>0</td>\n",
       "      <td>300</td>\n",
       "      <td>1959.09</td>\n",
       "      <td>1068.08</td>\n",
       "      <td>896.858</td>\n",
       "      <td>787.094</td>\n",
       "      <td>707.581</td>\n",
       "      <td>...</td>\n",
       "      <td>1121.15</td>\n",
       "      <td>1120.88</td>\n",
       "      <td>1120.61</td>\n",
       "      <td>1120.33</td>\n",
       "      <td>1120.04</td>\n",
       "      <td>1119.74</td>\n",
       "      <td>1119.44</td>\n",
       "      <td>1119.13</td>\n",
       "      <td>1118.8</td>\n",
       "      <td>1118.47</td>\n",
       "    </tr>\n",
       "    <tr>\n",
       "      <th>2</th>\n",
       "      <td>0</td>\n",
       "      <td>0.5</td>\n",
       "      <td>0.5</td>\n",
       "      <td>0</td>\n",
       "      <td>300</td>\n",
       "      <td>1643.9</td>\n",
       "      <td>1019.1</td>\n",
       "      <td>864.489</td>\n",
       "      <td>762.822</td>\n",
       "      <td>688.495</td>\n",
       "      <td>...</td>\n",
       "      <td>1104.93</td>\n",
       "      <td>1104.68</td>\n",
       "      <td>1104.43</td>\n",
       "      <td>1104.16</td>\n",
       "      <td>1103.89</td>\n",
       "      <td>1103.62</td>\n",
       "      <td>1103.33</td>\n",
       "      <td>1103.04</td>\n",
       "      <td>1102.74</td>\n",
       "      <td>1102.43</td>\n",
       "    </tr>\n",
       "    <tr>\n",
       "      <th>3</th>\n",
       "      <td>0.5</td>\n",
       "      <td>0.5</td>\n",
       "      <td>0.5</td>\n",
       "      <td>0</td>\n",
       "      <td>300</td>\n",
       "      <td>1845.84</td>\n",
       "      <td>1067.81</td>\n",
       "      <td>897.931</td>\n",
       "      <td>788.166</td>\n",
       "      <td>708.43</td>\n",
       "      <td>...</td>\n",
       "      <td>1109.71</td>\n",
       "      <td>1109.46</td>\n",
       "      <td>1109.2</td>\n",
       "      <td>1108.93</td>\n",
       "      <td>1108.65</td>\n",
       "      <td>1108.37</td>\n",
       "      <td>1108.08</td>\n",
       "      <td>1107.78</td>\n",
       "      <td>1107.47</td>\n",
       "      <td>1107.16</td>\n",
       "    </tr>\n",
       "    <tr>\n",
       "      <th>4</th>\n",
       "      <td>0</td>\n",
       "      <td>0</td>\n",
       "      <td>0.5</td>\n",
       "      <td>0</td>\n",
       "      <td>300</td>\n",
       "      <td>1554.23</td>\n",
       "      <td>1015.72</td>\n",
       "      <td>863.362</td>\n",
       "      <td>762.239</td>\n",
       "      <td>688.116</td>\n",
       "      <td>...</td>\n",
       "      <td>1100</td>\n",
       "      <td>1099.76</td>\n",
       "      <td>1099.51</td>\n",
       "      <td>1099.26</td>\n",
       "      <td>1098.99</td>\n",
       "      <td>1098.72</td>\n",
       "      <td>1098.44</td>\n",
       "      <td>1098.15</td>\n",
       "      <td>1097.86</td>\n",
       "      <td>1097.56</td>\n",
       "    </tr>\n",
       "  </tbody>\n",
       "</table>\n",
       "<p>5 rows × 2526 columns</p>\n",
       "</div>"
      ],
      "text/plain": [
       "  0    1    2    3    4        5        6        7        8        9     \\\n",
       "0  0.5  1.5  0.5    0  300  1876.72  1069.29  895.958  786.233  706.877   \n",
       "1  0.5    1  0.5    0  300  1959.09  1068.08  896.858  787.094  707.581   \n",
       "2    0  0.5  0.5    0  300   1643.9   1019.1  864.489  762.822  688.495   \n",
       "3  0.5  0.5  0.5    0  300  1845.84  1067.81  897.931  788.166   708.43   \n",
       "4    0    0  0.5    0  300  1554.23  1015.72  863.362  762.239  688.116   \n",
       "\n",
       "    ...        2516     2517     2518     2519     2520     2521     2522  \\\n",
       "0   ...     1131.88  1131.61  1131.32  1131.03  1130.73  1130.43  1130.11   \n",
       "1   ...     1121.15  1120.88  1120.61  1120.33  1120.04  1119.74  1119.44   \n",
       "2   ...     1104.93  1104.68  1104.43  1104.16  1103.89  1103.62  1103.33   \n",
       "3   ...     1109.71  1109.46   1109.2  1108.93  1108.65  1108.37  1108.08   \n",
       "4   ...        1100  1099.76  1099.51  1099.26  1098.99  1098.72  1098.44   \n",
       "\n",
       "      2523     2524     2525  \n",
       "0  1129.78  1129.45  1129.11  \n",
       "1  1119.13   1118.8  1118.47  \n",
       "2  1103.04  1102.74  1102.43  \n",
       "3  1107.78  1107.47  1107.16  \n",
       "4  1098.15  1097.86  1097.56  \n",
       "\n",
       "[5 rows x 2526 columns]"
      ]
     },
     "execution_count": 37,
     "metadata": {},
     "output_type": "execute_result"
    }
   ],
   "source": [
    "df.head()"
   ]
  },
  {
   "cell_type": "markdown",
   "metadata": {},
   "source": [
    "### <font color=\"magenta\"> No. of voxels</font>"
   ]
  },
  {
   "cell_type": "code",
   "execution_count": 14,
   "metadata": {},
   "outputs": [
    {
     "data": {
      "text/plain": [
       "33621"
      ]
     },
     "execution_count": 14,
     "metadata": {},
     "output_type": "execute_result"
    }
   ],
   "source": [
    "len(dataframe)"
   ]
  },
  {
   "cell_type": "code",
   "execution_count": null,
   "metadata": {},
   "outputs": [],
   "source": [
    "len(dataframe)"
   ]
  },
  {
   "cell_type": "markdown",
   "metadata": {},
   "source": [
    "### <font color='bieg'>No. of time steps </font>"
   ]
  },
  {
   "cell_type": "code",
   "execution_count": null,
   "metadata": {},
   "outputs": [],
   "source": [
    "len(dataframe.loc[0])-4"
   ]
  },
  {
   "cell_type": "markdown",
   "metadata": {},
   "source": [
    "### <font color=\"orange\"> No. of possible rows = No. of voxels x  No. of time steps ~ 80 million </font>"
   ]
  },
  {
   "cell_type": "code",
   "execution_count": 219,
   "metadata": {},
   "outputs": [
    {
     "data": {
      "text/plain": [
       "'80,186,085'"
      ]
     },
     "execution_count": 219,
     "metadata": {},
     "output_type": "execute_result"
    }
   ],
   "source": [
    "comma_me(len(dataframe)*len(dataframe.loc[0]-4))"
   ]
  },
  {
   "cell_type": "code",
   "execution_count": null,
   "metadata": {},
   "outputs": [],
   "source": [
    "400 * 3 * 340"
   ]
  },
  {
   "cell_type": "markdown",
   "metadata": {},
   "source": [
    "#### <font color=\"red\">If we reduce no. of layers by 7 times , we reduce no. of time steps also by 7 times. So we approximately need only 1.6 million data points </font>"
   ]
  },
  {
   "cell_type": "markdown",
   "metadata": {},
   "source": [
    "* No. of time steps = 340 \n",
    "* No. of layers = 3\n",
    "* No. of voxels = 4803"
   ]
  },
  {
   "cell_type": "code",
   "execution_count": 32,
   "metadata": {},
   "outputs": [],
   "source": [
    "dfRelevant = dataframe.front(5)"
   ]
  },
  {
   "cell_type": "code",
   "execution_count": 26,
   "metadata": {},
   "outputs": [],
   "source": [
    "smallSlice = dataframe[:4803].front(340)"
   ]
  },
  {
   "cell_type": "code",
   "execution_count": 44,
   "metadata": {},
   "outputs": [],
   "source": [
    "bigSlice = dataframe[:15000].front(1200)"
   ]
  },
  {
   "cell_type": "code",
   "execution_count": 45,
   "metadata": {},
   "outputs": [
    {
     "data": {
      "text/html": [
       "<div>\n",
       "<style scoped>\n",
       "    .dataframe tbody tr th:only-of-type {\n",
       "        vertical-align: middle;\n",
       "    }\n",
       "\n",
       "    .dataframe tbody tr th {\n",
       "        vertical-align: top;\n",
       "    }\n",
       "\n",
       "    .dataframe thead th {\n",
       "        text-align: right;\n",
       "    }\n",
       "</style>\n",
       "<table border=\"1\" class=\"dataframe\">\n",
       "  <thead>\n",
       "    <tr style=\"text-align: right;\">\n",
       "      <th></th>\n",
       "      <th>0</th>\n",
       "      <th>1</th>\n",
       "      <th>2</th>\n",
       "      <th>3</th>\n",
       "      <th>4</th>\n",
       "      <th>5</th>\n",
       "      <th>6</th>\n",
       "      <th>7</th>\n",
       "      <th>8</th>\n",
       "      <th>9</th>\n",
       "      <th>...</th>\n",
       "      <th>1190</th>\n",
       "      <th>1191</th>\n",
       "      <th>1192</th>\n",
       "      <th>1193</th>\n",
       "      <th>1194</th>\n",
       "      <th>1195</th>\n",
       "      <th>1196</th>\n",
       "      <th>1197</th>\n",
       "      <th>1198</th>\n",
       "      <th>1199</th>\n",
       "    </tr>\n",
       "  </thead>\n",
       "  <tbody>\n",
       "    <tr>\n",
       "      <th>14995</th>\n",
       "      <td>5</td>\n",
       "      <td>18.5</td>\n",
       "      <td>4.5</td>\n",
       "      <td>111.403</td>\n",
       "      <td>300</td>\n",
       "      <td>300</td>\n",
       "      <td>300</td>\n",
       "      <td>300</td>\n",
       "      <td>300</td>\n",
       "      <td>300</td>\n",
       "      <td>...</td>\n",
       "      <td>1088.32</td>\n",
       "      <td>1084.11</td>\n",
       "      <td>1080.09</td>\n",
       "      <td>1076.04</td>\n",
       "      <td>1072.39</td>\n",
       "      <td>1068.92</td>\n",
       "      <td>1065.63</td>\n",
       "      <td>1062.53</td>\n",
       "      <td>1059.67</td>\n",
       "      <td>1057.09</td>\n",
       "    </tr>\n",
       "    <tr>\n",
       "      <th>14996</th>\n",
       "      <td>5</td>\n",
       "      <td>19</td>\n",
       "      <td>4.5</td>\n",
       "      <td>111.403</td>\n",
       "      <td>300</td>\n",
       "      <td>300</td>\n",
       "      <td>300</td>\n",
       "      <td>300</td>\n",
       "      <td>300</td>\n",
       "      <td>300</td>\n",
       "      <td>...</td>\n",
       "      <td>1085.7</td>\n",
       "      <td>1081.37</td>\n",
       "      <td>1077.24</td>\n",
       "      <td>1073.06</td>\n",
       "      <td>1069.3</td>\n",
       "      <td>1065.71</td>\n",
       "      <td>1062.3</td>\n",
       "      <td>1059.07</td>\n",
       "      <td>1056.04</td>\n",
       "      <td>1053.24</td>\n",
       "    </tr>\n",
       "    <tr>\n",
       "      <th>14997</th>\n",
       "      <td>5</td>\n",
       "      <td>19.5</td>\n",
       "      <td>4.5</td>\n",
       "      <td>111.41</td>\n",
       "      <td>300</td>\n",
       "      <td>300</td>\n",
       "      <td>300</td>\n",
       "      <td>300</td>\n",
       "      <td>300</td>\n",
       "      <td>300</td>\n",
       "      <td>...</td>\n",
       "      <td>1083.61</td>\n",
       "      <td>1079.22</td>\n",
       "      <td>1075.02</td>\n",
       "      <td>1070.77</td>\n",
       "      <td>1066.94</td>\n",
       "      <td>1063.29</td>\n",
       "      <td>1059.81</td>\n",
       "      <td>1056.51</td>\n",
       "      <td>1053.39</td>\n",
       "      <td>1050.47</td>\n",
       "    </tr>\n",
       "    <tr>\n",
       "      <th>14998</th>\n",
       "      <td>5.5</td>\n",
       "      <td>18.5</td>\n",
       "      <td>4.5</td>\n",
       "      <td>111.418</td>\n",
       "      <td>300</td>\n",
       "      <td>300</td>\n",
       "      <td>300</td>\n",
       "      <td>300</td>\n",
       "      <td>300</td>\n",
       "      <td>300</td>\n",
       "      <td>...</td>\n",
       "      <td>1092.27</td>\n",
       "      <td>1088.01</td>\n",
       "      <td>1083.95</td>\n",
       "      <td>1079.84</td>\n",
       "      <td>1076.16</td>\n",
       "      <td>1072.65</td>\n",
       "      <td>1069.33</td>\n",
       "      <td>1066.21</td>\n",
       "      <td>1063.31</td>\n",
       "      <td>1060.69</td>\n",
       "    </tr>\n",
       "    <tr>\n",
       "      <th>14999</th>\n",
       "      <td>5.5</td>\n",
       "      <td>19</td>\n",
       "      <td>4.5</td>\n",
       "      <td>111.418</td>\n",
       "      <td>300</td>\n",
       "      <td>300</td>\n",
       "      <td>300</td>\n",
       "      <td>300</td>\n",
       "      <td>300</td>\n",
       "      <td>300</td>\n",
       "      <td>...</td>\n",
       "      <td>1089.65</td>\n",
       "      <td>1085.27</td>\n",
       "      <td>1081.09</td>\n",
       "      <td>1076.87</td>\n",
       "      <td>1073.06</td>\n",
       "      <td>1069.43</td>\n",
       "      <td>1065.99</td>\n",
       "      <td>1062.73</td>\n",
       "      <td>1059.66</td>\n",
       "      <td>1056.83</td>\n",
       "    </tr>\n",
       "  </tbody>\n",
       "</table>\n",
       "<p>5 rows × 1200 columns</p>\n",
       "</div>"
      ],
      "text/plain": [
       "      0     1    2        3    4    5    6    7    8    9      ...     \\\n",
       "14995    5  18.5  4.5  111.403  300  300  300  300  300  300   ...      \n",
       "14996    5    19  4.5  111.403  300  300  300  300  300  300   ...      \n",
       "14997    5  19.5  4.5   111.41  300  300  300  300  300  300   ...      \n",
       "14998  5.5  18.5  4.5  111.418  300  300  300  300  300  300   ...      \n",
       "14999  5.5    19  4.5  111.418  300  300  300  300  300  300   ...      \n",
       "\n",
       "          1190     1191     1192     1193     1194     1195     1196     1197  \\\n",
       "14995  1088.32  1084.11  1080.09  1076.04  1072.39  1068.92  1065.63  1062.53   \n",
       "14996   1085.7  1081.37  1077.24  1073.06   1069.3  1065.71   1062.3  1059.07   \n",
       "14997  1083.61  1079.22  1075.02  1070.77  1066.94  1063.29  1059.81  1056.51   \n",
       "14998  1092.27  1088.01  1083.95  1079.84  1076.16  1072.65  1069.33  1066.21   \n",
       "14999  1089.65  1085.27  1081.09  1076.87  1073.06  1069.43  1065.99  1062.73   \n",
       "\n",
       "          1198     1199  \n",
       "14995  1059.67  1057.09  \n",
       "14996  1056.04  1053.24  \n",
       "14997  1053.39  1050.47  \n",
       "14998  1063.31  1060.69  \n",
       "14999  1059.66  1056.83  \n",
       "\n",
       "[5 rows x 1200 columns]"
      ]
     },
     "execution_count": 45,
     "metadata": {},
     "output_type": "execute_result"
    }
   ],
   "source": [
    "bigSlice.tail()"
   ]
  },
  {
   "cell_type": "code",
   "execution_count": 42,
   "metadata": {},
   "outputs": [
    {
     "data": {
      "text/html": [
       "<div>\n",
       "<style scoped>\n",
       "    .dataframe tbody tr th:only-of-type {\n",
       "        vertical-align: middle;\n",
       "    }\n",
       "\n",
       "    .dataframe tbody tr th {\n",
       "        vertical-align: top;\n",
       "    }\n",
       "\n",
       "    .dataframe thead th {\n",
       "        text-align: right;\n",
       "    }\n",
       "</style>\n",
       "<table border=\"1\" class=\"dataframe\">\n",
       "  <thead>\n",
       "    <tr style=\"text-align: right;\">\n",
       "      <th></th>\n",
       "      <th>0</th>\n",
       "      <th>1</th>\n",
       "      <th>2</th>\n",
       "      <th>3</th>\n",
       "      <th>4</th>\n",
       "      <th>5</th>\n",
       "      <th>6</th>\n",
       "      <th>7</th>\n",
       "      <th>8</th>\n",
       "      <th>9</th>\n",
       "      <th>...</th>\n",
       "      <th>1010</th>\n",
       "      <th>1011</th>\n",
       "      <th>1012</th>\n",
       "      <th>1013</th>\n",
       "      <th>1014</th>\n",
       "      <th>1015</th>\n",
       "      <th>1016</th>\n",
       "      <th>1017</th>\n",
       "      <th>1018</th>\n",
       "      <th>1019</th>\n",
       "    </tr>\n",
       "  </thead>\n",
       "  <tbody>\n",
       "    <tr>\n",
       "      <th>0</th>\n",
       "      <td>0.5</td>\n",
       "      <td>1.5</td>\n",
       "      <td>0.5</td>\n",
       "      <td>0</td>\n",
       "      <td>300</td>\n",
       "      <td>1876.72</td>\n",
       "      <td>1069.29</td>\n",
       "      <td>895.958</td>\n",
       "      <td>786.233</td>\n",
       "      <td>706.877</td>\n",
       "      <td>...</td>\n",
       "      <td>924.829</td>\n",
       "      <td>923.039</td>\n",
       "      <td>921.268</td>\n",
       "      <td>919.515</td>\n",
       "      <td>917.781</td>\n",
       "      <td>916.064</td>\n",
       "      <td>914.366</td>\n",
       "      <td>912.685</td>\n",
       "      <td>911.11</td>\n",
       "      <td>916.237</td>\n",
       "    </tr>\n",
       "    <tr>\n",
       "      <th>1</th>\n",
       "      <td>0.5</td>\n",
       "      <td>1</td>\n",
       "      <td>0.5</td>\n",
       "      <td>0</td>\n",
       "      <td>300</td>\n",
       "      <td>1959.09</td>\n",
       "      <td>1068.08</td>\n",
       "      <td>896.858</td>\n",
       "      <td>787.094</td>\n",
       "      <td>707.581</td>\n",
       "      <td>...</td>\n",
       "      <td>914.341</td>\n",
       "      <td>912.633</td>\n",
       "      <td>910.94</td>\n",
       "      <td>909.265</td>\n",
       "      <td>907.607</td>\n",
       "      <td>905.965</td>\n",
       "      <td>904.34</td>\n",
       "      <td>902.732</td>\n",
       "      <td>901.239</td>\n",
       "      <td>907.364</td>\n",
       "    </tr>\n",
       "    <tr>\n",
       "      <th>2</th>\n",
       "      <td>0</td>\n",
       "      <td>0.5</td>\n",
       "      <td>0.5</td>\n",
       "      <td>0</td>\n",
       "      <td>300</td>\n",
       "      <td>1643.9</td>\n",
       "      <td>1019.1</td>\n",
       "      <td>864.489</td>\n",
       "      <td>762.822</td>\n",
       "      <td>688.495</td>\n",
       "      <td>...</td>\n",
       "      <td>900.219</td>\n",
       "      <td>898.616</td>\n",
       "      <td>897.028</td>\n",
       "      <td>895.455</td>\n",
       "      <td>893.898</td>\n",
       "      <td>892.355</td>\n",
       "      <td>890.828</td>\n",
       "      <td>889.315</td>\n",
       "      <td>887.926</td>\n",
       "      <td>894.818</td>\n",
       "    </tr>\n",
       "    <tr>\n",
       "      <th>3</th>\n",
       "      <td>0.5</td>\n",
       "      <td>0.5</td>\n",
       "      <td>0.5</td>\n",
       "      <td>0</td>\n",
       "      <td>300</td>\n",
       "      <td>1845.84</td>\n",
       "      <td>1067.81</td>\n",
       "      <td>897.931</td>\n",
       "      <td>788.166</td>\n",
       "      <td>708.43</td>\n",
       "      <td>...</td>\n",
       "      <td>904.08</td>\n",
       "      <td>902.45</td>\n",
       "      <td>900.835</td>\n",
       "      <td>899.236</td>\n",
       "      <td>897.653</td>\n",
       "      <td>896.085</td>\n",
       "      <td>894.532</td>\n",
       "      <td>892.995</td>\n",
       "      <td>891.578</td>\n",
       "      <td>898.32</td>\n",
       "    </tr>\n",
       "    <tr>\n",
       "      <th>4</th>\n",
       "      <td>0</td>\n",
       "      <td>0</td>\n",
       "      <td>0.5</td>\n",
       "      <td>0</td>\n",
       "      <td>300</td>\n",
       "      <td>1554.23</td>\n",
       "      <td>1015.72</td>\n",
       "      <td>863.362</td>\n",
       "      <td>762.239</td>\n",
       "      <td>688.116</td>\n",
       "      <td>...</td>\n",
       "      <td>896.053</td>\n",
       "      <td>894.48</td>\n",
       "      <td>892.921</td>\n",
       "      <td>891.377</td>\n",
       "      <td>889.848</td>\n",
       "      <td>888.333</td>\n",
       "      <td>886.833</td>\n",
       "      <td>885.348</td>\n",
       "      <td>883.986</td>\n",
       "      <td>891.082</td>\n",
       "    </tr>\n",
       "  </tbody>\n",
       "</table>\n",
       "<p>5 rows × 1020 columns</p>\n",
       "</div>"
      ],
      "text/plain": [
       "  0    1    2    3    4        5        6        7        8        9     \\\n",
       "0  0.5  1.5  0.5    0  300  1876.72  1069.29  895.958  786.233  706.877   \n",
       "1  0.5    1  0.5    0  300  1959.09  1068.08  896.858  787.094  707.581   \n",
       "2    0  0.5  0.5    0  300   1643.9   1019.1  864.489  762.822  688.495   \n",
       "3  0.5  0.5  0.5    0  300  1845.84  1067.81  897.931  788.166   708.43   \n",
       "4    0    0  0.5    0  300  1554.23  1015.72  863.362  762.239  688.116   \n",
       "\n",
       "    ...        1010     1011     1012     1013     1014     1015     1016  \\\n",
       "0   ...     924.829  923.039  921.268  919.515  917.781  916.064  914.366   \n",
       "1   ...     914.341  912.633   910.94  909.265  907.607  905.965   904.34   \n",
       "2   ...     900.219  898.616  897.028  895.455  893.898  892.355  890.828   \n",
       "3   ...      904.08   902.45  900.835  899.236  897.653  896.085  894.532   \n",
       "4   ...     896.053   894.48  892.921  891.377  889.848  888.333  886.833   \n",
       "\n",
       "      1017     1018     1019  \n",
       "0  912.685   911.11  916.237  \n",
       "1  902.732  901.239  907.364  \n",
       "2  889.315  887.926  894.818  \n",
       "3  892.995  891.578   898.32  \n",
       "4  885.348  883.986  891.082  \n",
       "\n",
       "[5 rows x 1020 columns]"
      ]
     },
     "execution_count": 42,
     "metadata": {},
     "output_type": "execute_result"
    }
   ],
   "source": [
    "bigSlice.head()"
   ]
  },
  {
   "cell_type": "code",
   "execution_count": 27,
   "metadata": {},
   "outputs": [
    {
     "data": {
      "text/html": [
       "<div>\n",
       "<style scoped>\n",
       "    .dataframe tbody tr th:only-of-type {\n",
       "        vertical-align: middle;\n",
       "    }\n",
       "\n",
       "    .dataframe tbody tr th {\n",
       "        vertical-align: top;\n",
       "    }\n",
       "\n",
       "    .dataframe thead th {\n",
       "        text-align: right;\n",
       "    }\n",
       "</style>\n",
       "<table border=\"1\" class=\"dataframe\">\n",
       "  <thead>\n",
       "    <tr style=\"text-align: right;\">\n",
       "      <th></th>\n",
       "      <th>0</th>\n",
       "      <th>1</th>\n",
       "      <th>2</th>\n",
       "      <th>3</th>\n",
       "      <th>4</th>\n",
       "      <th>5</th>\n",
       "      <th>6</th>\n",
       "      <th>7</th>\n",
       "      <th>8</th>\n",
       "      <th>9</th>\n",
       "      <th>...</th>\n",
       "      <th>330</th>\n",
       "      <th>331</th>\n",
       "      <th>332</th>\n",
       "      <th>333</th>\n",
       "      <th>334</th>\n",
       "      <th>335</th>\n",
       "      <th>336</th>\n",
       "      <th>337</th>\n",
       "      <th>338</th>\n",
       "      <th>339</th>\n",
       "    </tr>\n",
       "  </thead>\n",
       "  <tbody>\n",
       "    <tr>\n",
       "      <th>4798</th>\n",
       "      <td>13</td>\n",
       "      <td>17.5</td>\n",
       "      <td>1.5</td>\n",
       "      <td>34.6642</td>\n",
       "      <td>300</td>\n",
       "      <td>300</td>\n",
       "      <td>300</td>\n",
       "      <td>300</td>\n",
       "      <td>300</td>\n",
       "      <td>300</td>\n",
       "      <td>...</td>\n",
       "      <td>300</td>\n",
       "      <td>300</td>\n",
       "      <td>300</td>\n",
       "      <td>300</td>\n",
       "      <td>300</td>\n",
       "      <td>300</td>\n",
       "      <td>300</td>\n",
       "      <td>300</td>\n",
       "      <td>300</td>\n",
       "      <td>300</td>\n",
       "    </tr>\n",
       "    <tr>\n",
       "      <th>4799</th>\n",
       "      <td>13</td>\n",
       "      <td>17</td>\n",
       "      <td>1.5</td>\n",
       "      <td>34.6642</td>\n",
       "      <td>300</td>\n",
       "      <td>300</td>\n",
       "      <td>300</td>\n",
       "      <td>300</td>\n",
       "      <td>300</td>\n",
       "      <td>300</td>\n",
       "      <td>...</td>\n",
       "      <td>300</td>\n",
       "      <td>300</td>\n",
       "      <td>300</td>\n",
       "      <td>300</td>\n",
       "      <td>300</td>\n",
       "      <td>300</td>\n",
       "      <td>300</td>\n",
       "      <td>300</td>\n",
       "      <td>300</td>\n",
       "      <td>300</td>\n",
       "    </tr>\n",
       "    <tr>\n",
       "      <th>4800</th>\n",
       "      <td>13</td>\n",
       "      <td>18</td>\n",
       "      <td>1.5</td>\n",
       "      <td>34.6719</td>\n",
       "      <td>300</td>\n",
       "      <td>300</td>\n",
       "      <td>300</td>\n",
       "      <td>300</td>\n",
       "      <td>300</td>\n",
       "      <td>300</td>\n",
       "      <td>...</td>\n",
       "      <td>300</td>\n",
       "      <td>300</td>\n",
       "      <td>300</td>\n",
       "      <td>300</td>\n",
       "      <td>300</td>\n",
       "      <td>300</td>\n",
       "      <td>300</td>\n",
       "      <td>300</td>\n",
       "      <td>300</td>\n",
       "      <td>300</td>\n",
       "    </tr>\n",
       "    <tr>\n",
       "      <th>4801</th>\n",
       "      <td>12.5</td>\n",
       "      <td>17.5</td>\n",
       "      <td>1.5</td>\n",
       "      <td>34.6796</td>\n",
       "      <td>300</td>\n",
       "      <td>300</td>\n",
       "      <td>300</td>\n",
       "      <td>300</td>\n",
       "      <td>300</td>\n",
       "      <td>300</td>\n",
       "      <td>...</td>\n",
       "      <td>300</td>\n",
       "      <td>300</td>\n",
       "      <td>300</td>\n",
       "      <td>300</td>\n",
       "      <td>300</td>\n",
       "      <td>300</td>\n",
       "      <td>300</td>\n",
       "      <td>300</td>\n",
       "      <td>300</td>\n",
       "      <td>300</td>\n",
       "    </tr>\n",
       "    <tr>\n",
       "      <th>4802</th>\n",
       "      <td>12.5</td>\n",
       "      <td>17</td>\n",
       "      <td>1.5</td>\n",
       "      <td>34.6796</td>\n",
       "      <td>300</td>\n",
       "      <td>300</td>\n",
       "      <td>300</td>\n",
       "      <td>300</td>\n",
       "      <td>300</td>\n",
       "      <td>300</td>\n",
       "      <td>...</td>\n",
       "      <td>300</td>\n",
       "      <td>300</td>\n",
       "      <td>300</td>\n",
       "      <td>300</td>\n",
       "      <td>300</td>\n",
       "      <td>300</td>\n",
       "      <td>300</td>\n",
       "      <td>300</td>\n",
       "      <td>300</td>\n",
       "      <td>300</td>\n",
       "    </tr>\n",
       "  </tbody>\n",
       "</table>\n",
       "<p>5 rows × 340 columns</p>\n",
       "</div>"
      ],
      "text/plain": [
       "       0     1    2        3    4    5    6    7    8    9   ...   330  331  \\\n",
       "4798    13  17.5  1.5  34.6642  300  300  300  300  300  300 ...   300  300   \n",
       "4799    13    17  1.5  34.6642  300  300  300  300  300  300 ...   300  300   \n",
       "4800    13    18  1.5  34.6719  300  300  300  300  300  300 ...   300  300   \n",
       "4801  12.5  17.5  1.5  34.6796  300  300  300  300  300  300 ...   300  300   \n",
       "4802  12.5    17  1.5  34.6796  300  300  300  300  300  300 ...   300  300   \n",
       "\n",
       "      332  333  334  335  336  337  338  339  \n",
       "4798  300  300  300  300  300  300  300  300  \n",
       "4799  300  300  300  300  300  300  300  300  \n",
       "4800  300  300  300  300  300  300  300  300  \n",
       "4801  300  300  300  300  300  300  300  300  \n",
       "4802  300  300  300  300  300  300  300  300  \n",
       "\n",
       "[5 rows x 340 columns]"
      ]
     },
     "execution_count": 27,
     "metadata": {},
     "output_type": "execute_result"
    }
   ],
   "source": [
    "smallSlice.tail()"
   ]
  },
  {
   "cell_type": "markdown",
   "metadata": {},
   "source": [
    "#### Method to find the positions of neighbors (in terms of Coordinate object)"
   ]
  },
  {
   "cell_type": "code",
   "execution_count": 38,
   "metadata": {},
   "outputs": [],
   "source": [
    "def findNeighbors(p):\n",
    "    \n",
    "    neighbors = []\n",
    "    ### immediate/adjacent neighbors - 1 degree \n",
    "    neighbors+= [Coordinate(p.X - 0.5, p.Y, p.Z)]\n",
    "    neighbors+= [Coordinate(p.X + 0.5, p.Y, p.Z)]\n",
    "    \n",
    "    neighbors+= [Coordinate(p.X, p.Y - 0.5, p.Z)]\n",
    "    neighbors+= [Coordinate(p.X, p.Y + 0.5, p.Z)]\n",
    "    \n",
    "    neighbors+= [Coordinate(p.X, p.Y, p.Z - 0.5)]\n",
    "    neighbors+= [Coordinate(p.X, p.Y, p.Z + 0.5)]\n",
    "    \n",
    "    ### distance - 2 degree\n",
    "    neighbors+= [Coordinate(p.X - 0.5, p.Y - 0.5, p.Z)]\n",
    "    neighbors+= [Coordinate(p.X - 0.5, p.Y + 0.5, p.Z)]\n",
    "    neighbors+= [Coordinate(p.X + 0.5, p.Y - 0.5, p.Z)]\n",
    "    neighbors+= [Coordinate(p.X + 0.5, p.Y + 0.5, p.Z)]\n",
    "    \n",
    "    neighbors+= [Coordinate(p.X, p.Y - 0.5, p.Z - 0.5)]\n",
    "    neighbors+= [Coordinate(p.X, p.Y + 0.5, p.Z - 0.5)]\n",
    "    neighbors+= [Coordinate(p.X, p.Y - 0.5, p.Z + 0.5)]\n",
    "    neighbors+= [Coordinate(p.X, p.Y + 0.5, p.Z + 0.5)]\n",
    "    \n",
    "    neighbors+= [Coordinate(p.X - 0.5, p.Y, p.Z - 0.5)]\n",
    "    neighbors+= [Coordinate(p.X + 0.5, p.Y, p.Z - 0.5)]\n",
    "    neighbors+= [Coordinate(p.X - 0.5, p.Y, p.Z + 0.5)]\n",
    "    neighbors+= [Coordinate(p.X + 0.5, p.Y, p.Z + 0.5)]\n",
    "    \n",
    "    ### diagonal neighbors distance - 3 degree\n",
    "    neighbors+= [Coordinate(p.X - 0.5, p.Y - 0.5, p.Z - 0.5)]\n",
    "    neighbors+= [Coordinate(p.X - 0.5, p.Y + 0.5, p.Z - 0.5)]\n",
    "    neighbors+= [Coordinate(p.X + 0.5, p.Y - 0.5, p.Z - 0.5)]\n",
    "    neighbors+= [Coordinate(p.X + 0.5, p.Y + 0.5, p.Z - 0.5)]\n",
    "    \n",
    "    neighbors+= [Coordinate(p.X - 0.5, p.Y - 0.5, p.Z + 0.5)]\n",
    "    neighbors+= [Coordinate(p.X - 0.5, p.Y + 0.5, p.Z + 0.5)]\n",
    "    neighbors+= [Coordinate(p.X + 0.5, p.Y - 0.5, p.Z + 0.5)]\n",
    "    neighbors+= [Coordinate(p.X + 0.5, p.Y + 0.5, p.Z + 0.5)]\n",
    "    \n",
    "    return neighbors"
   ]
  },
  {
   "cell_type": "markdown",
   "metadata": {},
   "source": [
    "#### Method to find the positions of neighbors (in terms of indices in original dataframe)"
   ]
  },
  {
   "cell_type": "code",
   "execution_count": 39,
   "metadata": {},
   "outputs": [],
   "source": [
    "def findNeighborIndices(p):\n",
    "    \n",
    "    neighbors = []\n",
    "    \n",
    "    \n",
    "    ### immediate/adjacent neighbors - 1 degree \n",
    "    neighbors+= [getLocationIndices(Coordinate(p.X - 0.5, p.Y, p.Z))]\n",
    "    neighbors+= [getLocationIndices(Coordinate(p.X + 0.5, p.Y, p.Z))]\n",
    "    \n",
    "    neighbors+= [getLocationIndices(Coordinate(p.X, p.Y - 0.5, p.Z))]\n",
    "    neighbors+= [getLocationIndices(Coordinate(p.X, p.Y + 0.5, p.Z))]\n",
    "    \n",
    "    neighbors+= [getLocationIndices(Coordinate(p.X, p.Y, p.Z - 0.5))]\n",
    "    neighbors+= [getLocationIndices(Coordinate(p.X, p.Y, p.Z + 0.5))]\n",
    "    \n",
    "    ### distance - 2 degree\n",
    "    neighbors+= [getLocationIndices(Coordinate(p.X - 0.5, p.Y - 0.5, p.Z))]\n",
    "    neighbors+= [getLocationIndices(Coordinate(p.X - 0.5, p.Y + 0.5, p.Z))]\n",
    "    neighbors+= [getLocationIndices(Coordinate(p.X + 0.5, p.Y - 0.5, p.Z))]\n",
    "    neighbors+= [getLocationIndices(Coordinate(p.X + 0.5, p.Y + 0.5, p.Z))]\n",
    "    \n",
    "    neighbors+= [getLocationIndices(Coordinate(p.X, p.Y - 0.5, p.Z - 0.5))]\n",
    "    neighbors+= [getLocationIndices(Coordinate(p.X, p.Y + 0.5, p.Z - 0.5))]\n",
    "    neighbors+= [getLocationIndices(Coordinate(p.X, p.Y - 0.5, p.Z + 0.5))]\n",
    "    neighbors+= [getLocationIndices(Coordinate(p.X, p.Y + 0.5, p.Z + 0.5))]\n",
    "    \n",
    "    neighbors+= [getLocationIndices(Coordinate(p.X - 0.5, p.Y, p.Z - 0.5))]\n",
    "    neighbors+= [getLocationIndices(Coordinate(p.X + 0.5, p.Y, p.Z - 0.5))]\n",
    "    neighbors+= [getLocationIndices(Coordinate(p.X - 0.5, p.Y, p.Z + 0.5))]\n",
    "    neighbors+= [getLocationIndices(Coordinate(p.X + 0.5, p.Y, p.Z + 0.5))]\n",
    "    \n",
    "    ### diagonal neighbors distance - 3 degree\n",
    "    neighbors+= [getLocationIndices(Coordinate(p.X - 0.5, p.Y - 0.5, p.Z - 0.5))]\n",
    "    neighbors+= [getLocationIndices(Coordinate(p.X - 0.5, p.Y + 0.5, p.Z - 0.5))]\n",
    "    neighbors+= [getLocationIndices(Coordinate(p.X + 0.5, p.Y - 0.5, p.Z - 0.5))]\n",
    "    neighbors+= [getLocationIndices(Coordinate(p.X + 0.5, p.Y + 0.5, p.Z - 0.5))]\n",
    "    \n",
    "    neighbors+= [getLocationIndices(Coordinate(p.X - 0.5, p.Y - 0.5, p.Z + 0.5))]\n",
    "    neighbors+= [getLocationIndices(Coordinate(p.X - 0.5, p.Y + 0.5, p.Z + 0.5))]\n",
    "    neighbors+= [getLocationIndices(Coordinate(p.X + 0.5, p.Y - 0.5, p.Z + 0.5))]\n",
    "    neighbors+= [getLocationIndices(Coordinate(p.X + 0.5, p.Y + 0.5, p.Z + 0.5))]\n",
    "    \n",
    "    return neighbors"
   ]
  },
  {
   "cell_type": "markdown",
   "metadata": {},
   "source": [
    "#### Method to find the temperature of neighbors at first time step"
   ]
  },
  {
   "cell_type": "code",
   "execution_count": 40,
   "metadata": {},
   "outputs": [],
   "source": [
    "def findNeighborTempsInit(p):\n",
    "    \n",
    "    neighbors = []\n",
    "    \n",
    "    ### immediate/adjacent neighbors - 1 degree \n",
    "    neighbors+= [getTemperatureInit(Coordinate(p.X - 0.5, p.Y, p.Z))]\n",
    "    neighbors+= [getTemperatureInit(Coordinate(p.X + 0.5, p.Y, p.Z))]\n",
    "    \n",
    "    neighbors+= [getTemperatureInit(Coordinate(p.X, p.Y - 0.5, p.Z))]\n",
    "    neighbors+= [getTemperatureInit(Coordinate(p.X, p.Y + 0.5, p.Z))]\n",
    "    \n",
    "    neighbors+= [getTemperatureInit(Coordinate(p.X, p.Y, p.Z - 0.5))]\n",
    "    neighbors+= [getTemperatureInit(Coordinate(p.X, p.Y, p.Z + 0.5))]\n",
    "    \n",
    "    ### distance - 2 degree\n",
    "    neighbors+= [getTemperatureInit(Coordinate(p.X - 0.5, p.Y - 0.5, p.Z))]\n",
    "    neighbors+= [getTemperatureInit(Coordinate(p.X - 0.5, p.Y + 0.5, p.Z))]\n",
    "    neighbors+= [getTemperatureInit(Coordinate(p.X + 0.5, p.Y - 0.5, p.Z))]\n",
    "    neighbors+= [getTemperatureInit(Coordinate(p.X + 0.5, p.Y + 0.5, p.Z))]\n",
    "    \n",
    "    neighbors+= [getTemperatureInit(Coordinate(p.X, p.Y - 0.5, p.Z - 0.5))]\n",
    "    neighbors+= [getTemperatureInit(Coordinate(p.X, p.Y + 0.5, p.Z - 0.5))]\n",
    "    neighbors+= [getTemperatureInit(Coordinate(p.X, p.Y - 0.5, p.Z + 0.5))]\n",
    "    neighbors+= [getTemperatureInit(Coordinate(p.X, p.Y + 0.5, p.Z + 0.5))]\n",
    "    \n",
    "    neighbors+= [getTemperatureInit(Coordinate(p.X - 0.5, p.Y, p.Z - 0.5))]\n",
    "    neighbors+= [getTemperatureInit(Coordinate(p.X + 0.5, p.Y, p.Z - 0.5))]\n",
    "    neighbors+= [getTemperatureInit(Coordinate(p.X - 0.5, p.Y, p.Z + 0.5))]\n",
    "    neighbors+= [getTemperatureInit(Coordinate(p.X + 0.5, p.Y, p.Z + 0.5))]\n",
    "    \n",
    "    ### diagonal neighbors distance - 3 degree\n",
    "    neighbors+= [getTemperatureInit(Coordinate(p.X - 0.5, p.Y - 0.5, p.Z - 0.5))]\n",
    "    neighbors+= [getTemperatureInit(Coordinate(p.X - 0.5, p.Y + 0.5, p.Z - 0.5))]\n",
    "    neighbors+= [getTemperatureInit(Coordinate(p.X + 0.5, p.Y - 0.5, p.Z - 0.5))]\n",
    "    neighbors+= [getTemperatureInit(Coordinate(p.X + 0.5, p.Y + 0.5, p.Z - 0.5))]\n",
    "    \n",
    "    neighbors+= [getTemperatureInit(Coordinate(p.X - 0.5, p.Y - 0.5, p.Z + 0.5))]\n",
    "    neighbors+= [getTemperatureInit(Coordinate(p.X - 0.5, p.Y + 0.5, p.Z + 0.5))]\n",
    "    neighbors+= [getTemperatureInit(Coordinate(p.X + 0.5, p.Y - 0.5, p.Z + 0.5))]\n",
    "    neighbors+= [getTemperatureInit(Coordinate(p.X + 0.5, p.Y + 0.5, p.Z + 0.5))]\n",
    "    \n",
    "    return neighbors"
   ]
  },
  {
   "cell_type": "markdown",
   "metadata": {},
   "source": [
    "#### Method to find the temperatures of neighbors for this timestep"
   ]
  },
  {
   "cell_type": "code",
   "execution_count": 41,
   "metadata": {},
   "outputs": [],
   "source": [
    "def findNeighborTemperatures(p,timestep=1):\n",
    "    \n",
    "    neighbors = []\n",
    "    \n",
    "    ### immediate/adjacent neighbors - 1 degree \n",
    "    neighbors+= [getTemperatures(Coordinate(p.X - 0.5, p.Y, p.Z),timestep)]\n",
    "    neighbors+= [getTemperatures(Coordinate(p.X + 0.5, p.Y, p.Z),timestep)]\n",
    "    \n",
    "    neighbors+= [getTemperatures(Coordinate(p.X, p.Y - 0.5, p.Z),timestep)]\n",
    "    neighbors+= [getTemperatures(Coordinate(p.X, p.Y + 0.5, p.Z),timestep)]\n",
    "    \n",
    "    neighbors+= [getTemperatures(Coordinate(p.X, p.Y, p.Z - 0.5),timestep)]\n",
    "    neighbors+= [getTemperatures(Coordinate(p.X, p.Y, p.Z + 0.5),timestep)]\n",
    "    \n",
    "    ### distance - 2 degree\n",
    "    neighbors+= [getTemperatures(Coordinate(p.X - 0.5, p.Y - 0.5, p.Z),timestep)]\n",
    "    neighbors+= [getTemperatures(Coordinate(p.X - 0.5, p.Y + 0.5, p.Z),timestep)]\n",
    "    neighbors+= [getTemperatures(Coordinate(p.X + 0.5, p.Y - 0.5, p.Z),timestep)]\n",
    "    neighbors+= [getTemperatures(Coordinate(p.X + 0.5, p.Y + 0.5, p.Z),timestep)]\n",
    "    \n",
    "    neighbors+= [getTemperatures(Coordinate(p.X, p.Y - 0.5, p.Z - 0.5),timestep)]\n",
    "    neighbors+= [getTemperatures(Coordinate(p.X, p.Y + 0.5, p.Z - 0.5),timestep)]\n",
    "    neighbors+= [getTemperatures(Coordinate(p.X, p.Y - 0.5, p.Z + 0.5),timestep)]\n",
    "    neighbors+= [getTemperatures(Coordinate(p.X, p.Y + 0.5, p.Z + 0.5),timestep)]\n",
    "    \n",
    "    neighbors+= [getTemperatures(Coordinate(p.X - 0.5, p.Y, p.Z - 0.5),timestep)]\n",
    "    neighbors+= [getTemperatures(Coordinate(p.X + 0.5, p.Y, p.Z - 0.5),timestep)]\n",
    "    neighbors+= [getTemperatures(Coordinate(p.X - 0.5, p.Y, p.Z + 0.5),timestep)]\n",
    "    neighbors+= [getTemperatures(Coordinate(p.X + 0.5, p.Y, p.Z + 0.5),timestep)]\n",
    "    \n",
    "    ### diagonal neighbors distance - 3 degree\n",
    "    neighbors+= [getTemperatures(Coordinate(p.X - 0.5, p.Y - 0.5, p.Z - 0.5),timestep)]\n",
    "    neighbors+= [getTemperatures(Coordinate(p.X - 0.5, p.Y + 0.5, p.Z - 0.5),timestep)]\n",
    "    neighbors+= [getTemperatures(Coordinate(p.X + 0.5, p.Y - 0.5, p.Z - 0.5),timestep)]\n",
    "    neighbors+= [getTemperatures(Coordinate(p.X + 0.5, p.Y + 0.5, p.Z - 0.5),timestep)]\n",
    "    \n",
    "    neighbors+= [getTemperatures(Coordinate(p.X - 0.5, p.Y - 0.5, p.Z + 0.5),timestep)]\n",
    "    neighbors+= [getTemperatures(Coordinate(p.X - 0.5, p.Y + 0.5, p.Z + 0.5),timestep)]\n",
    "    neighbors+= [getTemperatures(Coordinate(p.X + 0.5, p.Y - 0.5, p.Z + 0.5),timestep)]\n",
    "    neighbors+= [getTemperatures(Coordinate(p.X + 0.5, p.Y + 0.5, p.Z + 0.5),timestep)]\n",
    "    \n",
    "    return neighbors        "
   ]
  },
  {
   "cell_type": "markdown",
   "metadata": {},
   "source": [
    "### <font color=\"inkblue\">Method to find the temperatures of neighbors  </font>\n",
    "#### timestep adjusted based on if the temperature for this timestep is available"
   ]
  },
  {
   "cell_type": "code",
   "execution_count": 42,
   "metadata": {},
   "outputs": [],
   "source": [
    "def findAdjustedNeighborTemperatures(p,timestep=1):\n",
    "    \n",
    "    neighbors = []\n",
    "#     start = time.time()\n",
    "    \n",
    "    ### immediate/adjacent neighbors - 1 degree \n",
    "    neighbors+= [getAdjustedTemperatures(p,Coordinate(p.X - 0.5, p.Y, p.Z),timestep)]\n",
    "    neighbors+= [getAdjustedTemperatures(p,Coordinate(p.X + 0.5, p.Y, p.Z),timestep)]\n",
    "    \n",
    "    neighbors+= [getAdjustedTemperatures(p,Coordinate(p.X, p.Y - 0.5, p.Z),timestep)]\n",
    "    neighbors+= [getAdjustedTemperatures(p,Coordinate(p.X, p.Y + 0.5, p.Z),timestep)]\n",
    "    \n",
    "    neighbors+= [getAdjustedTemperatures(p,Coordinate(p.X, p.Y, p.Z - 0.5),timestep)]\n",
    "    neighbors+= [getAdjustedTemperatures(p,Coordinate(p.X, p.Y, p.Z + 0.5),timestep)]\n",
    "    \n",
    "    ### distance - 2 degree\n",
    "    neighbors+= [getAdjustedTemperatures(p,Coordinate(p.X - 0.5, p.Y - 0.5, p.Z),timestep)]\n",
    "    neighbors+= [getAdjustedTemperatures(p,Coordinate(p.X - 0.5, p.Y + 0.5, p.Z),timestep)]\n",
    "    neighbors+= [getAdjustedTemperatures(p,Coordinate(p.X + 0.5, p.Y - 0.5, p.Z),timestep)]\n",
    "    neighbors+= [getAdjustedTemperatures(p,Coordinate(p.X + 0.5, p.Y + 0.5, p.Z),timestep)]\n",
    "    \n",
    "    neighbors+= [getAdjustedTemperatures(p,Coordinate(p.X, p.Y - 0.5, p.Z - 0.5),timestep)]\n",
    "    neighbors+= [getAdjustedTemperatures(p,Coordinate(p.X, p.Y + 0.5, p.Z - 0.5),timestep)]\n",
    "    neighbors+= [getAdjustedTemperatures(p,Coordinate(p.X, p.Y - 0.5, p.Z + 0.5),timestep)]\n",
    "    neighbors+= [getAdjustedTemperatures(p,Coordinate(p.X, p.Y + 0.5, p.Z + 0.5),timestep)]\n",
    "    \n",
    "    neighbors+= [getAdjustedTemperatures(p,Coordinate(p.X - 0.5, p.Y, p.Z - 0.5),timestep)]\n",
    "    neighbors+= [getAdjustedTemperatures(p,Coordinate(p.X + 0.5, p.Y, p.Z - 0.5),timestep)]\n",
    "    neighbors+= [getAdjustedTemperatures(p,Coordinate(p.X - 0.5, p.Y, p.Z + 0.5),timestep)]\n",
    "    neighbors+= [getAdjustedTemperatures(p,Coordinate(p.X + 0.5, p.Y, p.Z + 0.5),timestep)]\n",
    "    \n",
    "    ### diagonal neighbors distance - 3 degree\n",
    "    neighbors+= [getAdjustedTemperatures(p,Coordinate(p.X - 0.5, p.Y - 0.5, p.Z - 0.5),timestep)]\n",
    "    neighbors+= [getAdjustedTemperatures(p,Coordinate(p.X - 0.5, p.Y + 0.5, p.Z - 0.5),timestep)]\n",
    "    neighbors+= [getAdjustedTemperatures(p,Coordinate(p.X + 0.5, p.Y - 0.5, p.Z - 0.5),timestep)]\n",
    "    neighbors+= [getAdjustedTemperatures(p,Coordinate(p.X + 0.5, p.Y + 0.5, p.Z - 0.5),timestep)]\n",
    "    \n",
    "    neighbors+= [getAdjustedTemperatures(p,Coordinate(p.X - 0.5, p.Y - 0.5, p.Z + 0.5),timestep)]\n",
    "    neighbors+= [getAdjustedTemperatures(p,Coordinate(p.X - 0.5, p.Y + 0.5, p.Z + 0.5),timestep)]\n",
    "    neighbors+= [getAdjustedTemperatures(p,Coordinate(p.X + 0.5, p.Y - 0.5, p.Z + 0.5),timestep)]\n",
    "    neighbors+= [getAdjustedTemperatures(p,Coordinate(p.X + 0.5, p.Y + 0.5, p.Z + 0.5),timestep)]\n",
    "#     stop = time.time()\n",
    "#     print \"The time elapse is\",stop-start,\" seconds\"\n",
    "    return neighbors"
   ]
  },
  {
   "cell_type": "code",
   "execution_count": 32,
   "metadata": {},
   "outputs": [
    {
     "data": {
      "text/plain": [
       "300"
      ]
     },
     "execution_count": 32,
     "metadata": {},
     "output_type": "execute_result"
    }
   ],
   "source": [
    "indices = loadNumpy('indices_slice').tolist()\n",
    "p= Coordinate(0.5,1.0,0.5)\n"
   ]
  },
  {
   "cell_type": "code",
   "execution_count": 59,
   "metadata": {},
   "outputs": [],
   "source": [
    "p= Coordinate(13.0, 13.5, 1.0)\n",
    "xyzTuple = p.getXYZ()\n",
    "timestep = 250\n",
    "temp_timestep =-1\n",
    "if xyzTuple in indices.keys() and timestep>0:\n",
    "    dfIndex = indices[xyzTuple]\n",
    "    temp_timestep = dataframe.loc[dfIndex].tolist()[timestep+4]"
   ]
  },
  {
   "cell_type": "code",
   "execution_count": 61,
   "metadata": {},
   "outputs": [
    {
     "data": {
      "text/plain": [
       "783.453"
      ]
     },
     "execution_count": 61,
     "metadata": {},
     "output_type": "execute_result"
    }
   ],
   "source": [
    "getTemperature(p,250)"
   ]
  },
  {
   "cell_type": "code",
   "execution_count": 43,
   "metadata": {},
   "outputs": [],
   "source": [
    "def printNeighbors(p):\n",
    "    neighbors = findNeighbors(p)\n",
    "    print \"The neighbors of point\",p,\" are:\"\n",
    "    print\n",
    "    print \"Immediate Neighbors: \"\n",
    "    print \n",
    "    for i in range(0,6):\n",
    "        print neighbors[i]\n",
    "    \n",
    "    print\n",
    "    print \"2-D diagonal Neighbors: \"\n",
    "    print \n",
    "    for i in range(6,18):\n",
    "        print neighbors[i]\n",
    "    \n",
    "    print\n",
    "    print \"3-D diagonal Neighbors: \"\n",
    "    print \n",
    "    for i in range(18,26):\n",
    "        print neighbors[i]"
   ]
  },
  {
   "cell_type": "code",
   "execution_count": 44,
   "metadata": {},
   "outputs": [],
   "source": [
    "def getLocationIndices(p):\n",
    "       \n",
    "    xyzTuple = p.getXYZ()\n",
    "    if xyzTuple in indices.keys():\n",
    "        return indices[xyzTuple]\n",
    "    else:\n",
    "        return -1"
   ]
  },
  {
   "cell_type": "code",
   "execution_count": 45,
   "metadata": {},
   "outputs": [],
   "source": [
    "def getTemperatureInit(p):\n",
    "    \n",
    "    xyzTuple = p.getXYZ()\n",
    "    if xyzTuple in indices.keys():\n",
    "        return valueDict[xyzTuple][1]\n",
    "    else:\n",
    "        return DEFAULT_TEMP\n"
   ]
  },
  {
   "cell_type": "code",
   "execution_count": 46,
   "metadata": {},
   "outputs": [],
   "source": [
    "def getTemperature(p,timestep):\n",
    "    xyzTuple = p.getXYZ()\n",
    "    if xyzTuple in indices.keys() and timestep>0:\n",
    "        dfIndex = indices[xyzTuple]\n",
    "        temp_timestep = dataframe.loc[dfIndex].tolist()[timestep+4]\n",
    "        return temp_timestep\n",
    "    else:\n",
    "        return DEFAULT_TEMP"
   ]
  },
  {
   "cell_type": "code",
   "execution_count": 47,
   "metadata": {},
   "outputs": [],
   "source": [
    "def getAdjustedTemperature(self,other,timestep):\n",
    "    selfTuple = self.getXYZ()\n",
    "    otherTuple = other.getXYZ()\n",
    "    \n",
    "    if selfTuple in indices.keys() and otherTuple in indices.keys() and timestep>0:\n",
    "        index_self = indices[selfTuple]\n",
    "        index_other = indices[otherTuple]\n",
    "        if index_other<index_self:\n",
    "            temp_timestep = dataframe.loc[index_other].tolist()[timestep+4]\n",
    "            return temp_timestep\n",
    "        else:\n",
    "            if timestep>1:\n",
    "                temp_timestep = dataframe.loc[index_other].tolist()[timestep-1+4]\n",
    "                return temp_timestep\n",
    "            \n",
    "    return DEFAULT_TEMP"
   ]
  },
  {
   "cell_type": "code",
   "execution_count": 289,
   "metadata": {},
   "outputs": [
    {
     "ename": "AttributeError",
     "evalue": "'numpy.ndarray' object has no attribute 'keys'",
     "output_type": "error",
     "traceback": [
      "\u001b[0;31m---------------------------------------------------------------------------\u001b[0m",
      "\u001b[0;31mAttributeError\u001b[0m                            Traceback (most recent call last)",
      "\u001b[0;32m<ipython-input-289-4eb6ed910448>\u001b[0m in \u001b[0;36m<module>\u001b[0;34m()\u001b[0m\n\u001b[1;32m     42\u001b[0m \u001b[0;34m\u001b[0m\u001b[0m\n\u001b[1;32m     43\u001b[0m \u001b[0;34m\u001b[0m\u001b[0m\n\u001b[0;32m---> 44\u001b[0;31m \u001b[0mcreateDatabase\u001b[0m\u001b[0;34m(\u001b[0m\u001b[0;34m)\u001b[0m\u001b[0;34m\u001b[0m\u001b[0m\n\u001b[0m",
      "\u001b[0;32m<ipython-input-289-4eb6ed910448>\u001b[0m in \u001b[0;36mcreateDatabase\u001b[0;34m(dataframe)\u001b[0m\n\u001b[1;32m     15\u001b[0m \u001b[0;34m\u001b[0m\u001b[0m\n\u001b[1;32m     16\u001b[0m     \u001b[0;32mfor\u001b[0m \u001b[0mtimestep\u001b[0m \u001b[0;32min\u001b[0m \u001b[0mrange\u001b[0m\u001b[0;34m(\u001b[0m\u001b[0;36m1\u001b[0m\u001b[0;34m,\u001b[0m\u001b[0;36m5\u001b[0m\u001b[0;34m)\u001b[0m\u001b[0;34m:\u001b[0m\u001b[0;31m#range(1,num_timesteps+1):\u001b[0m\u001b[0;34m\u001b[0m\u001b[0m\n\u001b[0;32m---> 17\u001b[0;31m         \u001b[0;32mfor\u001b[0m \u001b[0mvoxel\u001b[0m \u001b[0;32min\u001b[0m \u001b[0mindices\u001b[0m\u001b[0;34m.\u001b[0m\u001b[0mkeys\u001b[0m\u001b[0;34m(\u001b[0m\u001b[0;34m)\u001b[0m\u001b[0;34m:\u001b[0m\u001b[0;34m\u001b[0m\u001b[0m\n\u001b[0m\u001b[1;32m     18\u001b[0m             \u001b[0mx\u001b[0m\u001b[0;34m,\u001b[0m\u001b[0my\u001b[0m\u001b[0;34m,\u001b[0m\u001b[0mz\u001b[0m \u001b[0;34m=\u001b[0m \u001b[0mvoxel\u001b[0m\u001b[0;34m\u001b[0m\u001b[0m\n\u001b[1;32m     19\u001b[0m             \u001b[0mx_laser\u001b[0m\u001b[0;34m,\u001b[0m\u001b[0my_laser\u001b[0m\u001b[0;34m,\u001b[0m\u001b[0mz_laser\u001b[0m \u001b[0;34m=\u001b[0m \u001b[0mtuple\u001b[0m\u001b[0;34m(\u001b[0m\u001b[0mtoolpath\u001b[0m\u001b[0;34m[\u001b[0m\u001b[0mtimestep\u001b[0m\u001b[0;34m-\u001b[0m\u001b[0;36m1\u001b[0m\u001b[0;34m]\u001b[0m\u001b[0;34m)\u001b[0m\u001b[0;34m\u001b[0m\u001b[0m\n",
      "\u001b[0;31mAttributeError\u001b[0m: 'numpy.ndarray' object has no attribute 'keys'"
     ]
    }
   ],
   "source": [
    "def createDatabase(dataframe=dataframe):\n",
    "    neighborColumns = []\n",
    "    \n",
    "    for neighbor in range(26):\n",
    "        neighborColumns += ['T'+str(neighbor+1)+'(t/t-1)']\n",
    "    \n",
    "    columns = ['timestep','x(voxel)','y(voxel)','z(voxel)','timeOfCreation','x(laser)','y(laser)','z(laser)','distance(laser)','T0(t-1)'] + neighborColumns\n",
    "    database = pd.DataFrame(columns=columns)\n",
    "\n",
    "\n",
    "    indices = loadNumpy('indices_slice')\n",
    "    \n",
    "    num_timesteps = len(dataframe.loc[0]-4)\n",
    "    num_voxels = len(dataframe)\n",
    "    \n",
    "    for timestep in range(1,5):#range(1,num_timesteps+1):\n",
    "        for voxel in indices.keys():\n",
    "            x,y,z = voxel\n",
    "            x_laser,y_laser,z_laser = tuple(toolpath[timestep-1])\n",
    "\n",
    "            voxelPosObject = Coordinate(x,y,z)\n",
    "            laserPosObject = Coordinate(x_laser,y_laser,z_laser)\n",
    "            distance_laser = voxelPosObject.distance(laserPosObject)\n",
    "            \n",
    "            dfIndex = indices[voxel]\n",
    "            row = dataframe.loc[dfIndex].tolist()\n",
    "            time_creation = row[3]\n",
    "            \n",
    "            T_voxel_previous = getTemperature(voxelPosObject,timestep-1)\n",
    "            \n",
    "            dictionary = {'timestep':timestep, 'x(voxel)':x, 'y(voxel)':y, 'z(voxel)':z, \n",
    "                         'timeOfCreation':time_creation, 'x(laser)':x_laser,'y(laser)':y_laser,'z(laser)':z_laser,\n",
    "                          'distance(laser)':distance_laser, 'T0(t-1)':T_voxel_previous}\n",
    "            \n",
    "            neighborTemps = findAdjustedNeighborTemperatures(voxelPosObject,timestep)\n",
    "            for i in range(len(neighborTemps)):\n",
    "                key = 'T'+str(i+1)+'(t/t-1)'\n",
    "                dictionary.append({key:neighborTemps[i]})\n",
    "            database.append([dictionary])\n",
    "\n",
    "    return database\n",
    "            \n",
    "            \n",
    "createDatabase()"
   ]
  },
  {
   "cell_type": "code",
   "execution_count": null,
   "metadata": {},
   "outputs": [],
   "source": [
    "indices = loadNumpy('indices_slice')\n",
    "indices"
   ]
  },
  {
   "cell_type": "code",
   "execution_count": 286,
   "metadata": {},
   "outputs": [
    {
     "data": {
      "text/plain": [
       "{1: 2, 3: 4, 4: 5, 5: 6}"
      ]
     },
     "execution_count": 286,
     "metadata": {},
     "output_type": "execute_result"
    }
   ],
   "source": [
    "test = {1:2,3:4}\n",
    "test.update({4:5,5:6})\n",
    "test"
   ]
  },
  {
   "cell_type": "code",
   "execution_count": 281,
   "metadata": {},
   "outputs": [
    {
     "ename": "TypeError",
     "evalue": "__init__() takes exactly 4 arguments (2 given)",
     "output_type": "error",
     "traceback": [
      "\u001b[0;31m---------------------------------------------------------------------------\u001b[0m",
      "\u001b[0;31mTypeError\u001b[0m                                 Traceback (most recent call last)",
      "\u001b[0;32m<ipython-input-281-215f0bc9be29>\u001b[0m in \u001b[0;36m<module>\u001b[0;34m()\u001b[0m\n\u001b[0;32m----> 1\u001b[0;31m \u001b[0mCoordinate\u001b[0m\u001b[0;34m(\u001b[0m\u001b[0mtest\u001b[0m\u001b[0;34m)\u001b[0m\u001b[0;34m\u001b[0m\u001b[0m\n\u001b[0m",
      "\u001b[0;31mTypeError\u001b[0m: __init__() takes exactly 4 arguments (2 given)"
     ]
    }
   ],
   "source": [
    "Coordinate(test)"
   ]
  },
  {
   "cell_type": "code",
   "execution_count": 30,
   "metadata": {},
   "outputs": [],
   "source": [
    "tinySlice = smallSlice.front(10)[:20]"
   ]
  },
  {
   "cell_type": "code",
   "execution_count": 31,
   "metadata": {},
   "outputs": [
    {
     "data": {
      "text/html": [
       "<div>\n",
       "<style scoped>\n",
       "    .dataframe tbody tr th:only-of-type {\n",
       "        vertical-align: middle;\n",
       "    }\n",
       "\n",
       "    .dataframe tbody tr th {\n",
       "        vertical-align: top;\n",
       "    }\n",
       "\n",
       "    .dataframe thead th {\n",
       "        text-align: right;\n",
       "    }\n",
       "</style>\n",
       "<table border=\"1\" class=\"dataframe\">\n",
       "  <thead>\n",
       "    <tr style=\"text-align: right;\">\n",
       "      <th></th>\n",
       "      <th>0</th>\n",
       "      <th>1</th>\n",
       "      <th>2</th>\n",
       "      <th>3</th>\n",
       "      <th>4</th>\n",
       "      <th>5</th>\n",
       "      <th>6</th>\n",
       "      <th>7</th>\n",
       "      <th>8</th>\n",
       "      <th>9</th>\n",
       "    </tr>\n",
       "  </thead>\n",
       "  <tbody>\n",
       "    <tr>\n",
       "      <th>0</th>\n",
       "      <td>0.5</td>\n",
       "      <td>1.5</td>\n",
       "      <td>0.5</td>\n",
       "      <td>0</td>\n",
       "      <td>300</td>\n",
       "      <td>1876.72</td>\n",
       "      <td>1069.29</td>\n",
       "      <td>895.958</td>\n",
       "      <td>786.233</td>\n",
       "      <td>706.877</td>\n",
       "    </tr>\n",
       "    <tr>\n",
       "      <th>1</th>\n",
       "      <td>0.5</td>\n",
       "      <td>1</td>\n",
       "      <td>0.5</td>\n",
       "      <td>0</td>\n",
       "      <td>300</td>\n",
       "      <td>1959.09</td>\n",
       "      <td>1068.08</td>\n",
       "      <td>896.858</td>\n",
       "      <td>787.094</td>\n",
       "      <td>707.581</td>\n",
       "    </tr>\n",
       "    <tr>\n",
       "      <th>2</th>\n",
       "      <td>0</td>\n",
       "      <td>0.5</td>\n",
       "      <td>0.5</td>\n",
       "      <td>0</td>\n",
       "      <td>300</td>\n",
       "      <td>1643.9</td>\n",
       "      <td>1019.1</td>\n",
       "      <td>864.489</td>\n",
       "      <td>762.822</td>\n",
       "      <td>688.495</td>\n",
       "    </tr>\n",
       "    <tr>\n",
       "      <th>3</th>\n",
       "      <td>0.5</td>\n",
       "      <td>0.5</td>\n",
       "      <td>0.5</td>\n",
       "      <td>0</td>\n",
       "      <td>300</td>\n",
       "      <td>1845.84</td>\n",
       "      <td>1067.81</td>\n",
       "      <td>897.931</td>\n",
       "      <td>788.166</td>\n",
       "      <td>708.43</td>\n",
       "    </tr>\n",
       "    <tr>\n",
       "      <th>4</th>\n",
       "      <td>0</td>\n",
       "      <td>0</td>\n",
       "      <td>0.5</td>\n",
       "      <td>0</td>\n",
       "      <td>300</td>\n",
       "      <td>1554.23</td>\n",
       "      <td>1015.72</td>\n",
       "      <td>863.362</td>\n",
       "      <td>762.239</td>\n",
       "      <td>688.116</td>\n",
       "    </tr>\n",
       "    <tr>\n",
       "      <th>5</th>\n",
       "      <td>0</td>\n",
       "      <td>1</td>\n",
       "      <td>0.5</td>\n",
       "      <td>0</td>\n",
       "      <td>300</td>\n",
       "      <td>1763.85</td>\n",
       "      <td>1020.86</td>\n",
       "      <td>863.354</td>\n",
       "      <td>761.559</td>\n",
       "      <td>687.467</td>\n",
       "    </tr>\n",
       "    <tr>\n",
       "      <th>6</th>\n",
       "      <td>0</td>\n",
       "      <td>1.5</td>\n",
       "      <td>0.5</td>\n",
       "      <td>0</td>\n",
       "      <td>300</td>\n",
       "      <td>1746.63</td>\n",
       "      <td>1017.88</td>\n",
       "      <td>861.52</td>\n",
       "      <td>760.245</td>\n",
       "      <td>686.517</td>\n",
       "    </tr>\n",
       "    <tr>\n",
       "      <th>7</th>\n",
       "      <td>0.5</td>\n",
       "      <td>0</td>\n",
       "      <td>0.5</td>\n",
       "      <td>0</td>\n",
       "      <td>300</td>\n",
       "      <td>1754.33</td>\n",
       "      <td>1065.69</td>\n",
       "      <td>897.344</td>\n",
       "      <td>787.972</td>\n",
       "      <td>708.326</td>\n",
       "    </tr>\n",
       "    <tr>\n",
       "      <th>8</th>\n",
       "      <td>1</td>\n",
       "      <td>0.5</td>\n",
       "      <td>0.5</td>\n",
       "      <td>0.0077</td>\n",
       "      <td>300</td>\n",
       "      <td>2706.98</td>\n",
       "      <td>1209.53</td>\n",
       "      <td>991.543</td>\n",
       "      <td>859.221</td>\n",
       "      <td>764.371</td>\n",
       "    </tr>\n",
       "    <tr>\n",
       "      <th>9</th>\n",
       "      <td>1</td>\n",
       "      <td>1</td>\n",
       "      <td>0.5</td>\n",
       "      <td>0.0077</td>\n",
       "      <td>300</td>\n",
       "      <td>2869.67</td>\n",
       "      <td>1210.24</td>\n",
       "      <td>991.075</td>\n",
       "      <td>858.672</td>\n",
       "      <td>763.91</td>\n",
       "    </tr>\n",
       "    <tr>\n",
       "      <th>10</th>\n",
       "      <td>1</td>\n",
       "      <td>1.5</td>\n",
       "      <td>0.5</td>\n",
       "      <td>0.0154</td>\n",
       "      <td>300</td>\n",
       "      <td>2389.49</td>\n",
       "      <td>1208.86</td>\n",
       "      <td>990.055</td>\n",
       "      <td>857.832</td>\n",
       "      <td>763.234</td>\n",
       "    </tr>\n",
       "    <tr>\n",
       "      <th>11</th>\n",
       "      <td>1</td>\n",
       "      <td>0</td>\n",
       "      <td>0.5</td>\n",
       "      <td>0.0154</td>\n",
       "      <td>300</td>\n",
       "      <td>2329.08</td>\n",
       "      <td>1207.45</td>\n",
       "      <td>990.962</td>\n",
       "      <td>858.908</td>\n",
       "      <td>764.134</td>\n",
       "    </tr>\n",
       "    <tr>\n",
       "      <th>12</th>\n",
       "      <td>1.5</td>\n",
       "      <td>1</td>\n",
       "      <td>0.5</td>\n",
       "      <td>0.0231</td>\n",
       "      <td>300</td>\n",
       "      <td>3324.64</td>\n",
       "      <td>1368.69</td>\n",
       "      <td>1083.36</td>\n",
       "      <td>929.88</td>\n",
       "      <td>820.598</td>\n",
       "    </tr>\n",
       "    <tr>\n",
       "      <th>13</th>\n",
       "      <td>1.5</td>\n",
       "      <td>0.5</td>\n",
       "      <td>0.5</td>\n",
       "      <td>0.0231</td>\n",
       "      <td>300</td>\n",
       "      <td>3303.29</td>\n",
       "      <td>1367.94</td>\n",
       "      <td>1083.54</td>\n",
       "      <td>930.132</td>\n",
       "      <td>820.835</td>\n",
       "    </tr>\n",
       "    <tr>\n",
       "      <th>14</th>\n",
       "      <td>1.5</td>\n",
       "      <td>0</td>\n",
       "      <td>0.5</td>\n",
       "      <td>0.0308</td>\n",
       "      <td>300</td>\n",
       "      <td>3003.77</td>\n",
       "      <td>1363.92</td>\n",
       "      <td>1082.71</td>\n",
       "      <td>929.594</td>\n",
       "      <td>820.44</td>\n",
       "    </tr>\n",
       "    <tr>\n",
       "      <th>15</th>\n",
       "      <td>1.5</td>\n",
       "      <td>1.5</td>\n",
       "      <td>0.5</td>\n",
       "      <td>0.0308</td>\n",
       "      <td>300</td>\n",
       "      <td>3026.39</td>\n",
       "      <td>1356.56</td>\n",
       "      <td>1082.38</td>\n",
       "      <td>929.119</td>\n",
       "      <td>819.992</td>\n",
       "    </tr>\n",
       "    <tr>\n",
       "      <th>16</th>\n",
       "      <td>2</td>\n",
       "      <td>0.5</td>\n",
       "      <td>0.5</td>\n",
       "      <td>0.0462</td>\n",
       "      <td>300</td>\n",
       "      <td>3872.89</td>\n",
       "      <td>1637.32</td>\n",
       "      <td>1168.38</td>\n",
       "      <td>995.623</td>\n",
       "      <td>873.587</td>\n",
       "    </tr>\n",
       "    <tr>\n",
       "      <th>17</th>\n",
       "      <td>2</td>\n",
       "      <td>1</td>\n",
       "      <td>0.5</td>\n",
       "      <td>0.0462</td>\n",
       "      <td>300</td>\n",
       "      <td>3876.13</td>\n",
       "      <td>1610.33</td>\n",
       "      <td>1168.44</td>\n",
       "      <td>995.504</td>\n",
       "      <td>873.439</td>\n",
       "    </tr>\n",
       "    <tr>\n",
       "      <th>18</th>\n",
       "      <td>2</td>\n",
       "      <td>0</td>\n",
       "      <td>0.5</td>\n",
       "      <td>0.0538</td>\n",
       "      <td>300</td>\n",
       "      <td>3473.76</td>\n",
       "      <td>1572.55</td>\n",
       "      <td>1167.27</td>\n",
       "      <td>994.925</td>\n",
       "      <td>873.086</td>\n",
       "    </tr>\n",
       "    <tr>\n",
       "      <th>19</th>\n",
       "      <td>2</td>\n",
       "      <td>1.5</td>\n",
       "      <td>0.5</td>\n",
       "      <td>0.0538</td>\n",
       "      <td>300</td>\n",
       "      <td>3478.99</td>\n",
       "      <td>1542.83</td>\n",
       "      <td>1167.02</td>\n",
       "      <td>994.719</td>\n",
       "      <td>872.826</td>\n",
       "    </tr>\n",
       "  </tbody>\n",
       "</table>\n",
       "</div>"
      ],
      "text/plain": [
       "      0    1    2       3    4        5        6        7        8        9\n",
       "0   0.5  1.5  0.5       0  300  1876.72  1069.29  895.958  786.233  706.877\n",
       "1   0.5    1  0.5       0  300  1959.09  1068.08  896.858  787.094  707.581\n",
       "2     0  0.5  0.5       0  300   1643.9   1019.1  864.489  762.822  688.495\n",
       "3   0.5  0.5  0.5       0  300  1845.84  1067.81  897.931  788.166   708.43\n",
       "4     0    0  0.5       0  300  1554.23  1015.72  863.362  762.239  688.116\n",
       "5     0    1  0.5       0  300  1763.85  1020.86  863.354  761.559  687.467\n",
       "6     0  1.5  0.5       0  300  1746.63  1017.88   861.52  760.245  686.517\n",
       "7   0.5    0  0.5       0  300  1754.33  1065.69  897.344  787.972  708.326\n",
       "8     1  0.5  0.5  0.0077  300  2706.98  1209.53  991.543  859.221  764.371\n",
       "9     1    1  0.5  0.0077  300  2869.67  1210.24  991.075  858.672   763.91\n",
       "10    1  1.5  0.5  0.0154  300  2389.49  1208.86  990.055  857.832  763.234\n",
       "11    1    0  0.5  0.0154  300  2329.08  1207.45  990.962  858.908  764.134\n",
       "12  1.5    1  0.5  0.0231  300  3324.64  1368.69  1083.36   929.88  820.598\n",
       "13  1.5  0.5  0.5  0.0231  300  3303.29  1367.94  1083.54  930.132  820.835\n",
       "14  1.5    0  0.5  0.0308  300  3003.77  1363.92  1082.71  929.594   820.44\n",
       "15  1.5  1.5  0.5  0.0308  300  3026.39  1356.56  1082.38  929.119  819.992\n",
       "16    2  0.5  0.5  0.0462  300  3872.89  1637.32  1168.38  995.623  873.587\n",
       "17    2    1  0.5  0.0462  300  3876.13  1610.33  1168.44  995.504  873.439\n",
       "18    2    0  0.5  0.0538  300  3473.76  1572.55  1167.27  994.925  873.086\n",
       "19    2  1.5  0.5  0.0538  300  3478.99  1542.83  1167.02  994.719  872.826"
      ]
     },
     "execution_count": 31,
     "metadata": {},
     "output_type": "execute_result"
    }
   ],
   "source": [
    "tinySlice"
   ]
  },
  {
   "cell_type": "code",
   "execution_count": 11,
   "metadata": {},
   "outputs": [],
   "source": [
    "def createDictionary(dataframe):\n",
    "    start = time.time()\n",
    "    dictionary = {}\n",
    "    for i in range(len(dataframe)):\n",
    "        key = tuple(dataframe.loc[i][:4].tolist())\n",
    "        value = dataframe.loc[i][4:].tolist()\n",
    "        dictionary[key] = value\n",
    "    stop = time.time()\n",
    "    print 'The time for dictionary creation is %2f seconds' %(stop-start)\n",
    "    return dictionary\n",
    "    "
   ]
  },
  {
   "cell_type": "code",
   "execution_count": 10,
   "metadata": {},
   "outputs": [],
   "source": [
    "def createObjectDictionaries(dataframe):\n",
    "    start = time.time()\n",
    "    dictionaryIndices,dictionaryValues = {},{}\n",
    "    for i in range(len(dataframe)):\n",
    "        (x,y,z) = dataframe.loc[i][:3].tolist()\n",
    "        key = (x,y,z)\n",
    "        value = dataframe.loc[i][3:].tolist()\n",
    "        dictionaryIndices[key] = i\n",
    "        dictionaryValues[key] = value\n",
    "    stop = time.time()\n",
    "    print 'The time for dictionary creation is %2f seconds' %(stop-start)\n",
    "    return dictionaryIndices,dictionaryValues"
   ]
  },
  {
   "cell_type": "code",
   "execution_count": 51,
   "metadata": {},
   "outputs": [
    {
     "name": "stdout",
     "output_type": "stream",
     "text": [
      "The time for dictionary creation is 8.055754 seconds\n"
     ]
    }
   ],
   "source": [
    "indices_biggerSlice,value_biggerSlice = createObjectDictionaries(biggerSlice)"
   ]
  },
  {
   "cell_type": "code",
   "execution_count": 26,
   "metadata": {},
   "outputs": [
    {
     "name": "stdout",
     "output_type": "stream",
     "text": [
      "The time for dictionary creation is 25.535220 seconds\n"
     ]
    }
   ],
   "source": [
    "indices_multi,value_multi = createObjectDictionaries(dataframe)"
   ]
  },
  {
   "cell_type": "code",
   "execution_count": 48,
   "metadata": {},
   "outputs": [
    {
     "name": "stdout",
     "output_type": "stream",
     "text": [
      "The time for dictionary creation is 14.213606 seconds\n"
     ]
    }
   ],
   "source": [
    "indices_big,valueDict_big = createObjectDictionaries(bigSlice)"
   ]
  },
  {
   "cell_type": "code",
   "execution_count": 49,
   "metadata": {},
   "outputs": [
    {
     "data": {
      "text/plain": [
       "15000"
      ]
     },
     "execution_count": 49,
     "metadata": {},
     "output_type": "execute_result"
    }
   ],
   "source": [
    "len(indices_big)"
   ]
  },
  {
   "cell_type": "code",
   "execution_count": 50,
   "metadata": {},
   "outputs": [],
   "source": [
    "bigSlice.to_csv('data_big.csv')"
   ]
  },
  {
   "cell_type": "code",
   "execution_count": 51,
   "metadata": {},
   "outputs": [
    {
     "name": "stdout",
     "output_type": "stream",
     "text": [
      "indices_big saved successfully in .\n"
     ]
    }
   ],
   "source": [
    "saveDict(indices_big,'indices_big')"
   ]
  },
  {
   "cell_type": "code",
   "execution_count": 175,
   "metadata": {},
   "outputs": [
    {
     "name": "stdout",
     "output_type": "stream",
     "text": [
      "indicesDict saved successfully in .\n",
      "valueDict saved successfully in .\n"
     ]
    }
   ],
   "source": [
    "saveNumpy(indices,'indicesDict')\n",
    "saveNumpy(valueDict,'valueDict')"
   ]
  },
  {
   "cell_type": "code",
   "execution_count": 35,
   "metadata": {},
   "outputs": [],
   "source": [
    "indices = loadDict('indices')"
   ]
  },
  {
   "cell_type": "code",
   "execution_count": 197,
   "metadata": {},
   "outputs": [
    {
     "name": "stdout",
     "output_type": "stream",
     "text": [
      "data saved successfully in .\n"
     ]
    }
   ],
   "source": [
    "saveNumpy(dataframe,'data')"
   ]
  },
  {
   "cell_type": "code",
   "execution_count": 222,
   "metadata": {},
   "outputs": [
    {
     "name": "stdout",
     "output_type": "stream",
     "text": [
      "The time for dictionary creation is 2.807802 seconds\n",
      "indices_slice saved successfully in .\n",
      "values_slice saved successfully in .\n",
      "sliced_dataframe saved successfully in .\n"
     ]
    }
   ],
   "source": [
    "indices,valueDict = createObjectDictionaries(smallSlice)\n",
    "saveNumpy(indices,'indices_slice')\n",
    "saveNumpy(valueDict,'values_slice')\n",
    "saveNumpy(smallSlice,'sliced_dataframe')"
   ]
  },
  {
   "cell_type": "code",
   "execution_count": 154,
   "metadata": {},
   "outputs": [
    {
     "data": {
      "text/plain": [
       "([33498,\n",
       "  27127,\n",
       "  27126,\n",
       "  27128,\n",
       "  13,\n",
       "  27129,\n",
       "  33537,\n",
       "  27130,\n",
       "  32817,\n",
       "  27131,\n",
       "  27132,\n",
       "  27133,\n",
       "  27134,\n",
       "  27135,\n",
       "  27136,\n",
       "  32818,\n",
       "  27137,\n",
       "  112,\n",
       "  27138,\n",
       "  27139],\n",
       " 33621)"
      ]
     },
     "execution_count": 154,
     "metadata": {},
     "output_type": "execute_result"
    }
   ],
   "source": [
    "indices.values()[:20], len(indices)"
   ]
  },
  {
   "cell_type": "code",
   "execution_count": 132,
   "metadata": {},
   "outputs": [
    {
     "name": "stdout",
     "output_type": "stream",
     "text": [
      "Point(0.5,1.0,0.5)\n"
     ]
    }
   ],
   "source": [
    "print smallDict.keys()[1]\n",
    "testPoint = smallDict.keys()[1]"
   ]
  },
  {
   "cell_type": "code",
   "execution_count": 282,
   "metadata": {},
   "outputs": [
    {
     "data": {
      "text/plain": [
       "0.7071067811865476"
      ]
     },
     "execution_count": 282,
     "metadata": {},
     "output_type": "execute_result"
    }
   ],
   "source": [
    "x= Coordinate(0.5,1.0,0.5)\n",
    "y = Coordinate(0.0,1.0,0.0)\n",
    "x.distance(y)"
   ]
  },
  {
   "cell_type": "code",
   "execution_count": 149,
   "metadata": {},
   "outputs": [
    {
     "name": "stdout",
     "output_type": "stream",
     "text": [
      "The neighbors of point Point(0.0,1.0,0.0)  are:\n",
      "\n",
      "Immediate Neighbors: \n",
      "\n",
      "Point(-0.5,1.0,0.0)\n",
      "Point(0.5,1.0,0.0)\n",
      "Point(0.0,0.5,0.0)\n",
      "Point(0.0,1.5,0.0)\n",
      "Point(0.0,1.0,-0.5)\n",
      "Point(0.0,1.0,0.5)\n",
      "\n",
      "2-D diagonal Neighbors: \n",
      "\n",
      "Point(-0.5,0.5,0.0)\n",
      "Point(-0.5,1.5,0.0)\n",
      "Point(0.5,0.5,0.0)\n",
      "Point(0.5,1.5,0.0)\n",
      "Point(0.0,0.5,-0.5)\n",
      "Point(0.0,1.5,-0.5)\n",
      "Point(0.0,0.5,0.5)\n",
      "Point(0.0,1.5,0.5)\n",
      "Point(-0.5,1.0,-0.5)\n",
      "Point(0.5,1.0,-0.5)\n",
      "Point(-0.5,1.0,0.5)\n",
      "Point(0.5,1.0,0.5)\n",
      "\n",
      "3-D diagonal Neighbors: \n",
      "\n",
      "Point(-0.5,0.5,-0.5)\n",
      "Point(-0.5,1.5,-0.5)\n",
      "Point(0.5,0.5,-0.5)\n",
      "Point(0.5,1.5,-0.5)\n",
      "Point(-0.5,0.5,0.5)\n",
      "Point(-0.5,1.5,0.5)\n",
      "Point(0.5,0.5,0.5)\n",
      "Point(0.5,1.5,0.5)\n"
     ]
    }
   ],
   "source": [
    "printNeighbors(Coordinate(0.0,1.0,0.0))"
   ]
  },
  {
   "cell_type": "markdown",
   "metadata": {},
   "source": [
    "### <font color=\"green\">Test Location and Temperature Extraction Functions </font>"
   ]
  },
  {
   "cell_type": "code",
   "execution_count": 204,
   "metadata": {},
   "outputs": [
    {
     "data": {
      "text/plain": [
       "[6449,\n",
       " 6454,\n",
       " 6259,\n",
       " 6452,\n",
       " 4770,\n",
       " 8131,\n",
       " 6262,\n",
       " 6447,\n",
       " 6256,\n",
       " 6455,\n",
       " 4577,\n",
       " 4771,\n",
       " 7940,\n",
       " 8133,\n",
       " 4766,\n",
       " 4774,\n",
       " 8129,\n",
       " 8136,\n",
       " 4580,\n",
       " 4767,\n",
       " 4574,\n",
       " 4773,\n",
       " 7942,\n",
       " 8130,\n",
       " 7936,\n",
       " 8135]"
      ]
     },
     "execution_count": 204,
     "metadata": {},
     "output_type": "execute_result"
    }
   ],
   "source": [
    "findNeighborIndices(Coordinate(16.0, 16.0, 2.0))"
   ]
  },
  {
   "cell_type": "code",
   "execution_count": 189,
   "metadata": {},
   "outputs": [
    {
     "data": {
      "text/plain": [
       "[300.0,\n",
       " 300.0,\n",
       " 300.0,\n",
       " 300.0,\n",
       " 300.0,\n",
       " 300.0,\n",
       " 300.0,\n",
       " 300.0,\n",
       " 300.0,\n",
       " 300.0,\n",
       " 300.0,\n",
       " 300.0,\n",
       " 300.0,\n",
       " 300.0,\n",
       " 300.0,\n",
       " 300.0,\n",
       " 300.0,\n",
       " 300.0,\n",
       " 300.0,\n",
       " 300.0,\n",
       " 300.0,\n",
       " 300.0,\n",
       " 300.0,\n",
       " 300.0,\n",
       " 300.0,\n",
       " 300.0]"
      ]
     },
     "execution_count": 189,
     "metadata": {},
     "output_type": "execute_result"
    }
   ],
   "source": [
    "findNeighborTempsInit(Coordinate(16.0, 16.0, 2.0))"
   ]
  },
  {
   "cell_type": "code",
   "execution_count": 209,
   "metadata": {},
   "outputs": [
    {
     "data": {
      "text/plain": [
       "[1033.56,\n",
       " 1022.87,\n",
       " 1033.13,\n",
       " 1023.67,\n",
       " 1021.78,\n",
       " 1033.41,\n",
       " 1038.37,\n",
       " 1028.9,\n",
       " 1027.67,\n",
       " 1018.22,\n",
       " 1026.75,\n",
       " 1016.85,\n",
       " 1038.08,\n",
       " 1029.0,\n",
       " 1027.3,\n",
       " 1015.96,\n",
       " 1038.41,\n",
       " 1028.27,\n",
       " 1032.27,\n",
       " 1022.36,\n",
       " 1020.91,\n",
       " 1011.03,\n",
       " 1043.07,\n",
       " 1033.99,\n",
       " 1032.93,\n",
       " 1023.85]"
      ]
     },
     "execution_count": 209,
     "metadata": {},
     "output_type": "execute_result"
    }
   ],
   "source": [
    "findNeighborTemperatures(Coordinate(16.0, 16.0, 2.0),1000)"
   ]
  },
  {
   "cell_type": "code",
   "execution_count": 37,
   "metadata": {},
   "outputs": [],
   "source": [
    "p1 = Coordinate(0.5,1,0.5)\n",
    "p2 = Coordinate(0.5,0.5,0.5)\n",
    "timestep = 1000"
   ]
  },
  {
   "cell_type": "code",
   "execution_count": 38,
   "metadata": {},
   "outputs": [
    {
     "name": "stdout",
     "output_type": "stream",
     "text": [
      "916.034\n",
      "300\n"
     ]
    }
   ],
   "source": [
    "selfTuple = p1.getXYZ()\n",
    "otherTuple = p2.getXYZ()\n",
    "    \n",
    "if selfTuple in indices.keys() and otherTuple in indices.keys() and timestep>0:\n",
    "    index_self = indices[selfTuple]\n",
    "    index_other = indices[otherTuple]\n",
    "    if index_other<index_self:\n",
    "        temp_timestep = dataframe.loc[index_other].tolist()[timestep+4]\n",
    "        print temp_timestep\n",
    "    else:\n",
    "        if timestep>1:\n",
    "            temp_timestep = dataframe.loc[index_other].tolist()[timestep-1+4]\n",
    "            print temp_timestep\n",
    "\n",
    "print DEFAULT_TEMP"
   ]
  },
  {
   "cell_type": "code",
   "execution_count": 44,
   "metadata": {},
   "outputs": [
    {
     "name": "stdout",
     "output_type": "stream",
     "text": [
      "Time elapsed is 24.3850610256 seconds\n"
     ]
    }
   ],
   "source": [
    "start = time.time()\n",
    "for i in range(100):\n",
    "    findAdjustedNeighborTemperatures(Coordinate(0.5,1,0.5),200)\n",
    "stop = time.time()\n",
    "print 'Time elapsed is',stop-start,'seconds'"
   ]
  },
  {
   "cell_type": "markdown",
   "metadata": {},
   "source": [
    "### <font color=\"red\">Future Plans </font>\n",
    "0. Do neighboring timestep -1 or timestep based on index \n",
    "1. Only do upto few layers \n",
    "2. Do PCA on the 26 neighbors \n",
    "3. Check for 2nd degree features "
   ]
  },
  {
   "cell_type": "markdown",
   "metadata": {},
   "source": [
    "### <font color=\"magenta\">Smaller Simulation</font>"
   ]
  },
  {
   "cell_type": "code",
   "execution_count": 3,
   "metadata": {},
   "outputs": [],
   "source": [
    "df = pd.read_csv('10-10-5-800/10-10-5-800.csv',header=None)"
   ]
  },
  {
   "cell_type": "code",
   "execution_count": 4,
   "metadata": {},
   "outputs": [],
   "source": [
    "df_t = df.transpose()"
   ]
  },
  {
   "cell_type": "code",
   "execution_count": 5,
   "metadata": {},
   "outputs": [
    {
     "data": {
      "text/html": [
       "<div>\n",
       "<style scoped>\n",
       "    .dataframe tbody tr th:only-of-type {\n",
       "        vertical-align: middle;\n",
       "    }\n",
       "\n",
       "    .dataframe tbody tr th {\n",
       "        vertical-align: top;\n",
       "    }\n",
       "\n",
       "    .dataframe thead th {\n",
       "        text-align: right;\n",
       "    }\n",
       "</style>\n",
       "<table border=\"1\" class=\"dataframe\">\n",
       "  <thead>\n",
       "    <tr style=\"text-align: right;\">\n",
       "      <th></th>\n",
       "      <th>0</th>\n",
       "      <th>1</th>\n",
       "      <th>2</th>\n",
       "      <th>3</th>\n",
       "      <th>4</th>\n",
       "      <th>5</th>\n",
       "      <th>6</th>\n",
       "      <th>7</th>\n",
       "      <th>8</th>\n",
       "      <th>9</th>\n",
       "      <th>...</th>\n",
       "      <th>924</th>\n",
       "      <th>925</th>\n",
       "      <th>926</th>\n",
       "      <th>927</th>\n",
       "      <th>928</th>\n",
       "      <th>929</th>\n",
       "      <th>930</th>\n",
       "      <th>931</th>\n",
       "      <th>932</th>\n",
       "      <th>933</th>\n",
       "    </tr>\n",
       "  </thead>\n",
       "  <tbody>\n",
       "    <tr>\n",
       "      <th>0</th>\n",
       "      <td>0.5</td>\n",
       "      <td>1</td>\n",
       "      <td>0.5</td>\n",
       "      <td>0</td>\n",
       "      <td>300</td>\n",
       "      <td>4215.24</td>\n",
       "      <td>2646.37</td>\n",
       "      <td>1694.46</td>\n",
       "      <td>1317.48</td>\n",
       "      <td>1174.82</td>\n",
       "      <td>...</td>\n",
       "      <td>1231.96</td>\n",
       "      <td>1227.77</td>\n",
       "      <td>1223.72</td>\n",
       "      <td>1219.59</td>\n",
       "      <td>1215.94</td>\n",
       "      <td>1212.56</td>\n",
       "      <td>1209.23</td>\n",
       "      <td>1206.34</td>\n",
       "      <td>1203.66</td>\n",
       "      <td>1200.98</td>\n",
       "    </tr>\n",
       "    <tr>\n",
       "      <th>1</th>\n",
       "      <td>0</td>\n",
       "      <td>1.5</td>\n",
       "      <td>0.5</td>\n",
       "      <td>0</td>\n",
       "      <td>300</td>\n",
       "      <td>3560.53</td>\n",
       "      <td>2157.51</td>\n",
       "      <td>1479.99</td>\n",
       "      <td>1238.94</td>\n",
       "      <td>1116.14</td>\n",
       "      <td>...</td>\n",
       "      <td>1244.77</td>\n",
       "      <td>1240.44</td>\n",
       "      <td>1236.32</td>\n",
       "      <td>1232.23</td>\n",
       "      <td>1228.72</td>\n",
       "      <td>1225.52</td>\n",
       "      <td>1222.41</td>\n",
       "      <td>1219.74</td>\n",
       "      <td>1217.26</td>\n",
       "      <td>1214.79</td>\n",
       "    </tr>\n",
       "    <tr>\n",
       "      <th>2</th>\n",
       "      <td>0.5</td>\n",
       "      <td>1.5</td>\n",
       "      <td>0.5</td>\n",
       "      <td>0</td>\n",
       "      <td>300</td>\n",
       "      <td>3921.14</td>\n",
       "      <td>2510.44</td>\n",
       "      <td>1613.34</td>\n",
       "      <td>1314.85</td>\n",
       "      <td>1172.12</td>\n",
       "      <td>...</td>\n",
       "      <td>1254.4</td>\n",
       "      <td>1249.99</td>\n",
       "      <td>1245.8</td>\n",
       "      <td>1241.64</td>\n",
       "      <td>1238.07</td>\n",
       "      <td>1234.81</td>\n",
       "      <td>1231.64</td>\n",
       "      <td>1228.91</td>\n",
       "      <td>1226.38</td>\n",
       "      <td>1223.85</td>\n",
       "    </tr>\n",
       "    <tr>\n",
       "      <th>3</th>\n",
       "      <td>0.5</td>\n",
       "      <td>0</td>\n",
       "      <td>0.5</td>\n",
       "      <td>0</td>\n",
       "      <td>300</td>\n",
       "      <td>4105.97</td>\n",
       "      <td>2748.59</td>\n",
       "      <td>1673.09</td>\n",
       "      <td>1324.83</td>\n",
       "      <td>1179.21</td>\n",
       "      <td>...</td>\n",
       "      <td>1199.38</td>\n",
       "      <td>1195.53</td>\n",
       "      <td>1191.75</td>\n",
       "      <td>1187.8</td>\n",
       "      <td>1184.25</td>\n",
       "      <td>1180.89</td>\n",
       "      <td>1177.54</td>\n",
       "      <td>1174.63</td>\n",
       "      <td>1171.91</td>\n",
       "      <td>1169.19</td>\n",
       "    </tr>\n",
       "    <tr>\n",
       "      <th>4</th>\n",
       "      <td>0.5</td>\n",
       "      <td>0.5</td>\n",
       "      <td>0.5</td>\n",
       "      <td>0</td>\n",
       "      <td>300</td>\n",
       "      <td>4229.27</td>\n",
       "      <td>2694.35</td>\n",
       "      <td>1741.31</td>\n",
       "      <td>1326.04</td>\n",
       "      <td>1179.2</td>\n",
       "      <td>...</td>\n",
       "      <td>1208.52</td>\n",
       "      <td>1204.58</td>\n",
       "      <td>1200.72</td>\n",
       "      <td>1196.71</td>\n",
       "      <td>1193.13</td>\n",
       "      <td>1189.75</td>\n",
       "      <td>1186.4</td>\n",
       "      <td>1183.49</td>\n",
       "      <td>1180.78</td>\n",
       "      <td>1178.06</td>\n",
       "    </tr>\n",
       "  </tbody>\n",
       "</table>\n",
       "<p>5 rows × 934 columns</p>\n",
       "</div>"
      ],
      "text/plain": [
       "   0    1    2   3    4        5        6        7        8        9    \\\n",
       "0  0.5    1  0.5   0  300  4215.24  2646.37  1694.46  1317.48  1174.82   \n",
       "1    0  1.5  0.5   0  300  3560.53  2157.51  1479.99  1238.94  1116.14   \n",
       "2  0.5  1.5  0.5   0  300  3921.14  2510.44  1613.34  1314.85  1172.12   \n",
       "3  0.5    0  0.5   0  300  4105.97  2748.59  1673.09  1324.83  1179.21   \n",
       "4  0.5  0.5  0.5   0  300  4229.27  2694.35  1741.31  1326.04   1179.2   \n",
       "\n",
       "    ...         924      925      926      927      928      929      930  \\\n",
       "0   ...     1231.96  1227.77  1223.72  1219.59  1215.94  1212.56  1209.23   \n",
       "1   ...     1244.77  1240.44  1236.32  1232.23  1228.72  1225.52  1222.41   \n",
       "2   ...      1254.4  1249.99   1245.8  1241.64  1238.07  1234.81  1231.64   \n",
       "3   ...     1199.38  1195.53  1191.75   1187.8  1184.25  1180.89  1177.54   \n",
       "4   ...     1208.52  1204.58  1200.72  1196.71  1193.13  1189.75   1186.4   \n",
       "\n",
       "       931      932      933  \n",
       "0  1206.34  1203.66  1200.98  \n",
       "1  1219.74  1217.26  1214.79  \n",
       "2  1228.91  1226.38  1223.85  \n",
       "3  1174.63  1171.91  1169.19  \n",
       "4  1183.49  1180.78  1178.06  \n",
       "\n",
       "[5 rows x 934 columns]"
      ]
     },
     "execution_count": 5,
     "metadata": {},
     "output_type": "execute_result"
    }
   ],
   "source": [
    "df_t.head()"
   ]
  },
  {
   "cell_type": "code",
   "execution_count": 9,
   "metadata": {},
   "outputs": [],
   "source": [
    "toolpath, state, endTime = parse_toolpath('10-10-5-800/','toolpath.crs',0.1)"
   ]
  },
  {
   "cell_type": "code",
   "execution_count": 19,
   "metadata": {},
   "outputs": [
    {
     "name": "stdout",
     "output_type": "stream",
     "text": [
      "The time for dictionary creation is 3.400483 seconds\n"
     ]
    }
   ],
   "source": [
    "indices_smallerSim,value_smallerSim = createObjectDictionaries(df_t)"
   ]
  },
  {
   "cell_type": "code",
   "execution_count": 22,
   "metadata": {},
   "outputs": [],
   "source": [
    "df_t.to_csv('data_smallerSim.csv')"
   ]
  },
  {
   "cell_type": "code",
   "execution_count": 21,
   "metadata": {},
   "outputs": [
    {
     "name": "stdout",
     "output_type": "stream",
     "text": [
      "indices_smallerSim saved successfully in .\n"
     ]
    }
   ],
   "source": [
    "saveDict(indices_smallerSim,'indices_smallerSim')"
   ]
  },
  {
   "cell_type": "code",
   "execution_count": 23,
   "metadata": {},
   "outputs": [],
   "source": [
    "timestep_Start = 1\n",
    "timestep_Stop = 2"
   ]
  },
  {
   "cell_type": "code",
   "execution_count": 24,
   "metadata": {},
   "outputs": [
    {
     "ename": "NameError",
     "evalue": "name 'dataframe' is not defined",
     "output_type": "error",
     "traceback": [
      "\u001b[0;31m---------------------------------------------------------------------------\u001b[0m",
      "\u001b[0;31mNameError\u001b[0m                                 Traceback (most recent call last)",
      "\u001b[0;32m<ipython-input-24-bb9d7bd8c108>\u001b[0m in \u001b[0;36m<module>\u001b[0;34m()\u001b[0m\n\u001b[1;32m     10\u001b[0m \u001b[0mcolumns\u001b[0m \u001b[0;34m=\u001b[0m \u001b[0;34m[\u001b[0m\u001b[0;34m'voxelLat'\u001b[0m\u001b[0;34m,\u001b[0m\u001b[0;34m'voxelLong'\u001b[0m\u001b[0;34m,\u001b[0m\u001b[0;34m'voxelVert'\u001b[0m\u001b[0;34m,\u001b[0m\u001b[0;34m'timestep'\u001b[0m\u001b[0;34m,\u001b[0m\u001b[0;34m'x_voxel'\u001b[0m\u001b[0;34m,\u001b[0m\u001b[0;34m'y_voxel'\u001b[0m\u001b[0;34m,\u001b[0m\u001b[0;34m'z_voxel'\u001b[0m\u001b[0;34m,\u001b[0m\u001b[0;34m'layerNum'\u001b[0m\u001b[0;34m,\u001b[0m\u001b[0;34m'time_creation'\u001b[0m\u001b[0;34m,\u001b[0m\u001b[0;34m'x_laser'\u001b[0m\u001b[0;34m,\u001b[0m\u001b[0;34m'y_laser'\u001b[0m\u001b[0;34m,\u001b[0m\u001b[0;34m'z_laser'\u001b[0m\u001b[0;34m,\u001b[0m\u001b[0;34m'x_distance'\u001b[0m\u001b[0;34m,\u001b[0m\u001b[0;34m'y_distance'\u001b[0m\u001b[0;34m,\u001b[0m\u001b[0;34m'z_distance'\u001b[0m\u001b[0;34m,\u001b[0m\u001b[0;34m'euclidean_distance_laser'\u001b[0m\u001b[0;34m]\u001b[0m \u001b[0;34m+\u001b[0m \u001b[0mhistoricalColumns\u001b[0m\u001b[0;34m+\u001b[0m \u001b[0mneighborColumns\u001b[0m\u001b[0;34m+\u001b[0m\u001b[0;34m[\u001b[0m\u001b[0;34m'T_self'\u001b[0m\u001b[0;34m]\u001b[0m\u001b[0;34m\u001b[0m\u001b[0m\n\u001b[1;32m     11\u001b[0m \u001b[0;34m\u001b[0m\u001b[0m\n\u001b[0;32m---> 12\u001b[0;31m \u001b[0mnum_timesteps\u001b[0m \u001b[0;34m=\u001b[0m \u001b[0mlen\u001b[0m\u001b[0;34m(\u001b[0m\u001b[0mdataframe\u001b[0m\u001b[0;34m.\u001b[0m\u001b[0mloc\u001b[0m\u001b[0;34m[\u001b[0m\u001b[0;36m0\u001b[0m\u001b[0;34m]\u001b[0m\u001b[0;34m-\u001b[0m\u001b[0;36m4\u001b[0m\u001b[0;34m)\u001b[0m\u001b[0;34m\u001b[0m\u001b[0m\n\u001b[0m\u001b[1;32m     13\u001b[0m \u001b[0mnum_voxels\u001b[0m \u001b[0;34m=\u001b[0m \u001b[0mlen\u001b[0m\u001b[0;34m(\u001b[0m\u001b[0mdataframe\u001b[0m\u001b[0;34m)\u001b[0m\u001b[0;34m\u001b[0m\u001b[0m\n\u001b[1;32m     14\u001b[0m \u001b[0;34m\u001b[0m\u001b[0m\n",
      "\u001b[0;31mNameError\u001b[0m: name 'dataframe' is not defined"
     ]
    }
   ],
   "source": [
    "start = time.time()\n",
    "neighborColumns,historicalColumns,dictList = [],[],[]\n",
    "\n",
    "for historical in range(5):\n",
    "    historicalColumns += ['Tminus'+str(historical+1)]\n",
    "\n",
    "for neighbor in range(26):\n",
    "    neighborColumns += ['T'+str(neighbor+1)+'_t-1']\n",
    "\n",
    "columns = ['voxelLat','voxelLong','voxelVert','timestep','x_voxel','y_voxel','z_voxel','layerNum','time_creation','x_laser','y_laser','z_laser','x_distance','y_distance','z_distance','euclidean_distance_laser'] + historicalColumns+ neighborColumns+['T_self']\n",
    "\n",
    "num_timesteps = len(dataframe.loc[0]-4)\n",
    "num_voxels = len(dataframe)\n",
    "\n",
    "for timestep in range(timestep_Start,timestep_Stop):#range(1,num_timesteps+1):\n",
    "    for voxel in indices.keys():\n",
    "        x,y,z = voxel\n",
    "\n",
    "        voxelPosObject = Coordinate(x,y,z)\n",
    "        T_self = getTemperature(voxelPosObject,timestep)\n",
    "        if T_self == DEFAULT_TEMP:\n",
    "            continue\n",
    "\n",
    "        x_laser,y_laser,z_laser = tuple(toolpath[timestep-1])\n",
    "        x_distance, y_distance, z_distance = abs(x-x_laser), abs(y-y_laser),abs(z-z_laser)\n",
    "        layerNum = z/0.5\n",
    "\n",
    "        laserPosObject = Coordinate(x_laser,y_laser,z_laser)\n",
    "\n",
    "        distance_laser = voxelPosObject.distance(laserPosObject)\n",
    "\n",
    "        dfIndex = indices[voxel]\n",
    "        row = dataframe.loc[dfIndex].tolist()\n",
    "        time_creation = float(row[3])\n",
    "        time_current = float(timestep*0.1)\n",
    "        time_elapsed = time_current - time_creation\n",
    "\n",
    "        dictionary = {'voxelLat':'interior','voxelLong':'interior','voxelVert':'interior','timestep':timestep, 'x_voxel':x, 'y_voxel':y, 'z_voxel':z, 'layerNum':layerNum,\n",
    "                     'time_creation':time_creation, 'x_laser':x_laser,'y_laser':y_laser,'z_laser':z_laser,\n",
    "                     'x_distance':x_distance,'y_distance':y_distance,'z_distance':z_distance,\n",
    "                      'distance_laser':distance_laser}\n",
    "\n",
    "\n",
    "        for i in range(5):\n",
    "            dictionary[historicalColumns[i]] = getTemperature(voxelPosObject,timestep-i-1)\n",
    "\n",
    "\n",
    "        neighborTemps = findNeighborTemperatures(voxelPosObject,timestep)\n",
    "        for i in range(len(neighborTemps)):\n",
    "            key = 'T'+str(i+1)+'_t-1'\n",
    "            if neighborTemps[i] == DEFAULT_TEMP:\n",
    "                dictionary[key] = NON_EXISTING_TEMP\n",
    "                if i==0 or i==1:\n",
    "                    dictionary['voxelLat'] = 'missing'\n",
    "                if i==3:\n",
    "                    dictionary['voxelLong'] = 'missing'\n",
    "                if i==5:\n",
    "                    dictionary['voxelVert'] = 'missing'\n",
    "\n",
    "            else:\n",
    "                dictionary[key] = neighborTemps[i]\n",
    "\n",
    "\n",
    "        dictionary['T_self'] = T_self\n",
    "\n",
    "        dictList += [dictionary]\n",
    "\n",
    "database =  pd.DataFrame(dictList,columns=columns)\n",
    "stop = time.time()\n",
    "print 'Database creation took',stop-start,'seconds'\n"
   ]
  },
  {
   "cell_type": "code",
   "execution_count": null,
   "metadata": {},
   "outputs": [],
   "source": []
  },
  {
   "cell_type": "code",
   "execution_count": 1,
   "metadata": {},
   "outputs": [],
   "source": [
    "import pandas as pd"
   ]
  },
  {
   "cell_type": "code",
   "execution_count": 2,
   "metadata": {},
   "outputs": [
    {
     "name": "stderr",
     "output_type": "stream",
     "text": [
      "/Users/Arindam/anaconda2/lib/python2.7/site-packages/IPython/core/interactiveshell.py:2718: DtypeWarning: Columns (1,2,3,4,5,6,7,8,9,10,11,12,13,14,15,16,17,18,19,20,21,22,23,24,25,26,27,28,29,30,31,32,33,34,35,36,37,38,39,40,41,42,43,44,45,46,47,48,49,50,51,52,53,54,55,56,57,58,59,60,61,62,63,64,65,66,67,68,69,70,71,72,73,74,75,76,77,78,79,80,81,82,83,84,85,86,87,88,89,90,91,92,93,94,95,96,97,98,99,100,101,102,103,104,105,106,107,108,109,110,111,112,113,114,115,116,117,118,119,120,121,122,123,124,125,126,127,128,129,130,131,132,133,134,135,136,137,138,139,140,141,142,143,144,145,146,147,148,149,150,151,152,153,154,155,156,157,158,159,160,161,162,163,164,165,166,167,168,169,170,171,172,173,174,175,176,177,178,179,180,181,182,183,184,185,186,187,188,189,190,191,192,193,194,195,196,197,198,199,200,201,202,203,204,205,206,207,208,209,210,211,212,213,214,215,216,217,218,219,220,221,222,223,224,225,226,227,228,229,230,231,232,233,234,235,236,237,238,239,240,241,242,243,244,245,246,247,248,249,250,251,252,253,254,255,256,257,258,259,260,261,262,263,264,265,266,267,268,269,270,271,272,273,274,275,276,277,278,279,280,281,282,283,284,285,286,287,288,289,290,291,292,293,294,295,296,297,298,299,300,301,302,303,304,305,306,307,308,309,310,311,312,313,314,315,316,317,318,319,320,321,322,323,324,325,326,327,328,329,330,331,332,333,334,335,336,337,338,339,340,341,342,343,344,345,346,347,348,349,350,351,352,353,354,355,356,357,358,359,360,361,362,363,364,365,366,367,368,369,370,371,372,373,374,375,376,377,378,379,380,381,382,383,384,385,386,387,388,389,390,391,392,393,394,395,396,397,398,399,400,401,402,403,404,405,406,407,408,409,410,411,412,413,414,415,416,417,418,419,420,421,422,423,424,425,426,427,428,429,430,431,432,433,434,435,436,437,438,439,440,441,442,443,444,445,446,447,448,449,450,451,452,453,454,455,456,457,458,459,460,461,462,463,464,465,466,467,468,469,470,471,472,473,474,475,476,477,478,479,480,481,482,483,484,485,486,487,488,489,490,491,492,493,494,495,496,497,498,499,500,501,502,503,504,505,506,507,508,509,510,511,512,513,514,515,516,517,518,519,520,521,522,523,524,525,526,527,528,529,530,531,532,533,534,535,536,537,538,539,540,541,542,543,544,545,546,547,548,549,550,551,552,553,554,555,556,557,558,559,560,561,562,563,564,565,566,567,568,569,570,571,572,573,574,575,576,577,578,579,580,581,582,583,584,585,586,587,588,589,590,591,592,593,594,595,596,597,598,599,600,601,602,603,604,605,606,607,608,609,610,611,612,613,614,615,616,617,618,619,620,621,622,623,624,625,626,627,628,629,630,631,632,633,634,635,636,637,638,639,640,641,642,643,644,645,646,647,648,649,650,651,652,653,654,655,656,657,658,659,660,661,662,663,664,665,666,667,668,669,670,671,672,673,674,675,676,677,678,679,680,681,682,683,684,685,686,687,688,689,690,691,692,693,694,695,696,697,698,699,700,701,702,703,704,705,706,707,708,709,710,711,712,713,714,715,716,717,718,719,720,721,722,723,724,725,726,727,728,729,730,731,732,733,734,735,736,737,738,739,740,741,742,743,744,745,746,747,748,749,750,751,752,753,754,755,756,757,758,759,760,761,762,763,764,765,766,767,768,769,770,771,772,773,774,775,776,777,778,779,780,781,782,783,784,785,786,787,788,789,790,791,792,793,794,795,796,797,798,799,800,801,802,803,804,805,806,807,808,809,810,811,812,813,814,815,816,817,818,819,820,821,822,823,824,825,826,827,828,829,830,831,832,833,834,835,836,837,838,839,840,841,842,843,844,845,846,847,848,849,850,851,852,853,854,855,856,857,858,859,860,861,862,863,864,865,866,867,868,869,870,871,872,873,874,875,876,877,878,879,880,881,882,883,884,885,886,887,888,889,890,891,892,893,894,895,896,897,898,899,900,901,902,903,904,905,906,907,908,909,910,911,912,913,914,915,916,917,918,919,920,921,922,923,924,925,926,927,928,929,930,931,932,933,934) have mixed types. Specify dtype option on import or set low_memory=False.\n",
      "  interactivity=interactivity, compiler=compiler, result=result)\n"
     ]
    }
   ],
   "source": [
    "df = pd.read_csv('data_smallerSim.csv',header=None)"
   ]
  },
  {
   "cell_type": "code",
   "execution_count": 3,
   "metadata": {},
   "outputs": [
    {
     "ename": "IOError",
     "evalue": "File data_smallerSim_1_2.csv does not exist",
     "output_type": "error",
     "traceback": [
      "\u001b[0;31m---------------------------------------------------------------------------\u001b[0m",
      "\u001b[0;31mIOError\u001b[0m                                   Traceback (most recent call last)",
      "\u001b[0;32m<ipython-input-3-d2220e3af9df>\u001b[0m in \u001b[0;36m<module>\u001b[0;34m()\u001b[0m\n\u001b[0;32m----> 1\u001b[0;31m \u001b[0mdf\u001b[0m \u001b[0;34m=\u001b[0m \u001b[0mpd\u001b[0m\u001b[0;34m.\u001b[0m\u001b[0mread_csv\u001b[0m\u001b[0;34m(\u001b[0m\u001b[0;34m'data_smallerSim_1_2.csv'\u001b[0m\u001b[0;34m)\u001b[0m\u001b[0;34m\u001b[0m\u001b[0m\n\u001b[0m",
      "\u001b[0;32m/Users/Arindam/anaconda2/lib/python2.7/site-packages/pandas/io/parsers.pyc\u001b[0m in \u001b[0;36mparser_f\u001b[0;34m(filepath_or_buffer, sep, delimiter, header, names, index_col, usecols, squeeze, prefix, mangle_dupe_cols, dtype, engine, converters, true_values, false_values, skipinitialspace, skiprows, nrows, na_values, keep_default_na, na_filter, verbose, skip_blank_lines, parse_dates, infer_datetime_format, keep_date_col, date_parser, dayfirst, iterator, chunksize, compression, thousands, decimal, lineterminator, quotechar, quoting, escapechar, comment, encoding, dialect, tupleize_cols, error_bad_lines, warn_bad_lines, skipfooter, skip_footer, doublequote, delim_whitespace, as_recarray, compact_ints, use_unsigned, low_memory, buffer_lines, memory_map, float_precision)\u001b[0m\n\u001b[1;32m    707\u001b[0m                     skip_blank_lines=skip_blank_lines)\n\u001b[1;32m    708\u001b[0m \u001b[0;34m\u001b[0m\u001b[0m\n\u001b[0;32m--> 709\u001b[0;31m         \u001b[0;32mreturn\u001b[0m \u001b[0m_read\u001b[0m\u001b[0;34m(\u001b[0m\u001b[0mfilepath_or_buffer\u001b[0m\u001b[0;34m,\u001b[0m \u001b[0mkwds\u001b[0m\u001b[0;34m)\u001b[0m\u001b[0;34m\u001b[0m\u001b[0m\n\u001b[0m\u001b[1;32m    710\u001b[0m \u001b[0;34m\u001b[0m\u001b[0m\n\u001b[1;32m    711\u001b[0m     \u001b[0mparser_f\u001b[0m\u001b[0;34m.\u001b[0m\u001b[0m__name__\u001b[0m \u001b[0;34m=\u001b[0m \u001b[0mname\u001b[0m\u001b[0;34m\u001b[0m\u001b[0m\n",
      "\u001b[0;32m/Users/Arindam/anaconda2/lib/python2.7/site-packages/pandas/io/parsers.pyc\u001b[0m in \u001b[0;36m_read\u001b[0;34m(filepath_or_buffer, kwds)\u001b[0m\n\u001b[1;32m    447\u001b[0m \u001b[0;34m\u001b[0m\u001b[0m\n\u001b[1;32m    448\u001b[0m     \u001b[0;31m# Create the parser.\u001b[0m\u001b[0;34m\u001b[0m\u001b[0;34m\u001b[0m\u001b[0m\n\u001b[0;32m--> 449\u001b[0;31m     \u001b[0mparser\u001b[0m \u001b[0;34m=\u001b[0m \u001b[0mTextFileReader\u001b[0m\u001b[0;34m(\u001b[0m\u001b[0mfilepath_or_buffer\u001b[0m\u001b[0;34m,\u001b[0m \u001b[0;34m**\u001b[0m\u001b[0mkwds\u001b[0m\u001b[0;34m)\u001b[0m\u001b[0;34m\u001b[0m\u001b[0m\n\u001b[0m\u001b[1;32m    450\u001b[0m \u001b[0;34m\u001b[0m\u001b[0m\n\u001b[1;32m    451\u001b[0m     \u001b[0;32mif\u001b[0m \u001b[0mchunksize\u001b[0m \u001b[0;32mor\u001b[0m \u001b[0miterator\u001b[0m\u001b[0;34m:\u001b[0m\u001b[0;34m\u001b[0m\u001b[0m\n",
      "\u001b[0;32m/Users/Arindam/anaconda2/lib/python2.7/site-packages/pandas/io/parsers.pyc\u001b[0m in \u001b[0;36m__init__\u001b[0;34m(self, f, engine, **kwds)\u001b[0m\n\u001b[1;32m    816\u001b[0m             \u001b[0mself\u001b[0m\u001b[0;34m.\u001b[0m\u001b[0moptions\u001b[0m\u001b[0;34m[\u001b[0m\u001b[0;34m'has_index_names'\u001b[0m\u001b[0;34m]\u001b[0m \u001b[0;34m=\u001b[0m \u001b[0mkwds\u001b[0m\u001b[0;34m[\u001b[0m\u001b[0;34m'has_index_names'\u001b[0m\u001b[0;34m]\u001b[0m\u001b[0;34m\u001b[0m\u001b[0m\n\u001b[1;32m    817\u001b[0m \u001b[0;34m\u001b[0m\u001b[0m\n\u001b[0;32m--> 818\u001b[0;31m         \u001b[0mself\u001b[0m\u001b[0;34m.\u001b[0m\u001b[0m_make_engine\u001b[0m\u001b[0;34m(\u001b[0m\u001b[0mself\u001b[0m\u001b[0;34m.\u001b[0m\u001b[0mengine\u001b[0m\u001b[0;34m)\u001b[0m\u001b[0;34m\u001b[0m\u001b[0m\n\u001b[0m\u001b[1;32m    819\u001b[0m \u001b[0;34m\u001b[0m\u001b[0m\n\u001b[1;32m    820\u001b[0m     \u001b[0;32mdef\u001b[0m \u001b[0mclose\u001b[0m\u001b[0;34m(\u001b[0m\u001b[0mself\u001b[0m\u001b[0;34m)\u001b[0m\u001b[0;34m:\u001b[0m\u001b[0;34m\u001b[0m\u001b[0m\n",
      "\u001b[0;32m/Users/Arindam/anaconda2/lib/python2.7/site-packages/pandas/io/parsers.pyc\u001b[0m in \u001b[0;36m_make_engine\u001b[0;34m(self, engine)\u001b[0m\n\u001b[1;32m   1047\u001b[0m     \u001b[0;32mdef\u001b[0m \u001b[0m_make_engine\u001b[0m\u001b[0;34m(\u001b[0m\u001b[0mself\u001b[0m\u001b[0;34m,\u001b[0m \u001b[0mengine\u001b[0m\u001b[0;34m=\u001b[0m\u001b[0;34m'c'\u001b[0m\u001b[0;34m)\u001b[0m\u001b[0;34m:\u001b[0m\u001b[0;34m\u001b[0m\u001b[0m\n\u001b[1;32m   1048\u001b[0m         \u001b[0;32mif\u001b[0m \u001b[0mengine\u001b[0m \u001b[0;34m==\u001b[0m \u001b[0;34m'c'\u001b[0m\u001b[0;34m:\u001b[0m\u001b[0;34m\u001b[0m\u001b[0m\n\u001b[0;32m-> 1049\u001b[0;31m             \u001b[0mself\u001b[0m\u001b[0;34m.\u001b[0m\u001b[0m_engine\u001b[0m \u001b[0;34m=\u001b[0m \u001b[0mCParserWrapper\u001b[0m\u001b[0;34m(\u001b[0m\u001b[0mself\u001b[0m\u001b[0;34m.\u001b[0m\u001b[0mf\u001b[0m\u001b[0;34m,\u001b[0m \u001b[0;34m**\u001b[0m\u001b[0mself\u001b[0m\u001b[0;34m.\u001b[0m\u001b[0moptions\u001b[0m\u001b[0;34m)\u001b[0m\u001b[0;34m\u001b[0m\u001b[0m\n\u001b[0m\u001b[1;32m   1050\u001b[0m         \u001b[0;32melse\u001b[0m\u001b[0;34m:\u001b[0m\u001b[0;34m\u001b[0m\u001b[0m\n\u001b[1;32m   1051\u001b[0m             \u001b[0;32mif\u001b[0m \u001b[0mengine\u001b[0m \u001b[0;34m==\u001b[0m \u001b[0;34m'python'\u001b[0m\u001b[0;34m:\u001b[0m\u001b[0;34m\u001b[0m\u001b[0m\n",
      "\u001b[0;32m/Users/Arindam/anaconda2/lib/python2.7/site-packages/pandas/io/parsers.pyc\u001b[0m in \u001b[0;36m__init__\u001b[0;34m(self, src, **kwds)\u001b[0m\n\u001b[1;32m   1693\u001b[0m         \u001b[0mkwds\u001b[0m\u001b[0;34m[\u001b[0m\u001b[0;34m'allow_leading_cols'\u001b[0m\u001b[0;34m]\u001b[0m \u001b[0;34m=\u001b[0m \u001b[0mself\u001b[0m\u001b[0;34m.\u001b[0m\u001b[0mindex_col\u001b[0m \u001b[0;32mis\u001b[0m \u001b[0;32mnot\u001b[0m \u001b[0mFalse\u001b[0m\u001b[0;34m\u001b[0m\u001b[0m\n\u001b[1;32m   1694\u001b[0m \u001b[0;34m\u001b[0m\u001b[0m\n\u001b[0;32m-> 1695\u001b[0;31m         \u001b[0mself\u001b[0m\u001b[0;34m.\u001b[0m\u001b[0m_reader\u001b[0m \u001b[0;34m=\u001b[0m \u001b[0mparsers\u001b[0m\u001b[0;34m.\u001b[0m\u001b[0mTextReader\u001b[0m\u001b[0;34m(\u001b[0m\u001b[0msrc\u001b[0m\u001b[0;34m,\u001b[0m \u001b[0;34m**\u001b[0m\u001b[0mkwds\u001b[0m\u001b[0;34m)\u001b[0m\u001b[0;34m\u001b[0m\u001b[0m\n\u001b[0m\u001b[1;32m   1696\u001b[0m \u001b[0;34m\u001b[0m\u001b[0m\n\u001b[1;32m   1697\u001b[0m         \u001b[0;31m# XXX\u001b[0m\u001b[0;34m\u001b[0m\u001b[0;34m\u001b[0m\u001b[0m\n",
      "\u001b[0;32mpandas/_libs/parsers.pyx\u001b[0m in \u001b[0;36mpandas._libs.parsers.TextReader.__cinit__\u001b[0;34m()\u001b[0m\n",
      "\u001b[0;32mpandas/_libs/parsers.pyx\u001b[0m in \u001b[0;36mpandas._libs.parsers.TextReader._setup_parser_source\u001b[0;34m()\u001b[0m\n",
      "\u001b[0;31mIOError\u001b[0m: File data_smallerSim_1_2.csv does not exist"
     ]
    }
   ],
   "source": [
    "df = pd.read_csv('data_smallerSim_1_2.csv')"
   ]
  },
  {
   "cell_type": "code",
   "execution_count": 11,
   "metadata": {},
   "outputs": [],
   "source": [
    "neighborColumns,historicalColumns,dictList = [],[],[]\n",
    "\n",
    "for historical in range(5):\n",
    "    historicalColumns += ['Tminus'+str(historical+1)]\n",
    "\n",
    "for neighbor in range(26):\n",
    "    neighborColumns += ['T'+str(neighbor+1)+'_t-1']\n",
    "\n",
    "columns = ['voxelLat','voxelLong','voxelVert','timestep','x_voxel','y_voxel','z_voxel','layerNum','time_creation','x_laser','y_laser','z_laser','x_distance','y_distance','z_distance','euclidean_distance_laser'] + historicalColumns+ neighborColumns+['T_self']\n"
   ]
  },
  {
   "cell_type": "code",
   "execution_count": 14,
   "metadata": {},
   "outputs": [],
   "source": [
    "df = pd.DataFrame(loadNumpy('data_smallerSim_1_2'),columns=columns)"
   ]
  },
  {
   "cell_type": "code",
   "execution_count": 15,
   "metadata": {},
   "outputs": [
    {
     "data": {
      "text/plain": [
       "Index([u'voxelLat', u'voxelLong', u'voxelVert', u'timestep', u'x_voxel',\n",
       "       u'y_voxel', u'z_voxel', u'layerNum', u'time_creation', u'x_laser',\n",
       "       u'y_laser', u'z_laser', u'x_distance', u'y_distance', u'z_distance',\n",
       "       u'euclidean_distance_laser', u'Tminus1', u'Tminus2', u'Tminus3',\n",
       "       u'Tminus4', u'Tminus5', u'T1_t-1', u'T2_t-1', u'T3_t-1', u'T4_t-1',\n",
       "       u'T5_t-1', u'T6_t-1', u'T7_t-1', u'T8_t-1', u'T9_t-1', u'T10_t-1',\n",
       "       u'T11_t-1', u'T12_t-1', u'T13_t-1', u'T14_t-1', u'T15_t-1', u'T16_t-1',\n",
       "       u'T17_t-1', u'T18_t-1', u'T19_t-1', u'T20_t-1', u'T21_t-1', u'T22_t-1',\n",
       "       u'T23_t-1', u'T24_t-1', u'T25_t-1', u'T26_t-1', u'T_self'],\n",
       "      dtype='object')"
      ]
     },
     "execution_count": 15,
     "metadata": {},
     "output_type": "execute_result"
    }
   ],
   "source": [
    "df.columns"
   ]
  },
  {
   "cell_type": "code",
   "execution_count": 16,
   "metadata": {},
   "outputs": [
    {
     "data": {
      "text/html": [
       "<div>\n",
       "<style scoped>\n",
       "    .dataframe tbody tr th:only-of-type {\n",
       "        vertical-align: middle;\n",
       "    }\n",
       "\n",
       "    .dataframe tbody tr th {\n",
       "        vertical-align: top;\n",
       "    }\n",
       "\n",
       "    .dataframe thead th {\n",
       "        text-align: right;\n",
       "    }\n",
       "</style>\n",
       "<table border=\"1\" class=\"dataframe\">\n",
       "  <thead>\n",
       "    <tr style=\"text-align: right;\">\n",
       "      <th></th>\n",
       "      <th>voxelLat</th>\n",
       "      <th>voxelLong</th>\n",
       "      <th>voxelVert</th>\n",
       "      <th>timestep</th>\n",
       "      <th>x_voxel</th>\n",
       "      <th>y_voxel</th>\n",
       "      <th>z_voxel</th>\n",
       "      <th>layerNum</th>\n",
       "      <th>time_creation</th>\n",
       "      <th>x_laser</th>\n",
       "      <th>...</th>\n",
       "      <th>T18_t-1</th>\n",
       "      <th>T19_t-1</th>\n",
       "      <th>T20_t-1</th>\n",
       "      <th>T21_t-1</th>\n",
       "      <th>T22_t-1</th>\n",
       "      <th>T23_t-1</th>\n",
       "      <th>T24_t-1</th>\n",
       "      <th>T25_t-1</th>\n",
       "      <th>T26_t-1</th>\n",
       "      <th>T_self</th>\n",
       "    </tr>\n",
       "  </thead>\n",
       "  <tbody>\n",
       "    <tr>\n",
       "      <th>0</th>\n",
       "      <td>interior</td>\n",
       "      <td>interior</td>\n",
       "      <td>interior</td>\n",
       "      <td>1</td>\n",
       "      <td>15.5</td>\n",
       "      <td>10.5</td>\n",
       "      <td>2.5</td>\n",
       "      <td>5</td>\n",
       "      <td>2.5</td>\n",
       "      <td>0</td>\n",
       "      <td>...</td>\n",
       "      <td>-99</td>\n",
       "      <td>-99</td>\n",
       "      <td>-99</td>\n",
       "      <td>-99</td>\n",
       "      <td>-99</td>\n",
       "      <td>-99</td>\n",
       "      <td>-99</td>\n",
       "      <td>-99</td>\n",
       "      <td>-99</td>\n",
       "      <td>-99</td>\n",
       "    </tr>\n",
       "    <tr>\n",
       "      <th>1</th>\n",
       "      <td>interior</td>\n",
       "      <td>interior</td>\n",
       "      <td>interior</td>\n",
       "      <td>1</td>\n",
       "      <td>16</td>\n",
       "      <td>16</td>\n",
       "      <td>2</td>\n",
       "      <td>4</td>\n",
       "      <td>2</td>\n",
       "      <td>0</td>\n",
       "      <td>...</td>\n",
       "      <td>-99</td>\n",
       "      <td>-99</td>\n",
       "      <td>-99</td>\n",
       "      <td>-99</td>\n",
       "      <td>-99</td>\n",
       "      <td>-99</td>\n",
       "      <td>-99</td>\n",
       "      <td>-99</td>\n",
       "      <td>-99</td>\n",
       "      <td>-99</td>\n",
       "    </tr>\n",
       "    <tr>\n",
       "      <th>2</th>\n",
       "      <td>interior</td>\n",
       "      <td>interior</td>\n",
       "      <td>interior</td>\n",
       "      <td>1</td>\n",
       "      <td>16.5</td>\n",
       "      <td>15</td>\n",
       "      <td>2</td>\n",
       "      <td>4</td>\n",
       "      <td>2</td>\n",
       "      <td>0</td>\n",
       "      <td>...</td>\n",
       "      <td>-99</td>\n",
       "      <td>-99</td>\n",
       "      <td>-99</td>\n",
       "      <td>-99</td>\n",
       "      <td>-99</td>\n",
       "      <td>-99</td>\n",
       "      <td>-99</td>\n",
       "      <td>-99</td>\n",
       "      <td>-99</td>\n",
       "      <td>-99</td>\n",
       "    </tr>\n",
       "    <tr>\n",
       "      <th>3</th>\n",
       "      <td>interior</td>\n",
       "      <td>interior</td>\n",
       "      <td>interior</td>\n",
       "      <td>1</td>\n",
       "      <td>11.5</td>\n",
       "      <td>17.5</td>\n",
       "      <td>2.5</td>\n",
       "      <td>5</td>\n",
       "      <td>2.5</td>\n",
       "      <td>0</td>\n",
       "      <td>...</td>\n",
       "      <td>-99</td>\n",
       "      <td>-99</td>\n",
       "      <td>-99</td>\n",
       "      <td>-99</td>\n",
       "      <td>-99</td>\n",
       "      <td>-99</td>\n",
       "      <td>-99</td>\n",
       "      <td>-99</td>\n",
       "      <td>-99</td>\n",
       "      <td>-99</td>\n",
       "    </tr>\n",
       "    <tr>\n",
       "      <th>4</th>\n",
       "      <td>interior</td>\n",
       "      <td>interior</td>\n",
       "      <td>interior</td>\n",
       "      <td>1</td>\n",
       "      <td>8.5</td>\n",
       "      <td>12.5</td>\n",
       "      <td>4</td>\n",
       "      <td>8</td>\n",
       "      <td>4</td>\n",
       "      <td>0</td>\n",
       "      <td>...</td>\n",
       "      <td>-99</td>\n",
       "      <td>-99</td>\n",
       "      <td>-99</td>\n",
       "      <td>-99</td>\n",
       "      <td>-99</td>\n",
       "      <td>-99</td>\n",
       "      <td>-99</td>\n",
       "      <td>-99</td>\n",
       "      <td>-99</td>\n",
       "      <td>-99</td>\n",
       "    </tr>\n",
       "  </tbody>\n",
       "</table>\n",
       "<p>5 rows × 48 columns</p>\n",
       "</div>"
      ],
      "text/plain": [
       "   voxelLat voxelLong voxelVert timestep x_voxel y_voxel z_voxel layerNum  \\\n",
       "0  interior  interior  interior        1    15.5    10.5     2.5        5   \n",
       "1  interior  interior  interior        1      16      16       2        4   \n",
       "2  interior  interior  interior        1    16.5      15       2        4   \n",
       "3  interior  interior  interior        1    11.5    17.5     2.5        5   \n",
       "4  interior  interior  interior        1     8.5    12.5       4        8   \n",
       "\n",
       "  time_creation x_laser  ...   T18_t-1 T19_t-1 T20_t-1 T21_t-1 T22_t-1  \\\n",
       "0           2.5       0  ...       -99     -99     -99     -99     -99   \n",
       "1             2       0  ...       -99     -99     -99     -99     -99   \n",
       "2             2       0  ...       -99     -99     -99     -99     -99   \n",
       "3           2.5       0  ...       -99     -99     -99     -99     -99   \n",
       "4             4       0  ...       -99     -99     -99     -99     -99   \n",
       "\n",
       "  T23_t-1 T24_t-1 T25_t-1 T26_t-1 T_self  \n",
       "0     -99     -99     -99     -99    -99  \n",
       "1     -99     -99     -99     -99    -99  \n",
       "2     -99     -99     -99     -99    -99  \n",
       "3     -99     -99     -99     -99    -99  \n",
       "4     -99     -99     -99     -99    -99  \n",
       "\n",
       "[5 rows x 48 columns]"
      ]
     },
     "execution_count": 16,
     "metadata": {},
     "output_type": "execute_result"
    }
   ],
   "source": [
    "df.head()"
   ]
  },
  {
   "cell_type": "code",
   "execution_count": 17,
   "metadata": {},
   "outputs": [
    {
     "data": {
      "text/plain": [
       "11032"
      ]
     },
     "execution_count": 17,
     "metadata": {},
     "output_type": "execute_result"
    }
   ],
   "source": [
    "len(df)"
   ]
  },
  {
   "cell_type": "code",
   "execution_count": 20,
   "metadata": {},
   "outputs": [
    {
     "data": {
      "text/plain": [
       "(interior    10842\n",
       " missing       190\n",
       " Name: voxelLat, dtype: int64, interior    11031\n",
       " missing         1\n",
       " Name: voxelLong, dtype: int64, interior    11031\n",
       " missing         1\n",
       " Name: voxelVert, dtype: int64)"
      ]
     },
     "execution_count": 20,
     "metadata": {},
     "output_type": "execute_result"
    }
   ],
   "source": [
    "df['voxelLat'].value_counts(), df['voxelLong'].value_counts(), df['voxelVert'].value_counts()"
   ]
  },
  {
   "cell_type": "code",
   "execution_count": null,
   "metadata": {},
   "outputs": [],
   "source": []
  }
 ],
 "metadata": {
  "kernelspec": {
   "display_name": "Python 2",
   "language": "python",
   "name": "python2"
  },
  "language_info": {
   "codemirror_mode": {
    "name": "ipython",
    "version": 2
   },
   "file_extension": ".py",
   "mimetype": "text/x-python",
   "name": "python",
   "nbconvert_exporter": "python",
   "pygments_lexer": "ipython2",
   "version": "2.7.14"
  }
 },
 "nbformat": 4,
 "nbformat_minor": 2
}
