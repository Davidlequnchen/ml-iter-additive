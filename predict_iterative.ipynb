{
 "cells": [
  {
   "cell_type": "code",
   "execution_count": 1,
   "metadata": {},
   "outputs": [],
   "source": [
    "%matplotlib inline\n",
    "import pandas as pd\n",
    "import numpy as np\n",
    "import math,os\n",
    "from numpy.random import choice\n",
    "import scikitplot as skplt\n",
    "from time import time"
   ]
  },
  {
   "cell_type": "code",
   "execution_count": 2,
   "metadata": {},
   "outputs": [],
   "source": [
    "import warnings\n",
    "warnings.filterwarnings('ignore')"
   ]
  },
  {
   "cell_type": "code",
   "execution_count": 3,
   "metadata": {},
   "outputs": [],
   "source": [
    "pd.options.display.max_rows = 999\n",
    "pd.set_option('display.max_columns', None)"
   ]
  },
  {
   "cell_type": "code",
   "execution_count": 4,
   "metadata": {},
   "outputs": [],
   "source": [
    "from sklearn.linear_model import LinearRegression,Ridge,SGDRegressor,ElasticNet\n",
    "from sklearn.model_selection import train_test_split\n",
    "from sklearn.utils import shuffle\n",
    "from sklearn.utils.validation import check_array \n",
    "from sklearn.metrics import r2_score, mean_squared_error, mean_absolute_error\n",
    "from sklearn.svm import LinearSVR\n",
    "from sklearn.tree import DecisionTreeRegressor\n",
    "from sklearn.ensemble import RandomForestRegressor,ExtraTreesRegressor,GradientBoostingRegressor,AdaBoostRegressor,BaggingRegressor"
   ]
  },
  {
   "cell_type": "code",
   "execution_count": 5,
   "metadata": {},
   "outputs": [],
   "source": [
    "historicalColumns,neighborColumns = [],[]\n",
    "\n",
    "for historical in range(5):\n",
    "    historicalColumns += ['Tminus'+str(historical+1)]\n",
    "\n",
    "for neighbor in range(26):\n",
    "    neighborColumns += ['T'+str(neighbor+1)+'_t-1']\n",
    "\n",
    "columns = ['timestep','x_voxel','y_voxel','z_voxel','layerNum','time_creation','x_laser','y_laser','z_laser','x_distance','y_distance','z_distance','euclidean_distance_laser'] + historicalColumns+ neighborColumns+['T_self']\n",
    "\n"
   ]
  },
  {
   "cell_type": "code",
   "execution_count": 6,
   "metadata": {},
   "outputs": [],
   "source": [
    "def roundup(a, digits=4):\n",
    "    n = 10**-digits\n",
    "    return round(math.ceil(a / n) * n, digits)\n",
    "\n",
    "def isEven(num):\n",
    "    if num%2 ==0:\n",
    "        return True\n",
    "    return False\n",
    "\n",
    "def modLog(num):\n",
    "    try:\n",
    "        return log(num)\n",
    "    except:\n",
    "        return 0\n",
    "\n",
    "def loadNumpy(name,path='.'):\n",
    "    if \".npy\" in name:\n",
    "        fullPath = path+'/'+name\n",
    "    else:\n",
    "        fullPath = path+'/'+name+'.npy'\n",
    "    return np.load(fullPath)"
   ]
  },
  {
   "cell_type": "code",
   "execution_count": 19,
   "metadata": {},
   "outputs": [],
   "source": [
    "featureColumns = ['timestep','x_distance','y_distance','z_distance','layerNum','Tminus1','Tminus2']+neighborColumns\n",
    "featureDisplay = featureColumns\n",
    "\n",
    "featureDisplay[7] = 'T_immediate_x-1'\n",
    "featureDisplay[8] = 'T_immediate_x+1'\n",
    "featureDisplay[9] = 'T_immediate_y-1'\n",
    "featureDisplay[10] = 'T_immediate_y+1'\n",
    "featureDisplay[11] = 'T_immediate_z-1'\n",
    "\n",
    "featureDisplay[13] = 'T_immediate_x-1,y-1'\n",
    "featureDisplay[14] = 'T_immediate_x-1,y+1'\n",
    "featureDisplay[15] = 'T_immediate_x+1,y-1'\n",
    "featureDisplay[16] = 'T_immediate_x+1,y+1'\n",
    "\n",
    "featureDisplay[21] = 'T_immediate_x-1,z-1'"
   ]
  },
  {
   "cell_type": "code",
   "execution_count": 7,
   "metadata": {},
   "outputs": [],
   "source": [
    "def plot_feature_importances(et):\n",
    "    skplt.estimators.plot_feature_importances(et,text_fontsize=16,max_num_features=6,figsize=(24,4),feature_names=featureDisplay)"
   ]
  },
  {
   "cell_type": "code",
   "execution_count": 8,
   "metadata": {},
   "outputs": [],
   "source": [
    "def mean_absolute_percentage_error(y_true, y_pred):\n",
    "\t'''\n",
    "\tscikit(sklearn) does not have support for mean absolute percentage error MAPE.\n",
    "\tThis is because the denominator can theoretically be 0 and so the value would be undefined.\n",
    "\tSo this is our implementation\n",
    "\t'''\n",
    "# \ty_true = check_array(y_true)\n",
    "# \ty_pred = check_array(y_pred)\n",
    "\n",
    "\treturn np.mean(np.abs((y_true - y_pred) / y_true)) * 100\n",
    "\n",
    "def r2(y_true,y_pred):\n",
    "    return roundup(r2_score(y_true,y_pred))\n",
    "\n",
    "def mse(y_true,y_pred):\n",
    "    return roundup(mean_squared_error(y_true,y_pred))\n",
    "\n",
    "def mae(y_true,y_pred):\n",
    "    return roundup(mean_absolute_error(y_true,y_pred))\n",
    "\n",
    "def mape(y_true, y_pred):\n",
    "    return roundup(mean_absolute_percentage_error(y_true,y_pred))"
   ]
  },
  {
   "cell_type": "code",
   "execution_count": 9,
   "metadata": {},
   "outputs": [],
   "source": [
    "def combineDataFrames(prefix,columns=columns):\n",
    "    List = []\n",
    "    nums_start,nums_stop = [],[]\n",
    "    for item in os.listdir('data'):\n",
    "        if \"data_big\" in item and \".npy\" in item:\n",
    "            timeStep_start = int(item.split('data_big_')[1].split('_')[0])\n",
    "            nums_start += [timeStep_start]\n",
    "            \n",
    "            timeStep_stop = int(item.split('_')[3].split('.npy')[0])\n",
    "            nums_stop += [timeStep_stop]\n",
    "            \n",
    "    nums_start = sorted(nums_start)\n",
    "    nums_stop = sorted(nums_stop)\n",
    "    \n",
    "    array = loadNumpy('data/'+prefix+'_'+str(nums_start[0])+'_'+str(nums_stop[0])+'.npy')\n",
    "    for i in range(1,len(nums_start)):\n",
    "        newFile = 'data/'+prefix+'_'+str(nums_start[i])+'_'+str(nums_stop[i])+'.npy'\n",
    "        array = np.append(array,loadNumpy(newFile),axis=0)\n",
    "    return pd.DataFrame(array,columns=columns)"
   ]
  },
  {
   "cell_type": "code",
   "execution_count": 10,
   "metadata": {},
   "outputs": [],
   "source": [
    "df_big = combineDataFrames('data_big')"
   ]
  },
  {
   "cell_type": "code",
   "execution_count": 73,
   "metadata": {},
   "outputs": [],
   "source": [
    "df_train = df_big[df_big['timestep'] < 500.0]\n",
    "df_test = df_big[df_big['timestep'] >= 500.0]\n",
    "\n",
    "\n",
    "X_train = df_train.loc[:,featureColumns ]\n",
    "y_train = df_train['T_self']\n",
    "\n",
    "X_test = df_test.loc[:,featureColumns ]\n",
    "y_test = df_test['T_self']\n",
    "\n",
    "X_train,y_train = shuffle(X_train,y_train,random_state=300)\n",
    "X_test,y_test = shuffle(X_test,y_test,random_state=300)"
   ]
  },
  {
   "cell_type": "code",
   "execution_count": 74,
   "metadata": {},
   "outputs": [
    {
     "data": {
      "text/plain": [
       "(0.989, 0.6739)"
      ]
     },
     "execution_count": 74,
     "metadata": {},
     "output_type": "execute_result"
    }
   ],
   "source": [
    "et_500 = ExtraTreesRegressor(n_jobs=-1)\n",
    "et_500.fit(X_train,y_train)\n",
    "predicted = et_500.predict(X_test)\n",
    "r2(y_test,predicted) ,mape(y_test,predicted)"
   ]
  },
  {
   "cell_type": "code",
   "execution_count": 86,
   "metadata": {},
   "outputs": [
    {
     "data": {
      "image/png": "[encoded data removed]",
      "text/plain": [
       "<Figure size 1728x288 with 1 Axes>"
      ]
     },
     "metadata": {},
     "output_type": "display_data"
    }
   ],
   "source": [
    "plot_feature_importances(et_500)"
   ]
  },
  {
   "cell_type": "code",
   "execution_count": 76,
   "metadata": {},
   "outputs": [
    {
     "data": {
      "text/plain": [
       "(0.9817, 1.3283)"
      ]
     },
     "execution_count": 76,
     "metadata": {},
     "output_type": "execute_result"
    }
   ],
   "source": [
    "df_train = df_big[df_big['timestep'] < 300.0]\n",
    "df_test = df_big[df_big['timestep'] >= 300.0]\n",
    "\n",
    "featureColumns = ['timestep','x_distance','y_distance','z_distance','layerNum','Tminus1','Tminus2']+neighborColumns\n",
    "\n",
    "X_train = df_train.loc[:,featureColumns ]\n",
    "y_train = df_train['T_self']\n",
    "\n",
    "X_test = df_test.loc[:,featureColumns ]\n",
    "y_test = df_test['T_self']\n",
    "\n",
    "X_train,y_train = shuffle(X_train,y_train,random_state=300)\n",
    "X_test,y_test = shuffle(X_test,y_test,random_state=300)\n",
    "\n",
    "et_300 = ExtraTreesRegressor(n_jobs=-1)\n",
    "et_300.fit(X_train,y_train)\n",
    "predicted = et_300.predict(X_test)\n",
    "r2(y_test,predicted) ,mape(y_test,predicted)"
   ]
  },
  {
   "cell_type": "code",
   "execution_count": 85,
   "metadata": {},
   "outputs": [
    {
     "data": {
      "image/png": "[encoded data removed]",
      "text/plain": [
       "<Figure size 1728x288 with 1 Axes>"
      ]
     },
     "metadata": {},
     "output_type": "display_data"
    }
   ],
   "source": [
    "plot_feature_importances(et_300)"
   ]
  },
  {
   "cell_type": "code",
   "execution_count": 19,
   "metadata": {},
   "outputs": [
    {
     "data": {
      "text/plain": [
       "(0.9721, 1.8483)"
      ]
     },
     "execution_count": 19,
     "metadata": {},
     "output_type": "execute_result"
    }
   ],
   "source": [
    "df_train = df_big[df_big['timestep'] < 200.0]\n",
    "df_test = df_big[df_big['timestep'] >= 200.0]\n",
    "\n",
    "featureColumns = ['timestep','x_distance','y_distance','z_distance','layerNum','Tminus1','Tminus2']+neighborColumns\n",
    "\n",
    "X_train = df_train.loc[:,featureColumns ]\n",
    "y_train = df_train['T_self']\n",
    "\n",
    "X_test = df_test.loc[:,featureColumns ]\n",
    "y_test = df_test['T_self']\n",
    "\n",
    "X_train,y_train = shuffle(X_train,y_train,random_state=300)\n",
    "X_test,y_test = shuffle(X_test,y_test,random_state=300)\n",
    "\n",
    "et_200 = ExtraTreesRegressor(n_jobs=-1)\n",
    "et_200.fit(X_train,y_train)\n",
    "predicted = et_200.predict(X_test)\n",
    "r2(y_test,predicted) ,mape(y_test,predicted)"
   ]
  },
  {
   "cell_type": "code",
   "execution_count": 87,
   "metadata": {},
   "outputs": [
    {
     "data": {
      "image/png": "[encoded data removed]",
      "text/plain": [
       "<Figure size 1728x288 with 1 Axes>"
      ]
     },
     "metadata": {},
     "output_type": "display_data"
    }
   ],
   "source": [
    "plot_feature_importances(et_200)"
   ]
  },
  {
   "cell_type": "code",
   "execution_count": 92,
   "metadata": {},
   "outputs": [
    {
     "name": "stdout",
     "output_type": "stream",
     "text": [
      "time elapsed  7.82032084465 seconds\n"
     ]
    },
    {
     "data": {
      "text/plain": [
       "(0.9611, 1.8844)"
      ]
     },
     "execution_count": 92,
     "metadata": {},
     "output_type": "execute_result"
    }
   ],
   "source": [
    "et_200_4 = ExtraTreesRegressor(n_estimators=4, n_jobs=-1,random_state=300)\n",
    "start = time()\n",
    "et_200_4.fit(X_train,y_train)\n",
    "predicted = et_200_4.predict(X_test)\n",
    "stop = time()\n",
    "print 'time elapsed ',(stop-start),'seconds'\n",
    "r2(y_test,predicted) ,mape(y_test,predicted)"
   ]
  },
  {
   "cell_type": "code",
   "execution_count": 11,
   "metadata": {},
   "outputs": [
    {
     "name": "stdout",
     "output_type": "stream",
     "text": [
      "time elapsed  19.6388888359 seconds\n"
     ]
    },
    {
     "data": {
      "text/plain": [
       "(0.9721, 2.022)"
      ]
     },
     "execution_count": 11,
     "metadata": {},
     "output_type": "execute_result"
    }
   ],
   "source": [
    "et_200_20 = ExtraTreesRegressor(n_estimators=20, n_jobs=-1,random_state=300)\n",
    "start = time()\n",
    "et_200_20.fit(X_train,y_train)\n",
    "predicted = et_200_20.predict(X_test)\n",
    "stop = time()\n",
    "print 'time elapsed ',(stop-start),'seconds'\n",
    "r2(y_test,predicted) ,mape(y_test,predicted)"
   ]
  },
  {
   "cell_type": "code",
   "execution_count": 12,
   "metadata": {},
   "outputs": [
    {
     "name": "stdout",
     "output_type": "stream",
     "text": [
      "time elapsed  4.42869782448 seconds\n"
     ]
    },
    {
     "data": {
      "text/plain": [
       "(0.9077, 4.6518)"
      ]
     },
     "execution_count": 12,
     "metadata": {},
     "output_type": "execute_result"
    }
   ],
   "source": [
    "df_train = df_big[df_big['timestep'] < 100.0]\n",
    "df_test = df_big[df_big['timestep'] >= 100.0]\n",
    "\n",
    "featureColumns = ['timestep','x_distance','y_distance','z_distance','layerNum','Tminus1','Tminus2']+neighborColumns\n",
    "\n",
    "X_train = df_train.loc[:,featureColumns ]\n",
    "y_train = df_train['T_self']\n",
    "\n",
    "X_test = df_test.loc[:,featureColumns ]\n",
    "y_test = df_test['T_self']\n",
    "\n",
    "X_train,y_train = shuffle(X_train,y_train,random_state=300)\n",
    "X_test,y_test = shuffle(X_test,y_test,random_state=300)\n",
    "\n",
    "et_100 = ExtraTreesRegressor(n_estimators=10, n_jobs=-1,random_state=300)\n",
    "start = time()\n",
    "et_100.fit(X_train,y_train)\n",
    "predicted = et_100.predict(X_test)\n",
    "stop = time()\n",
    "print 'time elapsed ',(stop-start),'seconds'\n",
    "r2(y_test,predicted) ,mape(y_test,predicted)"
   ]
  },
  {
   "cell_type": "code",
   "execution_count": 17,
   "metadata": {},
   "outputs": [
    {
     "name": "stdout",
     "output_type": "stream",
     "text": [
      "time elapsed  1.3170440197 seconds\n"
     ]
    },
    {
     "data": {
      "text/plain": [
       "(0.4258, 15.6606)"
      ]
     },
     "execution_count": 17,
     "metadata": {},
     "output_type": "execute_result"
    }
   ],
   "source": [
    "et_100_10_depth1 = ExtraTreesRegressor(n_estimators=10, max_depth = 1, n_jobs=-1,random_state=300)\n",
    "start = time()\n",
    "et_100_10_depth1.fit(X_train,y_train)\n",
    "predicted = et_100_10_depth1.predict(X_test)\n",
    "stop = time()\n",
    "print 'time elapsed ',(stop-start),'seconds'\n",
    "r2(y_test,predicted) ,mape(y_test,predicted)"
   ]
  },
  {
   "cell_type": "code",
   "execution_count": 16,
   "metadata": {},
   "outputs": [
    {
     "name": "stdout",
     "output_type": "stream",
     "text": [
      "time elapsed  270.6014781 seconds\n"
     ]
    },
    {
     "data": {
      "text/plain": [
       "(0.9065, 4.9517)"
      ]
     },
     "execution_count": 16,
     "metadata": {},
     "output_type": "execute_result"
    }
   ],
   "source": [
    "et_100_10_mae = ExtraTreesRegressor(n_estimators=10, criterion='mae', n_jobs=-1,random_state=300)\n",
    "start = time()\n",
    "et_100_10_mae.fit(X_train,y_train)\n",
    "predicted = et_100_10_mae.predict(X_test)\n",
    "stop = time()\n",
    "print 'time elapsed ',(stop-start),'seconds'\n",
    "r2(y_test,predicted) ,mape(y_test,predicted)"
   ]
  },
  {
   "cell_type": "code",
   "execution_count": 14,
   "metadata": {},
   "outputs": [
    {
     "name": "stdout",
     "output_type": "stream",
     "text": [
      "time elapsed  17.5442438126 seconds\n"
     ]
    },
    {
     "data": {
      "text/plain": [
       "(0.9253, 4.2404)"
      ]
     },
     "execution_count": 14,
     "metadata": {},
     "output_type": "execute_result"
    }
   ],
   "source": [
    "et_100_50 = ExtraTreesRegressor(n_estimators=50, n_jobs=-1,random_state=300)\n",
    "start = time()\n",
    "et_100_50.fit(X_train,y_train)\n",
    "predicted = et_100_50.predict(X_test)\n",
    "stop = time()\n",
    "print 'time elapsed ',(stop-start),'seconds'\n",
    "r2(y_test,predicted) ,mape(y_test,predicted)"
   ]
  },
  {
   "cell_type": "code",
   "execution_count": 15,
   "metadata": {},
   "outputs": [
    {
     "name": "stdout",
     "output_type": "stream",
     "text": [
      "time elapsed  33.6085779667 seconds\n"
     ]
    },
    {
     "data": {
      "text/plain": [
       "(0.9283, 4.0228)"
      ]
     },
     "execution_count": 15,
     "metadata": {},
     "output_type": "execute_result"
    }
   ],
   "source": [
    "et_100_100 = ExtraTreesRegressor(n_estimators=100, n_jobs=-1,random_state=300)\n",
    "start = time()\n",
    "et_100_100.fit(X_train,y_train)\n",
    "predicted = et_100_100.predict(X_test)\n",
    "stop = time()\n",
    "print 'time elapsed ',(stop-start),'seconds'\n",
    "r2(y_test,predicted) ,mape(y_test,predicted)"
   ]
  },
  {
   "cell_type": "code",
   "execution_count": 88,
   "metadata": {},
   "outputs": [
    {
     "data": {
      "image/png": "[encoded data removed]",
      "text/plain": [
       "<Figure size 1728x288 with 1 Axes>"
      ]
     },
     "metadata": {},
     "output_type": "display_data"
    }
   ],
   "source": [
    "plot_feature_importances(et_100)"
   ]
  },
  {
   "cell_type": "markdown",
   "metadata": {},
   "source": [
    "### Iterative Prediction "
   ]
  },
  {
   "cell_type": "code",
   "execution_count": 50,
   "metadata": {},
   "outputs": [
    {
     "name": "stdout",
     "output_type": "stream",
     "text": [
      "Iteration 1 over....\n",
      "Iteration 2 over....\n",
      "Iteration 3 over....\n",
      "Iteration 4 over....\n",
      "Iterative training results\n",
      "0.9564 2.2001\n",
      "One step training results\n"
     ]
    },
    {
     "data": {
      "text/plain": [
       "(0.9553, 2.1074)"
      ]
     },
     "execution_count": 50,
     "metadata": {},
     "output_type": "execute_result"
    }
   ],
   "source": [
    "df_train_1 = df_big[df_big.timestep < 50.0]\n",
    "df_test_1 = df_big[(df_big.timestep >= 50.0) & (df_big.timestep < 100.0)]\n",
    "\n",
    "featureColumns = ['timestep','x_distance','y_distance','z_distance','layerNum','Tminus1','Tminus2']+neighborColumns\n",
    "\n",
    "X_train_1, y_train_1= shuffle(df_train_1.loc[:,featureColumns ], df_train_1['T_self'].values, random_state=300)\n",
    "X_test_1,y_test_1 = shuffle(df_test_1.loc[:,featureColumns],df_test_1['T_self'],random_state=300)\n",
    "\n",
    "et_1 = ExtraTreesRegressor(n_estimators=10, n_jobs=-1,random_state=300)\n",
    "et_1.fit(X_train_1,y_train_1)\n",
    "y_predicted_1 = et_1.predict(X_test_1)\n",
    "print('Iteration 1 over....')\n",
    "\n",
    "X_train_2, y_train_2= X_train_1.append(X_test_1, ignore_index=True), np.append( y_train_1, y_predicted_1)\n",
    "X_train_2,y_train_2 = shuffle(X_train_2,y_train_2,random_state=300)\n",
    "\n",
    "df_test_2 = df_big[(df_big.timestep >= 100.0) & (df_big.timestep < 150.0)]\n",
    "X_test_2,y_test_2 = shuffle(df_test_2.loc[:,featureColumns],df_test_2['T_self'],random_state=300)\n",
    "\n",
    "et_2 = ExtraTreesRegressor(n_estimators=10, n_jobs=-1,random_state=300)\n",
    "et_2.fit(X_train_2,y_train_2)\n",
    "y_predicted_2 = et_2.predict(X_test_2)\n",
    "print('Iteration 2 over....')\n",
    "\n",
    "X_train_3, y_train_3= X_train_2.append(X_test_2, ignore_index=True), np.append( y_train_2, y_predicted_2)\n",
    "X_train_3,y_train_3 = shuffle(X_train_3,y_train_3,random_state=300)\n",
    "\n",
    "df_test_3 = df_big[(df_big.timestep >= 150.0) & (df_big.timestep < 200.0)]\n",
    "X_test_3,y_test_3 = shuffle(df_test_3.loc[:,featureColumns],df_test_3['T_self'],random_state=300)\n",
    "\n",
    "et_3 = ExtraTreesRegressor(n_estimators=10, n_jobs=-1,random_state=300)\n",
    "et_3.fit(X_train_3,y_train_3)\n",
    "y_predicted_3 = et_3.predict(X_test_3)\n",
    "print('Iteration 3 over....')\n",
    "\n",
    "X_train_4, y_train_4= X_train_3.append(X_test_3, ignore_index=True), np.append( y_train_3, y_predicted_3)\n",
    "X_train_4,y_train_4 = shuffle(X_train_4,y_train_4,random_state=300)\n",
    "\n",
    "df_test_4 = df_big[(df_big.timestep >= 200.0) & (df_big.timestep < 250.0)]\n",
    "X_test_4,y_test_4 = shuffle(df_test_4.loc[:,featureColumns],df_test_4['T_self'],random_state=300)\n",
    "\n",
    "et_4 = ExtraTreesRegressor(n_estimators=10, n_jobs=-1,random_state=300)\n",
    "et_4.fit(X_train_4,y_train_4)\n",
    "y_predicted_4 = et_4.predict(X_test_4)\n",
    "print('Iteration 4 over....')\n",
    "\n",
    "\n",
    "\n",
    "print ('Iterative training results')\n",
    "print r2(y_test_4,y_predicted_4) ,mape(y_test_4,y_predicted_4)\n",
    "\n",
    "print ('One step training results')\n",
    "et_direct = ExtraTreesRegressor(n_estimators=10, n_jobs=-1,random_state=300)\n",
    "et_direct.fit(X_train_1,y_train_1)\n",
    "y_predicted = et_direct.predict(X_test_4)\n",
    "\n",
    "r2(y_test_4,y_predicted) ,mape(y_test_4,y_predicted)"
   ]
  },
  {
   "cell_type": "code",
   "execution_count": 88,
   "metadata": {},
   "outputs": [
    {
     "data": {
      "text/html": [
       "<div>\n",
       "<style scoped>\n",
       "    .dataframe tbody tr th:only-of-type {\n",
       "        vertical-align: middle;\n",
       "    }\n",
       "\n",
       "    .dataframe tbody tr th {\n",
       "        vertical-align: top;\n",
       "    }\n",
       "\n",
       "    .dataframe thead th {\n",
       "        text-align: right;\n",
       "    }\n",
       "</style>\n",
       "<table border=\"1\" class=\"dataframe\">\n",
       "  <thead>\n",
       "    <tr style=\"text-align: right;\">\n",
       "      <th></th>\n",
       "      <th>timestep</th>\n",
       "      <th>x_voxel</th>\n",
       "      <th>y_voxel</th>\n",
       "      <th>z_voxel</th>\n",
       "      <th>layerNum</th>\n",
       "      <th>time_creation</th>\n",
       "      <th>x_laser</th>\n",
       "      <th>y_laser</th>\n",
       "      <th>z_laser</th>\n",
       "      <th>x_distance</th>\n",
       "      <th>y_distance</th>\n",
       "      <th>z_distance</th>\n",
       "      <th>euclidean_distance_laser</th>\n",
       "      <th>Tminus1</th>\n",
       "      <th>Tminus2</th>\n",
       "      <th>Tminus3</th>\n",
       "      <th>Tminus4</th>\n",
       "      <th>Tminus5</th>\n",
       "      <th>T1_t-1</th>\n",
       "      <th>T2_t-1</th>\n",
       "      <th>T3_t-1</th>\n",
       "      <th>T4_t-1</th>\n",
       "      <th>T5_t-1</th>\n",
       "      <th>T6_t-1</th>\n",
       "      <th>T7_t-1</th>\n",
       "      <th>T8_t-1</th>\n",
       "      <th>T9_t-1</th>\n",
       "      <th>T10_t-1</th>\n",
       "      <th>T11_t-1</th>\n",
       "      <th>T12_t-1</th>\n",
       "      <th>T13_t-1</th>\n",
       "      <th>T14_t-1</th>\n",
       "      <th>T15_t-1</th>\n",
       "      <th>T16_t-1</th>\n",
       "      <th>T17_t-1</th>\n",
       "      <th>T18_t-1</th>\n",
       "      <th>T19_t-1</th>\n",
       "      <th>T20_t-1</th>\n",
       "      <th>T21_t-1</th>\n",
       "      <th>T22_t-1</th>\n",
       "      <th>T23_t-1</th>\n",
       "      <th>T24_t-1</th>\n",
       "      <th>T25_t-1</th>\n",
       "      <th>T26_t-1</th>\n",
       "      <th>T_self</th>\n",
       "    </tr>\n",
       "  </thead>\n",
       "  <tbody>\n",
       "    <tr>\n",
       "      <th>9051647</th>\n",
       "      <td>1159.0</td>\n",
       "      <td>18.0</td>\n",
       "      <td>7.5</td>\n",
       "      <td>3.0</td>\n",
       "      <td>6.0</td>\n",
       "      <td>3.0</td>\n",
       "      <td>4.241559</td>\n",
       "      <td>3.75</td>\n",
       "      <td>5.0</td>\n",
       "      <td>13.758441</td>\n",
       "      <td>3.75</td>\n",
       "      <td>2.0</td>\n",
       "      <td>NaN</td>\n",
       "      <td>1190.41</td>\n",
       "      <td>1184.82</td>\n",
       "      <td>1177.17</td>\n",
       "      <td>1166.52</td>\n",
       "      <td>1153.81</td>\n",
       "      <td>1198.81</td>\n",
       "      <td>1190.14</td>\n",
       "      <td>1165.74</td>\n",
       "      <td>1147.50</td>\n",
       "      <td>1176.48</td>\n",
       "      <td>1185.88</td>\n",
       "      <td>1170.44</td>\n",
       "      <td>1152.12</td>\n",
       "      <td>1161.24</td>\n",
       "      <td>1143.29</td>\n",
       "      <td>1153.54</td>\n",
       "      <td>1132.42</td>\n",
       "      <td>1207.40</td>\n",
       "      <td>1148.52</td>\n",
       "      <td>1165.11</td>\n",
       "      <td>1155.52</td>\n",
       "      <td>1190.05</td>\n",
       "      <td>1182.07</td>\n",
       "      <td>1181.46</td>\n",
       "      <td>1137.23</td>\n",
       "      <td>1171.84</td>\n",
       "      <td>1132.93</td>\n",
       "      <td>1211.62</td>\n",
       "      <td>1158.62</td>\n",
       "      <td>1203.54</td>\n",
       "      <td>1150.47</td>\n",
       "      <td>1194.30</td>\n",
       "    </tr>\n",
       "    <tr>\n",
       "      <th>9051648</th>\n",
       "      <td>1159.0</td>\n",
       "      <td>17.5</td>\n",
       "      <td>15.5</td>\n",
       "      <td>2.0</td>\n",
       "      <td>4.0</td>\n",
       "      <td>2.0</td>\n",
       "      <td>4.241559</td>\n",
       "      <td>3.75</td>\n",
       "      <td>5.0</td>\n",
       "      <td>13.258441</td>\n",
       "      <td>11.75</td>\n",
       "      <td>3.0</td>\n",
       "      <td>NaN</td>\n",
       "      <td>1238.70</td>\n",
       "      <td>1248.22</td>\n",
       "      <td>1258.04</td>\n",
       "      <td>1268.75</td>\n",
       "      <td>1279.16</td>\n",
       "      <td>1226.71</td>\n",
       "      <td>1221.22</td>\n",
       "      <td>1197.65</td>\n",
       "      <td>1214.78</td>\n",
       "      <td>1199.74</td>\n",
       "      <td>1245.62</td>\n",
       "      <td>1205.20</td>\n",
       "      <td>1237.64</td>\n",
       "      <td>1196.62</td>\n",
       "      <td>1206.94</td>\n",
       "      <td>1182.40</td>\n",
       "      <td>1210.41</td>\n",
       "      <td>1210.40</td>\n",
       "      <td>1229.79</td>\n",
       "      <td>1219.26</td>\n",
       "      <td>1190.59</td>\n",
       "      <td>1241.88</td>\n",
       "      <td>1227.41</td>\n",
       "      <td>1190.85</td>\n",
       "      <td>1205.86</td>\n",
       "      <td>1179.43</td>\n",
       "      <td>1201.26</td>\n",
       "      <td>1217.24</td>\n",
       "      <td>1253.22</td>\n",
       "      <td>1210.93</td>\n",
       "      <td>1238.11</td>\n",
       "      <td>1229.46</td>\n",
       "    </tr>\n",
       "    <tr>\n",
       "      <th>9051649</th>\n",
       "      <td>1159.0</td>\n",
       "      <td>2.0</td>\n",
       "      <td>7.0</td>\n",
       "      <td>3.5</td>\n",
       "      <td>7.0</td>\n",
       "      <td>3.5</td>\n",
       "      <td>4.241559</td>\n",
       "      <td>3.75</td>\n",
       "      <td>5.0</td>\n",
       "      <td>2.241559</td>\n",
       "      <td>3.25</td>\n",
       "      <td>1.5</td>\n",
       "      <td>NaN</td>\n",
       "      <td>1136.82</td>\n",
       "      <td>1132.48</td>\n",
       "      <td>1132.48</td>\n",
       "      <td>1133.21</td>\n",
       "      <td>1133.72</td>\n",
       "      <td>1240.35</td>\n",
       "      <td>1236.93</td>\n",
       "      <td>1186.66</td>\n",
       "      <td>1239.37</td>\n",
       "      <td>1198.86</td>\n",
       "      <td>1164.83</td>\n",
       "      <td>1153.60</td>\n",
       "      <td>1185.41</td>\n",
       "      <td>1158.80</td>\n",
       "      <td>1187.63</td>\n",
       "      <td>1143.03</td>\n",
       "      <td>1165.17</td>\n",
       "      <td>1203.32</td>\n",
       "      <td>1274.46</td>\n",
       "      <td>1198.48</td>\n",
       "      <td>1198.82</td>\n",
       "      <td>1275.09</td>\n",
       "      <td>1272.05</td>\n",
       "      <td>1139.98</td>\n",
       "      <td>1162.81</td>\n",
       "      <td>1146.55</td>\n",
       "      <td>1167.66</td>\n",
       "      <td>1162.69</td>\n",
       "      <td>1202.53</td>\n",
       "      <td>1167.07</td>\n",
       "      <td>1203.47</td>\n",
       "      <td>1156.07</td>\n",
       "    </tr>\n",
       "    <tr>\n",
       "      <th>9051650</th>\n",
       "      <td>1159.0</td>\n",
       "      <td>3.5</td>\n",
       "      <td>12.5</td>\n",
       "      <td>2.5</td>\n",
       "      <td>5.0</td>\n",
       "      <td>2.5</td>\n",
       "      <td>4.241559</td>\n",
       "      <td>3.75</td>\n",
       "      <td>5.0</td>\n",
       "      <td>0.741559</td>\n",
       "      <td>8.75</td>\n",
       "      <td>2.5</td>\n",
       "      <td>NaN</td>\n",
       "      <td>1214.33</td>\n",
       "      <td>1220.64</td>\n",
       "      <td>1227.02</td>\n",
       "      <td>1233.86</td>\n",
       "      <td>1240.38</td>\n",
       "      <td>1199.99</td>\n",
       "      <td>1213.20</td>\n",
       "      <td>1172.97</td>\n",
       "      <td>1198.15</td>\n",
       "      <td>1196.39</td>\n",
       "      <td>1216.93</td>\n",
       "      <td>1166.89</td>\n",
       "      <td>1201.36</td>\n",
       "      <td>1187.27</td>\n",
       "      <td>1214.92</td>\n",
       "      <td>1164.36</td>\n",
       "      <td>1196.72</td>\n",
       "      <td>1179.57</td>\n",
       "      <td>1205.65</td>\n",
       "      <td>1189.17</td>\n",
       "      <td>1203.40</td>\n",
       "      <td>1210.72</td>\n",
       "      <td>1220.75</td>\n",
       "      <td>1157.74</td>\n",
       "      <td>1189.26</td>\n",
       "      <td>1170.79</td>\n",
       "      <td>1204.10</td>\n",
       "      <td>1182.21</td>\n",
       "      <td>1199.60</td>\n",
       "      <td>1185.22</td>\n",
       "      <td>1223.29</td>\n",
       "      <td>1208.11</td>\n",
       "    </tr>\n",
       "    <tr>\n",
       "      <th>9051651</th>\n",
       "      <td>1159.0</td>\n",
       "      <td>18.0</td>\n",
       "      <td>8.5</td>\n",
       "      <td>3.5</td>\n",
       "      <td>7.0</td>\n",
       "      <td>3.5</td>\n",
       "      <td>4.241559</td>\n",
       "      <td>3.75</td>\n",
       "      <td>5.0</td>\n",
       "      <td>13.758441</td>\n",
       "      <td>4.75</td>\n",
       "      <td>1.5</td>\n",
       "      <td>NaN</td>\n",
       "      <td>1156.85</td>\n",
       "      <td>1152.95</td>\n",
       "      <td>1148.43</td>\n",
       "      <td>1143.22</td>\n",
       "      <td>1138.31</td>\n",
       "      <td>1152.46</td>\n",
       "      <td>1145.15</td>\n",
       "      <td>1148.52</td>\n",
       "      <td>1154.35</td>\n",
       "      <td>1141.97</td>\n",
       "      <td>1151.92</td>\n",
       "      <td>1158.62</td>\n",
       "      <td>1164.27</td>\n",
       "      <td>1150.47</td>\n",
       "      <td>1156.23</td>\n",
       "      <td>1147.50</td>\n",
       "      <td>1152.27</td>\n",
       "      <td>1157.96</td>\n",
       "      <td>1164.26</td>\n",
       "      <td>1146.25</td>\n",
       "      <td>1138.32</td>\n",
       "      <td>1155.67</td>\n",
       "      <td>1148.72</td>\n",
       "      <td>1152.12</td>\n",
       "      <td>1156.82</td>\n",
       "      <td>1143.29</td>\n",
       "      <td>1148.12</td>\n",
       "      <td>1162.04</td>\n",
       "      <td>1168.28</td>\n",
       "      <td>1154.28</td>\n",
       "      <td>1160.62</td>\n",
       "      <td>1160.05</td>\n",
       "    </tr>\n",
       "  </tbody>\n",
       "</table>\n",
       "</div>"
      ],
      "text/plain": [
       "         timestep  x_voxel  y_voxel  z_voxel  layerNum  time_creation  \\\n",
       "9051647    1159.0     18.0      7.5      3.0       6.0            3.0   \n",
       "9051648    1159.0     17.5     15.5      2.0       4.0            2.0   \n",
       "9051649    1159.0      2.0      7.0      3.5       7.0            3.5   \n",
       "9051650    1159.0      3.5     12.5      2.5       5.0            2.5   \n",
       "9051651    1159.0     18.0      8.5      3.5       7.0            3.5   \n",
       "\n",
       "          x_laser  y_laser  z_laser  x_distance  y_distance  z_distance  \\\n",
       "9051647  4.241559     3.75      5.0   13.758441        3.75         2.0   \n",
       "9051648  4.241559     3.75      5.0   13.258441       11.75         3.0   \n",
       "9051649  4.241559     3.75      5.0    2.241559        3.25         1.5   \n",
       "9051650  4.241559     3.75      5.0    0.741559        8.75         2.5   \n",
       "9051651  4.241559     3.75      5.0   13.758441        4.75         1.5   \n",
       "\n",
       "         euclidean_distance_laser  Tminus1  Tminus2  Tminus3  Tminus4  \\\n",
       "9051647                       NaN  1190.41  1184.82  1177.17  1166.52   \n",
       "9051648                       NaN  1238.70  1248.22  1258.04  1268.75   \n",
       "9051649                       NaN  1136.82  1132.48  1132.48  1133.21   \n",
       "9051650                       NaN  1214.33  1220.64  1227.02  1233.86   \n",
       "9051651                       NaN  1156.85  1152.95  1148.43  1143.22   \n",
       "\n",
       "         Tminus5   T1_t-1   T2_t-1   T3_t-1   T4_t-1   T5_t-1   T6_t-1  \\\n",
       "9051647  1153.81  1198.81  1190.14  1165.74  1147.50  1176.48  1185.88   \n",
       "9051648  1279.16  1226.71  1221.22  1197.65  1214.78  1199.74  1245.62   \n",
       "9051649  1133.72  1240.35  1236.93  1186.66  1239.37  1198.86  1164.83   \n",
       "9051650  1240.38  1199.99  1213.20  1172.97  1198.15  1196.39  1216.93   \n",
       "9051651  1138.31  1152.46  1145.15  1148.52  1154.35  1141.97  1151.92   \n",
       "\n",
       "          T7_t-1   T8_t-1   T9_t-1  T10_t-1  T11_t-1  T12_t-1  T13_t-1  \\\n",
       "9051647  1170.44  1152.12  1161.24  1143.29  1153.54  1132.42  1207.40   \n",
       "9051648  1205.20  1237.64  1196.62  1206.94  1182.40  1210.41  1210.40   \n",
       "9051649  1153.60  1185.41  1158.80  1187.63  1143.03  1165.17  1203.32   \n",
       "9051650  1166.89  1201.36  1187.27  1214.92  1164.36  1196.72  1179.57   \n",
       "9051651  1158.62  1164.27  1150.47  1156.23  1147.50  1152.27  1157.96   \n",
       "\n",
       "         T14_t-1  T15_t-1  T16_t-1  T17_t-1  T18_t-1  T19_t-1  T20_t-1  \\\n",
       "9051647  1148.52  1165.11  1155.52  1190.05  1182.07  1181.46  1137.23   \n",
       "9051648  1229.79  1219.26  1190.59  1241.88  1227.41  1190.85  1205.86   \n",
       "9051649  1274.46  1198.48  1198.82  1275.09  1272.05  1139.98  1162.81   \n",
       "9051650  1205.65  1189.17  1203.40  1210.72  1220.75  1157.74  1189.26   \n",
       "9051651  1164.26  1146.25  1138.32  1155.67  1148.72  1152.12  1156.82   \n",
       "\n",
       "         T21_t-1  T22_t-1  T23_t-1  T24_t-1  T25_t-1  T26_t-1   T_self  \n",
       "9051647  1171.84  1132.93  1211.62  1158.62  1203.54  1150.47  1194.30  \n",
       "9051648  1179.43  1201.26  1217.24  1253.22  1210.93  1238.11  1229.46  \n",
       "9051649  1146.55  1167.66  1162.69  1202.53  1167.07  1203.47  1156.07  \n",
       "9051650  1170.79  1204.10  1182.21  1199.60  1185.22  1223.29  1208.11  \n",
       "9051651  1143.29  1148.12  1162.04  1168.28  1154.28  1160.62  1160.05  "
      ]
     },
     "execution_count": 88,
     "metadata": {},
     "output_type": "execute_result"
    }
   ],
   "source": [
    "df_big.tail()"
   ]
  },
  {
   "cell_type": "code",
   "execution_count": 85,
   "metadata": {},
   "outputs": [],
   "source": [
    "def compare_iterative_direct_prediction(n=5, init=100, TIMESTEP_ITER = 50, n_estimators=10):\n",
    "    \n",
    "    df_train_i_minus_1 = df_big[df_big.timestep < init]\n",
    "    df_test_i_minus_1 = df_big[(df_big.timestep >= init) & (df_big.timestep < init+TIMESTEP_ITER)]\n",
    "\n",
    "    X_train_i_minus_1, y_train_i_minus_1= shuffle(df_train_i_minus_1.loc[:,featureColumns ], df_train_i_minus_1['T_self'].values, random_state=300)\n",
    "    X_test_i_minus_1,y_test_i_minus_1 = shuffle(df_test_i_minus_1.loc[:,featureColumns],df_test_i_minus_1['T_self'],random_state=300)\n",
    "\n",
    "    et_i_minus_1 = ExtraTreesRegressor(n_estimators=10, n_jobs=-1,random_state=300)\n",
    "    start = time()\n",
    "    et_i_minus_1.fit(X_train_i_minus_1,y_train_i_minus_1)\n",
    "    y_predicted_i_minus_1 = et_i_minus_1.predict(X_test_i_minus_1)\n",
    "\n",
    "    print('Iteration 1 over....')\n",
    "    for i in range(2,n+1):\n",
    "        X_train_i, y_train_i= X_train_i_minus_1.append(X_test_i_minus_1, ignore_index=True), np.append( y_train_i_minus_1, y_predicted_i_minus_1)\n",
    "        X_train_i,y_train_i = shuffle(X_train_i,y_train_i,random_state=300)\n",
    "        START = TIMESTEP_ITER * i\n",
    "        STOP = TIMESTEP_ITER * (i+1)\n",
    "        df_test_i = df_big[(df_big.timestep >= START) & (df_big.timestep < STOP)]\n",
    "        X_test_i,y_test_i = shuffle(df_test_i.loc[:,featureColumns],df_test_i['T_self'],random_state=300)\n",
    "\n",
    "        et_i = ExtraTreesRegressor(n_estimators=n_estimators, n_jobs=-1,random_state=300)\n",
    "        et_i.fit(X_train_i,y_train_i)\n",
    "        y_predicted_i = et_i.predict(X_test_i)\n",
    "        print('Iteration '+str(i)+' over....')\n",
    "\n",
    "    stop = time()\n",
    "    print 'time elapsed for iterative is ',(stop-start),'seconds'\n",
    "\n",
    "    print r2(y_test_i,y_predicted_i) ,mape(y_test_i,y_predicted_i)\n",
    "\n",
    "\n",
    "\n",
    "    print ('One step training results')\n",
    "    df_train_1 = df_big[df_big.timestep < TIMESTEP_ITER]\n",
    "    X_train_1, y_train_1= shuffle(df_train_1.loc[:,featureColumns ], df_train_1['T_self'].values, random_state=300)\n",
    "    start = time()\n",
    "    et_direct = ExtraTreesRegressor(n_estimators=n_estimators, n_jobs=-1,random_state=300)\n",
    "    et_direct.fit(X_train_1,y_train_1)\n",
    "    y_predicted_direct = et_direct.predict(X_test_i)\n",
    "\n",
    "    stop = time()\n",
    "    print 'time elapsed for direct is ',(stop-start),'seconds'\n",
    "    print r2(y_test_i,y_predicted_direct) ,mape(y_test_i,y_predicted_direct)"
   ]
  },
  {
   "cell_type": "code",
   "execution_count": 78,
   "metadata": {},
   "outputs": [
    {
     "name": "stdout",
     "output_type": "stream",
     "text": [
      "Iteration 1 over....\n",
      "Iteration 2 over....\n",
      "Iteration 3 over....\n",
      "Iteration 4 over....\n",
      "Iteration 5 over....\n",
      "Iteration 6 over....\n",
      "Iteration 7 over....\n",
      "Iteration 8 over....\n",
      "Iteration 9 over....\n",
      "Iteration 10 over....\n",
      "time elapsed for iterative is  10.5490999222 seconds\n",
      "0.9353 2.1904\n",
      "One step training results\n",
      "time elapsed for direct is  0.306558847427 seconds\n",
      "0.9212 3.565\n"
     ]
    }
   ],
   "source": [
    "compare_iterative_direct_prediction(n=10,init=100,TIMESTEP_ITER=25)"
   ]
  },
  {
   "cell_type": "code",
   "execution_count": 77,
   "metadata": {},
   "outputs": [
    {
     "name": "stdout",
     "output_type": "stream",
     "text": [
      "Iteration 1 over....\n",
      "Iteration 2 over....\n",
      "Iteration 3 over....\n",
      "Iteration 4 over....\n",
      "Iteration 5 over....\n",
      "Iteration 6 over....\n",
      "Iteration 7 over....\n",
      "Iteration 8 over....\n",
      "Iteration 9 over....\n",
      "Iteration 10 over....\n",
      "Iteration 11 over....\n",
      "Iteration 12 over....\n",
      "Iteration 13 over....\n",
      "Iteration 14 over....\n",
      "Iteration 15 over....\n",
      "time elapsed for iterative is  38.7692480087 seconds\n",
      "0.9762 1.5699\n",
      "One step training results\n",
      "time elapsed for direct is  0.261981964111 seconds\n",
      "0.5686 34.9248\n"
     ]
    }
   ],
   "source": [
    "compare_iterative_direct_prediction(n=15,init=150,TIMESTEP_ITER=10)"
   ]
  },
  {
   "cell_type": "code",
   "execution_count": 79,
   "metadata": {},
   "outputs": [
    {
     "name": "stdout",
     "output_type": "stream",
     "text": [
      "Iteration 1 over....\n",
      "Iteration 2 over....\n",
      "Iteration 3 over....\n",
      "Iteration 4 over....\n",
      "Iteration 5 over....\n",
      "Iteration 6 over....\n",
      "Iteration 7 over....\n",
      "Iteration 8 over....\n",
      "Iteration 9 over....\n",
      "Iteration 10 over....\n",
      "Iteration 11 over....\n",
      "Iteration 12 over....\n",
      "Iteration 13 over....\n",
      "Iteration 14 over....\n",
      "Iteration 15 over....\n",
      "Iteration 16 over....\n",
      "Iteration 17 over....\n",
      "Iteration 18 over....\n",
      "Iteration 19 over....\n",
      "Iteration 20 over....\n",
      "time elapsed for iterative is  16.6568489075 seconds\n",
      "0.9615 2.1783\n",
      "One step training results\n",
      "time elapsed for direct is  0.264371156693 seconds\n",
      "0.632 23.6034\n"
     ]
    }
   ],
   "source": [
    "compare_iterative_direct_prediction(n=20,init=100,TIMESTEP_ITER=10)"
   ]
  },
  {
   "cell_type": "code",
   "execution_count": 82,
   "metadata": {},
   "outputs": [
    {
     "name": "stdout",
     "output_type": "stream",
     "text": [
      "Iteration 1 over....\n",
      "Iteration 2 over....\n",
      "Iteration 3 over....\n",
      "Iteration 4 over....\n",
      "Iteration 5 over....\n",
      "Iteration 6 over....\n",
      "Iteration 7 over....\n",
      "Iteration 8 over....\n",
      "Iteration 9 over....\n",
      "Iteration 10 over....\n",
      "Iteration 11 over....\n",
      "Iteration 12 over....\n",
      "Iteration 13 over....\n",
      "Iteration 14 over....\n",
      "Iteration 15 over....\n",
      "Iteration 16 over....\n",
      "Iteration 17 over....\n",
      "Iteration 18 over....\n",
      "Iteration 19 over....\n",
      "Iteration 20 over....\n",
      "time elapsed for iterative is  20.8669538498 seconds\n",
      "0.943 2.6316\n",
      "One step training results\n",
      "time elapsed for direct is  0.300190925598 seconds\n",
      "0.906 5.7173\n"
     ]
    }
   ],
   "source": [
    "compare_iterative_direct_prediction(n=20,init=100,TIMESTEP_ITER=20)"
   ]
  },
  {
   "cell_type": "code",
   "execution_count": 80,
   "metadata": {},
   "outputs": [
    {
     "name": "stdout",
     "output_type": "stream",
     "text": [
      "Iteration 1 over....\n",
      "Iteration 2 over....\n",
      "Iteration 3 over....\n",
      "Iteration 4 over....\n",
      "Iteration 5 over....\n",
      "Iteration 6 over....\n",
      "Iteration 7 over....\n",
      "Iteration 8 over....\n",
      "Iteration 9 over....\n",
      "Iteration 10 over....\n",
      "Iteration 11 over....\n",
      "Iteration 12 over....\n",
      "Iteration 13 over....\n",
      "Iteration 14 over....\n",
      "Iteration 15 over....\n",
      "Iteration 16 over....\n",
      "Iteration 17 over....\n",
      "Iteration 18 over....\n",
      "Iteration 19 over....\n",
      "Iteration 20 over....\n",
      "time elapsed for iterative is  109.798636198 seconds\n",
      "0.992 0.6493\n",
      "One step training results\n",
      "time elapsed for direct is  0.266591072083 seconds\n",
      "0.632 23.6034\n"
     ]
    }
   ],
   "source": [
    "compare_iterative_direct_prediction(n=20,init=200,TIMESTEP_ITER=10)"
   ]
  },
  {
   "cell_type": "code",
   "execution_count": 81,
   "metadata": {},
   "outputs": [
    {
     "name": "stdout",
     "output_type": "stream",
     "text": [
      "Iteration 1 over....\n",
      "Iteration 2 over....\n",
      "Iteration 3 over....\n",
      "Iteration 4 over....\n",
      "Iteration 5 over....\n",
      "Iteration 6 over....\n",
      "Iteration 7 over....\n",
      "Iteration 8 over....\n",
      "Iteration 9 over....\n",
      "Iteration 10 over....\n",
      "Iteration 11 over....\n",
      "Iteration 12 over....\n",
      "Iteration 13 over....\n",
      "Iteration 14 over....\n",
      "Iteration 15 over....\n",
      "Iteration 16 over....\n",
      "Iteration 17 over....\n",
      "Iteration 18 over....\n",
      "Iteration 19 over....\n",
      "Iteration 20 over....\n",
      "time elapsed for iterative is  125.565798044 seconds\n",
      "0.9801 1.3831\n",
      "One step training results\n",
      "time elapsed for direct is  0.299916982651 seconds\n",
      "0.906 5.7173\n"
     ]
    }
   ],
   "source": [
    "compare_iterative_direct_prediction(n=20,init=200,TIMESTEP_ITER=20)"
   ]
  },
  {
   "cell_type": "code",
   "execution_count": 83,
   "metadata": {},
   "outputs": [
    {
     "name": "stdout",
     "output_type": "stream",
     "text": [
      "Iteration 1 over....\n",
      "Iteration 2 over....\n",
      "Iteration 3 over....\n",
      "Iteration 4 over....\n",
      "Iteration 5 over....\n",
      "Iteration 6 over....\n",
      "Iteration 7 over....\n",
      "Iteration 8 over....\n",
      "Iteration 9 over....\n",
      "Iteration 10 over....\n",
      "Iteration 11 over....\n",
      "Iteration 12 over....\n",
      "Iteration 13 over....\n",
      "Iteration 14 over....\n",
      "Iteration 15 over....\n",
      "Iteration 16 over....\n",
      "Iteration 17 over....\n",
      "Iteration 18 over....\n",
      "Iteration 19 over....\n",
      "Iteration 20 over....\n",
      "Iteration 21 over....\n",
      "Iteration 22 over....\n",
      "Iteration 23 over....\n",
      "Iteration 24 over....\n",
      "Iteration 25 over....\n",
      "Iteration 26 over....\n",
      "Iteration 27 over....\n",
      "Iteration 28 over....\n",
      "Iteration 29 over....\n",
      "Iteration 30 over....\n",
      "Iteration 31 over....\n",
      "Iteration 32 over....\n",
      "Iteration 33 over....\n",
      "Iteration 34 over....\n",
      "Iteration 35 over....\n",
      "Iteration 36 over....\n",
      "Iteration 37 over....\n",
      "Iteration 38 over....\n",
      "Iteration 39 over....\n",
      "Iteration 40 over....\n",
      "time elapsed for iterative is  257.478080988 seconds\n",
      "0.9699 1.9535\n",
      "One step training results\n",
      "time elapsed for direct is  0.27272605896 seconds\n",
      "0.8614 6.5556\n"
     ]
    }
   ],
   "source": [
    "compare_iterative_direct_prediction(n=40,init=200,TIMESTEP_ITER=20)"
   ]
  },
  {
   "cell_type": "code",
   "execution_count": 86,
   "metadata": {},
   "outputs": [
    {
     "name": "stdout",
     "output_type": "stream",
     "text": [
      "Iteration 1 over....\n",
      "Iteration 2 over....\n",
      "Iteration 3 over....\n",
      "Iteration 4 over....\n",
      "Iteration 5 over....\n",
      "Iteration 6 over....\n",
      "Iteration 7 over....\n",
      "Iteration 8 over....\n",
      "Iteration 9 over....\n",
      "Iteration 10 over....\n",
      "Iteration 11 over....\n",
      "Iteration 12 over....\n",
      "Iteration 13 over....\n",
      "Iteration 14 over....\n",
      "Iteration 15 over....\n",
      "Iteration 16 over....\n",
      "Iteration 17 over....\n",
      "Iteration 18 over....\n",
      "Iteration 19 over....\n",
      "Iteration 20 over....\n",
      "Iteration 21 over....\n",
      "Iteration 22 over....\n",
      "Iteration 23 over....\n",
      "Iteration 24 over....\n",
      "Iteration 25 over....\n",
      "Iteration 26 over....\n",
      "Iteration 27 over....\n",
      "Iteration 28 over....\n",
      "Iteration 29 over....\n",
      "Iteration 30 over....\n",
      "Iteration 31 over....\n",
      "Iteration 32 over....\n",
      "Iteration 33 over....\n",
      "Iteration 34 over....\n",
      "Iteration 35 over....\n",
      "Iteration 36 over....\n",
      "Iteration 37 over....\n",
      "Iteration 38 over....\n",
      "Iteration 39 over....\n",
      "Iteration 40 over....\n",
      "time elapsed for iterative is  154.503654957 seconds\n",
      "0.9635 2.1472\n",
      "One step training results\n",
      "time elapsed for direct is  0.303838014603 seconds\n",
      "0.8574 6.5407\n"
     ]
    }
   ],
   "source": [
    "compare_iterative_direct_prediction(n=40,init=200,TIMESTEP_ITER=20,n_estimators=4)"
   ]
  },
  {
   "cell_type": "code",
   "execution_count": 87,
   "metadata": {},
   "outputs": [
    {
     "name": "stdout",
     "output_type": "stream",
     "text": [
      "Iteration 1 over....\n",
      "Iteration 2 over....\n",
      "Iteration 3 over....\n",
      "Iteration 4 over....\n",
      "Iteration 5 over....\n",
      "Iteration 6 over....\n",
      "Iteration 7 over....\n",
      "Iteration 8 over....\n",
      "Iteration 9 over....\n",
      "Iteration 10 over....\n",
      "Iteration 11 over....\n",
      "Iteration 12 over....\n",
      "Iteration 13 over....\n",
      "Iteration 14 over....\n",
      "Iteration 15 over....\n",
      "Iteration 16 over....\n",
      "Iteration 17 over....\n",
      "Iteration 18 over....\n",
      "Iteration 19 over....\n",
      "Iteration 20 over....\n",
      "Iteration 21 over....\n",
      "Iteration 22 over....\n",
      "Iteration 23 over....\n",
      "Iteration 24 over....\n",
      "Iteration 25 over....\n",
      "Iteration 26 over....\n",
      "Iteration 27 over....\n",
      "Iteration 28 over....\n",
      "Iteration 29 over....\n",
      "Iteration 30 over....\n",
      "Iteration 31 over....\n",
      "Iteration 32 over....\n",
      "Iteration 33 over....\n",
      "Iteration 34 over....\n",
      "Iteration 35 over....\n",
      "Iteration 36 over....\n",
      "Iteration 37 over....\n",
      "Iteration 38 over....\n",
      "Iteration 39 over....\n",
      "Iteration 40 over....\n",
      "time elapsed for iterative is  175.837056875 seconds\n",
      "0.9614 1.7012\n",
      "One step training results\n",
      "time elapsed for direct is  0.362329959869 seconds\n",
      "0.8159 5.8402\n"
     ]
    }
   ],
   "source": [
    "compare_iterative_direct_prediction(n=40,init=200,TIMESTEP_ITER=25,n_estimators=4)"
   ]
  },
  {
   "cell_type": "code",
   "execution_count": 60,
   "metadata": {},
   "outputs": [
    {
     "name": "stdout",
     "output_type": "stream",
     "text": [
      "Iteration 1 over....\n",
      "Iteration 2 over....\n",
      "Iteration 3 over....\n",
      "Iteration 4 over....\n",
      "Iteration 5 over....\n",
      "Iteration 6 over....\n",
      "Iteration 7 over....\n",
      "Iteration 8 over....\n",
      "Iteration 9 over....\n",
      "Iteration 10 over....\n",
      "time elapsed for iterative is  10.0524089336 seconds\n",
      "0.9276 3.2855\n",
      "One step training results\n",
      "time elapsed for direct is  0.38846206665 seconds\n",
      "0.9263 3.0466\n"
     ]
    }
   ],
   "source": [
    "compare_iterative_direct_prediction(10)"
   ]
  },
  {
   "cell_type": "code",
   "execution_count": 45,
   "metadata": {},
   "outputs": [],
   "source": [
    "y_test_np = y_test_1.values"
   ]
  },
  {
   "cell_type": "code",
   "execution_count": 46,
   "metadata": {},
   "outputs": [
    {
     "data": {
      "text/plain": [
       "numpy.ndarray"
      ]
     },
     "execution_count": 46,
     "metadata": {},
     "output_type": "execute_result"
    }
   ],
   "source": [
    "type(y_test_np)"
   ]
  },
  {
   "cell_type": "code",
   "execution_count": 44,
   "metadata": {},
   "outputs": [
    {
     "data": {
      "text/plain": [
       "(numpy.ndarray, pandas.core.series.Series)"
      ]
     },
     "execution_count": 44,
     "metadata": {},
     "output_type": "execute_result"
    }
   ],
   "source": [
    "type(y_predicted_1), type(y_test_1)"
   ]
  },
  {
   "cell_type": "code",
   "execution_count": 34,
   "metadata": {},
   "outputs": [
    {
     "data": {
      "text/plain": [
       "(0.9597, 1.9761)"
      ]
     },
     "execution_count": 34,
     "metadata": {},
     "output_type": "execute_result"
    }
   ],
   "source": [
    "r2(y_test_1,y_predicted_1) ,mape(y_test_1,y_predicted_1)"
   ]
  },
  {
   "cell_type": "code",
   "execution_count": 46,
   "metadata": {},
   "outputs": [
    {
     "name": "stdout",
     "output_type": "stream",
     "text": [
      "0 -> timestep\n",
      "1 -> x_distance\n",
      "2 -> y_distance\n",
      "3 -> z_distance\n",
      "4 -> layerNum\n",
      "5 -> Tminus1\n",
      "6 -> Tminus2\n",
      "7 -> T1_t-1\n",
      "8 -> T2_t-1\n",
      "9 -> T3_t-1\n",
      "10 -> T4_t-1\n",
      "11 -> T5_t-1\n",
      "12 -> T6_t-1\n",
      "13 -> T7_t-1\n",
      "14 -> T8_t-1\n",
      "15 -> T9_t-1\n",
      "16 -> T10_t-1\n",
      "17 -> T11_t-1\n",
      "18 -> T12_t-1\n",
      "19 -> T13_t-1\n",
      "20 -> T14_t-1\n",
      "21 -> T15_t-1\n",
      "22 -> T16_t-1\n",
      "23 -> T17_t-1\n",
      "24 -> T18_t-1\n",
      "25 -> T19_t-1\n",
      "26 -> T20_t-1\n",
      "27 -> T21_t-1\n",
      "28 -> T22_t-1\n",
      "29 -> T23_t-1\n",
      "30 -> T24_t-1\n",
      "31 -> T25_t-1\n",
      "32 -> T26_t-1\n"
     ]
    }
   ],
   "source": [
    "displayColumns(X_train)"
   ]
  }
 ],
 "metadata": {
  "kernelspec": {
   "display_name": "Python 2",
   "language": "python",
   "name": "python2"
  },
  "language_info": {
   "codemirror_mode": {
    "name": "ipython",
    "version": 2
   },
   "file_extension": ".py",
   "mimetype": "text/x-python",
   "name": "python",
   "nbconvert_exporter": "python",
   "pygments_lexer": "ipython2",
   "version": "2.7.15"
  }
 },
 "nbformat": 4,
 "nbformat_minor": 2
}
