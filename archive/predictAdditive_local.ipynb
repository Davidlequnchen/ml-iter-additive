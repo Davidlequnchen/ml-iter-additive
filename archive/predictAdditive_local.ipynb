{
 "cells": [
  {
   "cell_type": "markdown",
   "metadata": {},
   "source": [
    "### We corrected the temperature information to have only from t-1"
   ]
  },
  {
   "cell_type": "code",
   "execution_count": 1,
   "metadata": {},
   "outputs": [],
   "source": [
    "from utility import *"
   ]
  },
  {
   "cell_type": "code",
   "execution_count": 2,
   "metadata": {},
   "outputs": [],
   "source": [
    "import pandas as pd\n",
    "import numpy as np\n",
    "from math import sqrt\n",
    "from numpy.random import choice\n",
    "import scikitplot as skplt"
   ]
  },
  {
   "cell_type": "code",
   "execution_count": 3,
   "metadata": {},
   "outputs": [],
   "source": [
    "from sklearn.linear_model import LinearRegression,Ridge\n",
    "from sklearn.model_selection import train_test_split\n",
    "from sklearn.utils import shuffle\n",
    "from sklearn.utils.validation import check_array \n",
    "from sklearn.metrics import r2_score, mean_squared_error, mean_absolute_error\n",
    "from sklearn.ensemble import RandomForestRegressor,ExtraTreesRegressor,GradientBoostingRegressor,AdaBoostRegressor,BaggingRegressor\n",
    "from xgboost import XGBRegressor"
   ]
  },
  {
   "cell_type": "code",
   "execution_count": 4,
   "metadata": {},
   "outputs": [],
   "source": [
    "historicalColumns,neighborColumns = [],[]\n",
    "\n",
    "for historical in range(5):\n",
    "    historicalColumns += ['Tminus'+str(historical+1)]\n",
    "\n",
    "for neighbor in range(26):\n",
    "    neighborColumns += ['T'+str(neighbor+1)+'_t-1']\n",
    "\n",
    "columns = ['timestep','x_voxel','y_voxel','z_voxel','layerNum','time_creation','x_laser','y_laser','z_laser','x_distance','y_distance','z_distance','euclidean_distance_laser'] + historicalColumns+ neighborColumns+['T_self']\n"
   ]
  },
  {
   "cell_type": "code",
   "execution_count": 5,
   "metadata": {},
   "outputs": [],
   "source": [
    "def mean_absolute_percentage_error(y_true, y_pred):\n",
    "\t'''\n",
    "\tscikit(sklearn) does not have support for mean absolute percentage error MAPE.\n",
    "\tThis is because the denominator can theoretically be 0 and so the value would be undefined.\n",
    "\tSo this is our implementation\n",
    "\t'''\n",
    "# \ty_true = check_array(y_true)\n",
    "# \ty_pred = check_array(y_pred)\n",
    "\n",
    "\treturn np.mean(np.abs((y_true - y_pred) / y_true)) * 100\n",
    "\n",
    "def r2(y_true,y_pred):\n",
    "    return r2_score(y_true,y_pred)\n",
    "\n",
    "def mse(y_true,y_pred):\n",
    "    return mean_squared_error(y_true,y_pred)\n",
    "\n",
    "def mae(y_true,y_pred):\n",
    "    return mean_absolute_error(y_true,y_pred)\n",
    "\n",
    "def mape(y_true, y_pred):\n",
    "    return mean_absolute_percentage_error(y_true,y_pred)"
   ]
  },
  {
   "cell_type": "code",
   "execution_count": 6,
   "metadata": {},
   "outputs": [],
   "source": [
    "df_train = pd.read_csv('trainSample_500steps.csv')\n",
    "df_test = pd.read_csv('testSample_500steps.csv')"
   ]
  },
  {
   "cell_type": "code",
   "execution_count": 7,
   "metadata": {},
   "outputs": [],
   "source": [
    "featureColumns = ['timestep','x_distance','y_distance','z_distance','time_creation','Tminus1']+neighborColumns\n",
    "\n",
    "X_train = df_train.loc[:,featureColumns ]\n",
    "y_train = df_train['T_self']"
   ]
  },
  {
   "cell_type": "code",
   "execution_count": 8,
   "metadata": {},
   "outputs": [],
   "source": [
    "X_test = df_test.loc[:,featureColumns ]\n",
    "y_test = df_test['T_self']"
   ]
  },
  {
   "cell_type": "code",
   "execution_count": 9,
   "metadata": {},
   "outputs": [],
   "source": [
    "X_train,y_train = shuffle(X_train,y_train,random_state=300)\n",
    "X_test,y_test = shuffle(X_test,y_test,random_state=300)"
   ]
  },
  {
   "cell_type": "code",
   "execution_count": null,
   "metadata": {},
   "outputs": [],
   "source": [
    "len(X_train)"
   ]
  },
  {
   "cell_type": "markdown",
   "metadata": {},
   "source": [
    "### Working on samples"
   ]
  },
  {
   "cell_type": "markdown",
   "metadata": {},
   "source": [
    "### Predicting timesteps next 100 (400-500) based on first 400 timesteps"
   ]
  },
  {
   "cell_type": "code",
   "execution_count": null,
   "metadata": {},
   "outputs": [],
   "source": [
    "linear = LinearRegression()\n",
    "linear.fit(X_train,y_train)\n",
    "predicted = linear.predict(X_test)\n",
    "r2(y_test,predicted) ,mape(y_test,predicted)"
   ]
  },
  {
   "cell_type": "code",
   "execution_count": null,
   "metadata": {},
   "outputs": [],
   "source": []
  }
 ],
 "metadata": {
  "kernelspec": {
   "display_name": "Python 2",
   "language": "python",
   "name": "python2"
  },
  "language_info": {
   "codemirror_mode": {
    "name": "ipython",
    "version": 2
   },
   "file_extension": ".py",
   "mimetype": "text/x-python",
   "name": "python",
   "nbconvert_exporter": "python",
   "pygments_lexer": "ipython2",
   "version": "2.7.14"
  }
 },
 "nbformat": 4,
 "nbformat_minor": 2
}
